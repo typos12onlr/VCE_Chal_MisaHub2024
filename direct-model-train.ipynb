{
 "cells": [
  {
   "cell_type": "code",
   "execution_count": 1,
   "id": "3a37770e",
   "metadata": {
    "execution": {
     "iopub.execute_input": "2024-10-25T12:47:53.279938Z",
     "iopub.status.busy": "2024-10-25T12:47:53.279558Z",
     "iopub.status.idle": "2024-10-25T12:48:06.635697Z",
     "shell.execute_reply": "2024-10-25T12:48:06.634787Z"
    },
    "papermill": {
     "duration": 13.368226,
     "end_time": "2024-10-25T12:48:06.638163",
     "exception": false,
     "start_time": "2024-10-25T12:47:53.269937",
     "status": "completed"
    },
    "tags": []
   },
   "outputs": [
    {
     "name": "stdout",
     "output_type": "stream",
     "text": [
      "Collecting vit-pytorch\r\n",
      "  Downloading vit_pytorch-1.8.5-py3-none-any.whl.metadata (68 kB)\r\n",
      "\u001b[2K     \u001b[90m━━━━━━━━━━━━━━━━━━━━━━━━━━━━━━━━━━━━━━━━\u001b[0m \u001b[32m68.5/68.5 kB\u001b[0m \u001b[31m2.3 MB/s\u001b[0m eta \u001b[36m0:00:00\u001b[0m\r\n",
      "\u001b[?25hCollecting einops>=0.7.0 (from vit-pytorch)\r\n",
      "  Downloading einops-0.8.0-py3-none-any.whl.metadata (12 kB)\r\n",
      "Requirement already satisfied: torch>=1.10 in /opt/conda/lib/python3.10/site-packages (from vit-pytorch) (2.4.0)\r\n",
      "Requirement already satisfied: torchvision in /opt/conda/lib/python3.10/site-packages (from vit-pytorch) (0.19.0)\r\n",
      "Requirement already satisfied: filelock in /opt/conda/lib/python3.10/site-packages (from torch>=1.10->vit-pytorch) (3.15.1)\r\n",
      "Requirement already satisfied: typing-extensions>=4.8.0 in /opt/conda/lib/python3.10/site-packages (from torch>=1.10->vit-pytorch) (4.12.2)\r\n",
      "Requirement already satisfied: sympy in /opt/conda/lib/python3.10/site-packages (from torch>=1.10->vit-pytorch) (1.13.3)\r\n",
      "Requirement already satisfied: networkx in /opt/conda/lib/python3.10/site-packages (from torch>=1.10->vit-pytorch) (3.3)\r\n",
      "Requirement already satisfied: jinja2 in /opt/conda/lib/python3.10/site-packages (from torch>=1.10->vit-pytorch) (3.1.4)\r\n",
      "Requirement already satisfied: fsspec in /opt/conda/lib/python3.10/site-packages (from torch>=1.10->vit-pytorch) (2024.6.1)\r\n",
      "Requirement already satisfied: numpy in /opt/conda/lib/python3.10/site-packages (from torchvision->vit-pytorch) (1.26.4)\r\n",
      "Requirement already satisfied: pillow!=8.3.*,>=5.3.0 in /opt/conda/lib/python3.10/site-packages (from torchvision->vit-pytorch) (10.3.0)\r\n",
      "Requirement already satisfied: MarkupSafe>=2.0 in /opt/conda/lib/python3.10/site-packages (from jinja2->torch>=1.10->vit-pytorch) (2.1.5)\r\n",
      "Requirement already satisfied: mpmath<1.4,>=1.1.0 in /opt/conda/lib/python3.10/site-packages (from sympy->torch>=1.10->vit-pytorch) (1.3.0)\r\n",
      "Downloading vit_pytorch-1.8.5-py3-none-any.whl (133 kB)\r\n",
      "\u001b[2K   \u001b[90m━━━━━━━━━━━━━━━━━━━━━━━━━━━━━━━━━━━━━━━━\u001b[0m \u001b[32m133.9/133.9 kB\u001b[0m \u001b[31m5.4 MB/s\u001b[0m eta \u001b[36m0:00:00\u001b[0m\r\n",
      "\u001b[?25hDownloading einops-0.8.0-py3-none-any.whl (43 kB)\r\n",
      "\u001b[2K   \u001b[90m━━━━━━━━━━━━━━━━━━━━━━━━━━━━━━━━━━━━━━━━\u001b[0m \u001b[32m43.2/43.2 kB\u001b[0m \u001b[31m2.7 MB/s\u001b[0m eta \u001b[36m0:00:00\u001b[0m\r\n",
      "\u001b[?25hInstalling collected packages: einops, vit-pytorch\r\n",
      "Successfully installed einops-0.8.0 vit-pytorch-1.8.5\r\n"
     ]
    }
   ],
   "source": [
    "!pip install vit-pytorch"
   ]
  },
  {
   "cell_type": "code",
   "execution_count": 2,
   "id": "671b7452",
   "metadata": {
    "_cell_guid": "cf87988d-dab7-4248-b675-c6e83478a04f",
    "_uuid": "50dffe7a-b8be-4eaa-8108-771d38a487f3",
    "collapsed": false,
    "execution": {
     "iopub.execute_input": "2024-10-25T12:48:06.656602Z",
     "iopub.status.busy": "2024-10-25T12:48:06.656191Z",
     "iopub.status.idle": "2024-10-25T12:48:13.830802Z",
     "shell.execute_reply": "2024-10-25T12:48:13.830017Z"
    },
    "jupyter": {
     "outputs_hidden": false
    },
    "papermill": {
     "duration": 7.186315,
     "end_time": "2024-10-25T12:48:13.833098",
     "exception": false,
     "start_time": "2024-10-25T12:48:06.646783",
     "status": "completed"
    },
    "tags": []
   },
   "outputs": [],
   "source": [
    "import torch\n",
    "import torch.nn as nn\n",
    "import torchvision\n",
    "from torchvision import transforms\n",
    "from model_file import getModel, getList\n",
    "from vit_cnn import *\n",
    "from vce_dataloader import *\n",
    "from sklearn.metrics import confusion_matrix\n",
    "import matplotlib.pyplot as plt\n",
    "import seaborn as sns\n",
    "import numpy as np\n"
   ]
  },
  {
   "cell_type": "code",
   "execution_count": 3,
   "id": "c8d08e70",
   "metadata": {
    "execution": {
     "iopub.execute_input": "2024-10-25T12:48:13.852061Z",
     "iopub.status.busy": "2024-10-25T12:48:13.851608Z",
     "iopub.status.idle": "2024-10-25T12:48:13.855674Z",
     "shell.execute_reply": "2024-10-25T12:48:13.854937Z"
    },
    "papermill": {
     "duration": 0.014991,
     "end_time": "2024-10-25T12:48:13.857599",
     "exception": false,
     "start_time": "2024-10-25T12:48:13.842608",
     "status": "completed"
    },
    "tags": []
   },
   "outputs": [],
   "source": [
    "# binaryDL_train = getBinaryDataLoader(image_size=(224,224), target_class_name=\"Normal\", path_to_dataset=\"/kaggle/input/vce-dataset/training\",batch_size=32)\n",
    "# binaryDL_val = getBinaryDataLoader(image_size=(224,224), target_class_name=\"Normal\", path_to_dataset=\"/kaggle/input/vce-dataset/validation\",batch_size=32)\n",
    "# visualize_batch(binaryDL_train, nrow = 8)"
   ]
  },
  {
   "cell_type": "code",
   "execution_count": 4,
   "id": "651a56f3",
   "metadata": {
    "execution": {
     "iopub.execute_input": "2024-10-25T12:48:13.874645Z",
     "iopub.status.busy": "2024-10-25T12:48:13.874348Z",
     "iopub.status.idle": "2024-10-25T12:48:13.878046Z",
     "shell.execute_reply": "2024-10-25T12:48:13.877319Z"
    },
    "papermill": {
     "duration": 0.01417,
     "end_time": "2024-10-25T12:48:13.879811",
     "exception": false,
     "start_time": "2024-10-25T12:48:13.865641",
     "status": "completed"
    },
    "tags": []
   },
   "outputs": [],
   "source": [
    "# getList()"
   ]
  },
  {
   "cell_type": "code",
   "execution_count": 5,
   "id": "706f677f",
   "metadata": {
    "execution": {
     "iopub.execute_input": "2024-10-25T12:48:13.897004Z",
     "iopub.status.busy": "2024-10-25T12:48:13.896680Z",
     "iopub.status.idle": "2024-10-25T12:48:13.900594Z",
     "shell.execute_reply": "2024-10-25T12:48:13.899824Z"
    },
    "papermill": {
     "duration": 0.014581,
     "end_time": "2024-10-25T12:48:13.902403",
     "exception": false,
     "start_time": "2024-10-25T12:48:13.887822",
     "status": "completed"
    },
    "tags": []
   },
   "outputs": [],
   "source": [
    "train_path = \"/kaggle/input/vce-augmented-dataset/training/\"\n",
    "val_path= \"/kaggle/input/vce-augmented-dataset/validation\""
   ]
  },
  {
   "cell_type": "code",
   "execution_count": 6,
   "id": "d087f8ab",
   "metadata": {
    "execution": {
     "iopub.execute_input": "2024-10-25T12:48:13.919709Z",
     "iopub.status.busy": "2024-10-25T12:48:13.919133Z",
     "iopub.status.idle": "2024-10-25T12:48:13.924401Z",
     "shell.execute_reply": "2024-10-25T12:48:13.923563Z"
    },
    "papermill": {
     "duration": 0.015982,
     "end_time": "2024-10-25T12:48:13.926322",
     "exception": false,
     "start_time": "2024-10-25T12:48:13.910340",
     "status": "completed"
    },
    "tags": []
   },
   "outputs": [],
   "source": [
    "train_transform = transforms.Compose([#transforms.RandomHorizontalFlip(p=0.7),\n",
    "                                     #transforms.RandomVerticalFlip(p=0.7),\n",
    "                                     #transforms.RandomRotation(15),\n",
    "                                     \n",
    "                                     transforms.Resize((224,224)),\n",
    "                                     transforms.ToTensor()\n",
    "                              ])\n",
    "\n",
    "\n",
    "val_transform= transforms.Compose([transforms.Resize((224,224)),\n",
    "                                     transforms.ToTensor()])"
   ]
  },
  {
   "cell_type": "code",
   "execution_count": 7,
   "id": "307c7ac5",
   "metadata": {
    "execution": {
     "iopub.execute_input": "2024-10-25T12:48:13.943183Z",
     "iopub.status.busy": "2024-10-25T12:48:13.942904Z",
     "iopub.status.idle": "2024-10-25T12:48:13.946965Z",
     "shell.execute_reply": "2024-10-25T12:48:13.946223Z"
    },
    "papermill": {
     "duration": 0.014589,
     "end_time": "2024-10-25T12:48:13.948844",
     "exception": false,
     "start_time": "2024-10-25T12:48:13.934255",
     "status": "completed"
    },
    "tags": []
   },
   "outputs": [],
   "source": [
    "target_class_names = ['Angioectasia', 'Bleeding', 'Erosion', 'Erythema', 'Foreign Body', 'Lymphangiectasia', 'Normal', 'Polyp', 'Ulcer', 'Worms']"
   ]
  },
  {
   "cell_type": "code",
   "execution_count": 8,
   "id": "65ef1e63",
   "metadata": {
    "execution": {
     "iopub.execute_input": "2024-10-25T12:48:13.965777Z",
     "iopub.status.busy": "2024-10-25T12:48:13.965501Z",
     "iopub.status.idle": "2024-10-25T12:49:22.421602Z",
     "shell.execute_reply": "2024-10-25T12:49:22.420796Z"
    },
    "papermill": {
     "duration": 68.467109,
     "end_time": "2024-10-25T12:49:22.423929",
     "exception": false,
     "start_time": "2024-10-25T12:48:13.956820",
     "status": "completed"
    },
    "tags": []
   },
   "outputs": [],
   "source": [
    "finDL_train = getNaryDataLoader(target_class_names=target_class_names, path_to_dataset=train_path, \n",
    "                          batch_size=32, trans = train_transform)\n",
    "finDL_val = getNaryDataLoader(target_class_names=target_class_names, path_to_dataset=val_path, \n",
    "                          batch_size=32, trans = val_transform)"
   ]
  },
  {
   "cell_type": "code",
   "execution_count": 9,
   "id": "8360b7e4",
   "metadata": {
    "execution": {
     "iopub.execute_input": "2024-10-25T12:49:22.441658Z",
     "iopub.status.busy": "2024-10-25T12:49:22.441328Z",
     "iopub.status.idle": "2024-10-25T12:49:22.448182Z",
     "shell.execute_reply": "2024-10-25T12:49:22.447341Z"
    },
    "papermill": {
     "duration": 0.017798,
     "end_time": "2024-10-25T12:49:22.450029",
     "exception": false,
     "start_time": "2024-10-25T12:49:22.432231",
     "status": "completed"
    },
    "tags": []
   },
   "outputs": [
    {
     "data": {
      "text/plain": [
       "(1854, 505)"
      ]
     },
     "execution_count": 9,
     "metadata": {},
     "output_type": "execute_result"
    }
   ],
   "source": [
    "len(finDL_train), len(finDL_val)"
   ]
  },
  {
   "cell_type": "code",
   "execution_count": 10,
   "id": "3b5c023d",
   "metadata": {
    "execution": {
     "iopub.execute_input": "2024-10-25T12:49:22.467612Z",
     "iopub.status.busy": "2024-10-25T12:49:22.466897Z",
     "iopub.status.idle": "2024-10-25T12:49:22.470580Z",
     "shell.execute_reply": "2024-10-25T12:49:22.469762Z"
    },
    "papermill": {
     "duration": 0.014355,
     "end_time": "2024-10-25T12:49:22.472480",
     "exception": false,
     "start_time": "2024-10-25T12:49:22.458125",
     "status": "completed"
    },
    "tags": []
   },
   "outputs": [],
   "source": [
    "# visualize_batch(allDL_train, nrow=8)"
   ]
  },
  {
   "cell_type": "code",
   "execution_count": 11,
   "id": "8ecb2640",
   "metadata": {
    "execution": {
     "iopub.execute_input": "2024-10-25T12:49:22.490359Z",
     "iopub.status.busy": "2024-10-25T12:49:22.489588Z",
     "iopub.status.idle": "2024-10-25T12:49:22.551311Z",
     "shell.execute_reply": "2024-10-25T12:49:22.550567Z"
    },
    "papermill": {
     "duration": 0.072741,
     "end_time": "2024-10-25T12:49:22.553346",
     "exception": false,
     "start_time": "2024-10-25T12:49:22.480605",
     "status": "completed"
    },
    "tags": []
   },
   "outputs": [],
   "source": [
    "device = torch.device(\"cuda\" if torch.cuda.is_available() else \"cpu\")"
   ]
  },
  {
   "cell_type": "code",
   "execution_count": 12,
   "id": "0eb86a2c",
   "metadata": {
    "execution": {
     "iopub.execute_input": "2024-10-25T12:49:22.570864Z",
     "iopub.status.busy": "2024-10-25T12:49:22.570575Z",
     "iopub.status.idle": "2024-10-25T12:49:22.574319Z",
     "shell.execute_reply": "2024-10-25T12:49:22.573598Z"
    },
    "papermill": {
     "duration": 0.014534,
     "end_time": "2024-10-25T12:49:22.576101",
     "exception": false,
     "start_time": "2024-10-25T12:49:22.561567",
     "status": "completed"
    },
    "tags": []
   },
   "outputs": [],
   "source": [
    "# sum = 0\n",
    "# for images, labels in binaryDL_train:\n",
    "#     print(images.shape)  # Should print [batch_size, 1, 48, 48]\n",
    "#     print(labels.shape)  # Should print [batch_size]\n",
    "#     sum = sum + torch.sum(labels)\n",
    "#     break\n",
    "# print(sum)"
   ]
  },
  {
   "cell_type": "code",
   "execution_count": 13,
   "id": "7d865d03",
   "metadata": {
    "execution": {
     "iopub.execute_input": "2024-10-25T12:49:22.593486Z",
     "iopub.status.busy": "2024-10-25T12:49:22.593165Z",
     "iopub.status.idle": "2024-10-25T12:49:22.596736Z",
     "shell.execute_reply": "2024-10-25T12:49:22.595893Z"
    },
    "papermill": {
     "duration": 0.014408,
     "end_time": "2024-10-25T12:49:22.598661",
     "exception": false,
     "start_time": "2024-10-25T12:49:22.584253",
     "status": "completed"
    },
    "tags": []
   },
   "outputs": [],
   "source": [
    "# print(labels)"
   ]
  },
  {
   "cell_type": "code",
   "execution_count": 14,
   "id": "80b8106b",
   "metadata": {
    "execution": {
     "iopub.execute_input": "2024-10-25T12:49:22.615757Z",
     "iopub.status.busy": "2024-10-25T12:49:22.615500Z",
     "iopub.status.idle": "2024-10-25T12:49:23.798614Z",
     "shell.execute_reply": "2024-10-25T12:49:23.797714Z"
    },
    "papermill": {
     "duration": 1.194554,
     "end_time": "2024-10-25T12:49:23.801231",
     "exception": false,
     "start_time": "2024-10-25T12:49:22.606677",
     "status": "completed"
    },
    "tags": []
   },
   "outputs": [
    {
     "name": "stderr",
     "output_type": "stream",
     "text": [
      "/opt/conda/lib/python3.10/site-packages/torchvision/models/_utils.py:208: UserWarning: The parameter 'pretrained' is deprecated since 0.13 and may be removed in the future, please use 'weights' instead.\n",
      "  warnings.warn(\n",
      "/opt/conda/lib/python3.10/site-packages/torchvision/models/_utils.py:223: UserWarning: Arguments other than a weight enum or `None` for 'weights' are deprecated since 0.13 and may be removed in the future. The current behavior is equivalent to passing `weights=ResNet34_Weights.IMAGENET1K_V1`. You can also use `weights=ResNet34_Weights.DEFAULT` to get the most up-to-date weights.\n",
      "  warnings.warn(msg)\n",
      "Downloading: \"https://download.pytorch.org/models/resnet34-b627a593.pth\" to /root/.cache/torch/hub/checkpoints/resnet34-b627a593.pth\n",
      "100%|██████████| 83.3M/83.3M [00:00<00:00, 173MB/s]\n"
     ]
    }
   ],
   "source": [
    "classifier = getModel(\"vitcnn\")\n",
    "model = classifier(cnnmodel = 'resnet34', num_classes=10)"
   ]
  },
  {
   "cell_type": "code",
   "execution_count": 15,
   "id": "64fab0e7",
   "metadata": {
    "execution": {
     "iopub.execute_input": "2024-10-25T12:49:23.824459Z",
     "iopub.status.busy": "2024-10-25T12:49:23.824073Z",
     "iopub.status.idle": "2024-10-25T12:49:23.833528Z",
     "shell.execute_reply": "2024-10-25T12:49:23.832365Z"
    },
    "papermill": {
     "duration": 0.023114,
     "end_time": "2024-10-25T12:49:23.835811",
     "exception": false,
     "start_time": "2024-10-25T12:49:23.812697",
     "status": "completed"
    },
    "tags": []
   },
   "outputs": [
    {
     "data": {
      "text/plain": [
       "ViTCNNModel(\n",
       "  (cnn_branch): CNNBranch(\n",
       "    (cnn): ResNet(\n",
       "      (conv1): Conv2d(3, 64, kernel_size=(7, 7), stride=(2, 2), padding=(3, 3), bias=False)\n",
       "      (bn1): BatchNorm2d(64, eps=1e-05, momentum=0.1, affine=True, track_running_stats=True)\n",
       "      (relu): ReLU(inplace=True)\n",
       "      (maxpool): MaxPool2d(kernel_size=3, stride=2, padding=1, dilation=1, ceil_mode=False)\n",
       "      (layer1): Sequential(\n",
       "        (0): BasicBlock(\n",
       "          (conv1): Conv2d(64, 64, kernel_size=(3, 3), stride=(1, 1), padding=(1, 1), bias=False)\n",
       "          (bn1): BatchNorm2d(64, eps=1e-05, momentum=0.1, affine=True, track_running_stats=True)\n",
       "          (relu): ReLU(inplace=True)\n",
       "          (conv2): Conv2d(64, 64, kernel_size=(3, 3), stride=(1, 1), padding=(1, 1), bias=False)\n",
       "          (bn2): BatchNorm2d(64, eps=1e-05, momentum=0.1, affine=True, track_running_stats=True)\n",
       "        )\n",
       "        (1): BasicBlock(\n",
       "          (conv1): Conv2d(64, 64, kernel_size=(3, 3), stride=(1, 1), padding=(1, 1), bias=False)\n",
       "          (bn1): BatchNorm2d(64, eps=1e-05, momentum=0.1, affine=True, track_running_stats=True)\n",
       "          (relu): ReLU(inplace=True)\n",
       "          (conv2): Conv2d(64, 64, kernel_size=(3, 3), stride=(1, 1), padding=(1, 1), bias=False)\n",
       "          (bn2): BatchNorm2d(64, eps=1e-05, momentum=0.1, affine=True, track_running_stats=True)\n",
       "        )\n",
       "        (2): BasicBlock(\n",
       "          (conv1): Conv2d(64, 64, kernel_size=(3, 3), stride=(1, 1), padding=(1, 1), bias=False)\n",
       "          (bn1): BatchNorm2d(64, eps=1e-05, momentum=0.1, affine=True, track_running_stats=True)\n",
       "          (relu): ReLU(inplace=True)\n",
       "          (conv2): Conv2d(64, 64, kernel_size=(3, 3), stride=(1, 1), padding=(1, 1), bias=False)\n",
       "          (bn2): BatchNorm2d(64, eps=1e-05, momentum=0.1, affine=True, track_running_stats=True)\n",
       "        )\n",
       "      )\n",
       "      (layer2): Sequential(\n",
       "        (0): BasicBlock(\n",
       "          (conv1): Conv2d(64, 128, kernel_size=(3, 3), stride=(2, 2), padding=(1, 1), bias=False)\n",
       "          (bn1): BatchNorm2d(128, eps=1e-05, momentum=0.1, affine=True, track_running_stats=True)\n",
       "          (relu): ReLU(inplace=True)\n",
       "          (conv2): Conv2d(128, 128, kernel_size=(3, 3), stride=(1, 1), padding=(1, 1), bias=False)\n",
       "          (bn2): BatchNorm2d(128, eps=1e-05, momentum=0.1, affine=True, track_running_stats=True)\n",
       "          (downsample): Sequential(\n",
       "            (0): Conv2d(64, 128, kernel_size=(1, 1), stride=(2, 2), bias=False)\n",
       "            (1): BatchNorm2d(128, eps=1e-05, momentum=0.1, affine=True, track_running_stats=True)\n",
       "          )\n",
       "        )\n",
       "        (1): BasicBlock(\n",
       "          (conv1): Conv2d(128, 128, kernel_size=(3, 3), stride=(1, 1), padding=(1, 1), bias=False)\n",
       "          (bn1): BatchNorm2d(128, eps=1e-05, momentum=0.1, affine=True, track_running_stats=True)\n",
       "          (relu): ReLU(inplace=True)\n",
       "          (conv2): Conv2d(128, 128, kernel_size=(3, 3), stride=(1, 1), padding=(1, 1), bias=False)\n",
       "          (bn2): BatchNorm2d(128, eps=1e-05, momentum=0.1, affine=True, track_running_stats=True)\n",
       "        )\n",
       "        (2): BasicBlock(\n",
       "          (conv1): Conv2d(128, 128, kernel_size=(3, 3), stride=(1, 1), padding=(1, 1), bias=False)\n",
       "          (bn1): BatchNorm2d(128, eps=1e-05, momentum=0.1, affine=True, track_running_stats=True)\n",
       "          (relu): ReLU(inplace=True)\n",
       "          (conv2): Conv2d(128, 128, kernel_size=(3, 3), stride=(1, 1), padding=(1, 1), bias=False)\n",
       "          (bn2): BatchNorm2d(128, eps=1e-05, momentum=0.1, affine=True, track_running_stats=True)\n",
       "        )\n",
       "        (3): BasicBlock(\n",
       "          (conv1): Conv2d(128, 128, kernel_size=(3, 3), stride=(1, 1), padding=(1, 1), bias=False)\n",
       "          (bn1): BatchNorm2d(128, eps=1e-05, momentum=0.1, affine=True, track_running_stats=True)\n",
       "          (relu): ReLU(inplace=True)\n",
       "          (conv2): Conv2d(128, 128, kernel_size=(3, 3), stride=(1, 1), padding=(1, 1), bias=False)\n",
       "          (bn2): BatchNorm2d(128, eps=1e-05, momentum=0.1, affine=True, track_running_stats=True)\n",
       "        )\n",
       "      )\n",
       "      (layer3): Sequential(\n",
       "        (0): BasicBlock(\n",
       "          (conv1): Conv2d(128, 256, kernel_size=(3, 3), stride=(2, 2), padding=(1, 1), bias=False)\n",
       "          (bn1): BatchNorm2d(256, eps=1e-05, momentum=0.1, affine=True, track_running_stats=True)\n",
       "          (relu): ReLU(inplace=True)\n",
       "          (conv2): Conv2d(256, 256, kernel_size=(3, 3), stride=(1, 1), padding=(1, 1), bias=False)\n",
       "          (bn2): BatchNorm2d(256, eps=1e-05, momentum=0.1, affine=True, track_running_stats=True)\n",
       "          (downsample): Sequential(\n",
       "            (0): Conv2d(128, 256, kernel_size=(1, 1), stride=(2, 2), bias=False)\n",
       "            (1): BatchNorm2d(256, eps=1e-05, momentum=0.1, affine=True, track_running_stats=True)\n",
       "          )\n",
       "        )\n",
       "        (1): BasicBlock(\n",
       "          (conv1): Conv2d(256, 256, kernel_size=(3, 3), stride=(1, 1), padding=(1, 1), bias=False)\n",
       "          (bn1): BatchNorm2d(256, eps=1e-05, momentum=0.1, affine=True, track_running_stats=True)\n",
       "          (relu): ReLU(inplace=True)\n",
       "          (conv2): Conv2d(256, 256, kernel_size=(3, 3), stride=(1, 1), padding=(1, 1), bias=False)\n",
       "          (bn2): BatchNorm2d(256, eps=1e-05, momentum=0.1, affine=True, track_running_stats=True)\n",
       "        )\n",
       "        (2): BasicBlock(\n",
       "          (conv1): Conv2d(256, 256, kernel_size=(3, 3), stride=(1, 1), padding=(1, 1), bias=False)\n",
       "          (bn1): BatchNorm2d(256, eps=1e-05, momentum=0.1, affine=True, track_running_stats=True)\n",
       "          (relu): ReLU(inplace=True)\n",
       "          (conv2): Conv2d(256, 256, kernel_size=(3, 3), stride=(1, 1), padding=(1, 1), bias=False)\n",
       "          (bn2): BatchNorm2d(256, eps=1e-05, momentum=0.1, affine=True, track_running_stats=True)\n",
       "        )\n",
       "        (3): BasicBlock(\n",
       "          (conv1): Conv2d(256, 256, kernel_size=(3, 3), stride=(1, 1), padding=(1, 1), bias=False)\n",
       "          (bn1): BatchNorm2d(256, eps=1e-05, momentum=0.1, affine=True, track_running_stats=True)\n",
       "          (relu): ReLU(inplace=True)\n",
       "          (conv2): Conv2d(256, 256, kernel_size=(3, 3), stride=(1, 1), padding=(1, 1), bias=False)\n",
       "          (bn2): BatchNorm2d(256, eps=1e-05, momentum=0.1, affine=True, track_running_stats=True)\n",
       "        )\n",
       "        (4): BasicBlock(\n",
       "          (conv1): Conv2d(256, 256, kernel_size=(3, 3), stride=(1, 1), padding=(1, 1), bias=False)\n",
       "          (bn1): BatchNorm2d(256, eps=1e-05, momentum=0.1, affine=True, track_running_stats=True)\n",
       "          (relu): ReLU(inplace=True)\n",
       "          (conv2): Conv2d(256, 256, kernel_size=(3, 3), stride=(1, 1), padding=(1, 1), bias=False)\n",
       "          (bn2): BatchNorm2d(256, eps=1e-05, momentum=0.1, affine=True, track_running_stats=True)\n",
       "        )\n",
       "        (5): BasicBlock(\n",
       "          (conv1): Conv2d(256, 256, kernel_size=(3, 3), stride=(1, 1), padding=(1, 1), bias=False)\n",
       "          (bn1): BatchNorm2d(256, eps=1e-05, momentum=0.1, affine=True, track_running_stats=True)\n",
       "          (relu): ReLU(inplace=True)\n",
       "          (conv2): Conv2d(256, 256, kernel_size=(3, 3), stride=(1, 1), padding=(1, 1), bias=False)\n",
       "          (bn2): BatchNorm2d(256, eps=1e-05, momentum=0.1, affine=True, track_running_stats=True)\n",
       "        )\n",
       "      )\n",
       "      (layer4): Sequential(\n",
       "        (0): BasicBlock(\n",
       "          (conv1): Conv2d(256, 512, kernel_size=(3, 3), stride=(2, 2), padding=(1, 1), bias=False)\n",
       "          (bn1): BatchNorm2d(512, eps=1e-05, momentum=0.1, affine=True, track_running_stats=True)\n",
       "          (relu): ReLU(inplace=True)\n",
       "          (conv2): Conv2d(512, 512, kernel_size=(3, 3), stride=(1, 1), padding=(1, 1), bias=False)\n",
       "          (bn2): BatchNorm2d(512, eps=1e-05, momentum=0.1, affine=True, track_running_stats=True)\n",
       "          (downsample): Sequential(\n",
       "            (0): Conv2d(256, 512, kernel_size=(1, 1), stride=(2, 2), bias=False)\n",
       "            (1): BatchNorm2d(512, eps=1e-05, momentum=0.1, affine=True, track_running_stats=True)\n",
       "          )\n",
       "        )\n",
       "        (1): BasicBlock(\n",
       "          (conv1): Conv2d(512, 512, kernel_size=(3, 3), stride=(1, 1), padding=(1, 1), bias=False)\n",
       "          (bn1): BatchNorm2d(512, eps=1e-05, momentum=0.1, affine=True, track_running_stats=True)\n",
       "          (relu): ReLU(inplace=True)\n",
       "          (conv2): Conv2d(512, 512, kernel_size=(3, 3), stride=(1, 1), padding=(1, 1), bias=False)\n",
       "          (bn2): BatchNorm2d(512, eps=1e-05, momentum=0.1, affine=True, track_running_stats=True)\n",
       "        )\n",
       "        (2): BasicBlock(\n",
       "          (conv1): Conv2d(512, 512, kernel_size=(3, 3), stride=(1, 1), padding=(1, 1), bias=False)\n",
       "          (bn1): BatchNorm2d(512, eps=1e-05, momentum=0.1, affine=True, track_running_stats=True)\n",
       "          (relu): ReLU(inplace=True)\n",
       "          (conv2): Conv2d(512, 512, kernel_size=(3, 3), stride=(1, 1), padding=(1, 1), bias=False)\n",
       "          (bn2): BatchNorm2d(512, eps=1e-05, momentum=0.1, affine=True, track_running_stats=True)\n",
       "        )\n",
       "      )\n",
       "      (avgpool): AdaptiveAvgPool2d(output_size=(1, 1))\n",
       "      (fc): Linear(in_features=512, out_features=512, bias=True)\n",
       "    )\n",
       "  )\n",
       "  (vit_branch): ViTBranch(\n",
       "    (vit): ViT(\n",
       "      (to_patch_embedding): Sequential(\n",
       "        (0): Rearrange('b c (h p1) (w p2) -> b (h w) (p1 p2 c)', p1=16, p2=16)\n",
       "        (1): LayerNorm((768,), eps=1e-05, elementwise_affine=True)\n",
       "        (2): Linear(in_features=768, out_features=512, bias=True)\n",
       "        (3): LayerNorm((512,), eps=1e-05, elementwise_affine=True)\n",
       "      )\n",
       "      (dropout): Dropout(p=0.0, inplace=False)\n",
       "      (transformer): Transformer(\n",
       "        (norm): LayerNorm((512,), eps=1e-05, elementwise_affine=True)\n",
       "        (layers): ModuleList(\n",
       "          (0-5): 6 x ModuleList(\n",
       "            (0): Attention(\n",
       "              (norm): LayerNorm((512,), eps=1e-05, elementwise_affine=True)\n",
       "              (attend): Softmax(dim=-1)\n",
       "              (dropout): Dropout(p=0.0, inplace=False)\n",
       "              (to_qkv): Linear(in_features=512, out_features=1536, bias=False)\n",
       "              (to_out): Sequential(\n",
       "                (0): Linear(in_features=512, out_features=512, bias=True)\n",
       "                (1): Dropout(p=0.0, inplace=False)\n",
       "              )\n",
       "            )\n",
       "            (1): FeedForward(\n",
       "              (net): Sequential(\n",
       "                (0): LayerNorm((512,), eps=1e-05, elementwise_affine=True)\n",
       "                (1): Linear(in_features=512, out_features=1024, bias=True)\n",
       "                (2): GELU(approximate='none')\n",
       "                (3): Dropout(p=0.0, inplace=False)\n",
       "                (4): Linear(in_features=1024, out_features=512, bias=True)\n",
       "                (5): Dropout(p=0.0, inplace=False)\n",
       "              )\n",
       "            )\n",
       "          )\n",
       "        )\n",
       "      )\n",
       "      (to_latent): Identity()\n",
       "      (mlp_head): Linear(in_features=512, out_features=512, bias=True)\n",
       "    )\n",
       "  )\n",
       "  (dense_fc): Sequential(\n",
       "    (0): Linear(in_features=1024, out_features=512, bias=True)\n",
       "    (1): ReLU()\n",
       "    (2): Linear(in_features=512, out_features=256, bias=True)\n",
       "    (3): ReLU()\n",
       "  )\n",
       "  (classification_head): Linear(in_features=256, out_features=10, bias=True)\n",
       ")"
      ]
     },
     "execution_count": 15,
     "metadata": {},
     "output_type": "execute_result"
    }
   ],
   "source": [
    "model"
   ]
  },
  {
   "cell_type": "code",
   "execution_count": 16,
   "id": "ef7570fa",
   "metadata": {
    "execution": {
     "iopub.execute_input": "2024-10-25T12:49:23.859811Z",
     "iopub.status.busy": "2024-10-25T12:49:23.859439Z",
     "iopub.status.idle": "2024-10-25T12:49:23.863261Z",
     "shell.execute_reply": "2024-10-25T12:49:23.862480Z"
    },
    "papermill": {
     "duration": 0.017985,
     "end_time": "2024-10-25T12:49:23.865128",
     "exception": false,
     "start_time": "2024-10-25T12:49:23.847143",
     "status": "completed"
    },
    "tags": []
   },
   "outputs": [],
   "source": [
    "# model.classifier"
   ]
  },
  {
   "cell_type": "code",
   "execution_count": 17,
   "id": "ed183e20",
   "metadata": {
    "execution": {
     "iopub.execute_input": "2024-10-25T12:49:23.884913Z",
     "iopub.status.busy": "2024-10-25T12:49:23.884627Z",
     "iopub.status.idle": "2024-10-25T12:49:23.888246Z",
     "shell.execute_reply": "2024-10-25T12:49:23.887436Z"
    },
    "papermill": {
     "duration": 0.015812,
     "end_time": "2024-10-25T12:49:23.890223",
     "exception": false,
     "start_time": "2024-10-25T12:49:23.874411",
     "status": "completed"
    },
    "tags": []
   },
   "outputs": [],
   "source": [
    "# # num_ftrs = model.fc.in_features\n",
    "# model.classifier[6] = nn.Linear(4096, 10)\n",
    "# if torch.cuda.device_count() > 1:\n",
    "#     model = nn.DataParallel(model)"
   ]
  },
  {
   "cell_type": "code",
   "execution_count": 18,
   "id": "313120ae",
   "metadata": {
    "execution": {
     "iopub.execute_input": "2024-10-25T12:49:23.910758Z",
     "iopub.status.busy": "2024-10-25T12:49:23.909958Z",
     "iopub.status.idle": "2024-10-25T12:49:24.118303Z",
     "shell.execute_reply": "2024-10-25T12:49:24.117479Z"
    },
    "papermill": {
     "duration": 0.221035,
     "end_time": "2024-10-25T12:49:24.120632",
     "exception": false,
     "start_time": "2024-10-25T12:49:23.899597",
     "status": "completed"
    },
    "tags": []
   },
   "outputs": [],
   "source": [
    "model = model.to(device)\n",
    "criterion = nn.CrossEntropyLoss() \n",
    "optimizer = torch.optim.Adam(model.parameters(), lr=0.001)"
   ]
  },
  {
   "cell_type": "code",
   "execution_count": 19,
   "id": "f7268694",
   "metadata": {
    "execution": {
     "iopub.execute_input": "2024-10-25T12:49:24.141140Z",
     "iopub.status.busy": "2024-10-25T12:49:24.140806Z",
     "iopub.status.idle": "2024-10-25T12:49:24.144734Z",
     "shell.execute_reply": "2024-10-25T12:49:24.143896Z"
    },
    "papermill": {
     "duration": 0.016542,
     "end_time": "2024-10-25T12:49:24.146687",
     "exception": false,
     "start_time": "2024-10-25T12:49:24.130145",
     "status": "completed"
    },
    "tags": []
   },
   "outputs": [],
   "source": [
    "# model"
   ]
  },
  {
   "cell_type": "code",
   "execution_count": 20,
   "id": "d5a11f82",
   "metadata": {
    "execution": {
     "iopub.execute_input": "2024-10-25T12:49:24.166855Z",
     "iopub.status.busy": "2024-10-25T12:49:24.166564Z",
     "iopub.status.idle": "2024-10-25T12:49:24.170198Z",
     "shell.execute_reply": "2024-10-25T12:49:24.169405Z"
    },
    "papermill": {
     "duration": 0.016266,
     "end_time": "2024-10-25T12:49:24.172092",
     "exception": false,
     "start_time": "2024-10-25T12:49:24.155826",
     "status": "completed"
    },
    "tags": []
   },
   "outputs": [],
   "source": [
    "num_epochs = 10"
   ]
  },
  {
   "cell_type": "code",
   "execution_count": 21,
   "id": "f2c8c3f5",
   "metadata": {
    "execution": {
     "iopub.execute_input": "2024-10-25T12:49:24.191793Z",
     "iopub.status.busy": "2024-10-25T12:49:24.191496Z",
     "iopub.status.idle": "2024-10-25T14:31:17.204335Z",
     "shell.execute_reply": "2024-10-25T14:31:17.203292Z"
    },
    "papermill": {
     "duration": 6114.500878,
     "end_time": "2024-10-25T14:31:18.682248",
     "exception": false,
     "start_time": "2024-10-25T12:49:24.181370",
     "status": "completed"
    },
    "tags": []
   },
   "outputs": [
    {
     "name": "stdout",
     "output_type": "stream",
     "text": [
      "Epoch [1/10]\n",
      "##############################################################################################################################################################################################################################################################################################################################################################################################################################################################################463/1854: 1.14568030834198\n",
      "##############################################################################################################################################################################################################################################################################################################################################################################################################################################################################926/1854: 1.132021427154541\n",
      "##############################################################################################################################################################################################################################################################################################################################################################################################################################################################################1389/1854: 1.2025848627090454\n",
      "##############################################################################################################################################################################################################################################################################################################################################################################################################################################################################1852/1854: 0.8727331161499023\n",
      "##Train Loss: 1.1874, Train Accuracy: 0.5932\n",
      "Validation Loss: 0.7620, Validation Accuracy: 0.7670\n",
      "Epoch [2/10]\n",
      "##############################################################################################################################################################################################################################################################################################################################################################################################################################################################################463/1854: 1.3810795545578003\n",
      "##############################################################################################################################################################################################################################################################################################################################################################################################################################################################################926/1854: 1.2343627214431763\n",
      "##############################################################################################################################################################################################################################################################################################################################################################################################################################################################################1389/1854: 1.337619423866272\n",
      "##############################################################################################################################################################################################################################################################################################################################################################################################################################################################################1852/1854: 0.5049246549606323\n",
      "##Train Loss: 0.8865, Train Accuracy: 0.6872\n",
      "Validation Loss: 0.5188, Validation Accuracy: 0.8276\n",
      "Epoch [3/10]\n",
      "##############################################################################################################################################################################################################################################################################################################################################################################################################################################################################463/1854: 0.6836627125740051\n",
      "##############################################################################################################################################################################################################################################################################################################################################################################################################################################################################926/1854: 0.3872291147708893\n",
      "##############################################################################################################################################################################################################################################################################################################################################################################################################################################################################1389/1854: 0.5410397052764893\n",
      "##############################################################################################################################################################################################################################################################################################################################################################################################################################################################################1852/1854: 0.5778557062149048\n",
      "##Train Loss: 0.6703, Train Accuracy: 0.7663\n",
      "Validation Loss: 0.5041, Validation Accuracy: 0.8476\n",
      "Epoch [4/10]\n",
      "##############################################################################################################################################################################################################################################################################################################################################################################################################################################################################463/1854: 0.520082414150238\n",
      "##############################################################################################################################################################################################################################################################################################################################################################################################################################################################################926/1854: 0.397793173789978\n",
      "##############################################################################################################################################################################################################################################################################################################################################################################################################################################################################1389/1854: 0.30146676301956177\n",
      "##############################################################################################################################################################################################################################################################################################################################################################################################################################################################################1852/1854: 0.30319708585739136\n",
      "##Train Loss: 0.5668, Train Accuracy: 0.8054\n",
      "Validation Loss: 0.3594, Validation Accuracy: 0.8750\n",
      "Epoch [5/10]\n",
      "##############################################################################################################################################################################################################################################################################################################################################################################################################################################################################463/1854: 0.4882577955722809\n",
      "##############################################################################################################################################################################################################################################################################################################################################################################################################################################################################926/1854: 0.5497784614562988\n",
      "##############################################################################################################################################################################################################################################################################################################################################################################################################################################################################1389/1854: 0.30995070934295654\n",
      "##############################################################################################################################################################################################################################################################################################################################################################################################################################################################################1852/1854: 0.4388543963432312\n",
      "##Train Loss: 0.4646, Train Accuracy: 0.8386\n",
      "Validation Loss: 0.3914, Validation Accuracy: 0.8724\n",
      "Epoch [6/10]\n",
      "##############################################################################################################################################################################################################################################################################################################################################################################################################################################################################463/1854: 0.18344368040561676\n",
      "##############################################################################################################################################################################################################################################################################################################################################################################################################################################################################926/1854: 0.5168518424034119\n",
      "##############################################################################################################################################################################################################################################################################################################################################################################################################################################################################1389/1854: 0.45822519063949585\n",
      "##############################################################################################################################################################################################################################################################################################################################################################################################################################################################################1852/1854: 0.23917877674102783\n",
      "##Train Loss: 0.4079, Train Accuracy: 0.8593\n",
      "Validation Loss: 0.3436, Validation Accuracy: 0.8876\n",
      "Epoch [7/10]\n",
      "##############################################################################################################################################################################################################################################################################################################################################################################################################################################################################463/1854: 0.33785074949264526\n",
      "##############################################################################################################################################################################################################################################################################################################################################################################################################################################################################926/1854: 0.1551428586244583\n",
      "##############################################################################################################################################################################################################################################################################################################################################################################################################################################################################1389/1854: 0.10897719115018845\n",
      "##############################################################################################################################################################################################################################################################################################################################################################################################################################################################################1852/1854: 0.20595645904541016\n",
      "##Train Loss: 0.3462, Train Accuracy: 0.8794\n",
      "Validation Loss: 0.3394, Validation Accuracy: 0.8851\n",
      "Epoch [8/10]\n",
      "##############################################################################################################################################################################################################################################################################################################################################################################################################################################################################463/1854: 0.2713739275932312\n",
      "##############################################################################################################################################################################################################################################################################################################################################################################################################################################################################926/1854: 0.5840721726417542\n",
      "##############################################################################################################################################################################################################################################################################################################################################################################################################################################################################1389/1854: 0.3337923586368561\n",
      "##############################################################################################################################################################################################################################################################################################################################################################################################################################################################################1852/1854: 0.30561119318008423\n",
      "##Train Loss: 0.3083, Train Accuracy: 0.8935\n",
      "Validation Loss: 0.3283, Validation Accuracy: 0.8985\n",
      "Epoch [9/10]\n",
      "##############################################################################################################################################################################################################################################################################################################################################################################################################################################################################463/1854: 0.30333763360977173\n",
      "##############################################################################################################################################################################################################################################################################################################################################################################################################################################################################926/1854: 0.44723349809646606\n",
      "##############################################################################################################################################################################################################################################################################################################################################################################################################################################################################1389/1854: 0.20039047300815582\n",
      "##############################################################################################################################################################################################################################################################################################################################################################################################################################################################################1852/1854: 0.15499724447727203\n",
      "##Train Loss: 0.2639, Train Accuracy: 0.9093\n",
      "Validation Loss: 0.3498, Validation Accuracy: 0.8812\n",
      "Epoch [10/10]\n",
      "##############################################################################################################################################################################################################################################################################################################################################################################################################################################################################463/1854: 0.23784247040748596\n",
      "##############################################################################################################################################################################################################################################################################################################################################################################################################################################################################926/1854: 0.32430651783943176\n",
      "##############################################################################################################################################################################################################################################################################################################################################################################################################################################################################1389/1854: 0.5657609105110168\n",
      "##############################################################################################################################################################################################################################################################################################################################################################################################################################################################################1852/1854: 0.21187792718410492\n",
      "##Train Loss: 0.2232, Train Accuracy: 0.9210\n",
      "Validation Loss: 0.3669, Validation Accuracy: 0.8934\n",
      "CPU times: user 2h 53min 58s, sys: 6min 16s, total: 3h 14s\n",
      "Wall time: 1h 41min 53s\n"
     ]
    }
   ],
   "source": [
    "%%time\n",
    "for epoch in range(num_epochs):\n",
    "    model.train()\n",
    "    print(f'Epoch [{epoch+1}/{num_epochs}]')\n",
    "    running_loss = 0.0\n",
    "    correct_predictions = 0\n",
    "    total_samples  =0\n",
    "    \n",
    "    for i, data in enumerate(finDL_train):\n",
    "        inputs, labels = data\n",
    "        inputs, labels = inputs.to(device), labels.to(device)\n",
    "        \n",
    "        optimizer.zero_grad()\n",
    "        outputs = model(inputs)\n",
    "        loss = criterion(outputs, labels)\n",
    "        loss.backward()\n",
    "        optimizer.step()\n",
    "        \n",
    "        running_loss += loss.item() * inputs.size(0)\n",
    "        _, predicted = torch.max(outputs, 1)\n",
    "        correct_predictions += (predicted == labels).sum().item()\n",
    "        total_samples += labels.size(0)\n",
    "        \n",
    "        if((i+1)%(len(finDL_train)//4)==0):\n",
    "            print(f\"{i+1}/{len(finDL_train)}: {loss.item()}\")\n",
    "        else: \n",
    "            print(\"#\", end=\"\")\n",
    "        \n",
    "    train_loss = running_loss / total_samples\n",
    "    train_accuracy = correct_predictions / total_samples\n",
    "    \n",
    "    model.eval()\n",
    "    val_loss = 0.0\n",
    "    correct_val_predictions = 0\n",
    "    total_val_samples = 0\n",
    "    \n",
    "    with torch.no_grad():\n",
    "        for val_inputs, val_labels in finDL_val:\n",
    "            val_inputs, val_labels = val_inputs.to(device), val_labels.to(device)\n",
    "            \n",
    "            val_outputs = model(val_inputs)\n",
    "            loss = criterion(val_outputs, val_labels)\n",
    "            \n",
    "            val_loss += loss.item() * val_inputs.size(0)\n",
    "            _, val_predicted = torch.max(val_outputs, 1)\n",
    "            correct_val_predictions += (val_predicted == val_labels).sum().item()\n",
    "            total_val_samples += val_labels.size(0)\n",
    "    \n",
    "    val_loss /= total_val_samples\n",
    "    val_accuracy = correct_val_predictions / total_val_samples\n",
    "    \n",
    "    # Print epoch stats\n",
    "    \n",
    "    print(f'Train Loss: {train_loss:.4f}, Train Accuracy: {train_accuracy:.4f}')\n",
    "    print(f'Validation Loss: {val_loss:.4f}, Validation Accuracy: {val_accuracy:.4f}')"
   ]
  },
  {
   "cell_type": "code",
   "execution_count": 22,
   "id": "34e56799",
   "metadata": {
    "execution": {
     "iopub.execute_input": "2024-10-25T14:31:21.567918Z",
     "iopub.status.busy": "2024-10-25T14:31:21.567541Z",
     "iopub.status.idle": "2024-10-25T14:31:22.290360Z",
     "shell.execute_reply": "2024-10-25T14:31:22.289572Z"
    },
    "papermill": {
     "duration": 2.147689,
     "end_time": "2024-10-25T14:31:22.292601",
     "exception": false,
     "start_time": "2024-10-25T14:31:20.144912",
     "status": "completed"
    },
    "tags": []
   },
   "outputs": [],
   "source": [
    "PATH = \"Direct10.pt\"\n",
    "torch.save({\n",
    "            'epoch': num_epochs-1,\n",
    "            'model_state_dict': model.state_dict(),\n",
    "            'optimizer_state_dict': optimizer.state_dict()\n",
    "            }, PATH)"
   ]
  },
  {
   "cell_type": "code",
   "execution_count": 23,
   "id": "af380179",
   "metadata": {
    "execution": {
     "iopub.execute_input": "2024-10-25T14:31:25.210535Z",
     "iopub.status.busy": "2024-10-25T14:31:25.210137Z",
     "iopub.status.idle": "2024-10-25T14:31:25.216787Z",
     "shell.execute_reply": "2024-10-25T14:31:25.216004Z"
    },
    "papermill": {
     "duration": 1.471642,
     "end_time": "2024-10-25T14:31:25.218697",
     "exception": false,
     "start_time": "2024-10-25T14:31:23.747055",
     "status": "completed"
    },
    "tags": []
   },
   "outputs": [],
   "source": [
    "def get_predictions_and_labels(model, dataloader):\n",
    "    model.eval()  # Set the model to evaluation mode\n",
    "    all_preds = []\n",
    "    all_labels = []\n",
    "    \n",
    "    with torch.no_grad():  # Disable gradient calculation\n",
    "        for images, labels in dataloader:\n",
    "            images = images.to(device)  # Move images to the same device as model\n",
    "            labels = labels.to(device)  # Move labels to the same device as model\n",
    "            outputs = model(images)\n",
    "            _, preds = torch.max(outputs, 1)  # Get the predicted class\n",
    "            all_preds.extend(preds.cpu().numpy())  # Collect predictions\n",
    "            all_labels.extend(labels.cpu().numpy())  # Collect true labels\n",
    "\n",
    "    return np.array(all_preds), np.array(all_labels)"
   ]
  },
  {
   "cell_type": "code",
   "execution_count": 24,
   "id": "bbe0afe7",
   "metadata": {
    "execution": {
     "iopub.execute_input": "2024-10-25T14:31:28.113246Z",
     "iopub.status.busy": "2024-10-25T14:31:28.112405Z",
     "iopub.status.idle": "2024-10-25T14:32:26.639901Z",
     "shell.execute_reply": "2024-10-25T14:32:26.639039Z"
    },
    "papermill": {
     "duration": 59.961472,
     "end_time": "2024-10-25T14:32:26.642329",
     "exception": false,
     "start_time": "2024-10-25T14:31:26.680857",
     "status": "completed"
    },
    "tags": []
   },
   "outputs": [],
   "source": [
    "# Get the predictions and true labels for the test set\n",
    "preds, true_labels = get_predictions_and_labels(model, finDL_val)"
   ]
  },
  {
   "cell_type": "code",
   "execution_count": 25,
   "id": "7fe8b3d6",
   "metadata": {
    "execution": {
     "iopub.execute_input": "2024-10-25T14:32:29.566875Z",
     "iopub.status.busy": "2024-10-25T14:32:29.566510Z",
     "iopub.status.idle": "2024-10-25T14:32:30.095602Z",
     "shell.execute_reply": "2024-10-25T14:32:30.094662Z"
    },
    "papermill": {
     "duration": 1.979019,
     "end_time": "2024-10-25T14:32:30.097893",
     "exception": false,
     "start_time": "2024-10-25T14:32:28.118874",
     "status": "completed"
    },
    "tags": []
   },
   "outputs": [
    {
     "data": {
      "image/png": "[encoded data removed]",
      "text/plain": [
       "<Figure size 600x400 with 2 Axes>"
      ]
     },
     "metadata": {},
     "output_type": "display_data"
    }
   ],
   "source": [
    "# Compute the confusion matrix\n",
    "conf_matrix = confusion_matrix(true_labels, preds)\n",
    "\n",
    "# Plot the confusion matrix using seaborn\n",
    "plt.figure(figsize=(6, 4))\n",
    "sns.heatmap(conf_matrix, annot=True, fmt=\"d\", cmap=\"Blues\", xticklabels=[i for i in range(0,10)], yticklabels=[i for i in range(0,10)])\n",
    "plt.xlabel('Predicted Label')\n",
    "plt.ylabel('True Label')\n",
    "plt.title('Confusion Matrix')\n",
    "plt.show()"
   ]
  },
  {
   "cell_type": "code",
   "execution_count": 26,
   "id": "3a976d3f",
   "metadata": {
    "execution": {
     "iopub.execute_input": "2024-10-25T14:32:32.986646Z",
     "iopub.status.busy": "2024-10-25T14:32:32.986226Z",
     "iopub.status.idle": "2024-10-25T14:32:32.990471Z",
     "shell.execute_reply": "2024-10-25T14:32:32.989670Z"
    },
    "papermill": {
     "duration": 1.455356,
     "end_time": "2024-10-25T14:32:32.992347",
     "exception": false,
     "start_time": "2024-10-25T14:32:31.536991",
     "status": "completed"
    },
    "tags": []
   },
   "outputs": [],
   "source": [
    "# print(\"hi\")"
   ]
  },
  {
   "cell_type": "code",
   "execution_count": null,
   "id": "b815f54a",
   "metadata": {
    "papermill": {
     "duration": 1.419548,
     "end_time": "2024-10-25T14:32:35.861694",
     "exception": false,
     "start_time": "2024-10-25T14:32:34.442146",
     "status": "completed"
    },
    "tags": []
   },
   "outputs": [],
   "source": []
  }
 ],
 "metadata": {
  "kaggle": {
   "accelerator": "gpu",
   "dataSources": [
    {
     "datasetId": 5606571,
     "sourceId": 9315744,
     "sourceType": "datasetVersion"
    },
    {
     "datasetId": 5880122,
     "sourceId": 9632949,
     "sourceType": "datasetVersion"
    },
    {
     "sourceId": 201162695,
     "sourceType": "kernelVersion"
    },
    {
     "sourceId": 202412688,
     "sourceType": "kernelVersion"
    },
    {
     "sourceId": 202414728,
     "sourceType": "kernelVersion"
    }
   ],
   "dockerImageVersionId": 30787,
   "isGpuEnabled": true,
   "isInternetEnabled": true,
   "language": "python",
   "sourceType": "notebook"
  },
  "kernelspec": {
   "display_name": "Python 3",
   "language": "python",
   "name": "python3"
  },
  "language_info": {
   "codemirror_mode": {
    "name": "ipython",
    "version": 3
   },
   "file_extension": ".py",
   "mimetype": "text/x-python",
   "name": "python",
   "nbconvert_exporter": "python",
   "pygments_lexer": "ipython3",
   "version": "3.10.14"
  },
  "papermill": {
   "default_parameters": {},
   "duration": 6288.302897,
   "end_time": "2024-10-25T14:32:38.826398",
   "environment_variables": {},
   "exception": null,
   "input_path": "__notebook__.ipynb",
   "output_path": "__notebook__.ipynb",
   "parameters": {},
   "start_time": "2024-10-25T12:47:50.523501",
   "version": "2.6.0"
  }
 },
 "nbformat": 4,
 "nbformat_minor": 5
}
