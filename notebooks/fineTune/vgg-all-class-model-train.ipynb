{
 "cells": [
  {
   "cell_type": "code",
   "execution_count": 1,
   "id": "294fba75",
   "metadata": {
    "_cell_guid": "cf87988d-dab7-4248-b675-c6e83478a04f",
    "_uuid": "50dffe7a-b8be-4eaa-8108-771d38a487f3",
    "collapsed": false,
    "execution": {
     "iopub.execute_input": "2024-10-09T02:56:04.985854Z",
     "iopub.status.busy": "2024-10-09T02:56:04.985277Z",
     "iopub.status.idle": "2024-10-09T02:56:12.251768Z",
     "shell.execute_reply": "2024-10-09T02:56:12.250962Z"
    },
    "jupyter": {
     "outputs_hidden": false
    },
    "papermill": {
     "duration": 7.276346,
     "end_time": "2024-10-09T02:56:12.254111",
     "exception": false,
     "start_time": "2024-10-09T02:56:04.977765",
     "status": "completed"
    },
    "tags": []
   },
   "outputs": [],
   "source": [
    "import torch\n",
    "import torch.nn as nn\n",
    "import torchvision\n",
    "from model_file import *\n",
    "from vce_dataloader import getBinaryDataLoader, getAllDataLoader, visualize_batch\n",
    "from sklearn.metrics import confusion_matrix\n",
    "import matplotlib.pyplot as plt\n",
    "import seaborn as sns\n",
    "import numpy as np\n",
    "import kagglehub"
   ]
  },
  {
   "cell_type": "code",
   "execution_count": 2,
   "id": "f9694b2a",
   "metadata": {
    "execution": {
     "iopub.execute_input": "2024-10-09T02:56:12.267270Z",
     "iopub.status.busy": "2024-10-09T02:56:12.266807Z",
     "iopub.status.idle": "2024-10-09T02:56:20.792485Z",
     "shell.execute_reply": "2024-10-09T02:56:20.791392Z"
    },
    "papermill": {
     "duration": 8.534936,
     "end_time": "2024-10-09T02:56:20.795054",
     "exception": false,
     "start_time": "2024-10-09T02:56:12.260118",
     "status": "completed"
    },
    "tags": []
   },
   "outputs": [
    {
     "name": "stderr",
     "output_type": "stream",
     "text": [
      "/opt/conda/lib/python3.10/site-packages/torchvision/models/_utils.py:208: UserWarning: The parameter 'pretrained' is deprecated since 0.13 and may be removed in the future, please use 'weights' instead.\n",
      "  warnings.warn(\n",
      "/opt/conda/lib/python3.10/site-packages/torchvision/models/_utils.py:223: UserWarning: Arguments other than a weight enum or `None` for 'weights' are deprecated since 0.13 and may be removed in the future. The current behavior is equivalent to passing `weights=VGG16_BN_Weights.IMAGENET1K_V1`. You can also use `weights=VGG16_BN_Weights.DEFAULT` to get the most up-to-date weights.\n",
      "  warnings.warn(msg)\n",
      "Downloading: \"https://download.pytorch.org/models/vgg16_bn-6c64b313.pth\" to /root/.cache/torch/hub/checkpoints/vgg16_bn-6c64b313.pth\n",
      "100%|██████████| 528M/528M [00:06<00:00, 80.2MB/s]\n"
     ]
    }
   ],
   "source": [
    "model = getModel(\"vgg16_bn\")"
   ]
  },
  {
   "cell_type": "code",
   "execution_count": 3,
   "id": "2d8a59e9",
   "metadata": {
    "execution": {
     "iopub.execute_input": "2024-10-09T02:56:20.823032Z",
     "iopub.status.busy": "2024-10-09T02:56:20.822231Z",
     "iopub.status.idle": "2024-10-09T03:01:24.747415Z",
     "shell.execute_reply": "2024-10-09T03:01:24.746418Z"
    },
    "papermill": {
     "duration": 303.940098,
     "end_time": "2024-10-09T03:01:24.750340",
     "exception": false,
     "start_time": "2024-10-09T02:56:20.810242",
     "status": "completed"
    },
    "tags": []
   },
   "outputs": [],
   "source": [
    "allDL_train = getAllDataLoader(image_size=(224,224), \n",
    "                               path_to_dataset=\"/kaggle/input/vce-dataset/training\", batch_size=32)\n",
    "allDL_val = getAllDataLoader(image_size=(224,224), \n",
    "                               path_to_dataset=\"/kaggle/input/vce-dataset/validation\", batch_size=32)"
   ]
  },
  {
   "cell_type": "code",
   "execution_count": 4,
   "id": "ff91ec02",
   "metadata": {
    "execution": {
     "iopub.execute_input": "2024-10-09T03:01:24.776039Z",
     "iopub.status.busy": "2024-10-09T03:01:24.775219Z",
     "iopub.status.idle": "2024-10-09T03:01:24.781723Z",
     "shell.execute_reply": "2024-10-09T03:01:24.780815Z"
    },
    "papermill": {
     "duration": 0.021555,
     "end_time": "2024-10-09T03:01:24.783941",
     "exception": false,
     "start_time": "2024-10-09T03:01:24.762386",
     "status": "completed"
    },
    "tags": []
   },
   "outputs": [],
   "source": [
    "num_ftrs = model.classifier[6].in_features\n",
    "model.classifier[6] = nn.Linear(num_ftrs, 2)"
   ]
  },
  {
   "cell_type": "code",
   "execution_count": 5,
   "id": "19492b51",
   "metadata": {
    "execution": {
     "iopub.execute_input": "2024-10-09T03:01:24.807186Z",
     "iopub.status.busy": "2024-10-09T03:01:24.806861Z",
     "iopub.status.idle": "2024-10-09T03:01:39.292936Z",
     "shell.execute_reply": "2024-10-09T03:01:39.291875Z"
    },
    "papermill": {
     "duration": 14.50033,
     "end_time": "2024-10-09T03:01:39.295260",
     "exception": false,
     "start_time": "2024-10-09T03:01:24.794930",
     "status": "completed"
    },
    "tags": []
   },
   "outputs": [
    {
     "name": "stderr",
     "output_type": "stream",
     "text": [
      "/tmp/ipykernel_22/2261991416.py:2: FutureWarning: You are using `torch.load` with `weights_only=False` (the current default value), which uses the default pickle module implicitly. It is possible to construct malicious pickle data which will execute arbitrary code during unpickling (See https://github.com/pytorch/pytorch/blob/main/SECURITY.md#untrusted-models for more details). In a future release, the default value for `weights_only` will be flipped to `True`. This limits the functions that could be executed during unpickling. Arbitrary objects will no longer be allowed to be loaded via this mode unless they are explicitly allowlisted by the user via `torch.serialization.add_safe_globals`. We recommend you start setting `weights_only=True` for any use case where you don't have full control of the loaded file. Please open an issue on GitHub for any issues related to this experimental feature.\n",
      "  checkpoint = torch.load(checkpt_path)\n"
     ]
    }
   ],
   "source": [
    "checkpt_path = kagglehub.model_download('bhuvaneshsingla/binaryvce/PyTorch/vgg-binary/1', path='VGGBinary10.pt')\n",
    "checkpoint = torch.load(checkpt_path)"
   ]
  },
  {
   "cell_type": "code",
   "execution_count": 6,
   "id": "6b8b1c55",
   "metadata": {
    "execution": {
     "iopub.execute_input": "2024-10-09T03:01:39.318914Z",
     "iopub.status.busy": "2024-10-09T03:01:39.318573Z",
     "iopub.status.idle": "2024-10-09T03:01:39.322920Z",
     "shell.execute_reply": "2024-10-09T03:01:39.322153Z"
    },
    "papermill": {
     "duration": 0.018196,
     "end_time": "2024-10-09T03:01:39.324781",
     "exception": false,
     "start_time": "2024-10-09T03:01:39.306585",
     "status": "completed"
    },
    "tags": []
   },
   "outputs": [],
   "source": [
    "device = torch.device(\"cuda\" if torch.cuda.is_available() else \"cpu\")"
   ]
  },
  {
   "cell_type": "code",
   "execution_count": 7,
   "id": "dba53440",
   "metadata": {
    "execution": {
     "iopub.execute_input": "2024-10-09T03:01:39.347391Z",
     "iopub.status.busy": "2024-10-09T03:01:39.347100Z",
     "iopub.status.idle": "2024-10-09T03:01:39.352028Z",
     "shell.execute_reply": "2024-10-09T03:01:39.351362Z"
    },
    "papermill": {
     "duration": 0.01825,
     "end_time": "2024-10-09T03:01:39.353873",
     "exception": false,
     "start_time": "2024-10-09T03:01:39.335623",
     "status": "completed"
    },
    "tags": []
   },
   "outputs": [],
   "source": [
    "if torch.cuda.device_count() > 1:\n",
    "    model = nn.DataParallel(model)"
   ]
  },
  {
   "cell_type": "code",
   "execution_count": 8,
   "id": "c76d4d58",
   "metadata": {
    "execution": {
     "iopub.execute_input": "2024-10-09T03:01:39.376737Z",
     "iopub.status.busy": "2024-10-09T03:01:39.376460Z",
     "iopub.status.idle": "2024-10-09T03:01:39.543848Z",
     "shell.execute_reply": "2024-10-09T03:01:39.542883Z"
    },
    "papermill": {
     "duration": 0.181512,
     "end_time": "2024-10-09T03:01:39.546135",
     "exception": false,
     "start_time": "2024-10-09T03:01:39.364623",
     "status": "completed"
    },
    "tags": []
   },
   "outputs": [],
   "source": [
    "model = model.to(device)\n",
    "criterion = nn.CrossEntropyLoss() \n",
    "optimizer = torch.optim.Adam(model.parameters(), lr=0.001)"
   ]
  },
  {
   "cell_type": "code",
   "execution_count": 9,
   "id": "7221dbbf",
   "metadata": {
    "execution": {
     "iopub.execute_input": "2024-10-09T03:01:39.569609Z",
     "iopub.status.busy": "2024-10-09T03:01:39.569279Z",
     "iopub.status.idle": "2024-10-09T03:01:39.578290Z",
     "shell.execute_reply": "2024-10-09T03:01:39.577625Z"
    },
    "papermill": {
     "duration": 0.022877,
     "end_time": "2024-10-09T03:01:39.580269",
     "exception": false,
     "start_time": "2024-10-09T03:01:39.557392",
     "status": "completed"
    },
    "tags": []
   },
   "outputs": [],
   "source": [
    "model.load_state_dict(checkpoint[\"model_state_dict\"])\n",
    "optimizer.load_state_dict(checkpoint[\"optimizer_state_dict\"])"
   ]
  },
  {
   "cell_type": "code",
   "execution_count": 10,
   "id": "33fc1151",
   "metadata": {
    "execution": {
     "iopub.execute_input": "2024-10-09T03:01:39.603128Z",
     "iopub.status.busy": "2024-10-09T03:01:39.602839Z",
     "iopub.status.idle": "2024-10-09T03:01:39.606389Z",
     "shell.execute_reply": "2024-10-09T03:01:39.605566Z"
    },
    "papermill": {
     "duration": 0.01708,
     "end_time": "2024-10-09T03:01:39.608259",
     "exception": false,
     "start_time": "2024-10-09T03:01:39.591179",
     "status": "completed"
    },
    "tags": []
   },
   "outputs": [],
   "source": [
    "# model"
   ]
  },
  {
   "cell_type": "code",
   "execution_count": 11,
   "id": "d5e122e7",
   "metadata": {
    "execution": {
     "iopub.execute_input": "2024-10-09T03:01:39.630751Z",
     "iopub.status.busy": "2024-10-09T03:01:39.630476Z",
     "iopub.status.idle": "2024-10-09T03:01:39.634769Z",
     "shell.execute_reply": "2024-10-09T03:01:39.634008Z"
    },
    "papermill": {
     "duration": 0.017639,
     "end_time": "2024-10-09T03:01:39.636668",
     "exception": false,
     "start_time": "2024-10-09T03:01:39.619029",
     "status": "completed"
    },
    "tags": []
   },
   "outputs": [],
   "source": [
    "model.classifier[6] = nn.Linear(num_ftrs, 10)"
   ]
  },
  {
   "cell_type": "code",
   "execution_count": 12,
   "id": "9801ec1b",
   "metadata": {
    "execution": {
     "iopub.execute_input": "2024-10-09T03:01:39.659064Z",
     "iopub.status.busy": "2024-10-09T03:01:39.658781Z",
     "iopub.status.idle": "2024-10-09T03:01:39.664548Z",
     "shell.execute_reply": "2024-10-09T03:01:39.663853Z"
    },
    "papermill": {
     "duration": 0.019048,
     "end_time": "2024-10-09T03:01:39.666473",
     "exception": false,
     "start_time": "2024-10-09T03:01:39.647425",
     "status": "completed"
    },
    "tags": []
   },
   "outputs": [],
   "source": [
    "model = model.to(device)"
   ]
  },
  {
   "cell_type": "code",
   "execution_count": 13,
   "id": "08eacc37",
   "metadata": {
    "execution": {
     "iopub.execute_input": "2024-10-09T03:01:39.688903Z",
     "iopub.status.busy": "2024-10-09T03:01:39.688621Z",
     "iopub.status.idle": "2024-10-09T03:01:39.692439Z",
     "shell.execute_reply": "2024-10-09T03:01:39.691594Z"
    },
    "papermill": {
     "duration": 0.017484,
     "end_time": "2024-10-09T03:01:39.694579",
     "exception": false,
     "start_time": "2024-10-09T03:01:39.677095",
     "status": "completed"
    },
    "tags": []
   },
   "outputs": [],
   "source": [
    "num_epochs = 10"
   ]
  },
  {
   "cell_type": "code",
   "execution_count": 14,
   "id": "0e64b1a6",
   "metadata": {
    "execution": {
     "iopub.execute_input": "2024-10-09T03:01:39.717106Z",
     "iopub.status.busy": "2024-10-09T03:01:39.716827Z",
     "iopub.status.idle": "2024-10-09T04:18:24.977574Z",
     "shell.execute_reply": "2024-10-09T04:18:24.976499Z"
    },
    "papermill": {
     "duration": 4605.285776,
     "end_time": "2024-10-09T04:18:24.991172",
     "exception": false,
     "start_time": "2024-10-09T03:01:39.705396",
     "status": "completed"
    },
    "tags": []
   },
   "outputs": [
    {
     "name": "stdout",
     "output_type": "stream",
     "text": [
      "Epoch [1/10]\n",
      "Train Loss: 1.3473, Train Accuracy: 0.4963\n",
      "Validation Loss: 1.1843, Validation Accuracy: 0.5597\n",
      "Epoch [2/10]\n",
      "Train Loss: 1.0062, Train Accuracy: 0.6265\n",
      "Validation Loss: 0.9926, Validation Accuracy: 0.6407\n",
      "Epoch [3/10]\n",
      "Train Loss: 0.8497, Train Accuracy: 0.6864\n",
      "Validation Loss: 0.9238, Validation Accuracy: 0.6693\n",
      "Epoch [4/10]\n",
      "Train Loss: 0.7238, Train Accuracy: 0.7391\n",
      "Validation Loss: 0.9083, Validation Accuracy: 0.6963\n",
      "Epoch [5/10]\n",
      "Train Loss: 0.6415, Train Accuracy: 0.7738\n",
      "Validation Loss: 0.9652, Validation Accuracy: 0.6946\n",
      "Epoch [6/10]\n",
      "Train Loss: 0.5589, Train Accuracy: 0.8030\n",
      "Validation Loss: 0.8936, Validation Accuracy: 0.7147\n",
      "Epoch [7/10]\n",
      "Train Loss: 0.4797, Train Accuracy: 0.8326\n",
      "Validation Loss: 1.0288, Validation Accuracy: 0.6925\n",
      "Epoch [8/10]\n",
      "Train Loss: 0.3960, Train Accuracy: 0.8638\n",
      "Validation Loss: 0.9735, Validation Accuracy: 0.7250\n",
      "Epoch [9/10]\n",
      "Train Loss: 0.3441, Train Accuracy: 0.8842\n",
      "Validation Loss: 1.0238, Validation Accuracy: 0.7300\n",
      "Epoch [10/10]\n",
      "Train Loss: 0.2987, Train Accuracy: 0.9011\n",
      "Validation Loss: 1.0503, Validation Accuracy: 0.7300\n"
     ]
    }
   ],
   "source": [
    "for epoch in range(num_epochs):\n",
    "    model.train()\n",
    "    \n",
    "    running_loss = 0.0\n",
    "    correct_predictions = 0\n",
    "    total_samples  =0\n",
    "    \n",
    "    for inputs, labels in allDL_train:\n",
    "        inputs, labels = inputs.to(device), labels.to(device)\n",
    "        \n",
    "        optimizer.zero_grad()\n",
    "        outputs = model(inputs)\n",
    "        loss = criterion(outputs, labels)\n",
    "        loss.backward()\n",
    "        optimizer.step()\n",
    "        \n",
    "        running_loss += loss.item() * inputs.size(0)\n",
    "        _, predicted = torch.max(outputs, 1)\n",
    "        correct_predictions += (predicted == labels).sum().item()\n",
    "        total_samples += labels.size(0)\n",
    "        \n",
    "    train_loss = running_loss / total_samples\n",
    "    train_accuracy = correct_predictions / total_samples\n",
    "    \n",
    "    model.eval()\n",
    "    val_loss = 0.0\n",
    "    correct_val_predictions = 0\n",
    "    total_val_samples = 0\n",
    "    \n",
    "    with torch.no_grad():\n",
    "        for val_inputs, val_labels in allDL_val:\n",
    "            val_inputs, val_labels = val_inputs.to(device), val_labels.to(device)\n",
    "            \n",
    "            val_outputs = model(val_inputs)\n",
    "            loss = criterion(val_outputs, val_labels)\n",
    "            \n",
    "            val_loss += loss.item() * val_inputs.size(0)\n",
    "            _, val_predicted = torch.max(val_outputs, 1)\n",
    "            correct_val_predictions += (val_predicted == val_labels).sum().item()\n",
    "            total_val_samples += val_labels.size(0)\n",
    "    \n",
    "    val_loss /= total_val_samples\n",
    "    val_accuracy = correct_val_predictions / total_val_samples\n",
    "    \n",
    "    # Print epoch stats\n",
    "    print(f'Epoch [{epoch+1}/{num_epochs}]')\n",
    "    print(f'Train Loss: {train_loss:.4f}, Train Accuracy: {train_accuracy:.4f}')\n",
    "    print(f'Validation Loss: {val_loss:.4f}, Validation Accuracy: {val_accuracy:.4f}')"
   ]
  },
  {
   "cell_type": "code",
   "execution_count": 15,
   "id": "b1042fa4",
   "metadata": {
    "execution": {
     "iopub.execute_input": "2024-10-09T04:18:25.016254Z",
     "iopub.status.busy": "2024-10-09T04:18:25.015885Z",
     "iopub.status.idle": "2024-10-09T04:18:27.959112Z",
     "shell.execute_reply": "2024-10-09T04:18:27.958343Z"
    },
    "papermill": {
     "duration": 2.95826,
     "end_time": "2024-10-09T04:18:27.961528",
     "exception": false,
     "start_time": "2024-10-09T04:18:25.003268",
     "status": "completed"
    },
    "tags": []
   },
   "outputs": [],
   "source": [
    "PATH = \"VGG_All10.pt\"\n",
    "torch.save({\n",
    "            'epoch': num_epochs-1,\n",
    "            'model_state_dict': model.state_dict(),\n",
    "            'optimizer_state_dict': optimizer.state_dict()\n",
    "            }, PATH)"
   ]
  },
  {
   "cell_type": "code",
   "execution_count": 16,
   "id": "66bf5d09",
   "metadata": {
    "execution": {
     "iopub.execute_input": "2024-10-09T04:18:27.986359Z",
     "iopub.status.busy": "2024-10-09T04:18:27.986041Z",
     "iopub.status.idle": "2024-10-09T04:18:27.992672Z",
     "shell.execute_reply": "2024-10-09T04:18:27.991766Z"
    },
    "papermill": {
     "duration": 0.021018,
     "end_time": "2024-10-09T04:18:27.994611",
     "exception": false,
     "start_time": "2024-10-09T04:18:27.973593",
     "status": "completed"
    },
    "tags": []
   },
   "outputs": [],
   "source": [
    "def get_predictions_and_labels(model, dataloader):\n",
    "    model.eval()  # Set the model to evaluation mode\n",
    "    all_preds = []\n",
    "    all_labels = []\n",
    "    \n",
    "    with torch.no_grad():  # Disable gradient calculation\n",
    "        for images, labels in dataloader:\n",
    "            images = images.to(device)  # Move images to the same device as model\n",
    "            labels = labels.to(device)  # Move labels to the same device as model\n",
    "            outputs = model(images)\n",
    "            _, preds = torch.max(outputs, 1)  # Get the predicted class\n",
    "            all_preds.extend(preds.cpu().numpy())  # Collect predictions\n",
    "            all_labels.extend(labels.cpu().numpy())  # Collect true labels\n",
    "\n",
    "    return np.array(all_preds), np.array(all_labels)"
   ]
  },
  {
   "cell_type": "code",
   "execution_count": 17,
   "id": "fa575812",
   "metadata": {
    "execution": {
     "iopub.execute_input": "2024-10-09T04:18:28.019093Z",
     "iopub.status.busy": "2024-10-09T04:18:28.018461Z",
     "iopub.status.idle": "2024-10-09T04:19:36.845044Z",
     "shell.execute_reply": "2024-10-09T04:19:36.844086Z"
    },
    "papermill": {
     "duration": 68.854473,
     "end_time": "2024-10-09T04:19:36.860586",
     "exception": false,
     "start_time": "2024-10-09T04:18:28.006113",
     "status": "completed"
    },
    "tags": []
   },
   "outputs": [
    {
     "data": {
      "image/png": "[encoded data removed]",
      "text/plain": [
       "<Figure size 600x400 with 2 Axes>"
      ]
     },
     "metadata": {},
     "output_type": "display_data"
    }
   ],
   "source": [
    "# Get the predictions and true labels for the test set\n",
    "preds, true_labels = get_predictions_and_labels(model, allDL_val)\n",
    "\n",
    "# Compute the confusion matrix\n",
    "conf_matrix = confusion_matrix(true_labels, preds)\n",
    "class_names = [f'Class {i}' for i in range(10)]\n",
    "# Plot the confusion matrix using seaborn\n",
    "plt.figure(figsize=(6, 4))\n",
    "sns.heatmap(conf_matrix, annot=True, fmt=\"d\", cmap=\"Blues\", xticklabels=class_names, yticklabels=class_names)\n",
    "plt.xlabel('Predicted Label')\n",
    "plt.ylabel('True Label')\n",
    "plt.title('Confusion Matrix')\n",
    "plt.show()"
   ]
  },
  {
   "cell_type": "code",
   "execution_count": null,
   "id": "9ed19c86",
   "metadata": {
    "papermill": {
     "duration": 0.012565,
     "end_time": "2024-10-09T04:19:36.885831",
     "exception": false,
     "start_time": "2024-10-09T04:19:36.873266",
     "status": "completed"
    },
    "tags": []
   },
   "outputs": [],
   "source": []
  },
  {
   "cell_type": "code",
   "execution_count": null,
   "id": "e3f79805",
   "metadata": {
    "papermill": {
     "duration": 0.012282,
     "end_time": "2024-10-09T04:19:36.911545",
     "exception": false,
     "start_time": "2024-10-09T04:19:36.899263",
     "status": "completed"
    },
    "tags": []
   },
   "outputs": [],
   "source": []
  }
 ],
 "metadata": {
  "kaggle": {
   "accelerator": "gpu",
   "dataSources": [
    {
     "datasetId": 5606571,
     "sourceId": 9315744,
     "sourceType": "datasetVersion"
    },
    {
     "sourceId": 200068561,
     "sourceType": "kernelVersion"
    },
    {
     "sourceId": 200073270,
     "sourceType": "kernelVersion"
    },
    {
     "isSourceIdPinned": true,
     "modelId": 133547,
     "modelInstanceId": 110732,
     "sourceId": 131212,
     "sourceType": "modelInstanceVersion"
    }
   ],
   "dockerImageVersionId": 30787,
   "isGpuEnabled": true,
   "isInternetEnabled": true,
   "language": "python",
   "sourceType": "notebook"
  },
  "kernelspec": {
   "display_name": "Python 3",
   "language": "python",
   "name": "python3"
  },
  "language_info": {
   "codemirror_mode": {
    "name": "ipython",
    "version": 3
   },
   "file_extension": ".py",
   "mimetype": "text/x-python",
   "name": "python",
   "nbconvert_exporter": "python",
   "pygments_lexer": "ipython3",
   "version": "3.10.14"
  },
  "papermill": {
   "default_parameters": {},
   "duration": 5016.246774,
   "end_time": "2024-10-09T04:19:38.446597",
   "environment_variables": {},
   "exception": null,
   "input_path": "__notebook__.ipynb",
   "output_path": "__notebook__.ipynb",
   "parameters": {},
   "start_time": "2024-10-09T02:56:02.199823",
   "version": "2.6.0"
  }
 },
 "nbformat": 4,
 "nbformat_minor": 5
}
