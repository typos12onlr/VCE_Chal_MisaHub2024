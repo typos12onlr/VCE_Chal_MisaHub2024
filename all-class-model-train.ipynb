{
 "cells": [
  {
   "cell_type": "code",
   "execution_count": 1,
   "id": "abe925ff",
   "metadata": {
    "_cell_guid": "cf87988d-dab7-4248-b675-c6e83478a04f",
    "_uuid": "50dffe7a-b8be-4eaa-8108-771d38a487f3",
    "collapsed": false,
    "execution": {
     "iopub.execute_input": "2024-10-08T14:28:41.455034Z",
     "iopub.status.busy": "2024-10-08T14:28:41.454508Z",
     "iopub.status.idle": "2024-10-08T14:28:51.693475Z",
     "shell.execute_reply": "2024-10-08T14:28:51.692405Z"
    },
    "jupyter": {
     "outputs_hidden": false
    },
    "papermill": {
     "duration": 10.249665,
     "end_time": "2024-10-08T14:28:51.696080",
     "exception": false,
     "start_time": "2024-10-08T14:28:41.446415",
     "status": "completed"
    },
    "tags": []
   },
   "outputs": [
    {
     "name": "stderr",
     "output_type": "stream",
     "text": [
      "Downloading: \"https://download.pytorch.org/models/resnet50-0676ba61.pth\" to /root/.cache/torch/hub/checkpoints/resnet50-0676ba61.pth\n",
      "100%|██████████| 97.8M/97.8M [00:00<00:00, 163MB/s]\n"
     ]
    }
   ],
   "source": [
    "import torch\n",
    "import torch.nn as nn\n",
    "import torchvision\n",
    "from model_file import model\n",
    "from vce_dataloader import getBinaryDataLoader, getAllDataLoader, visualize_batch\n",
    "from sklearn.metrics import confusion_matrix\n",
    "import matplotlib.pyplot as plt\n",
    "import seaborn as sns\n",
    "import numpy as np\n",
    "import kagglehub"
   ]
  },
  {
   "cell_type": "code",
   "execution_count": 2,
   "id": "2783804e",
   "metadata": {
    "execution": {
     "iopub.execute_input": "2024-10-08T14:28:51.712369Z",
     "iopub.status.busy": "2024-10-08T14:28:51.711813Z",
     "iopub.status.idle": "2024-10-08T14:33:21.534884Z",
     "shell.execute_reply": "2024-10-08T14:33:21.533867Z"
    },
    "papermill": {
     "duration": 269.834148,
     "end_time": "2024-10-08T14:33:21.537663",
     "exception": false,
     "start_time": "2024-10-08T14:28:51.703515",
     "status": "completed"
    },
    "tags": []
   },
   "outputs": [],
   "source": [
    "allDL_train = getAllDataLoader(image_size=(224,224), \n",
    "                               path_to_dataset=\"/kaggle/input/vce-dataset/training\", batch_size=32)\n",
    "allDL_val = getAllDataLoader(image_size=(224,224), \n",
    "                               path_to_dataset=\"/kaggle/input/vce-dataset/validation\", batch_size=32)"
   ]
  },
  {
   "cell_type": "code",
   "execution_count": 3,
   "id": "927623cc",
   "metadata": {
    "execution": {
     "iopub.execute_input": "2024-10-08T14:33:21.552859Z",
     "iopub.status.busy": "2024-10-08T14:33:21.552481Z",
     "iopub.status.idle": "2024-10-08T14:33:21.558710Z",
     "shell.execute_reply": "2024-10-08T14:33:21.557785Z"
    },
    "papermill": {
     "duration": 0.016536,
     "end_time": "2024-10-08T14:33:21.561004",
     "exception": false,
     "start_time": "2024-10-08T14:33:21.544468",
     "status": "completed"
    },
    "tags": []
   },
   "outputs": [],
   "source": [
    "num_ftrs = model.fc.in_features\n",
    "model.fc = nn.Linear(num_ftrs, 2)"
   ]
  },
  {
   "cell_type": "code",
   "execution_count": 4,
   "id": "8f7304db",
   "metadata": {
    "execution": {
     "iopub.execute_input": "2024-10-08T14:33:21.577060Z",
     "iopub.status.busy": "2024-10-08T14:33:21.576645Z",
     "iopub.status.idle": "2024-10-08T14:33:24.889968Z",
     "shell.execute_reply": "2024-10-08T14:33:24.889110Z"
    },
    "papermill": {
     "duration": 3.324767,
     "end_time": "2024-10-08T14:33:24.892281",
     "exception": false,
     "start_time": "2024-10-08T14:33:21.567514",
     "status": "completed"
    },
    "tags": []
   },
   "outputs": [
    {
     "name": "stderr",
     "output_type": "stream",
     "text": [
      "/tmp/ipykernel_23/2672714848.py:2: FutureWarning: You are using `torch.load` with `weights_only=False` (the current default value), which uses the default pickle module implicitly. It is possible to construct malicious pickle data which will execute arbitrary code during unpickling (See https://github.com/pytorch/pytorch/blob/main/SECURITY.md#untrusted-models for more details). In a future release, the default value for `weights_only` will be flipped to `True`. This limits the functions that could be executed during unpickling. Arbitrary objects will no longer be allowed to be loaded via this mode unless they are explicitly allowlisted by the user via `torch.serialization.add_safe_globals`. We recommend you start setting `weights_only=True` for any use case where you don't have full control of the loaded file. Please open an issue on GitHub for any issues related to this experimental feature.\n",
      "  checkpoint = torch.load(checkpt_path)\n"
     ]
    }
   ],
   "source": [
    "checkpt_path = kagglehub.model_download('bhuvaneshsingla/binaryvce/PyTorch/1to20/1', path='Binary20.pt')\n",
    "checkpoint = torch.load(checkpt_path)"
   ]
  },
  {
   "cell_type": "code",
   "execution_count": 5,
   "id": "40cd02a2",
   "metadata": {
    "execution": {
     "iopub.execute_input": "2024-10-08T14:33:24.906624Z",
     "iopub.status.busy": "2024-10-08T14:33:24.906066Z",
     "iopub.status.idle": "2024-10-08T14:33:24.910722Z",
     "shell.execute_reply": "2024-10-08T14:33:24.909791Z"
    },
    "papermill": {
     "duration": 0.01394,
     "end_time": "2024-10-08T14:33:24.912587",
     "exception": false,
     "start_time": "2024-10-08T14:33:24.898647",
     "status": "completed"
    },
    "tags": []
   },
   "outputs": [],
   "source": [
    "device = torch.device(\"cuda\" if torch.cuda.is_available() else \"cpu\")"
   ]
  },
  {
   "cell_type": "code",
   "execution_count": 6,
   "id": "ccc0b5c3",
   "metadata": {
    "execution": {
     "iopub.execute_input": "2024-10-08T14:33:24.926889Z",
     "iopub.status.busy": "2024-10-08T14:33:24.926037Z",
     "iopub.status.idle": "2024-10-08T14:33:24.930698Z",
     "shell.execute_reply": "2024-10-08T14:33:24.929982Z"
    },
    "papermill": {
     "duration": 0.01397,
     "end_time": "2024-10-08T14:33:24.932658",
     "exception": false,
     "start_time": "2024-10-08T14:33:24.918688",
     "status": "completed"
    },
    "tags": []
   },
   "outputs": [],
   "source": [
    "if torch.cuda.device_count() > 1:\n",
    "    model = nn.DataParallel(model)"
   ]
  },
  {
   "cell_type": "code",
   "execution_count": 7,
   "id": "8e974b9f",
   "metadata": {
    "execution": {
     "iopub.execute_input": "2024-10-08T14:33:24.946171Z",
     "iopub.status.busy": "2024-10-08T14:33:24.945834Z",
     "iopub.status.idle": "2024-10-08T14:33:24.995401Z",
     "shell.execute_reply": "2024-10-08T14:33:24.994383Z"
    },
    "papermill": {
     "duration": 0.059042,
     "end_time": "2024-10-08T14:33:24.997754",
     "exception": false,
     "start_time": "2024-10-08T14:33:24.938712",
     "status": "completed"
    },
    "tags": []
   },
   "outputs": [],
   "source": [
    "model = model.to(device)\n",
    "criterion = nn.CrossEntropyLoss() \n",
    "optimizer = torch.optim.Adam(model.parameters(), lr=0.001)"
   ]
  },
  {
   "cell_type": "code",
   "execution_count": 8,
   "id": "8747e8e9",
   "metadata": {
    "execution": {
     "iopub.execute_input": "2024-10-08T14:33:25.012159Z",
     "iopub.status.busy": "2024-10-08T14:33:25.011812Z",
     "iopub.status.idle": "2024-10-08T14:33:25.031092Z",
     "shell.execute_reply": "2024-10-08T14:33:25.030349Z"
    },
    "papermill": {
     "duration": 0.028694,
     "end_time": "2024-10-08T14:33:25.033140",
     "exception": false,
     "start_time": "2024-10-08T14:33:25.004446",
     "status": "completed"
    },
    "tags": []
   },
   "outputs": [],
   "source": [
    "model.load_state_dict(checkpoint[\"model_state_dict\"])\n",
    "optimizer.load_state_dict(checkpoint[\"optimizer_state_dict\"])"
   ]
  },
  {
   "cell_type": "code",
   "execution_count": 9,
   "id": "63660c89",
   "metadata": {
    "execution": {
     "iopub.execute_input": "2024-10-08T14:33:25.046721Z",
     "iopub.status.busy": "2024-10-08T14:33:25.046387Z",
     "iopub.status.idle": "2024-10-08T14:33:25.051447Z",
     "shell.execute_reply": "2024-10-08T14:33:25.050701Z"
    },
    "papermill": {
     "duration": 0.014101,
     "end_time": "2024-10-08T14:33:25.053376",
     "exception": false,
     "start_time": "2024-10-08T14:33:25.039275",
     "status": "completed"
    },
    "tags": []
   },
   "outputs": [],
   "source": [
    "model.module.fc = nn.Linear(num_ftrs, 10)"
   ]
  },
  {
   "cell_type": "code",
   "execution_count": 10,
   "id": "b2da446f",
   "metadata": {
    "execution": {
     "iopub.execute_input": "2024-10-08T14:33:25.066939Z",
     "iopub.status.busy": "2024-10-08T14:33:25.066615Z",
     "iopub.status.idle": "2024-10-08T14:33:25.074444Z",
     "shell.execute_reply": "2024-10-08T14:33:25.073787Z"
    },
    "papermill": {
     "duration": 0.016711,
     "end_time": "2024-10-08T14:33:25.076301",
     "exception": false,
     "start_time": "2024-10-08T14:33:25.059590",
     "status": "completed"
    },
    "tags": []
   },
   "outputs": [],
   "source": [
    "model = model.to(device)"
   ]
  },
  {
   "cell_type": "code",
   "execution_count": 11,
   "id": "bca56735",
   "metadata": {
    "execution": {
     "iopub.execute_input": "2024-10-08T14:33:25.089578Z",
     "iopub.status.busy": "2024-10-08T14:33:25.089288Z",
     "iopub.status.idle": "2024-10-08T14:33:25.093324Z",
     "shell.execute_reply": "2024-10-08T14:33:25.092480Z"
    },
    "papermill": {
     "duration": 0.012749,
     "end_time": "2024-10-08T14:33:25.095135",
     "exception": false,
     "start_time": "2024-10-08T14:33:25.082386",
     "status": "completed"
    },
    "tags": []
   },
   "outputs": [],
   "source": [
    "num_epochs = 10"
   ]
  },
  {
   "cell_type": "code",
   "execution_count": 12,
   "id": "604996ff",
   "metadata": {
    "execution": {
     "iopub.execute_input": "2024-10-08T14:33:25.108577Z",
     "iopub.status.busy": "2024-10-08T14:33:25.108279Z",
     "iopub.status.idle": "2024-10-08T15:33:03.619870Z",
     "shell.execute_reply": "2024-10-08T15:33:03.618729Z"
    },
    "papermill": {
     "duration": 3578.528408,
     "end_time": "2024-10-08T15:33:03.629472",
     "exception": false,
     "start_time": "2024-10-08T14:33:25.101064",
     "status": "completed"
    },
    "tags": []
   },
   "outputs": [
    {
     "name": "stderr",
     "output_type": "stream",
     "text": [
      "/opt/conda/lib/python3.10/site-packages/torch/nn/parallel/parallel_apply.py:79: FutureWarning: `torch.cuda.amp.autocast(args...)` is deprecated. Please use `torch.amp.autocast('cuda', args...)` instead.\n",
      "  with torch.cuda.device(device), torch.cuda.stream(stream), autocast(enabled=autocast_enabled):\n"
     ]
    },
    {
     "name": "stdout",
     "output_type": "stream",
     "text": [
      "Epoch [1/10]\n",
      "Train Loss: 0.8381, Train Accuracy: 0.7139\n",
      "Validation Loss: 0.7707, Validation Accuracy: 0.7455\n",
      "Epoch [2/10]\n",
      "Train Loss: 0.3858, Train Accuracy: 0.8767\n",
      "Validation Loss: 0.9417, Validation Accuracy: 0.7192\n",
      "Epoch [3/10]\n",
      "Train Loss: 0.2494, Train Accuracy: 0.9247\n",
      "Validation Loss: 1.0415, Validation Accuracy: 0.7259\n",
      "Epoch [4/10]\n",
      "Train Loss: 0.1882, Train Accuracy: 0.9460\n",
      "Validation Loss: 1.0354, Validation Accuracy: 0.7286\n",
      "Epoch [5/10]\n",
      "Train Loss: 0.1667, Train Accuracy: 0.9535\n",
      "Validation Loss: 1.1733, Validation Accuracy: 0.7070\n",
      "Epoch [6/10]\n",
      "Train Loss: 0.1439, Train Accuracy: 0.9593\n",
      "Validation Loss: 1.0857, Validation Accuracy: 0.7292\n",
      "Epoch [7/10]\n",
      "Train Loss: 0.1282, Train Accuracy: 0.9638\n",
      "Validation Loss: 1.1063, Validation Accuracy: 0.7292\n",
      "Epoch [8/10]\n",
      "Train Loss: 0.1221, Train Accuracy: 0.9651\n",
      "Validation Loss: 1.3414, Validation Accuracy: 0.6909\n",
      "Epoch [9/10]\n",
      "Train Loss: 0.1103, Train Accuracy: 0.9685\n",
      "Validation Loss: 1.0926, Validation Accuracy: 0.7356\n",
      "Epoch [10/10]\n",
      "Train Loss: 0.1018, Train Accuracy: 0.9706\n",
      "Validation Loss: 1.2588, Validation Accuracy: 0.7165\n"
     ]
    }
   ],
   "source": [
    "for epoch in range(num_epochs):\n",
    "    model.train()\n",
    "    \n",
    "    running_loss = 0.0\n",
    "    correct_predictions = 0\n",
    "    total_samples  =0\n",
    "    \n",
    "    for inputs, labels in allDL_train:\n",
    "        inputs, labels = inputs.to(device), labels.to(device)\n",
    "        \n",
    "        optimizer.zero_grad()\n",
    "        outputs = model(inputs)\n",
    "        loss = criterion(outputs, labels)\n",
    "        loss.backward()\n",
    "        optimizer.step()\n",
    "        \n",
    "        running_loss += loss.item() * inputs.size(0)\n",
    "        _, predicted = torch.max(outputs, 1)\n",
    "        correct_predictions += (predicted == labels).sum().item()\n",
    "        total_samples += labels.size(0)\n",
    "        \n",
    "    train_loss = running_loss / total_samples\n",
    "    train_accuracy = correct_predictions / total_samples\n",
    "    \n",
    "    model.eval()\n",
    "    val_loss = 0.0\n",
    "    correct_val_predictions = 0\n",
    "    total_val_samples = 0\n",
    "    \n",
    "    with torch.no_grad():\n",
    "        for val_inputs, val_labels in allDL_val:\n",
    "            val_inputs, val_labels = val_inputs.to(device), val_labels.to(device)\n",
    "            \n",
    "            val_outputs = model(val_inputs)\n",
    "            loss = criterion(val_outputs, val_labels)\n",
    "            \n",
    "            val_loss += loss.item() * val_inputs.size(0)\n",
    "            _, val_predicted = torch.max(val_outputs, 1)\n",
    "            correct_val_predictions += (val_predicted == val_labels).sum().item()\n",
    "            total_val_samples += val_labels.size(0)\n",
    "    \n",
    "    val_loss /= total_val_samples\n",
    "    val_accuracy = correct_val_predictions / total_val_samples\n",
    "    \n",
    "    # Print epoch stats\n",
    "    print(f'Epoch [{epoch+1}/{num_epochs}]')\n",
    "    print(f'Train Loss: {train_loss:.4f}, Train Accuracy: {train_accuracy:.4f}')\n",
    "    print(f'Validation Loss: {val_loss:.4f}, Validation Accuracy: {val_accuracy:.4f}')"
   ]
  },
  {
   "cell_type": "code",
   "execution_count": 13,
   "id": "b161ee95",
   "metadata": {
    "execution": {
     "iopub.execute_input": "2024-10-08T15:33:03.646262Z",
     "iopub.status.busy": "2024-10-08T15:33:03.645496Z",
     "iopub.status.idle": "2024-10-08T15:33:04.157543Z",
     "shell.execute_reply": "2024-10-08T15:33:04.156433Z"
    },
    "papermill": {
     "duration": 0.523209,
     "end_time": "2024-10-08T15:33:04.160093",
     "exception": false,
     "start_time": "2024-10-08T15:33:03.636884",
     "status": "completed"
    },
    "tags": []
   },
   "outputs": [],
   "source": [
    "PATH = \"All10.pt\"\n",
    "torch.save({\n",
    "            'epoch': num_epochs-1,\n",
    "            'model_state_dict': model.module.state_dict(),\n",
    "            'optimizer_state_dict': optimizer.state_dict()\n",
    "            }, PATH)"
   ]
  },
  {
   "cell_type": "code",
   "execution_count": 14,
   "id": "50db6d0c",
   "metadata": {
    "execution": {
     "iopub.execute_input": "2024-10-08T15:33:04.177731Z",
     "iopub.status.busy": "2024-10-08T15:33:04.176879Z",
     "iopub.status.idle": "2024-10-08T15:33:04.184227Z",
     "shell.execute_reply": "2024-10-08T15:33:04.183256Z"
    },
    "papermill": {
     "duration": 0.01842,
     "end_time": "2024-10-08T15:33:04.186305",
     "exception": false,
     "start_time": "2024-10-08T15:33:04.167885",
     "status": "completed"
    },
    "tags": []
   },
   "outputs": [],
   "source": [
    "def get_predictions_and_labels(model, dataloader):\n",
    "    model.eval()  # Set the model to evaluation mode\n",
    "    all_preds = []\n",
    "    all_labels = []\n",
    "    \n",
    "    with torch.no_grad():  # Disable gradient calculation\n",
    "        for images, labels in dataloader:\n",
    "            images = images.to(device)  # Move images to the same device as model\n",
    "            labels = labels.to(device)  # Move labels to the same device as model\n",
    "            outputs = model(images)\n",
    "            _, preds = torch.max(outputs, 1)  # Get the predicted class\n",
    "            all_preds.extend(preds.cpu().numpy())  # Collect predictions\n",
    "            all_labels.extend(labels.cpu().numpy())  # Collect true labels\n",
    "\n",
    "    return np.array(all_preds), np.array(all_labels)"
   ]
  },
  {
   "cell_type": "code",
   "execution_count": 15,
   "id": "0cccb6b8",
   "metadata": {
    "execution": {
     "iopub.execute_input": "2024-10-08T15:33:04.202693Z",
     "iopub.status.busy": "2024-10-08T15:33:04.202335Z",
     "iopub.status.idle": "2024-10-08T15:34:04.473627Z",
     "shell.execute_reply": "2024-10-08T15:34:04.472564Z"
    },
    "papermill": {
     "duration": 60.295716,
     "end_time": "2024-10-08T15:34:04.489715",
     "exception": false,
     "start_time": "2024-10-08T15:33:04.193999",
     "status": "completed"
    },
    "tags": []
   },
   "outputs": [
    {
     "data": {
      "image/png": "[encoded data removed]",
      "text/plain": [
       "<Figure size 600x400 with 2 Axes>"
      ]
     },
     "metadata": {},
     "output_type": "display_data"
    }
   ],
   "source": [
    "# Get the predictions and true labels for the test set\n",
    "preds, true_labels = get_predictions_and_labels(model, allDL_val)\n",
    "\n",
    "# Compute the confusion matrix\n",
    "conf_matrix = confusion_matrix(true_labels, preds)\n",
    "class_names = [f'Class {i}' for i in range(10)]\n",
    "# Plot the confusion matrix using seaborn\n",
    "plt.figure(figsize=(6, 4))\n",
    "sns.heatmap(conf_matrix, annot=True, fmt=\"d\", cmap=\"Blues\", xticklabels=class_names, yticklabels=class_names)\n",
    "plt.xlabel('Predicted Label')\n",
    "plt.ylabel('True Label')\n",
    "plt.title('Confusion Matrix')\n",
    "plt.show()"
   ]
  },
  {
   "cell_type": "code",
   "execution_count": null,
   "id": "a2bdbbc8",
   "metadata": {
    "papermill": {
     "duration": 0.008016,
     "end_time": "2024-10-08T15:34:04.507448",
     "exception": false,
     "start_time": "2024-10-08T15:34:04.499432",
     "status": "completed"
    },
    "tags": []
   },
   "outputs": [],
   "source": []
  },
  {
   "cell_type": "code",
   "execution_count": null,
   "id": "200bd812",
   "metadata": {
    "papermill": {
     "duration": 0.007912,
     "end_time": "2024-10-08T15:34:04.523462",
     "exception": false,
     "start_time": "2024-10-08T15:34:04.515550",
     "status": "completed"
    },
    "tags": []
   },
   "outputs": [],
   "source": []
  }
 ],
 "metadata": {
  "kaggle": {
   "accelerator": "nvidiaTeslaT4",
   "dataSources": [
    {
     "datasetId": 5606571,
     "sourceId": 9315744,
     "sourceType": "datasetVersion"
    },
    {
     "sourceId": 199965555,
     "sourceType": "kernelVersion"
    },
    {
     "sourceId": 199982445,
     "sourceType": "kernelVersion"
    },
    {
     "isSourceIdPinned": true,
     "modelId": 133547,
     "modelInstanceId": 109538,
     "sourceId": 129990,
     "sourceType": "modelInstanceVersion"
    }
   ],
   "dockerImageVersionId": 30787,
   "isGpuEnabled": true,
   "isInternetEnabled": true,
   "language": "python",
   "sourceType": "notebook"
  },
  "kernelspec": {
   "display_name": "Python 3",
   "language": "python",
   "name": "python3"
  },
  "language_info": {
   "codemirror_mode": {
    "name": "ipython",
    "version": 3
   },
   "file_extension": ".py",
   "mimetype": "text/x-python",
   "name": "python",
   "nbconvert_exporter": "python",
   "pygments_lexer": "ipython3",
   "version": "3.10.14"
  },
  "papermill": {
   "default_parameters": {},
   "duration": 3928.377138,
   "end_time": "2024-10-08T15:34:06.658315",
   "environment_variables": {},
   "exception": null,
   "input_path": "__notebook__.ipynb",
   "output_path": "__notebook__.ipynb",
   "parameters": {},
   "start_time": "2024-10-08T14:28:38.281177",
   "version": "2.6.0"
  }
 },
 "nbformat": 4,
 "nbformat_minor": 5
}
