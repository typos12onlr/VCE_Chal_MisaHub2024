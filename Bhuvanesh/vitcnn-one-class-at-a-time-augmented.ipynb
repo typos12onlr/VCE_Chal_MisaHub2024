{
 "cells": [
  {
   "cell_type": "code",
   "execution_count": 1,
   "id": "69c5659a",
   "metadata": {
    "execution": {
     "iopub.execute_input": "2024-10-21T07:35:05.519832Z",
     "iopub.status.busy": "2024-10-21T07:35:05.519446Z",
     "iopub.status.idle": "2024-10-21T07:35:18.670974Z",
     "shell.execute_reply": "2024-10-21T07:35:18.670028Z"
    },
    "papermill": {
     "duration": 13.182082,
     "end_time": "2024-10-21T07:35:18.673308",
     "exception": false,
     "start_time": "2024-10-21T07:35:05.491226",
     "status": "completed"
    },
    "tags": []
   },
   "outputs": [
    {
     "name": "stdout",
     "output_type": "stream",
     "text": [
      "Collecting vit-pytorch\r\n",
      "  Downloading vit_pytorch-1.8.5-py3-none-any.whl.metadata (68 kB)\r\n",
      "\u001b[2K     \u001b[90m━━━━━━━━━━━━━━━━━━━━━━━━━━━━━━━━━━━━━━━━\u001b[0m \u001b[32m68.5/68.5 kB\u001b[0m \u001b[31m2.7 MB/s\u001b[0m eta \u001b[36m0:00:00\u001b[0m\r\n",
      "\u001b[?25hCollecting einops>=0.7.0 (from vit-pytorch)\r\n",
      "  Downloading einops-0.8.0-py3-none-any.whl.metadata (12 kB)\r\n",
      "Requirement already satisfied: torch>=1.10 in /opt/conda/lib/python3.10/site-packages (from vit-pytorch) (2.4.0)\r\n",
      "Requirement already satisfied: torchvision in /opt/conda/lib/python3.10/site-packages (from vit-pytorch) (0.19.0)\r\n",
      "Requirement already satisfied: filelock in /opt/conda/lib/python3.10/site-packages (from torch>=1.10->vit-pytorch) (3.15.1)\r\n",
      "Requirement already satisfied: typing-extensions>=4.8.0 in /opt/conda/lib/python3.10/site-packages (from torch>=1.10->vit-pytorch) (4.12.2)\r\n",
      "Requirement already satisfied: sympy in /opt/conda/lib/python3.10/site-packages (from torch>=1.10->vit-pytorch) (1.13.3)\r\n",
      "Requirement already satisfied: networkx in /opt/conda/lib/python3.10/site-packages (from torch>=1.10->vit-pytorch) (3.3)\r\n",
      "Requirement already satisfied: jinja2 in /opt/conda/lib/python3.10/site-packages (from torch>=1.10->vit-pytorch) (3.1.4)\r\n",
      "Requirement already satisfied: fsspec in /opt/conda/lib/python3.10/site-packages (from torch>=1.10->vit-pytorch) (2024.6.1)\r\n",
      "Requirement already satisfied: numpy in /opt/conda/lib/python3.10/site-packages (from torchvision->vit-pytorch) (1.26.4)\r\n",
      "Requirement already satisfied: pillow!=8.3.*,>=5.3.0 in /opt/conda/lib/python3.10/site-packages (from torchvision->vit-pytorch) (10.3.0)\r\n",
      "Requirement already satisfied: MarkupSafe>=2.0 in /opt/conda/lib/python3.10/site-packages (from jinja2->torch>=1.10->vit-pytorch) (2.1.5)\r\n",
      "Requirement already satisfied: mpmath<1.4,>=1.1.0 in /opt/conda/lib/python3.10/site-packages (from sympy->torch>=1.10->vit-pytorch) (1.3.0)\r\n",
      "Downloading vit_pytorch-1.8.5-py3-none-any.whl (133 kB)\r\n",
      "\u001b[2K   \u001b[90m━━━━━━━━━━━━━━━━━━━━━━━━━━━━━━━━━━━━━━━━\u001b[0m \u001b[32m133.9/133.9 kB\u001b[0m \u001b[31m7.6 MB/s\u001b[0m eta \u001b[36m0:00:00\u001b[0m\r\n",
      "\u001b[?25hDownloading einops-0.8.0-py3-none-any.whl (43 kB)\r\n",
      "\u001b[2K   \u001b[90m━━━━━━━━━━━━━━━━━━━━━━━━━━━━━━━━━━━━━━━━\u001b[0m \u001b[32m43.2/43.2 kB\u001b[0m \u001b[31m3.1 MB/s\u001b[0m eta \u001b[36m0:00:00\u001b[0m\r\n",
      "\u001b[?25hInstalling collected packages: einops, vit-pytorch\r\n",
      "Successfully installed einops-0.8.0 vit-pytorch-1.8.5\r\n"
     ]
    }
   ],
   "source": [
    "!pip install vit-pytorch"
   ]
  },
  {
   "cell_type": "code",
   "execution_count": 2,
   "id": "c1ee58bd",
   "metadata": {
    "_cell_guid": "b1076dfc-b9ad-4769-8c92-a6c4dae69d19",
    "_uuid": "8f2839f25d086af736a60e9eeb907d3b93b6e0e5",
    "execution": {
     "iopub.execute_input": "2024-10-21T07:35:18.728173Z",
     "iopub.status.busy": "2024-10-21T07:35:18.727854Z",
     "iopub.status.idle": "2024-10-21T07:35:25.725844Z",
     "shell.execute_reply": "2024-10-21T07:35:25.724877Z"
    },
    "papermill": {
     "duration": 7.027861,
     "end_time": "2024-10-21T07:35:25.728266",
     "exception": false,
     "start_time": "2024-10-21T07:35:18.700405",
     "status": "completed"
    },
    "tags": []
   },
   "outputs": [],
   "source": [
    "import torch\n",
    "import torch.nn as nn\n",
    "import torchvision\n",
    "from torchvision import transforms\n",
    "from model_file import *\n",
    "from vce_dataloader import getBinaryDataLoader, getAllDataLoader, getNaryDataLoader, visualize_batch\n",
    "from sklearn.metrics import confusion_matrix\n",
    "import matplotlib.pyplot as plt\n",
    "import seaborn as sns\n",
    "import numpy as np\n",
    "import kagglehub"
   ]
  },
  {
   "cell_type": "code",
   "execution_count": 3,
   "id": "4303ec51",
   "metadata": {
    "execution": {
     "iopub.execute_input": "2024-10-21T07:35:25.783019Z",
     "iopub.status.busy": "2024-10-21T07:35:25.782549Z",
     "iopub.status.idle": "2024-10-21T07:35:25.786537Z",
     "shell.execute_reply": "2024-10-21T07:35:25.785709Z"
    },
    "papermill": {
     "duration": 0.033285,
     "end_time": "2024-10-21T07:35:25.788410",
     "exception": false,
     "start_time": "2024-10-21T07:35:25.755125",
     "status": "completed"
    },
    "tags": []
   },
   "outputs": [],
   "source": [
    "# model = getModel(\"resnet50\")\n",
    "classifier = getModel(\"vitcnn\")"
   ]
  },
  {
   "cell_type": "code",
   "execution_count": 4,
   "id": "13c4b16a",
   "metadata": {
    "execution": {
     "iopub.execute_input": "2024-10-21T07:35:25.842013Z",
     "iopub.status.busy": "2024-10-21T07:35:25.841727Z",
     "iopub.status.idle": "2024-10-21T07:35:27.096382Z",
     "shell.execute_reply": "2024-10-21T07:35:27.095421Z"
    },
    "papermill": {
     "duration": 1.285063,
     "end_time": "2024-10-21T07:35:27.099755",
     "exception": false,
     "start_time": "2024-10-21T07:35:25.814692",
     "status": "completed"
    },
    "tags": []
   },
   "outputs": [
    {
     "name": "stderr",
     "output_type": "stream",
     "text": [
      "/opt/conda/lib/python3.10/site-packages/torchvision/models/_utils.py:208: UserWarning: The parameter 'pretrained' is deprecated since 0.13 and may be removed in the future, please use 'weights' instead.\n",
      "  warnings.warn(\n",
      "/opt/conda/lib/python3.10/site-packages/torchvision/models/_utils.py:223: UserWarning: Arguments other than a weight enum or `None` for 'weights' are deprecated since 0.13 and may be removed in the future. The current behavior is equivalent to passing `weights=ResNet34_Weights.IMAGENET1K_V1`. You can also use `weights=ResNet34_Weights.DEFAULT` to get the most up-to-date weights.\n",
      "  warnings.warn(msg)\n",
      "Downloading: \"https://download.pytorch.org/models/resnet34-b627a593.pth\" to /root/.cache/torch/hub/checkpoints/resnet34-b627a593.pth\n",
      "100%|██████████| 83.3M/83.3M [00:00<00:00, 148MB/s]\n"
     ]
    },
    {
     "name": "stdout",
     "output_type": "stream",
     "text": [
      "ViTCNNModel(\n",
      "  (cnn_branch): CNNBranch(\n",
      "    (cnn): ResNet(\n",
      "      (conv1): Conv2d(3, 64, kernel_size=(7, 7), stride=(2, 2), padding=(3, 3), bias=False)\n",
      "      (bn1): BatchNorm2d(64, eps=1e-05, momentum=0.1, affine=True, track_running_stats=True)\n",
      "      (relu): ReLU(inplace=True)\n",
      "      (maxpool): MaxPool2d(kernel_size=3, stride=2, padding=1, dilation=1, ceil_mode=False)\n",
      "      (layer1): Sequential(\n",
      "        (0): BasicBlock(\n",
      "          (conv1): Conv2d(64, 64, kernel_size=(3, 3), stride=(1, 1), padding=(1, 1), bias=False)\n",
      "          (bn1): BatchNorm2d(64, eps=1e-05, momentum=0.1, affine=True, track_running_stats=True)\n",
      "          (relu): ReLU(inplace=True)\n",
      "          (conv2): Conv2d(64, 64, kernel_size=(3, 3), stride=(1, 1), padding=(1, 1), bias=False)\n",
      "          (bn2): BatchNorm2d(64, eps=1e-05, momentum=0.1, affine=True, track_running_stats=True)\n",
      "        )\n",
      "        (1): BasicBlock(\n",
      "          (conv1): Conv2d(64, 64, kernel_size=(3, 3), stride=(1, 1), padding=(1, 1), bias=False)\n",
      "          (bn1): BatchNorm2d(64, eps=1e-05, momentum=0.1, affine=True, track_running_stats=True)\n",
      "          (relu): ReLU(inplace=True)\n",
      "          (conv2): Conv2d(64, 64, kernel_size=(3, 3), stride=(1, 1), padding=(1, 1), bias=False)\n",
      "          (bn2): BatchNorm2d(64, eps=1e-05, momentum=0.1, affine=True, track_running_stats=True)\n",
      "        )\n",
      "        (2): BasicBlock(\n",
      "          (conv1): Conv2d(64, 64, kernel_size=(3, 3), stride=(1, 1), padding=(1, 1), bias=False)\n",
      "          (bn1): BatchNorm2d(64, eps=1e-05, momentum=0.1, affine=True, track_running_stats=True)\n",
      "          (relu): ReLU(inplace=True)\n",
      "          (conv2): Conv2d(64, 64, kernel_size=(3, 3), stride=(1, 1), padding=(1, 1), bias=False)\n",
      "          (bn2): BatchNorm2d(64, eps=1e-05, momentum=0.1, affine=True, track_running_stats=True)\n",
      "        )\n",
      "      )\n",
      "      (layer2): Sequential(\n",
      "        (0): BasicBlock(\n",
      "          (conv1): Conv2d(64, 128, kernel_size=(3, 3), stride=(2, 2), padding=(1, 1), bias=False)\n",
      "          (bn1): BatchNorm2d(128, eps=1e-05, momentum=0.1, affine=True, track_running_stats=True)\n",
      "          (relu): ReLU(inplace=True)\n",
      "          (conv2): Conv2d(128, 128, kernel_size=(3, 3), stride=(1, 1), padding=(1, 1), bias=False)\n",
      "          (bn2): BatchNorm2d(128, eps=1e-05, momentum=0.1, affine=True, track_running_stats=True)\n",
      "          (downsample): Sequential(\n",
      "            (0): Conv2d(64, 128, kernel_size=(1, 1), stride=(2, 2), bias=False)\n",
      "            (1): BatchNorm2d(128, eps=1e-05, momentum=0.1, affine=True, track_running_stats=True)\n",
      "          )\n",
      "        )\n",
      "        (1): BasicBlock(\n",
      "          (conv1): Conv2d(128, 128, kernel_size=(3, 3), stride=(1, 1), padding=(1, 1), bias=False)\n",
      "          (bn1): BatchNorm2d(128, eps=1e-05, momentum=0.1, affine=True, track_running_stats=True)\n",
      "          (relu): ReLU(inplace=True)\n",
      "          (conv2): Conv2d(128, 128, kernel_size=(3, 3), stride=(1, 1), padding=(1, 1), bias=False)\n",
      "          (bn2): BatchNorm2d(128, eps=1e-05, momentum=0.1, affine=True, track_running_stats=True)\n",
      "        )\n",
      "        (2): BasicBlock(\n",
      "          (conv1): Conv2d(128, 128, kernel_size=(3, 3), stride=(1, 1), padding=(1, 1), bias=False)\n",
      "          (bn1): BatchNorm2d(128, eps=1e-05, momentum=0.1, affine=True, track_running_stats=True)\n",
      "          (relu): ReLU(inplace=True)\n",
      "          (conv2): Conv2d(128, 128, kernel_size=(3, 3), stride=(1, 1), padding=(1, 1), bias=False)\n",
      "          (bn2): BatchNorm2d(128, eps=1e-05, momentum=0.1, affine=True, track_running_stats=True)\n",
      "        )\n",
      "        (3): BasicBlock(\n",
      "          (conv1): Conv2d(128, 128, kernel_size=(3, 3), stride=(1, 1), padding=(1, 1), bias=False)\n",
      "          (bn1): BatchNorm2d(128, eps=1e-05, momentum=0.1, affine=True, track_running_stats=True)\n",
      "          (relu): ReLU(inplace=True)\n",
      "          (conv2): Conv2d(128, 128, kernel_size=(3, 3), stride=(1, 1), padding=(1, 1), bias=False)\n",
      "          (bn2): BatchNorm2d(128, eps=1e-05, momentum=0.1, affine=True, track_running_stats=True)\n",
      "        )\n",
      "      )\n",
      "      (layer3): Sequential(\n",
      "        (0): BasicBlock(\n",
      "          (conv1): Conv2d(128, 256, kernel_size=(3, 3), stride=(2, 2), padding=(1, 1), bias=False)\n",
      "          (bn1): BatchNorm2d(256, eps=1e-05, momentum=0.1, affine=True, track_running_stats=True)\n",
      "          (relu): ReLU(inplace=True)\n",
      "          (conv2): Conv2d(256, 256, kernel_size=(3, 3), stride=(1, 1), padding=(1, 1), bias=False)\n",
      "          (bn2): BatchNorm2d(256, eps=1e-05, momentum=0.1, affine=True, track_running_stats=True)\n",
      "          (downsample): Sequential(\n",
      "            (0): Conv2d(128, 256, kernel_size=(1, 1), stride=(2, 2), bias=False)\n",
      "            (1): BatchNorm2d(256, eps=1e-05, momentum=0.1, affine=True, track_running_stats=True)\n",
      "          )\n",
      "        )\n",
      "        (1): BasicBlock(\n",
      "          (conv1): Conv2d(256, 256, kernel_size=(3, 3), stride=(1, 1), padding=(1, 1), bias=False)\n",
      "          (bn1): BatchNorm2d(256, eps=1e-05, momentum=0.1, affine=True, track_running_stats=True)\n",
      "          (relu): ReLU(inplace=True)\n",
      "          (conv2): Conv2d(256, 256, kernel_size=(3, 3), stride=(1, 1), padding=(1, 1), bias=False)\n",
      "          (bn2): BatchNorm2d(256, eps=1e-05, momentum=0.1, affine=True, track_running_stats=True)\n",
      "        )\n",
      "        (2): BasicBlock(\n",
      "          (conv1): Conv2d(256, 256, kernel_size=(3, 3), stride=(1, 1), padding=(1, 1), bias=False)\n",
      "          (bn1): BatchNorm2d(256, eps=1e-05, momentum=0.1, affine=True, track_running_stats=True)\n",
      "          (relu): ReLU(inplace=True)\n",
      "          (conv2): Conv2d(256, 256, kernel_size=(3, 3), stride=(1, 1), padding=(1, 1), bias=False)\n",
      "          (bn2): BatchNorm2d(256, eps=1e-05, momentum=0.1, affine=True, track_running_stats=True)\n",
      "        )\n",
      "        (3): BasicBlock(\n",
      "          (conv1): Conv2d(256, 256, kernel_size=(3, 3), stride=(1, 1), padding=(1, 1), bias=False)\n",
      "          (bn1): BatchNorm2d(256, eps=1e-05, momentum=0.1, affine=True, track_running_stats=True)\n",
      "          (relu): ReLU(inplace=True)\n",
      "          (conv2): Conv2d(256, 256, kernel_size=(3, 3), stride=(1, 1), padding=(1, 1), bias=False)\n",
      "          (bn2): BatchNorm2d(256, eps=1e-05, momentum=0.1, affine=True, track_running_stats=True)\n",
      "        )\n",
      "        (4): BasicBlock(\n",
      "          (conv1): Conv2d(256, 256, kernel_size=(3, 3), stride=(1, 1), padding=(1, 1), bias=False)\n",
      "          (bn1): BatchNorm2d(256, eps=1e-05, momentum=0.1, affine=True, track_running_stats=True)\n",
      "          (relu): ReLU(inplace=True)\n",
      "          (conv2): Conv2d(256, 256, kernel_size=(3, 3), stride=(1, 1), padding=(1, 1), bias=False)\n",
      "          (bn2): BatchNorm2d(256, eps=1e-05, momentum=0.1, affine=True, track_running_stats=True)\n",
      "        )\n",
      "        (5): BasicBlock(\n",
      "          (conv1): Conv2d(256, 256, kernel_size=(3, 3), stride=(1, 1), padding=(1, 1), bias=False)\n",
      "          (bn1): BatchNorm2d(256, eps=1e-05, momentum=0.1, affine=True, track_running_stats=True)\n",
      "          (relu): ReLU(inplace=True)\n",
      "          (conv2): Conv2d(256, 256, kernel_size=(3, 3), stride=(1, 1), padding=(1, 1), bias=False)\n",
      "          (bn2): BatchNorm2d(256, eps=1e-05, momentum=0.1, affine=True, track_running_stats=True)\n",
      "        )\n",
      "      )\n",
      "      (layer4): Sequential(\n",
      "        (0): BasicBlock(\n",
      "          (conv1): Conv2d(256, 512, kernel_size=(3, 3), stride=(2, 2), padding=(1, 1), bias=False)\n",
      "          (bn1): BatchNorm2d(512, eps=1e-05, momentum=0.1, affine=True, track_running_stats=True)\n",
      "          (relu): ReLU(inplace=True)\n",
      "          (conv2): Conv2d(512, 512, kernel_size=(3, 3), stride=(1, 1), padding=(1, 1), bias=False)\n",
      "          (bn2): BatchNorm2d(512, eps=1e-05, momentum=0.1, affine=True, track_running_stats=True)\n",
      "          (downsample): Sequential(\n",
      "            (0): Conv2d(256, 512, kernel_size=(1, 1), stride=(2, 2), bias=False)\n",
      "            (1): BatchNorm2d(512, eps=1e-05, momentum=0.1, affine=True, track_running_stats=True)\n",
      "          )\n",
      "        )\n",
      "        (1): BasicBlock(\n",
      "          (conv1): Conv2d(512, 512, kernel_size=(3, 3), stride=(1, 1), padding=(1, 1), bias=False)\n",
      "          (bn1): BatchNorm2d(512, eps=1e-05, momentum=0.1, affine=True, track_running_stats=True)\n",
      "          (relu): ReLU(inplace=True)\n",
      "          (conv2): Conv2d(512, 512, kernel_size=(3, 3), stride=(1, 1), padding=(1, 1), bias=False)\n",
      "          (bn2): BatchNorm2d(512, eps=1e-05, momentum=0.1, affine=True, track_running_stats=True)\n",
      "        )\n",
      "        (2): BasicBlock(\n",
      "          (conv1): Conv2d(512, 512, kernel_size=(3, 3), stride=(1, 1), padding=(1, 1), bias=False)\n",
      "          (bn1): BatchNorm2d(512, eps=1e-05, momentum=0.1, affine=True, track_running_stats=True)\n",
      "          (relu): ReLU(inplace=True)\n",
      "          (conv2): Conv2d(512, 512, kernel_size=(3, 3), stride=(1, 1), padding=(1, 1), bias=False)\n",
      "          (bn2): BatchNorm2d(512, eps=1e-05, momentum=0.1, affine=True, track_running_stats=True)\n",
      "        )\n",
      "      )\n",
      "      (avgpool): AdaptiveAvgPool2d(output_size=(1, 1))\n",
      "      (fc): Linear(in_features=512, out_features=512, bias=True)\n",
      "    )\n",
      "  )\n",
      "  (vit_branch): ViTBranch(\n",
      "    (vit): ViT(\n",
      "      (to_patch_embedding): Sequential(\n",
      "        (0): Rearrange('b c (h p1) (w p2) -> b (h w) (p1 p2 c)', p1=16, p2=16)\n",
      "        (1): LayerNorm((768,), eps=1e-05, elementwise_affine=True)\n",
      "        (2): Linear(in_features=768, out_features=512, bias=True)\n",
      "        (3): LayerNorm((512,), eps=1e-05, elementwise_affine=True)\n",
      "      )\n",
      "      (dropout): Dropout(p=0.0, inplace=False)\n",
      "      (transformer): Transformer(\n",
      "        (norm): LayerNorm((512,), eps=1e-05, elementwise_affine=True)\n",
      "        (layers): ModuleList(\n",
      "          (0-5): 6 x ModuleList(\n",
      "            (0): Attention(\n",
      "              (norm): LayerNorm((512,), eps=1e-05, elementwise_affine=True)\n",
      "              (attend): Softmax(dim=-1)\n",
      "              (dropout): Dropout(p=0.0, inplace=False)\n",
      "              (to_qkv): Linear(in_features=512, out_features=1536, bias=False)\n",
      "              (to_out): Sequential(\n",
      "                (0): Linear(in_features=512, out_features=512, bias=True)\n",
      "                (1): Dropout(p=0.0, inplace=False)\n",
      "              )\n",
      "            )\n",
      "            (1): FeedForward(\n",
      "              (net): Sequential(\n",
      "                (0): LayerNorm((512,), eps=1e-05, elementwise_affine=True)\n",
      "                (1): Linear(in_features=512, out_features=1024, bias=True)\n",
      "                (2): GELU(approximate='none')\n",
      "                (3): Dropout(p=0.0, inplace=False)\n",
      "                (4): Linear(in_features=1024, out_features=512, bias=True)\n",
      "                (5): Dropout(p=0.0, inplace=False)\n",
      "              )\n",
      "            )\n",
      "          )\n",
      "        )\n",
      "      )\n",
      "      (to_latent): Identity()\n",
      "      (mlp_head): Linear(in_features=512, out_features=512, bias=True)\n",
      "    )\n",
      "  )\n",
      "  (dense_fc): Sequential(\n",
      "    (0): Linear(in_features=1024, out_features=512, bias=True)\n",
      "    (1): ReLU()\n",
      "    (2): Linear(in_features=512, out_features=256, bias=True)\n",
      "    (3): ReLU()\n",
      "  )\n",
      "  (classification_head): Linear(in_features=256, out_features=2, bias=True)\n",
      ")\n"
     ]
    }
   ],
   "source": [
    "model = classifier(cnnmodel = 'resnet34', num_classes=2)\n",
    "print(model)"
   ]
  },
  {
   "cell_type": "markdown",
   "id": "5b4dee32",
   "metadata": {
    "papermill": {
     "duration": 0.027921,
     "end_time": "2024-10-21T07:35:27.156818",
     "exception": false,
     "start_time": "2024-10-21T07:35:27.128897",
     "status": "completed"
    },
    "tags": []
   },
   "source": [
    "Order of classes:\n",
    "* Normal\n",
    "* Erosion\n",
    "* Polyp\n",
    "* Angioectasia\n",
    "* Bleeding\n",
    "* Lymphangiectasia\n",
    "* Foreign Body\n",
    "* Erythema\n",
    "* Ulcer\n",
    "* Worms"
   ]
  },
  {
   "cell_type": "code",
   "execution_count": 5,
   "id": "54d091a3",
   "metadata": {
    "execution": {
     "iopub.execute_input": "2024-10-21T07:35:27.213007Z",
     "iopub.status.busy": "2024-10-21T07:35:27.212684Z",
     "iopub.status.idle": "2024-10-21T07:35:27.216661Z",
     "shell.execute_reply": "2024-10-21T07:35:27.215788Z"
    },
    "papermill": {
     "duration": 0.034304,
     "end_time": "2024-10-21T07:35:27.218646",
     "exception": false,
     "start_time": "2024-10-21T07:35:27.184342",
     "status": "completed"
    },
    "tags": []
   },
   "outputs": [],
   "source": [
    "train_path = \"/kaggle/input/vce-augmented-dataset/training\"\n",
    "val_path = \"/kaggle/input/vce-augmented-dataset/validation\""
   ]
  },
  {
   "cell_type": "code",
   "execution_count": 6,
   "id": "2dceac9c",
   "metadata": {
    "execution": {
     "iopub.execute_input": "2024-10-21T07:35:27.273900Z",
     "iopub.status.busy": "2024-10-21T07:35:27.273624Z",
     "iopub.status.idle": "2024-10-21T07:35:27.278607Z",
     "shell.execute_reply": "2024-10-21T07:35:27.277784Z"
    },
    "papermill": {
     "duration": 0.034807,
     "end_time": "2024-10-21T07:35:27.280470",
     "exception": false,
     "start_time": "2024-10-21T07:35:27.245663",
     "status": "completed"
    },
    "tags": []
   },
   "outputs": [],
   "source": [
    "train_transform = transforms.Compose([#transforms.RandomHorizontalFlip(p=0.7),\n",
    "                                     #transforms.RandomVerticalFlip(p=0.7),\n",
    "                                     #transforms.RandomRotation(15),\n",
    "                                     \n",
    "                                     transforms.Resize((224,224)),\n",
    "                                     transforms.ToTensor()\n",
    "                              ])\n",
    "\n",
    "\n",
    "val_transform= transforms.Compose([transforms.Resize((224,224)),\n",
    "                                     transforms.ToTensor()])"
   ]
  },
  {
   "cell_type": "code",
   "execution_count": 7,
   "id": "31a566fd",
   "metadata": {
    "execution": {
     "iopub.execute_input": "2024-10-21T07:35:27.336309Z",
     "iopub.status.busy": "2024-10-21T07:35:27.336030Z",
     "iopub.status.idle": "2024-10-21T07:35:27.342438Z",
     "shell.execute_reply": "2024-10-21T07:35:27.341620Z"
    },
    "papermill": {
     "duration": 0.036776,
     "end_time": "2024-10-21T07:35:27.344412",
     "exception": false,
     "start_time": "2024-10-21T07:35:27.307636",
     "status": "completed"
    },
    "tags": []
   },
   "outputs": [],
   "source": [
    "def get_predictions_and_labels(model, dataloader):\n",
    "    model.eval()  # Set the model to evaluation mode\n",
    "    all_preds = []\n",
    "    all_labels = []\n",
    "    \n",
    "    with torch.no_grad():  # Disable gradient calculation\n",
    "        for images, labels in dataloader:\n",
    "            images = images.to(device)  # Move images to the same device as model\n",
    "            labels = labels.to(device)  # Move labels to the same device as model\n",
    "            outputs = model(images)\n",
    "            _, preds = torch.max(outputs, 1)  # Get the predicted class\n",
    "            all_preds.extend(preds.cpu().numpy())  # Collect predictions\n",
    "            all_labels.extend(labels.cpu().numpy())  # Collect true labels\n",
    "\n",
    "    return np.array(all_preds), np.array(all_labels)"
   ]
  },
  {
   "cell_type": "markdown",
   "id": "65bd220b",
   "metadata": {
    "papermill": {
     "duration": 0.026968,
     "end_time": "2024-10-21T07:35:27.398773",
     "exception": false,
     "start_time": "2024-10-21T07:35:27.371805",
     "status": "completed"
    },
    "tags": []
   },
   "source": [
    "# Binary"
   ]
  },
  {
   "cell_type": "code",
   "execution_count": 8,
   "id": "7159a00d",
   "metadata": {
    "execution": {
     "iopub.execute_input": "2024-10-21T07:35:27.455089Z",
     "iopub.status.busy": "2024-10-21T07:35:27.454734Z",
     "iopub.status.idle": "2024-10-21T07:37:06.036490Z",
     "shell.execute_reply": "2024-10-21T07:37:06.035457Z"
    },
    "papermill": {
     "duration": 98.612793,
     "end_time": "2024-10-21T07:37:06.038971",
     "exception": false,
     "start_time": "2024-10-21T07:35:27.426178",
     "status": "completed"
    },
    "tags": []
   },
   "outputs": [],
   "source": [
    "target_class_names = [\"Normal\"]\n",
    "binDL_train = getNaryDataLoader(target_class_names=target_class_names, path_to_dataset=train_path, \n",
    "                          batch_size=32, trans = train_transform)\n",
    "binDL_val = getNaryDataLoader(target_class_names=target_class_names, path_to_dataset=val_path, \n",
    "                          batch_size=32, trans = val_transform)"
   ]
  },
  {
   "cell_type": "code",
   "execution_count": 9,
   "id": "64e3715d",
   "metadata": {
    "execution": {
     "iopub.execute_input": "2024-10-21T07:37:06.095529Z",
     "iopub.status.busy": "2024-10-21T07:37:06.095180Z",
     "iopub.status.idle": "2024-10-21T07:37:06.100047Z",
     "shell.execute_reply": "2024-10-21T07:37:06.099300Z"
    },
    "papermill": {
     "duration": 0.035243,
     "end_time": "2024-10-21T07:37:06.102007",
     "exception": false,
     "start_time": "2024-10-21T07:37:06.066764",
     "status": "completed"
    },
    "tags": []
   },
   "outputs": [],
   "source": [
    "# num_ftrs = model.fc.in_features\n",
    "# model.fc = nn.Linear(in_features=num_ftrs, out_features=len(target_class_names)+1)\n",
    "model.set_classification_head(len(target_class_names)+1)"
   ]
  },
  {
   "cell_type": "code",
   "execution_count": 10,
   "id": "32652fe9",
   "metadata": {
    "execution": {
     "iopub.execute_input": "2024-10-21T07:37:06.157923Z",
     "iopub.status.busy": "2024-10-21T07:37:06.157636Z",
     "iopub.status.idle": "2024-10-21T07:37:06.242023Z",
     "shell.execute_reply": "2024-10-21T07:37:06.241079Z"
    },
    "papermill": {
     "duration": 0.115174,
     "end_time": "2024-10-21T07:37:06.244381",
     "exception": false,
     "start_time": "2024-10-21T07:37:06.129207",
     "status": "completed"
    },
    "tags": []
   },
   "outputs": [],
   "source": [
    "device = torch.device(\"cuda\" if torch.cuda.is_available() else \"cpu\")\n",
    "if torch.cuda.device_count() > 1:\n",
    "    model = nn.DataParallel(model)"
   ]
  },
  {
   "cell_type": "code",
   "execution_count": 11,
   "id": "bea9d9df",
   "metadata": {
    "execution": {
     "iopub.execute_input": "2024-10-21T07:37:06.301131Z",
     "iopub.status.busy": "2024-10-21T07:37:06.300514Z",
     "iopub.status.idle": "2024-10-21T07:37:06.495603Z",
     "shell.execute_reply": "2024-10-21T07:37:06.494627Z"
    },
    "papermill": {
     "duration": 0.225934,
     "end_time": "2024-10-21T07:37:06.498091",
     "exception": false,
     "start_time": "2024-10-21T07:37:06.272157",
     "status": "completed"
    },
    "tags": []
   },
   "outputs": [],
   "source": [
    "model = model.to(device)\n",
    "criterion = nn.CrossEntropyLoss() \n",
    "optimizer = torch.optim.Adam(model.parameters(), lr=0.001)"
   ]
  },
  {
   "cell_type": "code",
   "execution_count": 12,
   "id": "395a86a4",
   "metadata": {
    "execution": {
     "iopub.execute_input": "2024-10-21T07:37:06.556722Z",
     "iopub.status.busy": "2024-10-21T07:37:06.556077Z",
     "iopub.status.idle": "2024-10-21T07:37:06.563910Z",
     "shell.execute_reply": "2024-10-21T07:37:06.563133Z"
    },
    "papermill": {
     "duration": 0.038461,
     "end_time": "2024-10-21T07:37:06.565720",
     "exception": false,
     "start_time": "2024-10-21T07:37:06.527259",
     "status": "completed"
    },
    "tags": []
   },
   "outputs": [],
   "source": [
    "model = model.to(device)"
   ]
  },
  {
   "cell_type": "code",
   "execution_count": 13,
   "id": "3590ecec",
   "metadata": {
    "execution": {
     "iopub.execute_input": "2024-10-21T07:37:06.621706Z",
     "iopub.status.busy": "2024-10-21T07:37:06.621094Z",
     "iopub.status.idle": "2024-10-21T07:37:06.625085Z",
     "shell.execute_reply": "2024-10-21T07:37:06.624237Z"
    },
    "papermill": {
     "duration": 0.034135,
     "end_time": "2024-10-21T07:37:06.627024",
     "exception": false,
     "start_time": "2024-10-21T07:37:06.592889",
     "status": "completed"
    },
    "tags": []
   },
   "outputs": [],
   "source": [
    "num_epochs = 2"
   ]
  },
  {
   "cell_type": "code",
   "execution_count": 14,
   "id": "c7b8d04f",
   "metadata": {
    "execution": {
     "iopub.execute_input": "2024-10-21T07:37:06.683153Z",
     "iopub.status.busy": "2024-10-21T07:37:06.682346Z",
     "iopub.status.idle": "2024-10-21T08:02:52.663389Z",
     "shell.execute_reply": "2024-10-21T08:02:52.662383Z"
    },
    "papermill": {
     "duration": 1546.041898,
     "end_time": "2024-10-21T08:02:52.696200",
     "exception": false,
     "start_time": "2024-10-21T07:37:06.654302",
     "status": "completed"
    },
    "tags": []
   },
   "outputs": [
    {
     "name": "stdout",
     "output_type": "stream",
     "text": [
      "Bin - [0/1854] train loss : 0.6956685185432434\n",
      "Bin - [100/1854] train loss : 0.41682738065719604\n",
      "Bin - [200/1854] train loss : 0.35616111755371094\n",
      "Bin - [300/1854] train loss : 0.2740109860897064\n",
      "Bin - [400/1854] train loss : 0.453188955783844\n",
      "Bin - [500/1854] train loss : 0.32174763083457947\n",
      "Bin - [600/1854] train loss : 0.537212073802948\n",
      "Bin - [700/1854] train loss : 0.2197696566581726\n",
      "Bin - [800/1854] train loss : 0.16997098922729492\n",
      "Bin - [900/1854] train loss : 0.1642429381608963\n",
      "Bin - [1000/1854] train loss : 0.3117736577987671\n",
      "Bin - [1100/1854] train loss : 0.2945491671562195\n",
      "Bin - [1200/1854] train loss : 0.3117493987083435\n",
      "Bin - [1300/1854] train loss : 0.5735013484954834\n",
      "Bin - [1400/1854] train loss : 0.3528743088245392\n",
      "Bin - [1500/1854] train loss : 0.3040368854999542\n",
      "Bin - [1600/1854] train loss : 0.2374483048915863\n",
      "Bin - [1700/1854] train loss : 0.29846492409706116\n",
      "Bin - [1800/1854] train loss : 0.18514926731586456\n",
      "Epoch [1/2]\n",
      "Train Loss: 0.3286, Train Accuracy: 0.8610\n",
      "Validation Loss: 0.5931, Validation Accuracy: 0.7296\n",
      "Bin - [0/1854] train loss : 0.2458590716123581\n",
      "Bin - [100/1854] train loss : 0.4568426311016083\n",
      "Bin - [200/1854] train loss : 0.1549161672592163\n",
      "Bin - [300/1854] train loss : 0.33767908811569214\n",
      "Bin - [400/1854] train loss : 0.2154666930437088\n",
      "Bin - [500/1854] train loss : 0.24417604506015778\n",
      "Bin - [600/1854] train loss : 0.1670691967010498\n",
      "Bin - [700/1854] train loss : 0.09104565531015396\n",
      "Bin - [800/1854] train loss : 0.22748999297618866\n",
      "Bin - [900/1854] train loss : 0.09729112684726715\n",
      "Bin - [1000/1854] train loss : 0.15466058254241943\n",
      "Bin - [1100/1854] train loss : 0.17917481064796448\n",
      "Bin - [1200/1854] train loss : 0.2796078026294708\n",
      "Bin - [1300/1854] train loss : 0.13536731898784637\n",
      "Bin - [1400/1854] train loss : 0.09673621505498886\n",
      "Bin - [1500/1854] train loss : 0.20045827329158783\n",
      "Bin - [1600/1854] train loss : 0.2645552158355713\n",
      "Bin - [1700/1854] train loss : 0.32202646136283875\n",
      "Bin - [1800/1854] train loss : 0.22501321136951447\n",
      "Epoch [2/2]\n",
      "Train Loss: 0.2152, Train Accuracy: 0.9120\n",
      "Validation Loss: 0.2467, Validation Accuracy: 0.8952\n"
     ]
    }
   ],
   "source": [
    "\n",
    "for epoch in range(num_epochs):\n",
    "    model.train()\n",
    "    \n",
    "    running_loss = 0.0\n",
    "    correct_predictions = 0\n",
    "    total_samples  =0\n",
    "    i = 0\n",
    "    for inputs, labels in binDL_train:\n",
    "        inputs, labels = inputs.to(device), labels.to(device)\n",
    "        \n",
    "        optimizer.zero_grad()\n",
    "        outputs = model(inputs)\n",
    "        loss = criterion(outputs, labels)\n",
    "        loss.backward()\n",
    "        optimizer.step()\n",
    "        \n",
    "        running_loss += loss.item() * inputs.size(0)\n",
    "        _, predicted = torch.max(outputs, 1)\n",
    "        correct_predictions += (predicted == labels).sum().item()\n",
    "        total_samples += labels.size(0)\n",
    "        if(i%100 == 0):\n",
    "            print(f\"Bin - [{i}/{len(binDL_train)}] train loss : {loss.item()}\")\n",
    "        i = i+1\n",
    "        \n",
    "    train_loss = running_loss / total_samples\n",
    "    train_accuracy = correct_predictions / total_samples\n",
    "    \n",
    "    model.eval()\n",
    "    val_loss = 0.0\n",
    "    correct_val_predictions = 0\n",
    "    total_val_samples = 0\n",
    "    \n",
    "    with torch.no_grad():\n",
    "        for val_inputs, val_labels in binDL_val:\n",
    "            val_inputs, val_labels = val_inputs.to(device), val_labels.to(device)\n",
    "            \n",
    "            val_outputs = model(val_inputs)\n",
    "            loss = criterion(val_outputs, val_labels)\n",
    "            \n",
    "            val_loss += loss.item() * val_inputs.size(0)\n",
    "            _, val_predicted = torch.max(val_outputs, 1)\n",
    "            correct_val_predictions += (val_predicted == val_labels).sum().item()\n",
    "            total_val_samples += val_labels.size(0)\n",
    "    \n",
    "    val_loss /= total_val_samples\n",
    "    val_accuracy = correct_val_predictions / total_val_samples\n",
    "    \n",
    "    # Print epoch stats\n",
    "    print(f'Epoch [{epoch+1}/{num_epochs}]')\n",
    "    print(f'Train Loss: {train_loss:.4f}, Train Accuracy: {train_accuracy:.4f}')\n",
    "    print(f'Validation Loss: {val_loss:.4f}, Validation Accuracy: {val_accuracy:.4f}')"
   ]
  },
  {
   "cell_type": "code",
   "execution_count": 15,
   "id": "a68811a5",
   "metadata": {
    "execution": {
     "iopub.execute_input": "2024-10-21T08:02:52.758415Z",
     "iopub.status.busy": "2024-10-21T08:02:52.757604Z",
     "iopub.status.idle": "2024-10-21T08:03:48.662463Z",
     "shell.execute_reply": "2024-10-21T08:03:48.661533Z"
    },
    "papermill": {
     "duration": 55.968767,
     "end_time": "2024-10-21T08:03:48.695123",
     "exception": false,
     "start_time": "2024-10-21T08:02:52.726356",
     "status": "completed"
    },
    "tags": []
   },
   "outputs": [
    {
     "data": {
      "image/png": "[encoded data removed]",
      "text/plain": [
       "<Figure size 600x400 with 2 Axes>"
      ]
     },
     "metadata": {},
     "output_type": "display_data"
    }
   ],
   "source": [
    "# Get the predictions and true labels for the test set\n",
    "preds, true_labels = get_predictions_and_labels(model, binDL_val)\n",
    "\n",
    "# Compute the confusion matrix\n",
    "conf_matrix = confusion_matrix(true_labels, preds)\n",
    "class_names = [f'Class {i}' for i in range(len(target_class_names)+1)]\n",
    "# Plot the confusion matrix using seaborn\n",
    "plt.figure(figsize=(6, 4))\n",
    "sns.heatmap(conf_matrix, annot=True, fmt=\"d\", cmap=\"Blues\", xticklabels=class_names, yticklabels=class_names)\n",
    "plt.xlabel('Predicted Label')\n",
    "plt.ylabel('True Label')\n",
    "plt.title('Confusion Matrix')\n",
    "plt.show()"
   ]
  },
  {
   "cell_type": "code",
   "execution_count": 16,
   "id": "1565789b",
   "metadata": {
    "execution": {
     "iopub.execute_input": "2024-10-21T08:03:48.757453Z",
     "iopub.status.busy": "2024-10-21T08:03:48.757126Z",
     "iopub.status.idle": "2024-10-21T08:03:48.765504Z",
     "shell.execute_reply": "2024-10-21T08:03:48.764435Z"
    },
    "papermill": {
     "duration": 0.042034,
     "end_time": "2024-10-21T08:03:48.767579",
     "exception": false,
     "start_time": "2024-10-21T08:03:48.725545",
     "status": "completed"
    },
    "tags": []
   },
   "outputs": [],
   "source": [
    "del binDL_train\n",
    "del binDL_val"
   ]
  },
  {
   "cell_type": "markdown",
   "id": "522128eb",
   "metadata": {
    "papermill": {
     "duration": 0.030581,
     "end_time": "2024-10-21T08:03:48.830011",
     "exception": false,
     "start_time": "2024-10-21T08:03:48.799430",
     "status": "completed"
    },
    "tags": []
   },
   "source": [
    "# Ternary"
   ]
  },
  {
   "cell_type": "code",
   "execution_count": 17,
   "id": "f456b9bc",
   "metadata": {
    "execution": {
     "iopub.execute_input": "2024-10-21T08:03:48.892418Z",
     "iopub.status.busy": "2024-10-21T08:03:48.892060Z",
     "iopub.status.idle": "2024-10-21T08:04:15.087523Z",
     "shell.execute_reply": "2024-10-21T08:04:15.086514Z"
    },
    "papermill": {
     "duration": 26.229422,
     "end_time": "2024-10-21T08:04:15.089980",
     "exception": false,
     "start_time": "2024-10-21T08:03:48.860558",
     "status": "completed"
    },
    "tags": []
   },
   "outputs": [],
   "source": [
    "target_class_names = [\"Normal\",\"Erosion\"]\n",
    "terDL_train = getNaryDataLoader(target_class_names=target_class_names, path_to_dataset=train_path, \n",
    "                          batch_size=32, trans = train_transform)\n",
    "terDL_val = getNaryDataLoader(target_class_names=target_class_names, path_to_dataset=val_path, \n",
    "                          batch_size=32, trans = val_transform)"
   ]
  },
  {
   "cell_type": "code",
   "execution_count": 18,
   "id": "368e60ad",
   "metadata": {
    "execution": {
     "iopub.execute_input": "2024-10-21T08:04:15.153866Z",
     "iopub.status.busy": "2024-10-21T08:04:15.153202Z",
     "iopub.status.idle": "2024-10-21T08:04:15.158069Z",
     "shell.execute_reply": "2024-10-21T08:04:15.157301Z"
    },
    "papermill": {
     "duration": 0.038694,
     "end_time": "2024-10-21T08:04:15.159975",
     "exception": false,
     "start_time": "2024-10-21T08:04:15.121281",
     "status": "completed"
    },
    "tags": []
   },
   "outputs": [],
   "source": [
    "# num_ftrs = model.fc.in_features\n",
    "# model.fc = nn.Linear(in_features=num_ftrs, out_features=len(target_class_names)+1)\n",
    "model.set_classification_head(len(target_class_names)+1)"
   ]
  },
  {
   "cell_type": "code",
   "execution_count": 19,
   "id": "cf0b5ff6",
   "metadata": {
    "execution": {
     "iopub.execute_input": "2024-10-21T08:04:15.223530Z",
     "iopub.status.busy": "2024-10-21T08:04:15.223213Z",
     "iopub.status.idle": "2024-10-21T08:04:15.228050Z",
     "shell.execute_reply": "2024-10-21T08:04:15.227224Z"
    },
    "papermill": {
     "duration": 0.038119,
     "end_time": "2024-10-21T08:04:15.229930",
     "exception": false,
     "start_time": "2024-10-21T08:04:15.191811",
     "status": "completed"
    },
    "tags": []
   },
   "outputs": [],
   "source": [
    "device = torch.device(\"cuda\" if torch.cuda.is_available() else \"cpu\")\n",
    "if torch.cuda.device_count() > 1:\n",
    "    model = nn.DataParallel(model)"
   ]
  },
  {
   "cell_type": "code",
   "execution_count": 20,
   "id": "d077dfaf",
   "metadata": {
    "execution": {
     "iopub.execute_input": "2024-10-21T08:04:15.292622Z",
     "iopub.status.busy": "2024-10-21T08:04:15.292053Z",
     "iopub.status.idle": "2024-10-21T08:04:15.301727Z",
     "shell.execute_reply": "2024-10-21T08:04:15.301050Z"
    },
    "papermill": {
     "duration": 0.042911,
     "end_time": "2024-10-21T08:04:15.303463",
     "exception": false,
     "start_time": "2024-10-21T08:04:15.260552",
     "status": "completed"
    },
    "tags": []
   },
   "outputs": [],
   "source": [
    "model = model.to(device)\n",
    "criterion = nn.CrossEntropyLoss() \n",
    "# optimizer = torch.optim.Adam(model.parameters(), lr=0.001)"
   ]
  },
  {
   "cell_type": "code",
   "execution_count": 21,
   "id": "99f20df8",
   "metadata": {
    "execution": {
     "iopub.execute_input": "2024-10-21T08:04:15.366040Z",
     "iopub.status.busy": "2024-10-21T08:04:15.365767Z",
     "iopub.status.idle": "2024-10-21T08:04:15.375277Z",
     "shell.execute_reply": "2024-10-21T08:04:15.374613Z"
    },
    "papermill": {
     "duration": 0.042884,
     "end_time": "2024-10-21T08:04:15.377053",
     "exception": false,
     "start_time": "2024-10-21T08:04:15.334169",
     "status": "completed"
    },
    "tags": []
   },
   "outputs": [],
   "source": [
    "model = model.to(device)"
   ]
  },
  {
   "cell_type": "code",
   "execution_count": 22,
   "id": "4f3ae38c",
   "metadata": {
    "execution": {
     "iopub.execute_input": "2024-10-21T08:04:15.440122Z",
     "iopub.status.busy": "2024-10-21T08:04:15.439406Z",
     "iopub.status.idle": "2024-10-21T08:04:15.443181Z",
     "shell.execute_reply": "2024-10-21T08:04:15.442410Z"
    },
    "papermill": {
     "duration": 0.037234,
     "end_time": "2024-10-21T08:04:15.445038",
     "exception": false,
     "start_time": "2024-10-21T08:04:15.407804",
     "status": "completed"
    },
    "tags": []
   },
   "outputs": [],
   "source": [
    "num_epochs = 3"
   ]
  },
  {
   "cell_type": "code",
   "execution_count": 23,
   "id": "f17b711b",
   "metadata": {
    "execution": {
     "iopub.execute_input": "2024-10-21T08:04:15.507739Z",
     "iopub.status.busy": "2024-10-21T08:04:15.507094Z",
     "iopub.status.idle": "2024-10-21T08:31:41.949588Z",
     "shell.execute_reply": "2024-10-21T08:31:41.948552Z"
    },
    "papermill": {
     "duration": 1646.516829,
     "end_time": "2024-10-21T08:31:41.992314",
     "exception": false,
     "start_time": "2024-10-21T08:04:15.475485",
     "status": "completed"
    },
    "tags": []
   },
   "outputs": [
    {
     "name": "stdout",
     "output_type": "stream",
     "text": [
      "Ter - [0/1854] train loss : 4.554413795471191\n",
      "Ter - [100/1854] train loss : 0.31210559606552124\n",
      "Ter - [200/1854] train loss : 0.34286752343177795\n",
      "Ter - [300/1854] train loss : 0.37414515018463135\n",
      "Ter - [400/1854] train loss : 0.3527696430683136\n",
      "Ter - [500/1854] train loss : 0.16425377130508423\n",
      "Ter - [600/1854] train loss : 0.30784130096435547\n",
      "Ter - [700/1854] train loss : 0.5374098420143127\n",
      "Ter - [800/1854] train loss : 0.6456241607666016\n",
      "Ter - [900/1854] train loss : 0.3061003088951111\n",
      "Ter - [1000/1854] train loss : 0.27333033084869385\n",
      "Ter - [1100/1854] train loss : 0.26992738246917725\n",
      "Ter - [1200/1854] train loss : 0.5368653535842896\n",
      "Ter - [1300/1854] train loss : 0.5027282238006592\n",
      "Ter - [1400/1854] train loss : 0.3555077612400055\n",
      "Ter - [1500/1854] train loss : 0.23667189478874207\n",
      "Ter - [1600/1854] train loss : 0.328048974275589\n",
      "Ter - [1700/1854] train loss : 0.29556217789649963\n",
      "Ter - [1800/1854] train loss : 0.4661110043525696\n",
      "Epoch [1/3]\n",
      "Train Loss: 0.4293, Train Accuracy: 0.8258\n",
      "Validation Loss: 0.3997, Validation Accuracy: 0.8398\n",
      "Ter - [0/1854] train loss : 0.5218983888626099\n",
      "Ter - [100/1854] train loss : 0.17547094821929932\n",
      "Ter - [200/1854] train loss : 0.3479844033718109\n",
      "Ter - [300/1854] train loss : 0.3236355781555176\n",
      "Ter - [400/1854] train loss : 0.16015003621578217\n",
      "Ter - [500/1854] train loss : 0.5070237517356873\n",
      "Ter - [600/1854] train loss : 0.27467501163482666\n",
      "Ter - [700/1854] train loss : 0.39389896392822266\n",
      "Ter - [800/1854] train loss : 0.3139913082122803\n",
      "Ter - [900/1854] train loss : 0.30711254477500916\n",
      "Ter - [1000/1854] train loss : 0.14254961907863617\n",
      "Ter - [1100/1854] train loss : 0.4056534767150879\n",
      "Ter - [1200/1854] train loss : 0.21730120480060577\n",
      "Ter - [1300/1854] train loss : 0.2103717178106308\n",
      "Ter - [1400/1854] train loss : 0.3382876515388489\n",
      "Ter - [1500/1854] train loss : 0.23809832334518433\n",
      "Ter - [1600/1854] train loss : 0.16928178071975708\n",
      "Ter - [1700/1854] train loss : 0.6090319156646729\n",
      "Ter - [1800/1854] train loss : 0.15728843212127686\n",
      "Epoch [2/3]\n",
      "Train Loss: 0.3441, Train Accuracy: 0.8555\n",
      "Validation Loss: 0.3223, Validation Accuracy: 0.8613\n",
      "Ter - [0/1854] train loss : 0.2399654984474182\n",
      "Ter - [100/1854] train loss : 0.3223077356815338\n",
      "Ter - [200/1854] train loss : 0.16294044256210327\n",
      "Ter - [300/1854] train loss : 0.2140212506055832\n",
      "Ter - [400/1854] train loss : 0.295947790145874\n",
      "Ter - [500/1854] train loss : 0.32984763383865356\n",
      "Ter - [600/1854] train loss : 0.3071630299091339\n",
      "Ter - [700/1854] train loss : 0.37612372636795044\n",
      "Ter - [800/1854] train loss : 0.46404364705085754\n",
      "Ter - [900/1854] train loss : 0.3805604875087738\n",
      "Ter - [1000/1854] train loss : 0.43099474906921387\n",
      "Ter - [1100/1854] train loss : 0.47801336646080017\n",
      "Ter - [1200/1854] train loss : 0.5584509372711182\n",
      "Ter - [1300/1854] train loss : 0.12218289077281952\n",
      "Ter - [1400/1854] train loss : 0.1646362543106079\n",
      "Ter - [1500/1854] train loss : 0.17330266535282135\n",
      "Ter - [1600/1854] train loss : 0.3277508616447449\n",
      "Ter - [1700/1854] train loss : 0.4181533455848694\n",
      "Ter - [1800/1854] train loss : 0.5615065097808838\n",
      "Epoch [3/3]\n",
      "Train Loss: 0.2978, Train Accuracy: 0.8719\n",
      "Validation Loss: 0.3053, Validation Accuracy: 0.8686\n"
     ]
    }
   ],
   "source": [
    "for epoch in range(num_epochs):\n",
    "    model.train()\n",
    "    \n",
    "    running_loss = 0.0\n",
    "    correct_predictions = 0\n",
    "    total_samples  =0\n",
    "    i = 0\n",
    "    for inputs, labels in terDL_train:\n",
    "        inputs, labels = inputs.to(device), labels.to(device)\n",
    "        \n",
    "        optimizer.zero_grad()\n",
    "        outputs = model(inputs)\n",
    "        loss = criterion(outputs, labels)\n",
    "        loss.backward()\n",
    "        optimizer.step()\n",
    "        \n",
    "        running_loss += loss.item() * inputs.size(0)\n",
    "        _, predicted = torch.max(outputs, 1)\n",
    "        correct_predictions += (predicted == labels).sum().item()\n",
    "        total_samples += labels.size(0)\n",
    "        \n",
    "        if(i%100 == 0):\n",
    "            print(f\"Ter - [{i}/{len(terDL_train)}] train loss : {loss.item()}\")\n",
    "        i = i+1\n",
    "        \n",
    "    train_loss = running_loss / total_samples\n",
    "    train_accuracy = correct_predictions / total_samples\n",
    "    \n",
    "    model.eval()\n",
    "    val_loss = 0.0\n",
    "    correct_val_predictions = 0\n",
    "    total_val_samples = 0\n",
    "    \n",
    "    with torch.no_grad():\n",
    "        for val_inputs, val_labels in terDL_val:\n",
    "            val_inputs, val_labels = val_inputs.to(device), val_labels.to(device)\n",
    "            \n",
    "            val_outputs = model(val_inputs)\n",
    "            loss = criterion(val_outputs, val_labels)\n",
    "            \n",
    "            val_loss += loss.item() * val_inputs.size(0)\n",
    "            _, val_predicted = torch.max(val_outputs, 1)\n",
    "            correct_val_predictions += (val_predicted == val_labels).sum().item()\n",
    "            total_val_samples += val_labels.size(0)\n",
    "    \n",
    "    val_loss /= total_val_samples\n",
    "    val_accuracy = correct_val_predictions / total_val_samples\n",
    "    \n",
    "    # Print epoch stats\n",
    "    print(f'Epoch [{epoch+1}/{num_epochs}]')\n",
    "    print(f'Train Loss: {train_loss:.4f}, Train Accuracy: {train_accuracy:.4f}')\n",
    "    print(f'Validation Loss: {val_loss:.4f}, Validation Accuracy: {val_accuracy:.4f}')"
   ]
  },
  {
   "cell_type": "code",
   "execution_count": 24,
   "id": "a6944bcc",
   "metadata": {
    "execution": {
     "iopub.execute_input": "2024-10-21T08:31:42.068761Z",
     "iopub.status.busy": "2024-10-21T08:31:42.068402Z",
     "iopub.status.idle": "2024-10-21T08:32:39.061374Z",
     "shell.execute_reply": "2024-10-21T08:32:39.060531Z"
    },
    "papermill": {
     "duration": 57.071273,
     "end_time": "2024-10-21T08:32:39.099493",
     "exception": false,
     "start_time": "2024-10-21T08:31:42.028220",
     "status": "completed"
    },
    "tags": []
   },
   "outputs": [
    {
     "data": {
      "image/png": "[encoded data removed]",
      "text/plain": [
       "<Figure size 600x400 with 2 Axes>"
      ]
     },
     "metadata": {},
     "output_type": "display_data"
    }
   ],
   "source": [
    "# Get the predictions and true labels for the test set\n",
    "preds, true_labels = get_predictions_and_labels(model, terDL_val)\n",
    "\n",
    "# Compute the confusion matrix\n",
    "conf_matrix = confusion_matrix(true_labels, preds)\n",
    "class_names = [f'Class {i}' for i in range(len(target_class_names)+1)]\n",
    "# Plot the confusion matrix using seaborn\n",
    "plt.figure(figsize=(6, 4))\n",
    "sns.heatmap(conf_matrix, annot=True, fmt=\"d\", cmap=\"Blues\", xticklabels=class_names, yticklabels=class_names)\n",
    "plt.xlabel('Predicted Label')\n",
    "plt.ylabel('True Label')\n",
    "plt.title('Confusion Matrix')\n",
    "plt.show()"
   ]
  },
  {
   "cell_type": "code",
   "execution_count": 25,
   "id": "f9ee182d",
   "metadata": {
    "execution": {
     "iopub.execute_input": "2024-10-21T08:32:39.172225Z",
     "iopub.status.busy": "2024-10-21T08:32:39.171677Z",
     "iopub.status.idle": "2024-10-21T08:32:39.179668Z",
     "shell.execute_reply": "2024-10-21T08:32:39.178428Z"
    },
    "papermill": {
     "duration": 0.046607,
     "end_time": "2024-10-21T08:32:39.181791",
     "exception": false,
     "start_time": "2024-10-21T08:32:39.135184",
     "status": "completed"
    },
    "tags": []
   },
   "outputs": [],
   "source": [
    "del terDL_train\n",
    "del terDL_val"
   ]
  },
  {
   "cell_type": "markdown",
   "id": "253d163f",
   "metadata": {
    "papermill": {
     "duration": 0.035527,
     "end_time": "2024-10-21T08:32:39.252909",
     "exception": false,
     "start_time": "2024-10-21T08:32:39.217382",
     "status": "completed"
    },
    "tags": []
   },
   "source": [
    "# Quaternary"
   ]
  },
  {
   "cell_type": "code",
   "execution_count": 26,
   "id": "9d86b5ae",
   "metadata": {
    "execution": {
     "iopub.execute_input": "2024-10-21T08:32:39.326287Z",
     "iopub.status.busy": "2024-10-21T08:32:39.325463Z",
     "iopub.status.idle": "2024-10-21T08:33:08.616826Z",
     "shell.execute_reply": "2024-10-21T08:33:08.616021Z"
    },
    "papermill": {
     "duration": 29.330526,
     "end_time": "2024-10-21T08:33:08.619198",
     "exception": false,
     "start_time": "2024-10-21T08:32:39.288672",
     "status": "completed"
    },
    "tags": []
   },
   "outputs": [],
   "source": [
    "target_class_names = [\"Normal\",\"Erosion\",\"Polyp\"]\n",
    "quatDL_train = getNaryDataLoader(target_class_names=target_class_names, path_to_dataset=train_path, \n",
    "                          batch_size=32, trans = train_transform)\n",
    "quatDL_val = getNaryDataLoader(target_class_names=target_class_names, path_to_dataset=val_path, \n",
    "                          batch_size=32, trans = val_transform)"
   ]
  },
  {
   "cell_type": "code",
   "execution_count": 27,
   "id": "7fd7afd9",
   "metadata": {
    "execution": {
     "iopub.execute_input": "2024-10-21T08:33:08.693052Z",
     "iopub.status.busy": "2024-10-21T08:33:08.692687Z",
     "iopub.status.idle": "2024-10-21T08:33:08.697544Z",
     "shell.execute_reply": "2024-10-21T08:33:08.696759Z"
    },
    "papermill": {
     "duration": 0.043623,
     "end_time": "2024-10-21T08:33:08.699521",
     "exception": false,
     "start_time": "2024-10-21T08:33:08.655898",
     "status": "completed"
    },
    "tags": []
   },
   "outputs": [],
   "source": [
    "# num_ftrs = model.fc.in_features\n",
    "# model.fc = nn.Linear(in_features=num_ftrs, out_features=len(target_class_names)+1)\n",
    "model.set_classification_head(len(target_class_names)+1)"
   ]
  },
  {
   "cell_type": "code",
   "execution_count": 28,
   "id": "bbe9b0d9",
   "metadata": {
    "execution": {
     "iopub.execute_input": "2024-10-21T08:33:08.772123Z",
     "iopub.status.busy": "2024-10-21T08:33:08.771826Z",
     "iopub.status.idle": "2024-10-21T08:33:08.776401Z",
     "shell.execute_reply": "2024-10-21T08:33:08.775562Z"
    },
    "papermill": {
     "duration": 0.043199,
     "end_time": "2024-10-21T08:33:08.778370",
     "exception": false,
     "start_time": "2024-10-21T08:33:08.735171",
     "status": "completed"
    },
    "tags": []
   },
   "outputs": [],
   "source": [
    "device = torch.device(\"cuda\" if torch.cuda.is_available() else \"cpu\")\n",
    "if torch.cuda.device_count() > 1:\n",
    "    model = nn.DataParallel(model)"
   ]
  },
  {
   "cell_type": "code",
   "execution_count": 29,
   "id": "8e5bc914",
   "metadata": {
    "execution": {
     "iopub.execute_input": "2024-10-21T08:33:08.850628Z",
     "iopub.status.busy": "2024-10-21T08:33:08.850323Z",
     "iopub.status.idle": "2024-10-21T08:33:08.860203Z",
     "shell.execute_reply": "2024-10-21T08:33:08.859537Z"
    },
    "papermill": {
     "duration": 0.047893,
     "end_time": "2024-10-21T08:33:08.862034",
     "exception": false,
     "start_time": "2024-10-21T08:33:08.814141",
     "status": "completed"
    },
    "tags": []
   },
   "outputs": [],
   "source": [
    "model = model.to(device)\n",
    "criterion = nn.CrossEntropyLoss() \n",
    "# optimizer = torch.optim.Adam(model.parameters(), lr=0.001)"
   ]
  },
  {
   "cell_type": "code",
   "execution_count": 30,
   "id": "43011128",
   "metadata": {
    "execution": {
     "iopub.execute_input": "2024-10-21T08:33:08.933951Z",
     "iopub.status.busy": "2024-10-21T08:33:08.933659Z",
     "iopub.status.idle": "2024-10-21T08:33:08.943229Z",
     "shell.execute_reply": "2024-10-21T08:33:08.942371Z"
    },
    "papermill": {
     "duration": 0.047991,
     "end_time": "2024-10-21T08:33:08.945238",
     "exception": false,
     "start_time": "2024-10-21T08:33:08.897247",
     "status": "completed"
    },
    "tags": []
   },
   "outputs": [],
   "source": [
    "model = model.to(device)"
   ]
  },
  {
   "cell_type": "code",
   "execution_count": 31,
   "id": "6f4365df",
   "metadata": {
    "execution": {
     "iopub.execute_input": "2024-10-21T08:33:09.018864Z",
     "iopub.status.busy": "2024-10-21T08:33:09.018290Z",
     "iopub.status.idle": "2024-10-21T08:33:09.022178Z",
     "shell.execute_reply": "2024-10-21T08:33:09.021410Z"
    },
    "papermill": {
     "duration": 0.042825,
     "end_time": "2024-10-21T08:33:09.023981",
     "exception": false,
     "start_time": "2024-10-21T08:33:08.981156",
     "status": "completed"
    },
    "tags": []
   },
   "outputs": [],
   "source": [
    "num_epochs = 4"
   ]
  },
  {
   "cell_type": "code",
   "execution_count": 32,
   "id": "ba0f3a3c",
   "metadata": {
    "execution": {
     "iopub.execute_input": "2024-10-21T08:33:09.097110Z",
     "iopub.status.busy": "2024-10-21T08:33:09.096621Z",
     "iopub.status.idle": "2024-10-21T09:09:58.759240Z",
     "shell.execute_reply": "2024-10-21T09:09:58.758250Z"
    },
    "papermill": {
     "duration": 2209.740756,
     "end_time": "2024-10-21T09:09:58.801081",
     "exception": false,
     "start_time": "2024-10-21T08:33:09.060325",
     "status": "completed"
    },
    "tags": []
   },
   "outputs": [
    {
     "name": "stdout",
     "output_type": "stream",
     "text": [
      "Quat - [0/1854] train loss : 2.944370746612549\n",
      "Quat - [100/1854] train loss : 0.28651514649391174\n",
      "Quat - [200/1854] train loss : 0.42839571833610535\n",
      "Quat - [300/1854] train loss : 0.6049632430076599\n",
      "Quat - [400/1854] train loss : 0.26265349984169006\n",
      "Quat - [500/1854] train loss : 0.2647901773452759\n",
      "Quat - [600/1854] train loss : 0.4779742360115051\n",
      "Quat - [700/1854] train loss : 0.3404095470905304\n",
      "Quat - [800/1854] train loss : 0.28797778487205505\n",
      "Quat - [900/1854] train loss : 0.6750035285949707\n",
      "Quat - [1000/1854] train loss : 0.19298341870307922\n",
      "Quat - [1100/1854] train loss : 0.12836982309818268\n",
      "Quat - [1200/1854] train loss : 0.30633795261383057\n",
      "Quat - [1300/1854] train loss : 0.3009907007217407\n",
      "Quat - [1400/1854] train loss : 0.18687254190444946\n",
      "Quat - [1500/1854] train loss : 0.40669822692871094\n",
      "Quat - [1600/1854] train loss : 0.3743015229701996\n",
      "Quat - [1700/1854] train loss : 0.2857259213924408\n",
      "Quat - [1800/1854] train loss : 0.4070412218570709\n",
      "Epoch [1/4]\n",
      "Train Loss: 0.3760, Train Accuracy: 0.8547\n",
      "Validation Loss: 0.3651, Validation Accuracy: 0.8600\n",
      "Quat - [0/1854] train loss : 0.35436010360717773\n",
      "Quat - [100/1854] train loss : 0.18734873831272125\n",
      "Quat - [200/1854] train loss : 0.2149408757686615\n",
      "Quat - [300/1854] train loss : 0.32689768075942993\n",
      "Quat - [400/1854] train loss : 0.6862902045249939\n",
      "Quat - [500/1854] train loss : 0.29950061440467834\n",
      "Quat - [600/1854] train loss : 0.3071087598800659\n",
      "Quat - [700/1854] train loss : 0.3949294686317444\n",
      "Quat - [800/1854] train loss : 0.1728702038526535\n",
      "Quat - [900/1854] train loss : 0.3858899176120758\n",
      "Quat - [1000/1854] train loss : 0.5162885189056396\n",
      "Quat - [1100/1854] train loss : 0.21730747818946838\n",
      "Quat - [1200/1854] train loss : 0.3839833736419678\n",
      "Quat - [1300/1854] train loss : 0.385378897190094\n",
      "Quat - [1400/1854] train loss : 0.37264484167099\n",
      "Quat - [1500/1854] train loss : 0.3860511779785156\n",
      "Quat - [1600/1854] train loss : 0.24641481041908264\n",
      "Quat - [1700/1854] train loss : 0.5955212116241455\n",
      "Quat - [1800/1854] train loss : 0.28590303659439087\n",
      "Epoch [2/4]\n",
      "Train Loss: 0.3277, Train Accuracy: 0.8706\n",
      "Validation Loss: 0.3705, Validation Accuracy: 0.8559\n",
      "Quat - [0/1854] train loss : 0.272237092256546\n",
      "Quat - [100/1854] train loss : 0.15262217819690704\n",
      "Quat - [200/1854] train loss : 0.3432855010032654\n",
      "Quat - [300/1854] train loss : 0.4307279586791992\n",
      "Quat - [400/1854] train loss : 0.3296126127243042\n",
      "Quat - [500/1854] train loss : 0.20798642933368683\n",
      "Quat - [600/1854] train loss : 0.3240728974342346\n",
      "Quat - [700/1854] train loss : 0.33894383907318115\n",
      "Quat - [800/1854] train loss : 0.2537660598754883\n",
      "Quat - [900/1854] train loss : 0.35647663474082947\n",
      "Quat - [1000/1854] train loss : 0.28826868534088135\n",
      "Quat - [1100/1854] train loss : 0.2769680917263031\n",
      "Quat - [1200/1854] train loss : 0.17920425534248352\n",
      "Quat - [1300/1854] train loss : 0.2651432752609253\n",
      "Quat - [1400/1854] train loss : 0.23052336275577545\n",
      "Quat - [1500/1854] train loss : 0.21149928867816925\n",
      "Quat - [1600/1854] train loss : 0.2700936198234558\n",
      "Quat - [1700/1854] train loss : 0.16053834557533264\n",
      "Quat - [1800/1854] train loss : 0.1354331225156784\n",
      "Epoch [3/4]\n",
      "Train Loss: 0.2922, Train Accuracy: 0.8842\n",
      "Validation Loss: 0.2957, Validation Accuracy: 0.8849\n",
      "Quat - [0/1854] train loss : 0.33655399084091187\n",
      "Quat - [100/1854] train loss : 0.05799396336078644\n",
      "Quat - [200/1854] train loss : 0.34166890382766724\n",
      "Quat - [300/1854] train loss : 0.1803646981716156\n",
      "Quat - [400/1854] train loss : 0.3282802402973175\n",
      "Quat - [500/1854] train loss : 0.2815917134284973\n",
      "Quat - [600/1854] train loss : 0.4263423979282379\n",
      "Quat - [700/1854] train loss : 0.13396957516670227\n",
      "Quat - [800/1854] train loss : 0.11015316843986511\n",
      "Quat - [900/1854] train loss : 0.2430715411901474\n",
      "Quat - [1000/1854] train loss : 0.348584920167923\n",
      "Quat - [1100/1854] train loss : 0.11584016680717468\n",
      "Quat - [1200/1854] train loss : 0.16561272740364075\n",
      "Quat - [1300/1854] train loss : 0.1320180594921112\n",
      "Quat - [1400/1854] train loss : 0.24370571970939636\n",
      "Quat - [1500/1854] train loss : 0.20232735574245453\n",
      "Quat - [1600/1854] train loss : 0.13509224355220795\n",
      "Quat - [1700/1854] train loss : 0.2759905159473419\n",
      "Quat - [1800/1854] train loss : 0.2826155424118042\n",
      "Epoch [4/4]\n",
      "Train Loss: 0.2607, Train Accuracy: 0.8978\n",
      "Validation Loss: 0.2928, Validation Accuracy: 0.8921\n"
     ]
    }
   ],
   "source": [
    "for epoch in range(num_epochs):\n",
    "    model.train()\n",
    "    \n",
    "    running_loss = 0.0\n",
    "    correct_predictions = 0\n",
    "    total_samples  =0\n",
    "    i = 0\n",
    "    for inputs, labels in quatDL_train:\n",
    "        inputs, labels = inputs.to(device), labels.to(device)\n",
    "        \n",
    "        optimizer.zero_grad()\n",
    "        outputs = model(inputs)\n",
    "        loss = criterion(outputs, labels)\n",
    "        loss.backward()\n",
    "        optimizer.step()\n",
    "        \n",
    "        running_loss += loss.item() * inputs.size(0)\n",
    "        _, predicted = torch.max(outputs, 1)\n",
    "        correct_predictions += (predicted == labels).sum().item()\n",
    "        total_samples += labels.size(0)\n",
    "        \n",
    "        if(i%100 == 0):\n",
    "            print(f\"Quat - [{i}/{len(quatDL_train)}] train loss : {loss.item()}\")\n",
    "        i = i+1\n",
    "        \n",
    "    train_loss = running_loss / total_samples\n",
    "    train_accuracy = correct_predictions / total_samples\n",
    "    \n",
    "    model.eval()\n",
    "    val_loss = 0.0\n",
    "    correct_val_predictions = 0\n",
    "    total_val_samples = 0\n",
    "    \n",
    "    with torch.no_grad():\n",
    "        for val_inputs, val_labels in quatDL_val:\n",
    "            val_inputs, val_labels = val_inputs.to(device), val_labels.to(device)\n",
    "            \n",
    "            val_outputs = model(val_inputs)\n",
    "            loss = criterion(val_outputs, val_labels)\n",
    "            \n",
    "            val_loss += loss.item() * val_inputs.size(0)\n",
    "            _, val_predicted = torch.max(val_outputs, 1)\n",
    "            correct_val_predictions += (val_predicted == val_labels).sum().item()\n",
    "            total_val_samples += val_labels.size(0)\n",
    "    \n",
    "    val_loss /= total_val_samples\n",
    "    val_accuracy = correct_val_predictions / total_val_samples\n",
    "    \n",
    "    # Print epoch stats\n",
    "    print(f'Epoch [{epoch+1}/{num_epochs}]')\n",
    "    print(f'Train Loss: {train_loss:.4f}, Train Accuracy: {train_accuracy:.4f}')\n",
    "    print(f'Validation Loss: {val_loss:.4f}, Validation Accuracy: {val_accuracy:.4f}')"
   ]
  },
  {
   "cell_type": "code",
   "execution_count": 33,
   "id": "b25e0a42",
   "metadata": {
    "execution": {
     "iopub.execute_input": "2024-10-21T09:09:58.887527Z",
     "iopub.status.busy": "2024-10-21T09:09:58.886731Z",
     "iopub.status.idle": "2024-10-21T09:10:55.725894Z",
     "shell.execute_reply": "2024-10-21T09:10:55.724904Z"
    },
    "papermill": {
     "duration": 56.928873,
     "end_time": "2024-10-21T09:10:55.772112",
     "exception": false,
     "start_time": "2024-10-21T09:09:58.843239",
     "status": "completed"
    },
    "tags": []
   },
   "outputs": [
    {
     "data": {
      "image/png": "[encoded data removed]",
      "text/plain": [
       "<Figure size 600x400 with 2 Axes>"
      ]
     },
     "metadata": {},
     "output_type": "display_data"
    }
   ],
   "source": [
    "# Get the predictions and true labels for the test set\n",
    "preds, true_labels = get_predictions_and_labels(model, quatDL_val)\n",
    "\n",
    "# Compute the confusion matrix\n",
    "conf_matrix = confusion_matrix(true_labels, preds)\n",
    "class_names = [f'Class {i}' for i in range(len(target_class_names)+1)]\n",
    "# Plot the confusion matrix using seaborn\n",
    "plt.figure(figsize=(6, 4))\n",
    "sns.heatmap(conf_matrix, annot=True, fmt=\"d\", cmap=\"Blues\", xticklabels=class_names, yticklabels=class_names)\n",
    "plt.xlabel('Predicted Label')\n",
    "plt.ylabel('True Label')\n",
    "plt.title('Confusion Matrix')\n",
    "plt.show()"
   ]
  },
  {
   "cell_type": "code",
   "execution_count": 34,
   "id": "3d177cfb",
   "metadata": {
    "execution": {
     "iopub.execute_input": "2024-10-21T09:10:55.859958Z",
     "iopub.status.busy": "2024-10-21T09:10:55.859120Z",
     "iopub.status.idle": "2024-10-21T09:10:55.867180Z",
     "shell.execute_reply": "2024-10-21T09:10:55.866355Z"
    },
    "papermill": {
     "duration": 0.054135,
     "end_time": "2024-10-21T09:10:55.869049",
     "exception": false,
     "start_time": "2024-10-21T09:10:55.814914",
     "status": "completed"
    },
    "tags": []
   },
   "outputs": [],
   "source": [
    "del quatDL_train\n",
    "del quatDL_val"
   ]
  },
  {
   "cell_type": "markdown",
   "id": "32f32a5a",
   "metadata": {
    "papermill": {
     "duration": 0.042308,
     "end_time": "2024-10-21T09:10:55.954114",
     "exception": false,
     "start_time": "2024-10-21T09:10:55.911806",
     "status": "completed"
    },
    "tags": []
   },
   "source": [
    "# Pentanary"
   ]
  },
  {
   "cell_type": "code",
   "execution_count": 35,
   "id": "9ab8f044",
   "metadata": {
    "execution": {
     "iopub.execute_input": "2024-10-21T09:10:56.040839Z",
     "iopub.status.busy": "2024-10-21T09:10:56.040441Z",
     "iopub.status.idle": "2024-10-21T09:11:22.704297Z",
     "shell.execute_reply": "2024-10-21T09:11:22.703294Z"
    },
    "papermill": {
     "duration": 26.709998,
     "end_time": "2024-10-21T09:11:22.706772",
     "exception": false,
     "start_time": "2024-10-21T09:10:55.996774",
     "status": "completed"
    },
    "tags": []
   },
   "outputs": [],
   "source": [
    "target_class_names = [\"Normal\",\"Erosion\",\"Polyp\", \"Angioectasia\"]\n",
    "pentDL_train = getNaryDataLoader(target_class_names=target_class_names, path_to_dataset=train_path, \n",
    "                          batch_size=32, trans = train_transform)\n",
    "pentDL_val = getNaryDataLoader(target_class_names=target_class_names, path_to_dataset=val_path, \n",
    "                          batch_size=32, trans = val_transform)"
   ]
  },
  {
   "cell_type": "code",
   "execution_count": 36,
   "id": "bdf76f19",
   "metadata": {
    "execution": {
     "iopub.execute_input": "2024-10-21T09:11:22.795798Z",
     "iopub.status.busy": "2024-10-21T09:11:22.795126Z",
     "iopub.status.idle": "2024-10-21T09:11:22.800036Z",
     "shell.execute_reply": "2024-10-21T09:11:22.799189Z"
    },
    "papermill": {
     "duration": 0.051225,
     "end_time": "2024-10-21T09:11:22.802000",
     "exception": false,
     "start_time": "2024-10-21T09:11:22.750775",
     "status": "completed"
    },
    "tags": []
   },
   "outputs": [],
   "source": [
    "# num_ftrs = model.fc.in_features\n",
    "# model.fc = nn.Linear(in_features=num_ftrs, out_features=len(target_class_names)+1)\n",
    "model.set_classification_head(len(target_class_names)+1)"
   ]
  },
  {
   "cell_type": "code",
   "execution_count": 37,
   "id": "357af3c7",
   "metadata": {
    "execution": {
     "iopub.execute_input": "2024-10-21T09:11:22.889720Z",
     "iopub.status.busy": "2024-10-21T09:11:22.889093Z",
     "iopub.status.idle": "2024-10-21T09:11:22.894011Z",
     "shell.execute_reply": "2024-10-21T09:11:22.893133Z"
    },
    "papermill": {
     "duration": 0.050732,
     "end_time": "2024-10-21T09:11:22.895927",
     "exception": false,
     "start_time": "2024-10-21T09:11:22.845195",
     "status": "completed"
    },
    "tags": []
   },
   "outputs": [],
   "source": [
    "device = torch.device(\"cuda\" if torch.cuda.is_available() else \"cpu\")\n",
    "if torch.cuda.device_count() > 1:\n",
    "    model = nn.DataParallel(model)"
   ]
  },
  {
   "cell_type": "code",
   "execution_count": 38,
   "id": "0ce881ed",
   "metadata": {
    "execution": {
     "iopub.execute_input": "2024-10-21T09:11:22.983026Z",
     "iopub.status.busy": "2024-10-21T09:11:22.982647Z",
     "iopub.status.idle": "2024-10-21T09:11:22.993052Z",
     "shell.execute_reply": "2024-10-21T09:11:22.992277Z"
    },
    "papermill": {
     "duration": 0.056223,
     "end_time": "2024-10-21T09:11:22.995044",
     "exception": false,
     "start_time": "2024-10-21T09:11:22.938821",
     "status": "completed"
    },
    "tags": []
   },
   "outputs": [],
   "source": [
    "model = model.to(device)\n",
    "criterion = nn.CrossEntropyLoss() \n",
    "# optimizer = torch.optim.Adam(model.parameters(), lr=0.001)"
   ]
  },
  {
   "cell_type": "code",
   "execution_count": 39,
   "id": "510fd5e5",
   "metadata": {
    "execution": {
     "iopub.execute_input": "2024-10-21T09:11:23.083333Z",
     "iopub.status.busy": "2024-10-21T09:11:23.082927Z",
     "iopub.status.idle": "2024-10-21T09:11:23.093213Z",
     "shell.execute_reply": "2024-10-21T09:11:23.092484Z"
    },
    "papermill": {
     "duration": 0.056879,
     "end_time": "2024-10-21T09:11:23.095153",
     "exception": false,
     "start_time": "2024-10-21T09:11:23.038274",
     "status": "completed"
    },
    "tags": []
   },
   "outputs": [],
   "source": [
    "model = model.to(device)"
   ]
  },
  {
   "cell_type": "code",
   "execution_count": 40,
   "id": "afc928ea",
   "metadata": {
    "execution": {
     "iopub.execute_input": "2024-10-21T09:11:23.182198Z",
     "iopub.status.busy": "2024-10-21T09:11:23.181552Z",
     "iopub.status.idle": "2024-10-21T09:11:23.185789Z",
     "shell.execute_reply": "2024-10-21T09:11:23.184911Z"
    },
    "papermill": {
     "duration": 0.050127,
     "end_time": "2024-10-21T09:11:23.187813",
     "exception": false,
     "start_time": "2024-10-21T09:11:23.137686",
     "status": "completed"
    },
    "tags": []
   },
   "outputs": [],
   "source": [
    "num_epochs = 5"
   ]
  },
  {
   "cell_type": "code",
   "execution_count": 41,
   "id": "8dc25a7d",
   "metadata": {
    "execution": {
     "iopub.execute_input": "2024-10-21T09:11:23.275346Z",
     "iopub.status.busy": "2024-10-21T09:11:23.274711Z",
     "iopub.status.idle": "2024-10-21T09:57:56.998739Z",
     "shell.execute_reply": "2024-10-21T09:57:56.997737Z"
    },
    "papermill": {
     "duration": 2793.819502,
     "end_time": "2024-10-21T09:57:57.050256",
     "exception": false,
     "start_time": "2024-10-21T09:11:23.230754",
     "status": "completed"
    },
    "tags": []
   },
   "outputs": [
    {
     "name": "stdout",
     "output_type": "stream",
     "text": [
      "Pent - [0/1854] train loss : 1.5992380380630493\n",
      "Pent - [100/1854] train loss : 0.33215099573135376\n",
      "Pent - [200/1854] train loss : 0.25819435715675354\n",
      "Pent - [300/1854] train loss : 0.3786030411720276\n",
      "Pent - [400/1854] train loss : 0.24774885177612305\n",
      "Pent - [500/1854] train loss : 0.2850338816642761\n",
      "Pent - [600/1854] train loss : 0.1788017898797989\n",
      "Pent - [700/1854] train loss : 0.17530155181884766\n",
      "Pent - [800/1854] train loss : 0.3109706938266754\n",
      "Pent - [900/1854] train loss : 0.2376061975955963\n",
      "Pent - [1000/1854] train loss : 0.2233526110649109\n",
      "Pent - [1100/1854] train loss : 0.4158346652984619\n",
      "Pent - [1200/1854] train loss : 0.2600260078907013\n",
      "Pent - [1300/1854] train loss : 0.37166354060173035\n",
      "Pent - [1400/1854] train loss : 0.1826564222574234\n",
      "Pent - [1500/1854] train loss : 0.32847315073013306\n",
      "Pent - [1600/1854] train loss : 0.32758232951164246\n",
      "Pent - [1700/1854] train loss : 0.5639602541923523\n",
      "Pent - [1800/1854] train loss : 0.19307130575180054\n",
      "Epoch [1/5]\n",
      "Train Loss: 0.3160, Train Accuracy: 0.8855\n",
      "Validation Loss: 0.2936, Validation Accuracy: 0.8964\n",
      "Pent - [0/1854] train loss : 0.09424999356269836\n",
      "Pent - [100/1854] train loss : 0.5145946741104126\n",
      "Pent - [200/1854] train loss : 0.15905721485614777\n",
      "Pent - [300/1854] train loss : 0.2455597072839737\n",
      "Pent - [400/1854] train loss : 0.39858385920524597\n",
      "Pent - [500/1854] train loss : 0.15290680527687073\n",
      "Pent - [600/1854] train loss : 0.1150791123509407\n",
      "Pent - [700/1854] train loss : 0.2990260720252991\n",
      "Pent - [800/1854] train loss : 0.2243526577949524\n",
      "Pent - [900/1854] train loss : 0.16230489313602448\n",
      "Pent - [1000/1854] train loss : 0.15623828768730164\n",
      "Pent - [1100/1854] train loss : 0.14231440424919128\n",
      "Pent - [1200/1854] train loss : 0.27778685092926025\n",
      "Pent - [1300/1854] train loss : 0.2365882396697998\n",
      "Pent - [1400/1854] train loss : 0.4144018590450287\n",
      "Pent - [1500/1854] train loss : 0.19341951608657837\n",
      "Pent - [1600/1854] train loss : 0.11259490251541138\n",
      "Pent - [1700/1854] train loss : 0.22473765909671783\n",
      "Pent - [1800/1854] train loss : 0.09829653799533844\n",
      "Epoch [2/5]\n",
      "Train Loss: 0.2594, Train Accuracy: 0.9053\n",
      "Validation Loss: 0.2802, Validation Accuracy: 0.8992\n",
      "Pent - [0/1854] train loss : 0.22901959717273712\n",
      "Pent - [100/1854] train loss : 0.4222310483455658\n",
      "Pent - [200/1854] train loss : 0.1641910821199417\n",
      "Pent - [300/1854] train loss : 0.612783670425415\n",
      "Pent - [400/1854] train loss : 0.2223850041627884\n",
      "Pent - [500/1854] train loss : 0.12776388227939606\n",
      "Pent - [600/1854] train loss : 0.2353004813194275\n",
      "Pent - [700/1854] train loss : 0.13200277090072632\n",
      "Pent - [800/1854] train loss : 0.17883707582950592\n",
      "Pent - [900/1854] train loss : 0.29598569869995117\n",
      "Pent - [1000/1854] train loss : 0.33154916763305664\n",
      "Pent - [1100/1854] train loss : 0.17383794486522675\n",
      "Pent - [1200/1854] train loss : 0.16179385781288147\n",
      "Pent - [1300/1854] train loss : 0.09463285654783249\n",
      "Pent - [1400/1854] train loss : 0.17314189672470093\n",
      "Pent - [1500/1854] train loss : 0.2769072949886322\n",
      "Pent - [1600/1854] train loss : 0.17483220994472504\n",
      "Pent - [1700/1854] train loss : 0.169743150472641\n",
      "Pent - [1800/1854] train loss : 0.1661262810230255\n",
      "Epoch [3/5]\n",
      "Train Loss: 0.2283, Train Accuracy: 0.9163\n",
      "Validation Loss: 0.2830, Validation Accuracy: 0.9003\n",
      "Pent - [0/1854] train loss : 0.1663634330034256\n",
      "Pent - [100/1854] train loss : 0.15974754095077515\n",
      "Pent - [200/1854] train loss : 0.14011110365390778\n",
      "Pent - [300/1854] train loss : 0.20692852139472961\n",
      "Pent - [400/1854] train loss : 0.31689271330833435\n",
      "Pent - [500/1854] train loss : 0.30062422156333923\n",
      "Pent - [600/1854] train loss : 0.6465006470680237\n",
      "Pent - [700/1854] train loss : 0.021394921466708183\n",
      "Pent - [800/1854] train loss : 0.2860003113746643\n",
      "Pent - [900/1854] train loss : 0.13805106282234192\n",
      "Pent - [1000/1854] train loss : 0.08160693198442459\n",
      "Pent - [1100/1854] train loss : 0.26597243547439575\n",
      "Pent - [1200/1854] train loss : 0.027719294652342796\n",
      "Pent - [1300/1854] train loss : 0.2446412891149521\n",
      "Pent - [1400/1854] train loss : 0.3362550735473633\n",
      "Pent - [1500/1854] train loss : 0.13181036710739136\n",
      "Pent - [1600/1854] train loss : 0.35862934589385986\n",
      "Pent - [1700/1854] train loss : 0.32869964838027954\n",
      "Pent - [1800/1854] train loss : 0.20512761175632477\n",
      "Epoch [4/5]\n",
      "Train Loss: 0.2030, Train Accuracy: 0.9263\n",
      "Validation Loss: 0.2991, Validation Accuracy: 0.8942\n",
      "Pent - [0/1854] train loss : 0.13759706914424896\n",
      "Pent - [100/1854] train loss : 0.21665573120117188\n",
      "Pent - [200/1854] train loss : 0.2653470039367676\n",
      "Pent - [300/1854] train loss : 0.5461968183517456\n",
      "Pent - [400/1854] train loss : 0.11220338940620422\n",
      "Pent - [500/1854] train loss : 0.05922110006213188\n",
      "Pent - [600/1854] train loss : 0.20953041315078735\n",
      "Pent - [700/1854] train loss : 0.0740375891327858\n",
      "Pent - [800/1854] train loss : 0.4277347922325134\n",
      "Pent - [900/1854] train loss : 0.08192729204893112\n",
      "Pent - [1000/1854] train loss : 0.4451569616794586\n",
      "Pent - [1100/1854] train loss : 0.3596170246601105\n",
      "Pent - [1200/1854] train loss : 0.14664776623249054\n",
      "Pent - [1300/1854] train loss : 0.1476270705461502\n",
      "Pent - [1400/1854] train loss : 0.1730719357728958\n",
      "Pent - [1500/1854] train loss : 0.016094528138637543\n",
      "Pent - [1600/1854] train loss : 0.04824651777744293\n",
      "Pent - [1700/1854] train loss : 0.09536972641944885\n",
      "Pent - [1800/1854] train loss : 0.21365070343017578\n",
      "Epoch [5/5]\n",
      "Train Loss: 0.1744, Train Accuracy: 0.9373\n",
      "Validation Loss: 0.2945, Validation Accuracy: 0.9061\n"
     ]
    }
   ],
   "source": [
    "for epoch in range(num_epochs):\n",
    "    model.train()\n",
    "    \n",
    "    running_loss = 0.0\n",
    "    correct_predictions = 0\n",
    "    total_samples  =0\n",
    "    i = 0\n",
    "    for inputs, labels in pentDL_train:\n",
    "        inputs, labels = inputs.to(device), labels.to(device)\n",
    "        \n",
    "        optimizer.zero_grad()\n",
    "        outputs = model(inputs)\n",
    "        loss = criterion(outputs, labels)\n",
    "        loss.backward()\n",
    "        optimizer.step()\n",
    "        \n",
    "        running_loss += loss.item() * inputs.size(0)\n",
    "        _, predicted = torch.max(outputs, 1)\n",
    "        correct_predictions += (predicted == labels).sum().item()\n",
    "        total_samples += labels.size(0)\n",
    "        \n",
    "        if(i%100 == 0):\n",
    "            print(f\"Pent - [{i}/{len(pentDL_train)}] train loss : {loss.item()}\")\n",
    "        i = i+1\n",
    "        \n",
    "    train_loss = running_loss / total_samples\n",
    "    train_accuracy = correct_predictions / total_samples\n",
    "    \n",
    "    model.eval()\n",
    "    val_loss = 0.0\n",
    "    correct_val_predictions = 0\n",
    "    total_val_samples = 0\n",
    "    \n",
    "    with torch.no_grad():\n",
    "        for val_inputs, val_labels in pentDL_val:\n",
    "            val_inputs, val_labels = val_inputs.to(device), val_labels.to(device)\n",
    "            \n",
    "            val_outputs = model(val_inputs)\n",
    "            loss = criterion(val_outputs, val_labels)\n",
    "            \n",
    "            val_loss += loss.item() * val_inputs.size(0)\n",
    "            _, val_predicted = torch.max(val_outputs, 1)\n",
    "            correct_val_predictions += (val_predicted == val_labels).sum().item()\n",
    "            total_val_samples += val_labels.size(0)\n",
    "    \n",
    "    val_loss /= total_val_samples\n",
    "    val_accuracy = correct_val_predictions / total_val_samples\n",
    "    \n",
    "    # Print epoch stats\n",
    "    print(f'Epoch [{epoch+1}/{num_epochs}]')\n",
    "    print(f'Train Loss: {train_loss:.4f}, Train Accuracy: {train_accuracy:.4f}')\n",
    "    print(f'Validation Loss: {val_loss:.4f}, Validation Accuracy: {val_accuracy:.4f}')"
   ]
  },
  {
   "cell_type": "code",
   "execution_count": 42,
   "id": "5de13b88",
   "metadata": {
    "execution": {
     "iopub.execute_input": "2024-10-21T09:57:57.151019Z",
     "iopub.status.busy": "2024-10-21T09:57:57.150684Z",
     "iopub.status.idle": "2024-10-21T09:58:53.468671Z",
     "shell.execute_reply": "2024-10-21T09:58:53.467715Z"
    },
    "papermill": {
     "duration": 56.421298,
     "end_time": "2024-10-21T09:58:53.521114",
     "exception": false,
     "start_time": "2024-10-21T09:57:57.099816",
     "status": "completed"
    },
    "tags": []
   },
   "outputs": [
    {
     "data": {
      "image/png": "[encoded data removed]",
      "text/plain": [
       "<Figure size 600x400 with 2 Axes>"
      ]
     },
     "metadata": {},
     "output_type": "display_data"
    }
   ],
   "source": [
    "# Get the predictions and true labels for the test set\n",
    "preds, true_labels = get_predictions_and_labels(model, pentDL_val)\n",
    "\n",
    "# Compute the confusion matrix\n",
    "conf_matrix = confusion_matrix(true_labels, preds)\n",
    "class_names = [f'Class {i}' for i in range(len(target_class_names)+1)]\n",
    "# Plot the confusion matrix using seaborn\n",
    "plt.figure(figsize=(6, 4))\n",
    "sns.heatmap(conf_matrix, annot=True, fmt=\"d\", cmap=\"Blues\", xticklabels=class_names, yticklabels=class_names)\n",
    "plt.xlabel('Predicted Label')\n",
    "plt.ylabel('True Label')\n",
    "plt.title('Confusion Matrix')\n",
    "plt.show()"
   ]
  },
  {
   "cell_type": "code",
   "execution_count": 43,
   "id": "6bdba93a",
   "metadata": {
    "execution": {
     "iopub.execute_input": "2024-10-21T09:58:53.623188Z",
     "iopub.status.busy": "2024-10-21T09:58:53.622826Z",
     "iopub.status.idle": "2024-10-21T09:58:53.630236Z",
     "shell.execute_reply": "2024-10-21T09:58:53.629357Z"
    },
    "papermill": {
     "duration": 0.06078,
     "end_time": "2024-10-21T09:58:53.632559",
     "exception": false,
     "start_time": "2024-10-21T09:58:53.571779",
     "status": "completed"
    },
    "tags": []
   },
   "outputs": [],
   "source": [
    "del pentDL_train\n",
    "del pentDL_val"
   ]
  },
  {
   "cell_type": "markdown",
   "id": "4af0e4a6",
   "metadata": {
    "papermill": {
     "duration": 0.049996,
     "end_time": "2024-10-21T09:58:53.733769",
     "exception": false,
     "start_time": "2024-10-21T09:58:53.683773",
     "status": "completed"
    },
    "tags": []
   },
   "source": [
    "# Senary"
   ]
  },
  {
   "cell_type": "code",
   "execution_count": 44,
   "id": "8c60db33",
   "metadata": {
    "execution": {
     "iopub.execute_input": "2024-10-21T09:58:53.835653Z",
     "iopub.status.busy": "2024-10-21T09:58:53.835307Z",
     "iopub.status.idle": "2024-10-21T09:59:23.763637Z",
     "shell.execute_reply": "2024-10-21T09:59:23.762713Z"
    },
    "papermill": {
     "duration": 29.982143,
     "end_time": "2024-10-21T09:59:23.766122",
     "exception": false,
     "start_time": "2024-10-21T09:58:53.783979",
     "status": "completed"
    },
    "tags": []
   },
   "outputs": [],
   "source": [
    "target_class_names = [\"Normal\",\"Erosion\",\"Polyp\", \"Angioectasia\", \"Bleeding\"]\n",
    "senDL_train = getNaryDataLoader(target_class_names=target_class_names, path_to_dataset=train_path, \n",
    "                          batch_size=32, trans = train_transform)\n",
    "senDL_val = getNaryDataLoader(target_class_names=target_class_names, path_to_dataset=val_path, \n",
    "                          batch_size=32, trans = val_transform)"
   ]
  },
  {
   "cell_type": "code",
   "execution_count": 45,
   "id": "dd6e3d64",
   "metadata": {
    "execution": {
     "iopub.execute_input": "2024-10-21T09:59:23.869292Z",
     "iopub.status.busy": "2024-10-21T09:59:23.868875Z",
     "iopub.status.idle": "2024-10-21T09:59:23.874433Z",
     "shell.execute_reply": "2024-10-21T09:59:23.873590Z"
    },
    "papermill": {
     "duration": 0.059268,
     "end_time": "2024-10-21T09:59:23.876462",
     "exception": false,
     "start_time": "2024-10-21T09:59:23.817194",
     "status": "completed"
    },
    "tags": []
   },
   "outputs": [],
   "source": [
    "# num_ftrs = model.fc.in_features\n",
    "# model.fc = nn.Linear(in_features=num_ftrs, out_features=len(target_class_names)+1)\n",
    "model.set_classification_head(len(target_class_names)+1)"
   ]
  },
  {
   "cell_type": "code",
   "execution_count": 46,
   "id": "7c9e58ea",
   "metadata": {
    "execution": {
     "iopub.execute_input": "2024-10-21T09:59:23.979653Z",
     "iopub.status.busy": "2024-10-21T09:59:23.978628Z",
     "iopub.status.idle": "2024-10-21T09:59:23.984084Z",
     "shell.execute_reply": "2024-10-21T09:59:23.983254Z"
    },
    "papermill": {
     "duration": 0.05918,
     "end_time": "2024-10-21T09:59:23.986295",
     "exception": false,
     "start_time": "2024-10-21T09:59:23.927115",
     "status": "completed"
    },
    "tags": []
   },
   "outputs": [],
   "source": [
    "device = torch.device(\"cuda\" if torch.cuda.is_available() else \"cpu\")\n",
    "if torch.cuda.device_count() > 1:\n",
    "    model = nn.DataParallel(model)"
   ]
  },
  {
   "cell_type": "code",
   "execution_count": 47,
   "id": "294bba95",
   "metadata": {
    "execution": {
     "iopub.execute_input": "2024-10-21T09:59:24.092286Z",
     "iopub.status.busy": "2024-10-21T09:59:24.091414Z",
     "iopub.status.idle": "2024-10-21T09:59:24.103707Z",
     "shell.execute_reply": "2024-10-21T09:59:24.102891Z"
    },
    "papermill": {
     "duration": 0.065536,
     "end_time": "2024-10-21T09:59:24.105647",
     "exception": false,
     "start_time": "2024-10-21T09:59:24.040111",
     "status": "completed"
    },
    "tags": []
   },
   "outputs": [],
   "source": [
    "model = model.to(device)\n",
    "criterion = nn.CrossEntropyLoss() \n",
    "# optimizer = torch.optim.Adam(model.parameters(), lr=0.001)"
   ]
  },
  {
   "cell_type": "code",
   "execution_count": 48,
   "id": "5df51b9e",
   "metadata": {
    "execution": {
     "iopub.execute_input": "2024-10-21T09:59:24.208324Z",
     "iopub.status.busy": "2024-10-21T09:59:24.207956Z",
     "iopub.status.idle": "2024-10-21T09:59:24.218039Z",
     "shell.execute_reply": "2024-10-21T09:59:24.217271Z"
    },
    "papermill": {
     "duration": 0.063842,
     "end_time": "2024-10-21T09:59:24.220243",
     "exception": false,
     "start_time": "2024-10-21T09:59:24.156401",
     "status": "completed"
    },
    "tags": []
   },
   "outputs": [],
   "source": [
    "model = model.to(device)"
   ]
  },
  {
   "cell_type": "code",
   "execution_count": 49,
   "id": "ae4fbc4c",
   "metadata": {
    "execution": {
     "iopub.execute_input": "2024-10-21T09:59:24.326084Z",
     "iopub.status.busy": "2024-10-21T09:59:24.325737Z",
     "iopub.status.idle": "2024-10-21T09:59:24.329903Z",
     "shell.execute_reply": "2024-10-21T09:59:24.328991Z"
    },
    "papermill": {
     "duration": 0.057592,
     "end_time": "2024-10-21T09:59:24.331863",
     "exception": false,
     "start_time": "2024-10-21T09:59:24.274271",
     "status": "completed"
    },
    "tags": []
   },
   "outputs": [],
   "source": [
    "num_epochs = 6"
   ]
  },
  {
   "cell_type": "code",
   "execution_count": 50,
   "id": "ebabc22e",
   "metadata": {
    "execution": {
     "iopub.execute_input": "2024-10-21T09:59:24.436450Z",
     "iopub.status.busy": "2024-10-21T09:59:24.436124Z",
     "iopub.status.idle": "2024-10-21T10:54:51.637259Z",
     "shell.execute_reply": "2024-10-21T10:54:51.634066Z"
    },
    "papermill": {
     "duration": 3327.312883,
     "end_time": "2024-10-21T10:54:51.697148",
     "exception": false,
     "start_time": "2024-10-21T09:59:24.384265",
     "status": "completed"
    },
    "tags": []
   },
   "outputs": [
    {
     "name": "stdout",
     "output_type": "stream",
     "text": [
      "[Sen - 0/1854] train loss : 2.7347681522369385\n",
      "[Sen - 100/1854] train loss : 0.19143643975257874\n",
      "[Sen - 200/1854] train loss : 0.34445124864578247\n",
      "[Sen - 300/1854] train loss : 0.3164409399032593\n",
      "[Sen - 400/1854] train loss : 0.12631644308567047\n",
      "[Sen - 500/1854] train loss : 0.2194020003080368\n",
      "[Sen - 600/1854] train loss : 0.24291490018367767\n",
      "[Sen - 700/1854] train loss : 0.40163519978523254\n",
      "[Sen - 800/1854] train loss : 0.5414685606956482\n",
      "[Sen - 900/1854] train loss : 0.046343039721250534\n",
      "[Sen - 1000/1854] train loss : 0.38265910744667053\n",
      "[Sen - 1100/1854] train loss : 0.23654870688915253\n",
      "[Sen - 1200/1854] train loss : 0.337266743183136\n",
      "[Sen - 1300/1854] train loss : 0.14360153675079346\n",
      "[Sen - 1400/1854] train loss : 0.17572914063930511\n",
      "[Sen - 1500/1854] train loss : 0.39262622594833374\n",
      "[Sen - 1600/1854] train loss : 0.20935966074466705\n",
      "[Sen - 1700/1854] train loss : 0.3284570872783661\n",
      "[Sen - 1800/1854] train loss : 0.11341820657253265\n",
      "Epoch [1/6]\n",
      "Train Loss: 0.2597, Train Accuracy: 0.9069\n",
      "Validation Loss: 0.3538, Validation Accuracy: 0.8910\n",
      "[Sen - 0/1854] train loss : 0.15455852448940277\n",
      "[Sen - 100/1854] train loss : 0.08847283571958542\n",
      "[Sen - 200/1854] train loss : 0.12613645195960999\n",
      "[Sen - 300/1854] train loss : 0.08930452913045883\n",
      "[Sen - 400/1854] train loss : 0.05790768191218376\n",
      "[Sen - 500/1854] train loss : 0.2529507279396057\n",
      "[Sen - 600/1854] train loss : 0.13488426804542542\n",
      "[Sen - 700/1854] train loss : 0.22257933020591736\n",
      "[Sen - 800/1854] train loss : 0.25782081484794617\n",
      "[Sen - 900/1854] train loss : 0.054448582231998444\n",
      "[Sen - 1000/1854] train loss : 0.2779715657234192\n",
      "[Sen - 1100/1854] train loss : 0.16445326805114746\n",
      "[Sen - 1200/1854] train loss : 0.30495646595954895\n",
      "[Sen - 1300/1854] train loss : 0.2041434347629547\n",
      "[Sen - 1400/1854] train loss : 0.2647097408771515\n",
      "[Sen - 1500/1854] train loss : 0.5469412803649902\n",
      "[Sen - 1600/1854] train loss : 0.15749487280845642\n",
      "[Sen - 1700/1854] train loss : 0.1105765551328659\n",
      "[Sen - 1800/1854] train loss : 0.46357792615890503\n",
      "Epoch [2/6]\n",
      "Train Loss: 0.1834, Train Accuracy: 0.9344\n",
      "Validation Loss: 1.0787, Validation Accuracy: 0.7051\n",
      "[Sen - 0/1854] train loss : 0.16989175975322723\n",
      "[Sen - 100/1854] train loss : 0.08571890741586685\n",
      "[Sen - 200/1854] train loss : 0.09842631965875626\n",
      "[Sen - 300/1854] train loss : 0.12061120569705963\n",
      "[Sen - 400/1854] train loss : 0.04847465828061104\n",
      "[Sen - 500/1854] train loss : 0.09767234325408936\n",
      "[Sen - 600/1854] train loss : 0.12579187750816345\n",
      "[Sen - 700/1854] train loss : 0.1407802551984787\n",
      "[Sen - 800/1854] train loss : 0.20006448030471802\n",
      "[Sen - 900/1854] train loss : 0.1081995815038681\n",
      "[Sen - 1000/1854] train loss : 0.17598845064640045\n",
      "[Sen - 1100/1854] train loss : 0.15653793513774872\n",
      "[Sen - 1200/1854] train loss : 0.08614838123321533\n",
      "[Sen - 1300/1854] train loss : 0.17738273739814758\n",
      "[Sen - 1400/1854] train loss : 0.1709606945514679\n",
      "[Sen - 1500/1854] train loss : 0.08538607507944107\n",
      "[Sen - 1600/1854] train loss : 0.05152220278978348\n",
      "[Sen - 1700/1854] train loss : 0.030819443985819817\n",
      "[Sen - 1800/1854] train loss : 0.38167503476142883\n",
      "Epoch [3/6]\n",
      "Train Loss: 0.1541, Train Accuracy: 0.9458\n",
      "Validation Loss: 0.3418, Validation Accuracy: 0.8997\n",
      "[Sen - 0/1854] train loss : 0.09532957524061203\n",
      "[Sen - 100/1854] train loss : 0.26966947317123413\n",
      "[Sen - 200/1854] train loss : 0.061031997203826904\n",
      "[Sen - 300/1854] train loss : 0.13396614789962769\n",
      "[Sen - 400/1854] train loss : 0.045520804822444916\n",
      "[Sen - 500/1854] train loss : 0.2333202064037323\n",
      "[Sen - 600/1854] train loss : 0.3992294371128082\n",
      "[Sen - 700/1854] train loss : 0.032030388712882996\n",
      "[Sen - 800/1854] train loss : 0.061586517840623856\n",
      "[Sen - 900/1854] train loss : 0.13800042867660522\n",
      "[Sen - 1000/1854] train loss : 0.062068741768598557\n",
      "[Sen - 1100/1854] train loss : 0.12165511399507523\n",
      "[Sen - 1200/1854] train loss : 0.1428041309118271\n",
      "[Sen - 1300/1854] train loss : 0.11647984385490417\n",
      "[Sen - 1400/1854] train loss : 0.07476403564214706\n",
      "[Sen - 1500/1854] train loss : 0.10383162647485733\n",
      "[Sen - 1600/1854] train loss : 0.08721467852592468\n",
      "[Sen - 1700/1854] train loss : 0.18275286257266998\n",
      "[Sen - 1800/1854] train loss : 0.05869466811418533\n",
      "Epoch [4/6]\n",
      "Train Loss: 0.1295, Train Accuracy: 0.9548\n",
      "Validation Loss: 0.3692, Validation Accuracy: 0.9032\n",
      "[Sen - 0/1854] train loss : 0.04297693446278572\n",
      "[Sen - 100/1854] train loss : 0.05687449872493744\n",
      "[Sen - 200/1854] train loss : 0.05830713361501694\n",
      "[Sen - 300/1854] train loss : 0.020066851750016212\n",
      "[Sen - 400/1854] train loss : 0.33142295479774475\n",
      "[Sen - 500/1854] train loss : 0.03559485822916031\n",
      "[Sen - 600/1854] train loss : 0.10411960631608963\n",
      "[Sen - 700/1854] train loss : 0.053329840302467346\n",
      "[Sen - 800/1854] train loss : 0.0763600766658783\n",
      "[Sen - 900/1854] train loss : 0.10190264880657196\n",
      "[Sen - 1000/1854] train loss : 0.06327512860298157\n",
      "[Sen - 1100/1854] train loss : 0.10959184169769287\n",
      "[Sen - 1200/1854] train loss : 0.06511902809143066\n",
      "[Sen - 1300/1854] train loss : 0.03932753950357437\n",
      "[Sen - 1400/1854] train loss : 0.06029230356216431\n",
      "[Sen - 1500/1854] train loss : 0.3708129823207855\n",
      "[Sen - 1600/1854] train loss : 0.09433229267597198\n",
      "[Sen - 1700/1854] train loss : 0.11637245118618011\n",
      "[Sen - 1800/1854] train loss : 0.05869012698531151\n",
      "Epoch [5/6]\n",
      "Train Loss: 0.1102, Train Accuracy: 0.9609\n",
      "Validation Loss: 0.4479, Validation Accuracy: 0.8905\n",
      "[Sen - 0/1854] train loss : 0.016967812553048134\n",
      "[Sen - 100/1854] train loss : 0.025133095681667328\n",
      "[Sen - 200/1854] train loss : 0.006650340743362904\n",
      "[Sen - 300/1854] train loss : 0.07337552309036255\n",
      "[Sen - 400/1854] train loss : 0.008091137744486332\n",
      "[Sen - 500/1854] train loss : 0.14801746606826782\n",
      "[Sen - 600/1854] train loss : 0.007778541184961796\n",
      "[Sen - 700/1854] train loss : 0.12381286919116974\n",
      "[Sen - 800/1854] train loss : 0.10896482318639755\n",
      "[Sen - 900/1854] train loss : 0.08140979707241058\n",
      "[Sen - 1000/1854] train loss : 0.039224494248628616\n",
      "[Sen - 1100/1854] train loss : 0.13462099432945251\n",
      "[Sen - 1200/1854] train loss : 0.056871622800827026\n",
      "[Sen - 1300/1854] train loss : 0.19230511784553528\n",
      "[Sen - 1400/1854] train loss : 0.24392735958099365\n",
      "[Sen - 1500/1854] train loss : 0.05313320457935333\n",
      "[Sen - 1600/1854] train loss : 0.027611305937170982\n",
      "[Sen - 1700/1854] train loss : 0.06203635782003403\n",
      "[Sen - 1800/1854] train loss : 0.15602564811706543\n",
      "Epoch [6/6]\n",
      "Train Loss: 0.0971, Train Accuracy: 0.9666\n",
      "Validation Loss: 0.3737, Validation Accuracy: 0.8967\n"
     ]
    }
   ],
   "source": [
    "for epoch in range(num_epochs):\n",
    "    model.train()\n",
    "    \n",
    "    running_loss = 0.0\n",
    "    correct_predictions = 0\n",
    "    total_samples  =0\n",
    "    i = 0\n",
    "    for inputs, labels in senDL_train:\n",
    "        inputs, labels = inputs.to(device), labels.to(device)\n",
    "        \n",
    "        optimizer.zero_grad()\n",
    "        outputs = model(inputs)\n",
    "        loss = criterion(outputs, labels)\n",
    "        loss.backward()\n",
    "        optimizer.step()\n",
    "        \n",
    "        running_loss += loss.item() * inputs.size(0)\n",
    "        _, predicted = torch.max(outputs, 1)\n",
    "        correct_predictions += (predicted == labels).sum().item()\n",
    "        total_samples += labels.size(0)\n",
    "        \n",
    "        if(i%100 == 0):\n",
    "            print(f\"[Sen - {i}/{len(senDL_train)}] train loss : {loss.item()}\")\n",
    "        i = i+1\n",
    "        \n",
    "    train_loss = running_loss / total_samples\n",
    "    train_accuracy = correct_predictions / total_samples\n",
    "    \n",
    "    model.eval()\n",
    "    val_loss = 0.0\n",
    "    correct_val_predictions = 0\n",
    "    total_val_samples = 0\n",
    "    \n",
    "    with torch.no_grad():\n",
    "        for val_inputs, val_labels in senDL_val:\n",
    "            val_inputs, val_labels = val_inputs.to(device), val_labels.to(device)\n",
    "            \n",
    "            val_outputs = model(val_inputs)\n",
    "            loss = criterion(val_outputs, val_labels)\n",
    "            \n",
    "            val_loss += loss.item() * val_inputs.size(0)\n",
    "            _, val_predicted = torch.max(val_outputs, 1)\n",
    "            correct_val_predictions += (val_predicted == val_labels).sum().item()\n",
    "            total_val_samples += val_labels.size(0)\n",
    "    \n",
    "    val_loss /= total_val_samples\n",
    "    val_accuracy = correct_val_predictions / total_val_samples\n",
    "    \n",
    "    # Print epoch stats\n",
    "    print(f'Epoch [{epoch+1}/{num_epochs}]')\n",
    "    print(f'Train Loss: {train_loss:.4f}, Train Accuracy: {train_accuracy:.4f}')\n",
    "    print(f'Validation Loss: {val_loss:.4f}, Validation Accuracy: {val_accuracy:.4f}')"
   ]
  },
  {
   "cell_type": "code",
   "execution_count": 51,
   "id": "6c69a550",
   "metadata": {
    "execution": {
     "iopub.execute_input": "2024-10-21T10:54:51.817688Z",
     "iopub.status.busy": "2024-10-21T10:54:51.816861Z",
     "iopub.status.idle": "2024-10-21T10:55:49.314123Z",
     "shell.execute_reply": "2024-10-21T10:55:49.313227Z"
    },
    "papermill": {
     "duration": 57.621458,
     "end_time": "2024-10-21T10:55:49.377859",
     "exception": false,
     "start_time": "2024-10-21T10:54:51.756401",
     "status": "completed"
    },
    "tags": []
   },
   "outputs": [
    {
     "data": {
      "image/png": "[encoded data removed]",
      "text/plain": [
       "<Figure size 600x400 with 2 Axes>"
      ]
     },
     "metadata": {},
     "output_type": "display_data"
    }
   ],
   "source": [
    "# Get the predictions and true labels for the test set\n",
    "preds, true_labels = get_predictions_and_labels(model, senDL_val)\n",
    "\n",
    "# Compute the confusion matrix\n",
    "conf_matrix = confusion_matrix(true_labels, preds)\n",
    "class_names = [f'Class {i}' for i in range(len(target_class_names)+1)]\n",
    "# Plot the confusion matrix using seaborn\n",
    "plt.figure(figsize=(6, 4))\n",
    "sns.heatmap(conf_matrix, annot=True, fmt=\"d\", cmap=\"Blues\", xticklabels=class_names, yticklabels=class_names)\n",
    "plt.xlabel('Predicted Label')\n",
    "plt.ylabel('True Label')\n",
    "plt.title('Confusion Matrix')\n",
    "plt.show()"
   ]
  },
  {
   "cell_type": "code",
   "execution_count": 52,
   "id": "76f852ea",
   "metadata": {
    "execution": {
     "iopub.execute_input": "2024-10-21T10:55:49.500703Z",
     "iopub.status.busy": "2024-10-21T10:55:49.500321Z",
     "iopub.status.idle": "2024-10-21T10:55:49.508013Z",
     "shell.execute_reply": "2024-10-21T10:55:49.507213Z"
    },
    "papermill": {
     "duration": 0.071375,
     "end_time": "2024-10-21T10:55:49.509986",
     "exception": false,
     "start_time": "2024-10-21T10:55:49.438611",
     "status": "completed"
    },
    "tags": []
   },
   "outputs": [],
   "source": [
    "del senDL_train\n",
    "del senDL_val"
   ]
  },
  {
   "cell_type": "markdown",
   "id": "1d6b9571",
   "metadata": {
    "papermill": {
     "duration": 0.060434,
     "end_time": "2024-10-21T10:55:49.631112",
     "exception": false,
     "start_time": "2024-10-21T10:55:49.570678",
     "status": "completed"
    },
    "tags": []
   },
   "source": [
    "# Septenary"
   ]
  },
  {
   "cell_type": "code",
   "execution_count": null,
   "id": "8098474d",
   "metadata": {
    "papermill": {
     "duration": 0.060135,
     "end_time": "2024-10-21T10:55:49.751717",
     "exception": false,
     "start_time": "2024-10-21T10:55:49.691582",
     "status": "completed"
    },
    "tags": []
   },
   "outputs": [],
   "source": []
  },
  {
   "cell_type": "code",
   "execution_count": 53,
   "id": "8eb05603",
   "metadata": {
    "execution": {
     "iopub.execute_input": "2024-10-21T10:55:49.874710Z",
     "iopub.status.busy": "2024-10-21T10:55:49.873879Z",
     "iopub.status.idle": "2024-10-21T10:56:33.648963Z",
     "shell.execute_reply": "2024-10-21T10:56:33.648141Z"
    },
    "papermill": {
     "duration": 43.839168,
     "end_time": "2024-10-21T10:56:33.651206",
     "exception": false,
     "start_time": "2024-10-21T10:55:49.812038",
     "status": "completed"
    },
    "tags": []
   },
   "outputs": [],
   "source": [
    "target_class_names = [\"Normal\",\"Erosion\",\"Polyp\", \"Angioectasia\", \"Bleeding\", \"Lymphangiectasia\"]\n",
    "septDL_train = getNaryDataLoader(target_class_names=target_class_names, path_to_dataset=train_path, \n",
    "                          batch_size=32, trans = train_transform)\n",
    "septDL_val = getNaryDataLoader(target_class_names=target_class_names, path_to_dataset=val_path, \n",
    "                          batch_size=32, trans = val_transform)"
   ]
  },
  {
   "cell_type": "code",
   "execution_count": 54,
   "id": "fe035cce",
   "metadata": {
    "execution": {
     "iopub.execute_input": "2024-10-21T10:56:33.772967Z",
     "iopub.status.busy": "2024-10-21T10:56:33.772622Z",
     "iopub.status.idle": "2024-10-21T10:56:33.777618Z",
     "shell.execute_reply": "2024-10-21T10:56:33.776758Z"
    },
    "papermill": {
     "duration": 0.067538,
     "end_time": "2024-10-21T10:56:33.779554",
     "exception": false,
     "start_time": "2024-10-21T10:56:33.712016",
     "status": "completed"
    },
    "tags": []
   },
   "outputs": [],
   "source": [
    "# num_ftrs = model.fc.in_features\n",
    "# model.fc = nn.Linear(in_features=num_ftrs, out_features=len(target_class_names)+1)\n",
    "model.set_classification_head(len(target_class_names)+1)"
   ]
  },
  {
   "cell_type": "code",
   "execution_count": 55,
   "id": "1e51ad41",
   "metadata": {
    "execution": {
     "iopub.execute_input": "2024-10-21T10:56:33.900217Z",
     "iopub.status.busy": "2024-10-21T10:56:33.899935Z",
     "iopub.status.idle": "2024-10-21T10:56:33.904510Z",
     "shell.execute_reply": "2024-10-21T10:56:33.903735Z"
    },
    "papermill": {
     "duration": 0.067269,
     "end_time": "2024-10-21T10:56:33.906376",
     "exception": false,
     "start_time": "2024-10-21T10:56:33.839107",
     "status": "completed"
    },
    "tags": []
   },
   "outputs": [],
   "source": [
    "device = torch.device(\"cuda\" if torch.cuda.is_available() else \"cpu\")\n",
    "if torch.cuda.device_count() > 1:\n",
    "    model = nn.DataParallel(model)"
   ]
  },
  {
   "cell_type": "code",
   "execution_count": 56,
   "id": "170972dc",
   "metadata": {
    "execution": {
     "iopub.execute_input": "2024-10-21T10:56:34.027010Z",
     "iopub.status.busy": "2024-10-21T10:56:34.026708Z",
     "iopub.status.idle": "2024-10-21T10:56:34.037025Z",
     "shell.execute_reply": "2024-10-21T10:56:34.036362Z"
    },
    "papermill": {
     "duration": 0.072847,
     "end_time": "2024-10-21T10:56:34.038851",
     "exception": false,
     "start_time": "2024-10-21T10:56:33.966004",
     "status": "completed"
    },
    "tags": []
   },
   "outputs": [],
   "source": [
    "model = model.to(device)\n",
    "criterion = nn.CrossEntropyLoss() \n",
    "# optimizer = torch.optim.Adam(model.parameters(), lr=0.001)"
   ]
  },
  {
   "cell_type": "code",
   "execution_count": 57,
   "id": "6f61095d",
   "metadata": {
    "execution": {
     "iopub.execute_input": "2024-10-21T10:56:34.160515Z",
     "iopub.status.busy": "2024-10-21T10:56:34.160227Z",
     "iopub.status.idle": "2024-10-21T10:56:34.169950Z",
     "shell.execute_reply": "2024-10-21T10:56:34.169074Z"
    },
    "papermill": {
     "duration": 0.072651,
     "end_time": "2024-10-21T10:56:34.171836",
     "exception": false,
     "start_time": "2024-10-21T10:56:34.099185",
     "status": "completed"
    },
    "tags": []
   },
   "outputs": [],
   "source": [
    "model = model.to(device)"
   ]
  },
  {
   "cell_type": "code",
   "execution_count": 58,
   "id": "27723c15",
   "metadata": {
    "execution": {
     "iopub.execute_input": "2024-10-21T10:56:34.293465Z",
     "iopub.status.busy": "2024-10-21T10:56:34.293162Z",
     "iopub.status.idle": "2024-10-21T10:56:34.296954Z",
     "shell.execute_reply": "2024-10-21T10:56:34.296145Z"
    },
    "papermill": {
     "duration": 0.066494,
     "end_time": "2024-10-21T10:56:34.298880",
     "exception": false,
     "start_time": "2024-10-21T10:56:34.232386",
     "status": "completed"
    },
    "tags": []
   },
   "outputs": [],
   "source": [
    "num_epochs = 7"
   ]
  },
  {
   "cell_type": "code",
   "execution_count": 59,
   "id": "db21fa8e",
   "metadata": {
    "execution": {
     "iopub.execute_input": "2024-10-21T10:56:34.422235Z",
     "iopub.status.busy": "2024-10-21T10:56:34.421436Z",
     "iopub.status.idle": "2024-10-21T12:02:36.615329Z",
     "shell.execute_reply": "2024-10-21T12:02:36.614313Z"
    },
    "papermill": {
     "duration": 3962.333161,
     "end_time": "2024-10-21T12:02:36.691991",
     "exception": false,
     "start_time": "2024-10-21T10:56:34.358830",
     "status": "completed"
    },
    "tags": []
   },
   "outputs": [
    {
     "name": "stdout",
     "output_type": "stream",
     "text": [
      "Sept - [0/1854] train loss : 6.346708297729492\n",
      "Sept - [100/1854] train loss : 0.4122444987297058\n",
      "Sept - [200/1854] train loss : 0.34228163957595825\n",
      "Sept - [300/1854] train loss : 0.09559797495603561\n",
      "Sept - [400/1854] train loss : 0.4585431218147278\n",
      "Sept - [500/1854] train loss : 0.14145693182945251\n",
      "Sept - [600/1854] train loss : 0.12865498661994934\n",
      "Sept - [700/1854] train loss : 0.08432269096374512\n",
      "Sept - [800/1854] train loss : 0.2753944396972656\n",
      "Sept - [900/1854] train loss : 0.2220844179391861\n",
      "Sept - [1000/1854] train loss : 0.08810113370418549\n",
      "Sept - [1100/1854] train loss : 0.6582210659980774\n",
      "Sept - [1200/1854] train loss : 0.2536637783050537\n",
      "Sept - [1300/1854] train loss : 0.2211752086877823\n",
      "Sept - [1400/1854] train loss : 0.14532503485679626\n",
      "Sept - [1500/1854] train loss : 0.12741632759571075\n",
      "Sept - [1600/1854] train loss : 0.1730297952890396\n",
      "Sept - [1700/1854] train loss : 0.3877929449081421\n",
      "Sept - [1800/1854] train loss : 0.3466654121875763\n",
      "Epoch [1/7]\n",
      "Train Loss: 0.2179, Train Accuracy: 0.9253\n",
      "Validation Loss: 0.4281, Validation Accuracy: 0.8992\n",
      "Sept - [0/1854] train loss : 0.20123291015625\n",
      "Sept - [100/1854] train loss : 0.10205799341201782\n",
      "Sept - [200/1854] train loss : 0.1701212376356125\n",
      "Sept - [300/1854] train loss : 0.05227959156036377\n",
      "Sept - [400/1854] train loss : 0.02698264829814434\n",
      "Sept - [500/1854] train loss : 0.15006662905216217\n",
      "Sept - [600/1854] train loss : 0.32245972752571106\n",
      "Sept - [700/1854] train loss : 0.023365750908851624\n",
      "Sept - [800/1854] train loss : 0.08174510300159454\n",
      "Sept - [900/1854] train loss : 0.33841001987457275\n",
      "Sept - [1000/1854] train loss : 0.11130695790052414\n",
      "Sept - [1100/1854] train loss : 0.0816560760140419\n",
      "Sept - [1200/1854] train loss : 0.10088852047920227\n",
      "Sept - [1300/1854] train loss : 0.03433755412697792\n",
      "Sept - [1400/1854] train loss : 0.14215506613254547\n",
      "Sept - [1500/1854] train loss : 0.21817980706691742\n",
      "Sept - [1600/1854] train loss : 0.18570178747177124\n",
      "Sept - [1700/1854] train loss : 0.03298349305987358\n",
      "Sept - [1800/1854] train loss : 0.0269471388310194\n",
      "Epoch [2/7]\n",
      "Train Loss: 0.1210, Train Accuracy: 0.9579\n",
      "Validation Loss: 0.4292, Validation Accuracy: 0.8880\n",
      "Sept - [0/1854] train loss : 0.03341501206159592\n",
      "Sept - [100/1854] train loss : 0.09508118778467178\n",
      "Sept - [200/1854] train loss : 0.07347670197486877\n",
      "Sept - [300/1854] train loss : 0.21265387535095215\n",
      "Sept - [400/1854] train loss : 0.017977217212319374\n",
      "Sept - [500/1854] train loss : 0.051581159234046936\n",
      "Sept - [600/1854] train loss : 0.1408660113811493\n",
      "Sept - [700/1854] train loss : 0.044562194496393204\n",
      "Sept - [800/1854] train loss : 0.034120604395866394\n",
      "Sept - [900/1854] train loss : 0.015578288584947586\n",
      "Sept - [1000/1854] train loss : 0.15665678679943085\n",
      "Sept - [1100/1854] train loss : 0.06849444657564163\n",
      "Sept - [1200/1854] train loss : 0.1746828407049179\n",
      "Sept - [1300/1854] train loss : 0.14861369132995605\n",
      "Sept - [1400/1854] train loss : 0.010734417475759983\n",
      "Sept - [1500/1854] train loss : 0.06755383312702179\n",
      "Sept - [1600/1854] train loss : 0.28316012024879456\n",
      "Sept - [1700/1854] train loss : 0.010404284112155437\n",
      "Sept - [1800/1854] train loss : 0.15854185819625854\n",
      "Epoch [3/7]\n",
      "Train Loss: 0.1041, Train Accuracy: 0.9655\n",
      "Validation Loss: 0.4183, Validation Accuracy: 0.9005\n",
      "Sept - [0/1854] train loss : 0.17540141940116882\n",
      "Sept - [100/1854] train loss : 0.004805284086614847\n",
      "Sept - [200/1854] train loss : 0.0313788540661335\n",
      "Sept - [300/1854] train loss : 0.012797064147889614\n",
      "Sept - [400/1854] train loss : 0.008326715789735317\n",
      "Sept - [500/1854] train loss : 0.015688732266426086\n",
      "Sept - [600/1854] train loss : 0.07616592943668365\n",
      "Sept - [700/1854] train loss : 0.12636098265647888\n",
      "Sept - [800/1854] train loss : 0.12889038026332855\n",
      "Sept - [900/1854] train loss : 0.003218196565285325\n",
      "Sept - [1000/1854] train loss : 0.059512607753276825\n",
      "Sept - [1100/1854] train loss : 0.09131667762994766\n",
      "Sept - [1200/1854] train loss : 0.020766859874129295\n",
      "Sept - [1300/1854] train loss : 0.09238314628601074\n",
      "Sept - [1400/1854] train loss : 0.28874504566192627\n",
      "Sept - [1500/1854] train loss : 0.07667355984449387\n",
      "Sept - [1600/1854] train loss : 0.02977905608713627\n",
      "Sept - [1700/1854] train loss : 0.07334686815738678\n",
      "Sept - [1800/1854] train loss : 0.01457616500556469\n",
      "Epoch [4/7]\n",
      "Train Loss: 0.0970, Train Accuracy: 0.9690\n",
      "Validation Loss: 0.4214, Validation Accuracy: 0.9026\n",
      "Sept - [0/1854] train loss : 0.09226824343204498\n",
      "Sept - [100/1854] train loss : 0.26411232352256775\n",
      "Sept - [200/1854] train loss : 0.1782006323337555\n",
      "Sept - [300/1854] train loss : 0.1702050119638443\n",
      "Sept - [400/1854] train loss : 0.12131842970848083\n",
      "Sept - [500/1854] train loss : 0.02914425916969776\n",
      "Sept - [600/1854] train loss : 0.07913363724946976\n",
      "Sept - [700/1854] train loss : 0.2006489783525467\n",
      "Sept - [800/1854] train loss : 0.04728993773460388\n",
      "Sept - [900/1854] train loss : 0.08905414491891861\n",
      "Sept - [1000/1854] train loss : 0.06240410730242729\n",
      "Sept - [1100/1854] train loss : 0.44002750515937805\n",
      "Sept - [1200/1854] train loss : 0.11911985278129578\n",
      "Sept - [1300/1854] train loss : 0.04374926909804344\n",
      "Sept - [1400/1854] train loss : 0.12177108228206635\n",
      "Sept - [1500/1854] train loss : 0.0022891841363161802\n",
      "Sept - [1600/1854] train loss : 0.06921993941068649\n",
      "Sept - [1700/1854] train loss : 0.021277375519275665\n",
      "Sept - [1800/1854] train loss : 0.05654650926589966\n",
      "Epoch [5/7]\n",
      "Train Loss: 0.0788, Train Accuracy: 0.9747\n",
      "Validation Loss: 0.4964, Validation Accuracy: 0.8989\n",
      "Sept - [0/1854] train loss : 0.04242522642016411\n",
      "Sept - [100/1854] train loss : 0.005688662175089121\n",
      "Sept - [200/1854] train loss : 0.001291031250730157\n",
      "Sept - [300/1854] train loss : 0.09762899577617645\n",
      "Sept - [400/1854] train loss : 0.015277929604053497\n",
      "Sept - [500/1854] train loss : 0.033318135887384415\n",
      "Sept - [600/1854] train loss : 0.04571576416492462\n",
      "Sept - [700/1854] train loss : 0.020040960982441902\n",
      "Sept - [800/1854] train loss : 0.024792006239295006\n",
      "Sept - [900/1854] train loss : 0.058332931250333786\n",
      "Sept - [1000/1854] train loss : 0.019910668954253197\n",
      "Sept - [1100/1854] train loss : 0.14415425062179565\n",
      "Sept - [1200/1854] train loss : 0.14018870890140533\n",
      "Sept - [1300/1854] train loss : 0.037457797676324844\n",
      "Sept - [1400/1854] train loss : 0.045530643314123154\n",
      "Sept - [1500/1854] train loss : 0.037073880434036255\n",
      "Sept - [1600/1854] train loss : 0.05215683951973915\n",
      "Sept - [1700/1854] train loss : 0.013062972575426102\n",
      "Sept - [1800/1854] train loss : 0.016459142789244652\n",
      "Epoch [6/7]\n",
      "Train Loss: 0.0762, Train Accuracy: 0.9753\n",
      "Validation Loss: 0.5248, Validation Accuracy: 0.8896\n",
      "Sept - [0/1854] train loss : 0.0032057820353657007\n",
      "Sept - [100/1854] train loss : 0.010347733274102211\n",
      "Sept - [200/1854] train loss : 0.010249189101159573\n",
      "Sept - [300/1854] train loss : 0.06713983416557312\n",
      "Sept - [400/1854] train loss : 0.07716119289398193\n",
      "Sept - [500/1854] train loss : 0.05205371975898743\n",
      "Sept - [600/1854] train loss : 0.024865999817848206\n",
      "Sept - [700/1854] train loss : 0.023131001740694046\n",
      "Sept - [800/1854] train loss : 0.013734057545661926\n",
      "Sept - [900/1854] train loss : 0.07611340284347534\n",
      "Sept - [1000/1854] train loss : 0.046464141458272934\n",
      "Sept - [1100/1854] train loss : 0.013894815929234028\n",
      "Sept - [1200/1854] train loss : 0.09329261630773544\n",
      "Sept - [1300/1854] train loss : 0.07802558690309525\n",
      "Sept - [1400/1854] train loss : 0.058056753128767014\n",
      "Sept - [1500/1854] train loss : 0.00956933107227087\n",
      "Sept - [1600/1854] train loss : 0.005768140312284231\n",
      "Sept - [1700/1854] train loss : 0.025353550910949707\n",
      "Sept - [1800/1854] train loss : 0.12507477402687073\n",
      "Epoch [7/7]\n",
      "Train Loss: 0.0708, Train Accuracy: 0.9769\n",
      "Validation Loss: 0.4528, Validation Accuracy: 0.8937\n"
     ]
    }
   ],
   "source": [
    "for epoch in range(num_epochs):\n",
    "    model.train()\n",
    "    \n",
    "    running_loss = 0.0\n",
    "    correct_predictions = 0\n",
    "    total_samples  =0\n",
    "    i = 0\n",
    "    for inputs, labels in septDL_train:\n",
    "        inputs, labels = inputs.to(device), labels.to(device)\n",
    "        \n",
    "        optimizer.zero_grad()\n",
    "        outputs = model(inputs)\n",
    "        loss = criterion(outputs, labels)\n",
    "        loss.backward()\n",
    "        optimizer.step()\n",
    "        \n",
    "        running_loss += loss.item() * inputs.size(0)\n",
    "        _, predicted = torch.max(outputs, 1)\n",
    "        correct_predictions += (predicted == labels).sum().item()\n",
    "        total_samples += labels.size(0)\n",
    "        \n",
    "        if(i%100 == 0):\n",
    "            print(f\"Sept - [{i}/{len(septDL_train)}] train loss : {loss.item()}\")\n",
    "        i = i+1\n",
    "        \n",
    "    train_loss = running_loss / total_samples\n",
    "    train_accuracy = correct_predictions / total_samples\n",
    "    \n",
    "    model.eval()\n",
    "    val_loss = 0.0\n",
    "    correct_val_predictions = 0\n",
    "    total_val_samples = 0\n",
    "    \n",
    "    with torch.no_grad():\n",
    "        for val_inputs, val_labels in septDL_val:\n",
    "            val_inputs, val_labels = val_inputs.to(device), val_labels.to(device)\n",
    "            \n",
    "            val_outputs = model(val_inputs)\n",
    "            loss = criterion(val_outputs, val_labels)\n",
    "            \n",
    "            val_loss += loss.item() * val_inputs.size(0)\n",
    "            _, val_predicted = torch.max(val_outputs, 1)\n",
    "            correct_val_predictions += (val_predicted == val_labels).sum().item()\n",
    "            total_val_samples += val_labels.size(0)\n",
    "    \n",
    "    val_loss /= total_val_samples\n",
    "    val_accuracy = correct_val_predictions / total_val_samples\n",
    "    \n",
    "    # Print epoch stats\n",
    "    print(f'Epoch [{epoch+1}/{num_epochs}]')\n",
    "    print(f'Train Loss: {train_loss:.4f}, Train Accuracy: {train_accuracy:.4f}')\n",
    "    print(f'Validation Loss: {val_loss:.4f}, Validation Accuracy: {val_accuracy:.4f}')"
   ]
  },
  {
   "cell_type": "code",
   "execution_count": 60,
   "id": "8c464b63",
   "metadata": {
    "execution": {
     "iopub.execute_input": "2024-10-21T12:02:36.834142Z",
     "iopub.status.busy": "2024-10-21T12:02:36.833796Z",
     "iopub.status.idle": "2024-10-21T12:03:33.375963Z",
     "shell.execute_reply": "2024-10-21T12:03:33.374962Z"
    },
    "papermill": {
     "duration": 56.68817,
     "end_time": "2024-10-21T12:03:33.450525",
     "exception": false,
     "start_time": "2024-10-21T12:02:36.762355",
     "status": "completed"
    },
    "tags": []
   },
   "outputs": [
    {
     "data": {
      "image/png": "[encoded data removed]",
      "text/plain": [
       "<Figure size 600x400 with 2 Axes>"
      ]
     },
     "metadata": {},
     "output_type": "display_data"
    }
   ],
   "source": [
    "# Get the predictions and true labels for the test set\n",
    "preds, true_labels = get_predictions_and_labels(model, septDL_val)\n",
    "\n",
    "# Compute the confusion matrix\n",
    "conf_matrix = confusion_matrix(true_labels, preds)\n",
    "class_names = [f'Class {i}' for i in range(len(target_class_names)+1)]\n",
    "# Plot the confusion matrix using seaborn\n",
    "plt.figure(figsize=(6, 4))\n",
    "sns.heatmap(conf_matrix, annot=True, fmt=\"d\", cmap=\"Blues\", xticklabels=class_names, yticklabels=class_names)\n",
    "plt.xlabel('Predicted Label')\n",
    "plt.ylabel('True Label')\n",
    "plt.title('Confusion Matrix')\n",
    "plt.show()"
   ]
  },
  {
   "cell_type": "code",
   "execution_count": 61,
   "id": "fe899834",
   "metadata": {
    "execution": {
     "iopub.execute_input": "2024-10-21T12:03:33.595356Z",
     "iopub.status.busy": "2024-10-21T12:03:33.594561Z",
     "iopub.status.idle": "2024-10-21T12:03:33.602338Z",
     "shell.execute_reply": "2024-10-21T12:03:33.601433Z"
    },
    "papermill": {
     "duration": 0.082604,
     "end_time": "2024-10-21T12:03:33.604326",
     "exception": false,
     "start_time": "2024-10-21T12:03:33.521722",
     "status": "completed"
    },
    "tags": []
   },
   "outputs": [],
   "source": [
    "del septDL_train\n",
    "del septDL_val"
   ]
  },
  {
   "cell_type": "markdown",
   "id": "8aed04db",
   "metadata": {
    "papermill": {
     "duration": 0.071066,
     "end_time": "2024-10-21T12:03:33.746750",
     "exception": false,
     "start_time": "2024-10-21T12:03:33.675684",
     "status": "completed"
    },
    "tags": []
   },
   "source": [
    "# Octal"
   ]
  },
  {
   "cell_type": "code",
   "execution_count": 62,
   "id": "047adb90",
   "metadata": {
    "execution": {
     "iopub.execute_input": "2024-10-21T12:03:33.890378Z",
     "iopub.status.busy": "2024-10-21T12:03:33.890070Z",
     "iopub.status.idle": "2024-10-21T12:04:04.019269Z",
     "shell.execute_reply": "2024-10-21T12:04:04.018289Z"
    },
    "papermill": {
     "duration": 30.2038,
     "end_time": "2024-10-21T12:04:04.021541",
     "exception": false,
     "start_time": "2024-10-21T12:03:33.817741",
     "status": "completed"
    },
    "tags": []
   },
   "outputs": [],
   "source": [
    "target_class_names = [\"Normal\",\"Erosion\",\"Polyp\", \"Angioectasia\", \"Bleeding\", \"Lymphangiectasia\", \"Foreign Body\"]\n",
    "octDL_train = getNaryDataLoader(target_class_names=target_class_names, path_to_dataset=train_path, \n",
    "                          batch_size=32, trans = train_transform)\n",
    "octDL_val = getNaryDataLoader(target_class_names=target_class_names, path_to_dataset=val_path, \n",
    "                          batch_size=32, trans = val_transform)"
   ]
  },
  {
   "cell_type": "code",
   "execution_count": 63,
   "id": "6725f0f0",
   "metadata": {
    "execution": {
     "iopub.execute_input": "2024-10-21T12:04:04.168298Z",
     "iopub.status.busy": "2024-10-21T12:04:04.167439Z",
     "iopub.status.idle": "2024-10-21T12:04:04.172302Z",
     "shell.execute_reply": "2024-10-21T12:04:04.171604Z"
    },
    "papermill": {
     "duration": 0.079888,
     "end_time": "2024-10-21T12:04:04.174176",
     "exception": false,
     "start_time": "2024-10-21T12:04:04.094288",
     "status": "completed"
    },
    "tags": []
   },
   "outputs": [],
   "source": [
    "# num_ftrs = model.fc.in_features\n",
    "# model.fc = nn.Linear(in_features=num_ftrs, out_features=len(target_class_names)+1)\n",
    "model.set_classification_head(len(target_class_names)+1)"
   ]
  },
  {
   "cell_type": "code",
   "execution_count": 64,
   "id": "4bb1b10f",
   "metadata": {
    "execution": {
     "iopub.execute_input": "2024-10-21T12:04:04.357419Z",
     "iopub.status.busy": "2024-10-21T12:04:04.357081Z",
     "iopub.status.idle": "2024-10-21T12:04:04.362015Z",
     "shell.execute_reply": "2024-10-21T12:04:04.361160Z"
    },
    "papermill": {
     "duration": 0.118289,
     "end_time": "2024-10-21T12:04:04.363833",
     "exception": false,
     "start_time": "2024-10-21T12:04:04.245544",
     "status": "completed"
    },
    "tags": []
   },
   "outputs": [],
   "source": [
    "device = torch.device(\"cuda\" if torch.cuda.is_available() else \"cpu\")\n",
    "if torch.cuda.device_count() > 1:\n",
    "    model = nn.DataParallel(model)"
   ]
  },
  {
   "cell_type": "code",
   "execution_count": 65,
   "id": "5eb0c3a0",
   "metadata": {
    "execution": {
     "iopub.execute_input": "2024-10-21T12:04:04.509183Z",
     "iopub.status.busy": "2024-10-21T12:04:04.508670Z",
     "iopub.status.idle": "2024-10-21T12:04:04.518775Z",
     "shell.execute_reply": "2024-10-21T12:04:04.517927Z"
    },
    "papermill": {
     "duration": 0.085569,
     "end_time": "2024-10-21T12:04:04.520720",
     "exception": false,
     "start_time": "2024-10-21T12:04:04.435151",
     "status": "completed"
    },
    "tags": []
   },
   "outputs": [],
   "source": [
    "model = model.to(device)\n",
    "criterion = nn.CrossEntropyLoss() \n",
    "# optimizer = torch.optim.Adam(model.parameters(), lr=0.001)"
   ]
  },
  {
   "cell_type": "code",
   "execution_count": 66,
   "id": "7bcb505d",
   "metadata": {
    "execution": {
     "iopub.execute_input": "2024-10-21T12:04:04.664628Z",
     "iopub.status.busy": "2024-10-21T12:04:04.664302Z",
     "iopub.status.idle": "2024-10-21T12:04:04.674180Z",
     "shell.execute_reply": "2024-10-21T12:04:04.673515Z"
    },
    "papermill": {
     "duration": 0.084216,
     "end_time": "2024-10-21T12:04:04.676027",
     "exception": false,
     "start_time": "2024-10-21T12:04:04.591811",
     "status": "completed"
    },
    "tags": []
   },
   "outputs": [],
   "source": [
    "model = model.to(device)"
   ]
  },
  {
   "cell_type": "code",
   "execution_count": 67,
   "id": "8aa7ea97",
   "metadata": {
    "execution": {
     "iopub.execute_input": "2024-10-21T12:04:04.819466Z",
     "iopub.status.busy": "2024-10-21T12:04:04.818959Z",
     "iopub.status.idle": "2024-10-21T12:04:04.822813Z",
     "shell.execute_reply": "2024-10-21T12:04:04.822040Z"
    },
    "papermill": {
     "duration": 0.077497,
     "end_time": "2024-10-21T12:04:04.824640",
     "exception": false,
     "start_time": "2024-10-21T12:04:04.747143",
     "status": "completed"
    },
    "tags": []
   },
   "outputs": [],
   "source": [
    "num_epochs = 8"
   ]
  },
  {
   "cell_type": "code",
   "execution_count": 68,
   "id": "d08a10e4",
   "metadata": {
    "execution": {
     "iopub.execute_input": "2024-10-21T12:04:04.968350Z",
     "iopub.status.busy": "2024-10-21T12:04:04.967840Z",
     "iopub.status.idle": "2024-10-21T13:18:42.974441Z",
     "shell.execute_reply": "2024-10-21T13:18:42.973378Z"
    },
    "papermill": {
     "duration": 4478.168009,
     "end_time": "2024-10-21T13:18:43.063702",
     "exception": false,
     "start_time": "2024-10-21T12:04:04.895693",
     "status": "completed"
    },
    "tags": []
   },
   "outputs": [
    {
     "name": "stdout",
     "output_type": "stream",
     "text": [
      "Oct - [0/1854] train loss : 6.224739074707031\n",
      "Oct - [100/1854] train loss : 0.16822277009487152\n",
      "Oct - [200/1854] train loss : 0.20318378508090973\n",
      "Oct - [300/1854] train loss : 0.0871099978685379\n",
      "Oct - [400/1854] train loss : 0.05976158007979393\n",
      "Oct - [500/1854] train loss : 0.13215407729148865\n",
      "Oct - [600/1854] train loss : 0.2825140357017517\n",
      "Oct - [700/1854] train loss : 0.031520433723926544\n",
      "Oct - [800/1854] train loss : 0.30419397354125977\n",
      "Oct - [900/1854] train loss : 0.021790998056530952\n",
      "Oct - [1000/1854] train loss : 0.00549918320029974\n",
      "Oct - [1100/1854] train loss : 0.08136612176895142\n",
      "Oct - [1200/1854] train loss : 0.023986145853996277\n",
      "Oct - [1300/1854] train loss : 0.004656643606722355\n",
      "Oct - [1400/1854] train loss : 0.10979585349559784\n",
      "Oct - [1500/1854] train loss : 0.15932205319404602\n",
      "Oct - [1600/1854] train loss : 0.14002574980258942\n",
      "Oct - [1700/1854] train loss : 0.19162069261074066\n",
      "Oct - [1800/1854] train loss : 0.05519023537635803\n",
      "Epoch [1/8]\n",
      "Train Loss: 0.1555, Train Accuracy: 0.9492\n",
      "Validation Loss: 0.5086, Validation Accuracy: 0.8829\n",
      "Oct - [0/1854] train loss : 0.12290803343057632\n",
      "Oct - [100/1854] train loss : 0.12949757277965546\n",
      "Oct - [200/1854] train loss : 0.07686541974544525\n",
      "Oct - [300/1854] train loss : 0.06474659591913223\n",
      "Oct - [400/1854] train loss : 0.01973474770784378\n",
      "Oct - [500/1854] train loss : 0.036193981766700745\n",
      "Oct - [600/1854] train loss : 0.007496458012610674\n",
      "Oct - [700/1854] train loss : 0.018790865316987038\n",
      "Oct - [800/1854] train loss : 0.10052656382322311\n",
      "Oct - [900/1854] train loss : 0.018534986302256584\n",
      "Oct - [1000/1854] train loss : 0.05754814296960831\n",
      "Oct - [1100/1854] train loss : 0.1433127075433731\n",
      "Oct - [1200/1854] train loss : 0.015014850534498692\n",
      "Oct - [1300/1854] train loss : 0.03998604044318199\n",
      "Oct - [1400/1854] train loss : 0.038589466363191605\n",
      "Oct - [1500/1854] train loss : 0.14826340973377228\n",
      "Oct - [1600/1854] train loss : 0.1293453574180603\n",
      "Oct - [1700/1854] train loss : 0.3303104341030121\n",
      "Oct - [1800/1854] train loss : 0.15393632650375366\n",
      "Epoch [2/8]\n",
      "Train Loss: 0.0962, Train Accuracy: 0.9677\n",
      "Validation Loss: 0.4703, Validation Accuracy: 0.8988\n",
      "Oct - [0/1854] train loss : 0.08242271095514297\n",
      "Oct - [100/1854] train loss : 0.03261351212859154\n",
      "Oct - [200/1854] train loss : 0.016677049919962883\n",
      "Oct - [300/1854] train loss : 0.023878151550889015\n",
      "Oct - [400/1854] train loss : 0.024005236104130745\n",
      "Oct - [500/1854] train loss : 0.06433793902397156\n",
      "Oct - [600/1854] train loss : 0.08232337236404419\n",
      "Oct - [700/1854] train loss : 0.03994371369481087\n",
      "Oct - [800/1854] train loss : 0.07905370742082596\n",
      "Oct - [900/1854] train loss : 0.14060094952583313\n",
      "Oct - [1000/1854] train loss : 0.1696985810995102\n",
      "Oct - [1100/1854] train loss : 0.008154408074915409\n",
      "Oct - [1200/1854] train loss : 0.003595392219722271\n",
      "Oct - [1300/1854] train loss : 0.0508820004761219\n",
      "Oct - [1400/1854] train loss : 0.08362767845392227\n",
      "Oct - [1500/1854] train loss : 0.04411821439862251\n",
      "Oct - [1600/1854] train loss : 0.427243709564209\n",
      "Oct - [1700/1854] train loss : 0.03120964765548706\n",
      "Oct - [1800/1854] train loss : 0.03388013318181038\n",
      "Epoch [3/8]\n",
      "Train Loss: 0.0763, Train Accuracy: 0.9753\n",
      "Validation Loss: 0.4723, Validation Accuracy: 0.8944\n",
      "Oct - [0/1854] train loss : 0.062030158936977386\n",
      "Oct - [100/1854] train loss : 0.1355448067188263\n",
      "Oct - [200/1854] train loss : 0.07543107122182846\n",
      "Oct - [300/1854] train loss : 0.18741604685783386\n",
      "Oct - [400/1854] train loss : 0.13194279372692108\n",
      "Oct - [500/1854] train loss : 0.196909099817276\n",
      "Oct - [600/1854] train loss : 0.012172202579677105\n",
      "Oct - [700/1854] train loss : 0.03791922330856323\n",
      "Oct - [800/1854] train loss : 0.08912763744592667\n",
      "Oct - [900/1854] train loss : 0.14570558071136475\n",
      "Oct - [1000/1854] train loss : 0.07013985514640808\n",
      "Oct - [1100/1854] train loss : 0.09205786883831024\n",
      "Oct - [1200/1854] train loss : 0.052297443151474\n",
      "Oct - [1300/1854] train loss : 0.020941436290740967\n",
      "Oct - [1400/1854] train loss : 0.01330860611051321\n",
      "Oct - [1500/1854] train loss : 0.04863712936639786\n",
      "Oct - [1600/1854] train loss : 0.011061348021030426\n",
      "Oct - [1700/1854] train loss : 0.026902910321950912\n",
      "Oct - [1800/1854] train loss : 0.19539275765419006\n",
      "Epoch [4/8]\n",
      "Train Loss: 0.0722, Train Accuracy: 0.9762\n",
      "Validation Loss: 0.5048, Validation Accuracy: 0.9018\n",
      "Oct - [0/1854] train loss : 0.004004997201263905\n",
      "Oct - [100/1854] train loss : 0.029174387454986572\n",
      "Oct - [200/1854] train loss : 0.04501155763864517\n",
      "Oct - [300/1854] train loss : 0.1372973769903183\n",
      "Oct - [400/1854] train loss : 0.09243244677782059\n",
      "Oct - [500/1854] train loss : 0.09876125305891037\n",
      "Oct - [600/1854] train loss : 0.0034185524564236403\n",
      "Oct - [700/1854] train loss : 0.05407964810729027\n",
      "Oct - [800/1854] train loss : 0.327486515045166\n",
      "Oct - [900/1854] train loss : 0.0032841707579791546\n",
      "Oct - [1000/1854] train loss : 0.041262105107307434\n",
      "Oct - [1100/1854] train loss : 0.0344531424343586\n",
      "Oct - [1200/1854] train loss : 0.00898788869380951\n",
      "Oct - [1300/1854] train loss : 0.03133072704076767\n",
      "Oct - [1400/1854] train loss : 0.22439709305763245\n",
      "Oct - [1500/1854] train loss : 0.0014316884335130453\n",
      "Oct - [1600/1854] train loss : 0.051601048558950424\n",
      "Oct - [1700/1854] train loss : 0.06338725239038467\n",
      "Oct - [1800/1854] train loss : 0.05276282876729965\n",
      "Epoch [5/8]\n",
      "Train Loss: 0.0620, Train Accuracy: 0.9797\n",
      "Validation Loss: 0.5030, Validation Accuracy: 0.9012\n",
      "Oct - [0/1854] train loss : 0.002292557852342725\n",
      "Oct - [100/1854] train loss : 0.13752543926239014\n",
      "Oct - [200/1854] train loss : 0.0030630622059106827\n",
      "Oct - [300/1854] train loss : 0.027426930144429207\n",
      "Oct - [400/1854] train loss : 0.0039861467666924\n",
      "Oct - [500/1854] train loss : 0.09085795283317566\n",
      "Oct - [600/1854] train loss : 0.018536536023020744\n",
      "Oct - [700/1854] train loss : 0.0035757916048169136\n",
      "Oct - [800/1854] train loss : 0.006619775667786598\n",
      "Oct - [900/1854] train loss : 0.06471850723028183\n",
      "Oct - [1000/1854] train loss : 0.02414921671152115\n",
      "Oct - [1100/1854] train loss : 0.0314074382185936\n",
      "Oct - [1200/1854] train loss : 0.0005829623551107943\n",
      "Oct - [1300/1854] train loss : 0.11547309160232544\n",
      "Oct - [1400/1854] train loss : 0.031077884137630463\n",
      "Oct - [1500/1854] train loss : 0.010463528335094452\n",
      "Oct - [1600/1854] train loss : 0.03541802242398262\n",
      "Oct - [1700/1854] train loss : 0.017191719263792038\n",
      "Oct - [1800/1854] train loss : 0.07717709988355637\n",
      "Epoch [6/8]\n",
      "Train Loss: 0.0611, Train Accuracy: 0.9799\n",
      "Validation Loss: 0.4795, Validation Accuracy: 0.9046\n",
      "Oct - [0/1854] train loss : 0.10942014306783676\n",
      "Oct - [100/1854] train loss : 0.07881379127502441\n",
      "Oct - [200/1854] train loss : 0.06732671707868576\n",
      "Oct - [300/1854] train loss : 0.00019856223661918193\n",
      "Oct - [400/1854] train loss : 0.004021976143121719\n",
      "Oct - [500/1854] train loss : 0.015480929054319859\n",
      "Oct - [600/1854] train loss : 0.005791644100099802\n",
      "Oct - [700/1854] train loss : 0.08009215444326401\n",
      "Oct - [800/1854] train loss : 0.0020085021387785673\n",
      "Oct - [900/1854] train loss : 0.04169212281703949\n",
      "Oct - [1000/1854] train loss : 0.008190019987523556\n",
      "Oct - [1100/1854] train loss : 0.010023212991654873\n",
      "Oct - [1200/1854] train loss : 0.011324148625135422\n",
      "Oct - [1300/1854] train loss : 0.005029028281569481\n",
      "Oct - [1400/1854] train loss : 0.02447381056845188\n",
      "Oct - [1500/1854] train loss : 0.03466057404875755\n",
      "Oct - [1600/1854] train loss : 0.10727174580097198\n",
      "Oct - [1700/1854] train loss : 0.04298890754580498\n",
      "Oct - [1800/1854] train loss : 0.07294641435146332\n",
      "Epoch [7/8]\n",
      "Train Loss: 0.0558, Train Accuracy: 0.9811\n",
      "Validation Loss: 0.5390, Validation Accuracy: 0.9021\n",
      "Oct - [0/1854] train loss : 0.0041582719422876835\n",
      "Oct - [100/1854] train loss : 0.0026755996514111757\n",
      "Oct - [200/1854] train loss : 0.050306160002946854\n",
      "Oct - [300/1854] train loss : 0.05116966739296913\n",
      "Oct - [400/1854] train loss : 0.000996212475001812\n",
      "Oct - [500/1854] train loss : 0.05311612784862518\n",
      "Oct - [600/1854] train loss : 0.001083090202882886\n",
      "Oct - [700/1854] train loss : 0.08860340714454651\n",
      "Oct - [800/1854] train loss : 0.07968876510858536\n",
      "Oct - [900/1854] train loss : 0.0012852553045377135\n",
      "Oct - [1000/1854] train loss : 0.10697350651025772\n",
      "Oct - [1100/1854] train loss : 0.004679091274738312\n",
      "Oct - [1200/1854] train loss : 0.0009495076956227422\n",
      "Oct - [1300/1854] train loss : 0.010058876127004623\n",
      "Oct - [1400/1854] train loss : 0.1046886295080185\n",
      "Oct - [1500/1854] train loss : 0.006053786724805832\n",
      "Oct - [1600/1854] train loss : 0.09632954001426697\n",
      "Oct - [1700/1854] train loss : 0.0027514477260410786\n",
      "Oct - [1800/1854] train loss : 0.0038024599198251963\n",
      "Epoch [8/8]\n",
      "Train Loss: 0.0504, Train Accuracy: 0.9834\n",
      "Validation Loss: 0.5239, Validation Accuracy: 0.8975\n"
     ]
    }
   ],
   "source": [
    "for epoch in range(num_epochs):\n",
    "    model.train()\n",
    "    \n",
    "    running_loss = 0.0\n",
    "    correct_predictions = 0\n",
    "    total_samples  =0\n",
    "    i = 0\n",
    "    for inputs, labels in octDL_train:\n",
    "        inputs, labels = inputs.to(device), labels.to(device)\n",
    "        \n",
    "        optimizer.zero_grad()\n",
    "        outputs = model(inputs)\n",
    "        loss = criterion(outputs, labels)\n",
    "        loss.backward()\n",
    "        optimizer.step()\n",
    "        \n",
    "        running_loss += loss.item() * inputs.size(0)\n",
    "        _, predicted = torch.max(outputs, 1)\n",
    "        correct_predictions += (predicted == labels).sum().item()\n",
    "        total_samples += labels.size(0)\n",
    "        \n",
    "        if(i%100 == 0):\n",
    "            print(f\"Oct - [{i}/{len(octDL_train)}] train loss : {loss.item()}\")\n",
    "        i = i+1\n",
    "        \n",
    "    train_loss = running_loss / total_samples\n",
    "    train_accuracy = correct_predictions / total_samples\n",
    "    \n",
    "    model.eval()\n",
    "    val_loss = 0.0\n",
    "    correct_val_predictions = 0\n",
    "    total_val_samples = 0\n",
    "    \n",
    "    with torch.no_grad():\n",
    "        for val_inputs, val_labels in octDL_val:\n",
    "            val_inputs, val_labels = val_inputs.to(device), val_labels.to(device)\n",
    "            \n",
    "            val_outputs = model(val_inputs)\n",
    "            loss = criterion(val_outputs, val_labels)\n",
    "            \n",
    "            val_loss += loss.item() * val_inputs.size(0)\n",
    "            _, val_predicted = torch.max(val_outputs, 1)\n",
    "            correct_val_predictions += (val_predicted == val_labels).sum().item()\n",
    "            total_val_samples += val_labels.size(0)\n",
    "    \n",
    "    val_loss /= total_val_samples\n",
    "    val_accuracy = correct_val_predictions / total_val_samples\n",
    "    \n",
    "    # Print epoch stats\n",
    "    print(f'Epoch [{epoch+1}/{num_epochs}]')\n",
    "    print(f'Train Loss: {train_loss:.4f}, Train Accuracy: {train_accuracy:.4f}')\n",
    "    print(f'Validation Loss: {val_loss:.4f}, Validation Accuracy: {val_accuracy:.4f}')"
   ]
  },
  {
   "cell_type": "code",
   "execution_count": 69,
   "id": "bb3dbda0",
   "metadata": {
    "execution": {
     "iopub.execute_input": "2024-10-21T13:18:43.233970Z",
     "iopub.status.busy": "2024-10-21T13:18:43.233610Z",
     "iopub.status.idle": "2024-10-21T13:19:41.438770Z",
     "shell.execute_reply": "2024-10-21T13:19:41.437812Z"
    },
    "papermill": {
     "duration": 58.377564,
     "end_time": "2024-10-21T13:19:41.525620",
     "exception": false,
     "start_time": "2024-10-21T13:18:43.148056",
     "status": "completed"
    },
    "tags": []
   },
   "outputs": [
    {
     "data": {
      "image/png": "[encoded data removed]",
      "text/plain": [
       "<Figure size 600x400 with 2 Axes>"
      ]
     },
     "metadata": {},
     "output_type": "display_data"
    }
   ],
   "source": [
    "# Get the predictions and true labels for the test set\n",
    "preds, true_labels = get_predictions_and_labels(model, octDL_val)\n",
    "\n",
    "# Compute the confusion matrix\n",
    "conf_matrix = confusion_matrix(true_labels, preds)\n",
    "class_names = [f'Class {i}' for i in range(len(target_class_names)+1)]\n",
    "# Plot the confusion matrix using seaborn\n",
    "plt.figure(figsize=(6, 4))\n",
    "sns.heatmap(conf_matrix, annot=True, fmt=\"d\", cmap=\"Blues\", xticklabels=class_names, yticklabels=class_names)\n",
    "plt.xlabel('Predicted Label')\n",
    "plt.ylabel('True Label')\n",
    "plt.title('Confusion Matrix')\n",
    "plt.show()"
   ]
  },
  {
   "cell_type": "code",
   "execution_count": 70,
   "id": "39f31012",
   "metadata": {
    "execution": {
     "iopub.execute_input": "2024-10-21T13:19:41.696835Z",
     "iopub.status.busy": "2024-10-21T13:19:41.696196Z",
     "iopub.status.idle": "2024-10-21T13:19:41.704156Z",
     "shell.execute_reply": "2024-10-21T13:19:41.703241Z"
    },
    "papermill": {
     "duration": 0.095765,
     "end_time": "2024-10-21T13:19:41.706029",
     "exception": false,
     "start_time": "2024-10-21T13:19:41.610264",
     "status": "completed"
    },
    "tags": []
   },
   "outputs": [],
   "source": [
    "del octDL_train\n",
    "del octDL_val"
   ]
  },
  {
   "cell_type": "markdown",
   "id": "61fd58b2",
   "metadata": {
    "papermill": {
     "duration": 0.084416,
     "end_time": "2024-10-21T13:19:41.875618",
     "exception": false,
     "start_time": "2024-10-21T13:19:41.791202",
     "status": "completed"
    },
    "tags": []
   },
   "source": [
    "# Nonary"
   ]
  },
  {
   "cell_type": "code",
   "execution_count": 71,
   "id": "6b3588f1",
   "metadata": {
    "execution": {
     "iopub.execute_input": "2024-10-21T13:19:42.046324Z",
     "iopub.status.busy": "2024-10-21T13:19:42.045489Z",
     "iopub.status.idle": "2024-10-21T13:20:18.179386Z",
     "shell.execute_reply": "2024-10-21T13:20:18.178605Z"
    },
    "papermill": {
     "duration": 36.221818,
     "end_time": "2024-10-21T13:20:18.181794",
     "exception": false,
     "start_time": "2024-10-21T13:19:41.959976",
     "status": "completed"
    },
    "tags": []
   },
   "outputs": [],
   "source": [
    "target_class_names = [\"Normal\",\"Erosion\",\"Polyp\", \"Angioectasia\", \"Bleeding\", \"Lymphangiectasia\", \"Foreign Body\", \"Erythema\"]\n",
    "nonDL_train = getNaryDataLoader(target_class_names=target_class_names, path_to_dataset=train_path, \n",
    "                          batch_size=32, trans = train_transform)\n",
    "nonDL_val = getNaryDataLoader(target_class_names=target_class_names, path_to_dataset=val_path, \n",
    "                          batch_size=32, trans = val_transform)"
   ]
  },
  {
   "cell_type": "code",
   "execution_count": 72,
   "id": "bf979fa6",
   "metadata": {
    "execution": {
     "iopub.execute_input": "2024-10-21T13:20:18.356159Z",
     "iopub.status.busy": "2024-10-21T13:20:18.355468Z",
     "iopub.status.idle": "2024-10-21T13:20:18.360430Z",
     "shell.execute_reply": "2024-10-21T13:20:18.359617Z"
    },
    "papermill": {
     "duration": 0.095181,
     "end_time": "2024-10-21T13:20:18.362560",
     "exception": false,
     "start_time": "2024-10-21T13:20:18.267379",
     "status": "completed"
    },
    "tags": []
   },
   "outputs": [],
   "source": [
    "# num_ftrs = model.fc.in_features\n",
    "# model.fc = nn.Linear(in_features=num_ftrs, out_features=len(target_class_names)+1)\n",
    "model.set_classification_head(len(target_class_names)+1)"
   ]
  },
  {
   "cell_type": "code",
   "execution_count": 73,
   "id": "c8aebe97",
   "metadata": {
    "execution": {
     "iopub.execute_input": "2024-10-21T13:20:18.536090Z",
     "iopub.status.busy": "2024-10-21T13:20:18.535432Z",
     "iopub.status.idle": "2024-10-21T13:20:18.540311Z",
     "shell.execute_reply": "2024-10-21T13:20:18.539458Z"
    },
    "papermill": {
     "duration": 0.09399,
     "end_time": "2024-10-21T13:20:18.542325",
     "exception": false,
     "start_time": "2024-10-21T13:20:18.448335",
     "status": "completed"
    },
    "tags": []
   },
   "outputs": [],
   "source": [
    "device = torch.device(\"cuda\" if torch.cuda.is_available() else \"cpu\")\n",
    "if torch.cuda.device_count() > 1:\n",
    "    model = nn.DataParallel(model)"
   ]
  },
  {
   "cell_type": "code",
   "execution_count": 74,
   "id": "93d7c42c",
   "metadata": {
    "execution": {
     "iopub.execute_input": "2024-10-21T13:20:18.717848Z",
     "iopub.status.busy": "2024-10-21T13:20:18.717184Z",
     "iopub.status.idle": "2024-10-21T13:20:18.728223Z",
     "shell.execute_reply": "2024-10-21T13:20:18.727478Z"
    },
    "papermill": {
     "duration": 0.101325,
     "end_time": "2024-10-21T13:20:18.730379",
     "exception": false,
     "start_time": "2024-10-21T13:20:18.629054",
     "status": "completed"
    },
    "tags": []
   },
   "outputs": [],
   "source": [
    "model = model.to(device)\n",
    "criterion = nn.CrossEntropyLoss() \n",
    "# optimizer = torch.optim.Adam(model.parameters(), lr=0.001)"
   ]
  },
  {
   "cell_type": "code",
   "execution_count": 75,
   "id": "0775fa6f",
   "metadata": {
    "execution": {
     "iopub.execute_input": "2024-10-21T13:20:18.906346Z",
     "iopub.status.busy": "2024-10-21T13:20:18.905977Z",
     "iopub.status.idle": "2024-10-21T13:20:18.916657Z",
     "shell.execute_reply": "2024-10-21T13:20:18.915725Z"
    },
    "papermill": {
     "duration": 0.101333,
     "end_time": "2024-10-21T13:20:18.918702",
     "exception": false,
     "start_time": "2024-10-21T13:20:18.817369",
     "status": "completed"
    },
    "tags": []
   },
   "outputs": [],
   "source": [
    "model = model.to(device)"
   ]
  },
  {
   "cell_type": "code",
   "execution_count": 76,
   "id": "26a1f8c8",
   "metadata": {
    "execution": {
     "iopub.execute_input": "2024-10-21T13:20:19.098864Z",
     "iopub.status.busy": "2024-10-21T13:20:19.098235Z",
     "iopub.status.idle": "2024-10-21T13:20:19.102400Z",
     "shell.execute_reply": "2024-10-21T13:20:19.101559Z"
    },
    "papermill": {
     "duration": 0.097018,
     "end_time": "2024-10-21T13:20:19.104356",
     "exception": false,
     "start_time": "2024-10-21T13:20:19.007338",
     "status": "completed"
    },
    "tags": []
   },
   "outputs": [],
   "source": [
    "num_epochs = 9"
   ]
  },
  {
   "cell_type": "code",
   "execution_count": 77,
   "id": "1435e89a",
   "metadata": {
    "execution": {
     "iopub.execute_input": "2024-10-21T13:20:19.278858Z",
     "iopub.status.busy": "2024-10-21T13:20:19.278127Z",
     "iopub.status.idle": "2024-10-21T14:44:07.034792Z",
     "shell.execute_reply": "2024-10-21T14:44:07.033751Z"
    },
    "papermill": {
     "duration": 5027.959013,
     "end_time": "2024-10-21T14:44:07.149705",
     "exception": false,
     "start_time": "2024-10-21T13:20:19.190692",
     "status": "completed"
    },
    "tags": []
   },
   "outputs": [
    {
     "name": "stdout",
     "output_type": "stream",
     "text": [
      "Non - [0/1854] train loss : 7.930497169494629\n",
      "Non - [100/1854] train loss : 0.12203104794025421\n",
      "Non - [200/1854] train loss : 0.058663271367549896\n",
      "Non - [300/1854] train loss : 0.06999866664409637\n",
      "Non - [400/1854] train loss : 0.0573962926864624\n",
      "Non - [500/1854] train loss : 0.104415662586689\n",
      "Non - [600/1854] train loss : 0.11399053782224655\n",
      "Non - [700/1854] train loss : 0.09772896021604538\n",
      "Non - [800/1854] train loss : 0.1707434356212616\n",
      "Non - [900/1854] train loss : 0.003425853792577982\n",
      "Non - [1000/1854] train loss : 0.005134888458997011\n",
      "Non - [1100/1854] train loss : 0.050474248826503754\n",
      "Non - [1200/1854] train loss : 0.0030702920630574226\n",
      "Non - [1300/1854] train loss : 0.06182710453867912\n",
      "Non - [1400/1854] train loss : 0.0037032647524029016\n",
      "Non - [1500/1854] train loss : 0.12814372777938843\n",
      "Non - [1600/1854] train loss : 0.1292719841003418\n",
      "Non - [1700/1854] train loss : 0.07901962101459503\n",
      "Non - [1800/1854] train loss : 0.04058294743299484\n",
      "Epoch [1/9]\n",
      "Train Loss: 0.1121, Train Accuracy: 0.9666\n",
      "Validation Loss: 0.4849, Validation Accuracy: 0.8979\n",
      "Non - [0/1854] train loss : 0.03554849699139595\n",
      "Non - [100/1854] train loss : 0.16091567277908325\n",
      "Non - [200/1854] train loss : 0.12082311511039734\n",
      "Non - [300/1854] train loss : 0.09513528645038605\n",
      "Non - [400/1854] train loss : 0.05121259763836861\n",
      "Non - [500/1854] train loss : 0.011690660379827023\n",
      "Non - [600/1854] train loss : 0.14429165422916412\n",
      "Non - [700/1854] train loss : 0.011110465973615646\n",
      "Non - [800/1854] train loss : 0.029582686722278595\n",
      "Non - [900/1854] train loss : 0.028004106134176254\n",
      "Non - [1000/1854] train loss : 0.02080428972840309\n",
      "Non - [1100/1854] train loss : 0.015102655626833439\n",
      "Non - [1200/1854] train loss : 0.025087030604481697\n",
      "Non - [1300/1854] train loss : 0.006450309883803129\n",
      "Non - [1400/1854] train loss : 0.13896793127059937\n",
      "Non - [1500/1854] train loss : 0.07494320720434189\n",
      "Non - [1600/1854] train loss : 0.17354673147201538\n",
      "Non - [1700/1854] train loss : 0.21322506666183472\n",
      "Non - [1800/1854] train loss : 0.006418977864086628\n",
      "Epoch [2/9]\n",
      "Train Loss: 0.0613, Train Accuracy: 0.9804\n",
      "Validation Loss: 0.5298, Validation Accuracy: 0.8832\n",
      "Non - [0/1854] train loss : 0.03889540582895279\n",
      "Non - [100/1854] train loss : 0.02967173047363758\n",
      "Non - [200/1854] train loss : 0.003135953564196825\n",
      "Non - [300/1854] train loss : 0.0064527662470936775\n",
      "Non - [400/1854] train loss : 0.001377444714307785\n",
      "Non - [500/1854] train loss : 0.010880552232265472\n",
      "Non - [600/1854] train loss : 0.0018212664872407913\n",
      "Non - [700/1854] train loss : 0.008692007511854172\n",
      "Non - [800/1854] train loss : 0.005007917061448097\n",
      "Non - [900/1854] train loss : 0.1151038259267807\n",
      "Non - [1000/1854] train loss : 0.0050135268829762936\n",
      "Non - [1100/1854] train loss : 0.00208006938919425\n",
      "Non - [1200/1854] train loss : 0.03910563513636589\n",
      "Non - [1300/1854] train loss : 0.02472214587032795\n",
      "Non - [1400/1854] train loss : 0.0551147423684597\n",
      "Non - [1500/1854] train loss : 0.02780025638639927\n",
      "Non - [1600/1854] train loss : 0.07539791613817215\n",
      "Non - [1700/1854] train loss : 0.06518275290727615\n",
      "Non - [1800/1854] train loss : 0.22108003497123718\n",
      "Epoch [3/9]\n",
      "Train Loss: 0.0545, Train Accuracy: 0.9823\n",
      "Validation Loss: 0.5819, Validation Accuracy: 0.9036\n",
      "Non - [0/1854] train loss : 0.07108911871910095\n",
      "Non - [100/1854] train loss : 0.027003882452845573\n",
      "Non - [200/1854] train loss : 0.028605526313185692\n",
      "Non - [300/1854] train loss : 0.003995759878307581\n",
      "Non - [400/1854] train loss : 0.04322100803256035\n",
      "Non - [500/1854] train loss : 0.015526585280895233\n",
      "Non - [600/1854] train loss : 0.004170732572674751\n",
      "Non - [700/1854] train loss : 0.03309544920921326\n",
      "Non - [800/1854] train loss : 0.030169382691383362\n",
      "Non - [900/1854] train loss : 0.1423012912273407\n",
      "Non - [1000/1854] train loss : 0.022571008652448654\n",
      "Non - [1100/1854] train loss : 0.008495761081576347\n",
      "Non - [1200/1854] train loss : 0.05527486279606819\n",
      "Non - [1300/1854] train loss : 0.009831609204411507\n",
      "Non - [1400/1854] train loss : 0.0396806038916111\n",
      "Non - [1500/1854] train loss : 0.020162884145975113\n",
      "Non - [1600/1854] train loss : 0.006943817250430584\n",
      "Non - [1700/1854] train loss : 0.12923070788383484\n",
      "Non - [1800/1854] train loss : 0.24158507585525513\n",
      "Epoch [4/9]\n",
      "Train Loss: 0.0503, Train Accuracy: 0.9829\n",
      "Validation Loss: 0.5050, Validation Accuracy: 0.8949\n",
      "Non - [0/1854] train loss : 0.021413223817944527\n",
      "Non - [100/1854] train loss : 0.03468867763876915\n",
      "Non - [200/1854] train loss : 0.02062782645225525\n",
      "Non - [300/1854] train loss : 0.016462985426187515\n",
      "Non - [400/1854] train loss : 0.007895614951848984\n",
      "Non - [500/1854] train loss : 0.03214957192540169\n",
      "Non - [600/1854] train loss : 0.16037629544734955\n",
      "Non - [700/1854] train loss : 0.022667301818728447\n",
      "Non - [800/1854] train loss : 0.016189608722925186\n",
      "Non - [900/1854] train loss : 0.00395154906436801\n",
      "Non - [1000/1854] train loss : 0.005266239866614342\n",
      "Non - [1100/1854] train loss : 0.09822817146778107\n",
      "Non - [1200/1854] train loss : 0.08855859935283661\n",
      "Non - [1300/1854] train loss : 0.02385827712714672\n",
      "Non - [1400/1854] train loss : 0.007126503624022007\n",
      "Non - [1500/1854] train loss : 0.05596344545483589\n",
      "Non - [1600/1854] train loss : 0.00046608690172433853\n",
      "Non - [1700/1854] train loss : 0.000863764900714159\n",
      "Non - [1800/1854] train loss : 0.21915878355503082\n",
      "Epoch [5/9]\n",
      "Train Loss: 0.0506, Train Accuracy: 0.9829\n",
      "Validation Loss: 0.5476, Validation Accuracy: 0.8979\n",
      "Non - [0/1854] train loss : 0.002138245152309537\n",
      "Non - [100/1854] train loss : 0.005756373051553965\n",
      "Non - [200/1854] train loss : 0.11825796961784363\n",
      "Non - [300/1854] train loss : 0.012179018929600716\n",
      "Non - [400/1854] train loss : 0.042730461806058884\n",
      "Non - [500/1854] train loss : 0.10377239435911179\n",
      "Non - [600/1854] train loss : 0.18054622411727905\n",
      "Non - [700/1854] train loss : 0.0004504288954194635\n",
      "Non - [800/1854] train loss : 0.004568277392536402\n",
      "Non - [900/1854] train loss : 0.014990327879786491\n",
      "Non - [1000/1854] train loss : 0.0070046293549239635\n",
      "Non - [1100/1854] train loss : 0.07120753079652786\n",
      "Non - [1200/1854] train loss : 0.00866241566836834\n",
      "Non - [1300/1854] train loss : 0.02970564179122448\n",
      "Non - [1400/1854] train loss : 0.053250450640916824\n",
      "Non - [1500/1854] train loss : 0.0038889492861926556\n",
      "Non - [1600/1854] train loss : 0.08508864045143127\n",
      "Non - [1700/1854] train loss : 0.023800699040293694\n",
      "Non - [1800/1854] train loss : 0.015069854445755482\n",
      "Epoch [6/9]\n",
      "Train Loss: 0.0442, Train Accuracy: 0.9843\n",
      "Validation Loss: 0.6340, Validation Accuracy: 0.8995\n",
      "Non - [0/1854] train loss : 0.0003664636460598558\n",
      "Non - [100/1854] train loss : 0.013471728190779686\n",
      "Non - [200/1854] train loss : 0.02185286208987236\n",
      "Non - [300/1854] train loss : 0.0058533549308776855\n",
      "Non - [400/1854] train loss : 0.05539635568857193\n",
      "Non - [500/1854] train loss : 0.0001412179262842983\n",
      "Non - [600/1854] train loss : 0.01674318127334118\n",
      "Non - [700/1854] train loss : 0.08938508480787277\n",
      "Non - [800/1854] train loss : 0.05719533562660217\n",
      "Non - [900/1854] train loss : 0.02563486061990261\n",
      "Non - [1000/1854] train loss : 0.053133413195610046\n",
      "Non - [1100/1854] train loss : 0.003924719989299774\n",
      "Non - [1200/1854] train loss : 0.02947503700852394\n",
      "Non - [1300/1854] train loss : 0.001549266278743744\n",
      "Non - [1400/1854] train loss : 0.018852701410651207\n",
      "Non - [1500/1854] train loss : 0.0027810095343738794\n",
      "Non - [1600/1854] train loss : 3.398484841454774e-05\n",
      "Non - [1700/1854] train loss : 0.004074694588780403\n",
      "Non - [1800/1854] train loss : 0.021379783749580383\n",
      "Epoch [7/9]\n",
      "Train Loss: 0.0446, Train Accuracy: 0.9842\n",
      "Validation Loss: 0.5310, Validation Accuracy: 0.9011\n",
      "Non - [0/1854] train loss : 0.00651131197810173\n",
      "Non - [100/1854] train loss : 0.011436178348958492\n",
      "Non - [200/1854] train loss : 0.01354940328747034\n",
      "Non - [300/1854] train loss : 0.008231702260673046\n",
      "Non - [400/1854] train loss : 0.05963834375143051\n",
      "Non - [500/1854] train loss : 0.02836729772388935\n",
      "Non - [600/1854] train loss : 0.011097338981926441\n",
      "Non - [700/1854] train loss : 0.005715451668947935\n",
      "Non - [800/1854] train loss : 0.0005411458550952375\n",
      "Non - [900/1854] train loss : 0.006256529595702887\n",
      "Non - [1000/1854] train loss : 0.029552198946475983\n",
      "Non - [1100/1854] train loss : 0.003297993680462241\n",
      "Non - [1200/1854] train loss : 0.0001653237413847819\n",
      "Non - [1300/1854] train loss : 0.01712697558104992\n",
      "Non - [1400/1854] train loss : 0.0043814899399876595\n",
      "Non - [1500/1854] train loss : 0.23427143692970276\n",
      "Non - [1600/1854] train loss : 0.25463590025901794\n",
      "Non - [1700/1854] train loss : 0.016486631706357002\n",
      "Non - [1800/1854] train loss : 0.08396990597248077\n",
      "Epoch [8/9]\n",
      "Train Loss: 0.0436, Train Accuracy: 0.9845\n",
      "Validation Loss: 0.5655, Validation Accuracy: 0.9027\n",
      "Non - [0/1854] train loss : 0.0014807467814534903\n",
      "Non - [100/1854] train loss : 0.06899014860391617\n",
      "Non - [200/1854] train loss : 0.0022114033345133066\n",
      "Non - [300/1854] train loss : 0.09578274190425873\n",
      "Non - [400/1854] train loss : 0.0025792578235268593\n",
      "Non - [500/1854] train loss : 0.006288543809205294\n",
      "Non - [600/1854] train loss : 0.008074280805885792\n",
      "Non - [700/1854] train loss : 0.004234021529555321\n",
      "Non - [800/1854] train loss : 0.05815153941512108\n",
      "Non - [900/1854] train loss : 0.0029110158793628216\n",
      "Non - [1000/1854] train loss : 0.015358420088887215\n",
      "Non - [1100/1854] train loss : 0.014417859725654125\n",
      "Non - [1200/1854] train loss : 0.0012579270405694842\n",
      "Non - [1300/1854] train loss : 0.07320395112037659\n",
      "Non - [1400/1854] train loss : 0.017380038276314735\n",
      "Non - [1500/1854] train loss : 0.11156655848026276\n",
      "Non - [1600/1854] train loss : 0.0017699506133794785\n",
      "Non - [1700/1854] train loss : 0.03571348264813423\n",
      "Non - [1800/1854] train loss : 0.0033916328102350235\n",
      "Epoch [9/9]\n",
      "Train Loss: 0.0423, Train Accuracy: 0.9846\n",
      "Validation Loss: 0.6149, Validation Accuracy: 0.9062\n"
     ]
    }
   ],
   "source": [
    "for epoch in range(num_epochs):\n",
    "    model.train()\n",
    "    \n",
    "    running_loss = 0.0\n",
    "    correct_predictions = 0\n",
    "    total_samples  =0\n",
    "    i = 0\n",
    "    for inputs, labels in nonDL_train:\n",
    "        inputs, labels = inputs.to(device), labels.to(device)\n",
    "        \n",
    "        optimizer.zero_grad()\n",
    "        outputs = model(inputs)\n",
    "        loss = criterion(outputs, labels)\n",
    "        loss.backward()\n",
    "        optimizer.step()\n",
    "        \n",
    "        running_loss += loss.item() * inputs.size(0)\n",
    "        _, predicted = torch.max(outputs, 1)\n",
    "        correct_predictions += (predicted == labels).sum().item()\n",
    "        total_samples += labels.size(0)\n",
    "        \n",
    "        if(i%100 == 0):\n",
    "            print(f\"Non - [{i}/{len(nonDL_train)}] train loss : {loss.item()}\")\n",
    "        i = i+1\n",
    "        \n",
    "    train_loss = running_loss / total_samples\n",
    "    train_accuracy = correct_predictions / total_samples\n",
    "    \n",
    "    model.eval()\n",
    "    val_loss = 0.0\n",
    "    correct_val_predictions = 0\n",
    "    total_val_samples = 0\n",
    "    \n",
    "    with torch.no_grad():\n",
    "        for val_inputs, val_labels in nonDL_val:\n",
    "            val_inputs, val_labels = val_inputs.to(device), val_labels.to(device)\n",
    "            \n",
    "            val_outputs = model(val_inputs)\n",
    "            loss = criterion(val_outputs, val_labels)\n",
    "            \n",
    "            val_loss += loss.item() * val_inputs.size(0)\n",
    "            _, val_predicted = torch.max(val_outputs, 1)\n",
    "            correct_val_predictions += (val_predicted == val_labels).sum().item()\n",
    "            total_val_samples += val_labels.size(0)\n",
    "    \n",
    "    val_loss /= total_val_samples\n",
    "    val_accuracy = correct_val_predictions / total_val_samples\n",
    "    \n",
    "    # Print epoch stats\n",
    "    print(f'Epoch [{epoch+1}/{num_epochs}]')\n",
    "    print(f'Train Loss: {train_loss:.4f}, Train Accuracy: {train_accuracy:.4f}')\n",
    "    print(f'Validation Loss: {val_loss:.4f}, Validation Accuracy: {val_accuracy:.4f}')"
   ]
  },
  {
   "cell_type": "code",
   "execution_count": 78,
   "id": "29911f31",
   "metadata": {
    "execution": {
     "iopub.execute_input": "2024-10-21T14:44:07.382476Z",
     "iopub.status.busy": "2024-10-21T14:44:07.382083Z",
     "iopub.status.idle": "2024-10-21T14:45:04.594440Z",
     "shell.execute_reply": "2024-10-21T14:45:04.593563Z"
    },
    "papermill": {
     "duration": 57.424239,
     "end_time": "2024-10-21T14:45:04.696465",
     "exception": false,
     "start_time": "2024-10-21T14:44:07.272226",
     "status": "completed"
    },
    "tags": []
   },
   "outputs": [
    {
     "data": {
      "image/png": "[encoded data removed]",
      "text/plain": [
       "<Figure size 600x400 with 2 Axes>"
      ]
     },
     "metadata": {},
     "output_type": "display_data"
    }
   ],
   "source": [
    "# Get the predictions and true labels for the test set\n",
    "preds, true_labels = get_predictions_and_labels(model, nonDL_val)\n",
    "\n",
    "# Compute the confusion matrix\n",
    "conf_matrix = confusion_matrix(true_labels, preds)\n",
    "class_names = [f'Class {i}' for i in range(len(target_class_names)+1)]\n",
    "# Plot the confusion matrix using seaborn\n",
    "plt.figure(figsize=(6, 4))\n",
    "sns.heatmap(conf_matrix, annot=True, fmt=\"d\", cmap=\"Blues\", xticklabels=class_names, yticklabels=class_names)\n",
    "plt.xlabel('Predicted Label')\n",
    "plt.ylabel('True Label')\n",
    "plt.title('Confusion Matrix')\n",
    "plt.show()"
   ]
  },
  {
   "cell_type": "code",
   "execution_count": 79,
   "id": "86630cfb",
   "metadata": {
    "execution": {
     "iopub.execute_input": "2024-10-21T14:45:04.894731Z",
     "iopub.status.busy": "2024-10-21T14:45:04.894036Z",
     "iopub.status.idle": "2024-10-21T14:45:04.901482Z",
     "shell.execute_reply": "2024-10-21T14:45:04.900639Z"
    },
    "papermill": {
     "duration": 0.108628,
     "end_time": "2024-10-21T14:45:04.903426",
     "exception": false,
     "start_time": "2024-10-21T14:45:04.794798",
     "status": "completed"
    },
    "tags": []
   },
   "outputs": [],
   "source": [
    "del nonDL_train\n",
    "del nonDL_val"
   ]
  },
  {
   "cell_type": "markdown",
   "id": "f7aecb70",
   "metadata": {
    "papermill": {
     "duration": 0.09966,
     "end_time": "2024-10-21T14:45:05.101853",
     "exception": false,
     "start_time": "2024-10-21T14:45:05.002193",
     "status": "completed"
    },
    "tags": []
   },
   "source": [
    "# Decimal"
   ]
  },
  {
   "cell_type": "code",
   "execution_count": 80,
   "id": "a0527654",
   "metadata": {
    "execution": {
     "iopub.execute_input": "2024-10-21T14:45:05.302342Z",
     "iopub.status.busy": "2024-10-21T14:45:05.301413Z",
     "iopub.status.idle": "2024-10-21T14:45:36.540060Z",
     "shell.execute_reply": "2024-10-21T14:45:36.539233Z"
    },
    "papermill": {
     "duration": 31.34125,
     "end_time": "2024-10-21T14:45:36.542400",
     "exception": false,
     "start_time": "2024-10-21T14:45:05.201150",
     "status": "completed"
    },
    "tags": []
   },
   "outputs": [],
   "source": [
    "target_class_names = [\"Normal\",\"Erosion\",\"Polyp\", \"Angioectasia\", \"Bleeding\", \"Lymphangiectasia\", \"Foreign Body\", \"Erythema\",\"Ulcer\"]\n",
    "decDL_train = getNaryDataLoader(target_class_names=target_class_names, path_to_dataset=train_path, \n",
    "                          batch_size=32, trans = train_transform)\n",
    "decDL_val = getNaryDataLoader(target_class_names=target_class_names, path_to_dataset=val_path, \n",
    "                          batch_size=32, trans = val_transform)"
   ]
  },
  {
   "cell_type": "code",
   "execution_count": 81,
   "id": "17841c27",
   "metadata": {
    "execution": {
     "iopub.execute_input": "2024-10-21T14:45:36.743162Z",
     "iopub.status.busy": "2024-10-21T14:45:36.742341Z",
     "iopub.status.idle": "2024-10-21T14:45:36.747047Z",
     "shell.execute_reply": "2024-10-21T14:45:36.746282Z"
    },
    "papermill": {
     "duration": 0.105622,
     "end_time": "2024-10-21T14:45:36.748883",
     "exception": false,
     "start_time": "2024-10-21T14:45:36.643261",
     "status": "completed"
    },
    "tags": []
   },
   "outputs": [],
   "source": [
    "# num_ftrs = model.fc.in_features\n",
    "# model.fc = nn.Linear(in_features=num_ftrs, out_features=len(target_class_names)+1)\n",
    "model.set_classification_head(len(target_class_names)+1)"
   ]
  },
  {
   "cell_type": "code",
   "execution_count": 82,
   "id": "57b33489",
   "metadata": {
    "execution": {
     "iopub.execute_input": "2024-10-21T14:45:36.947393Z",
     "iopub.status.busy": "2024-10-21T14:45:36.947082Z",
     "iopub.status.idle": "2024-10-21T14:45:36.952240Z",
     "shell.execute_reply": "2024-10-21T14:45:36.951530Z"
    },
    "papermill": {
     "duration": 0.106728,
     "end_time": "2024-10-21T14:45:36.954125",
     "exception": false,
     "start_time": "2024-10-21T14:45:36.847397",
     "status": "completed"
    },
    "tags": []
   },
   "outputs": [],
   "source": [
    "device = torch.device(\"cuda\" if torch.cuda.is_available() else \"cpu\")\n",
    "if torch.cuda.device_count() > 1:\n",
    "    model = nn.DataParallel(model)"
   ]
  },
  {
   "cell_type": "code",
   "execution_count": 83,
   "id": "4f049008",
   "metadata": {
    "execution": {
     "iopub.execute_input": "2024-10-21T14:45:37.153683Z",
     "iopub.status.busy": "2024-10-21T14:45:37.153324Z",
     "iopub.status.idle": "2024-10-21T14:45:37.163617Z",
     "shell.execute_reply": "2024-10-21T14:45:37.162739Z"
    },
    "papermill": {
     "duration": 0.112739,
     "end_time": "2024-10-21T14:45:37.165609",
     "exception": false,
     "start_time": "2024-10-21T14:45:37.052870",
     "status": "completed"
    },
    "tags": []
   },
   "outputs": [],
   "source": [
    "model = model.to(device)\n",
    "criterion = nn.CrossEntropyLoss() \n",
    "# optimizer = torch.optim.Adam(model.parameters(), lr=0.001)"
   ]
  },
  {
   "cell_type": "code",
   "execution_count": 84,
   "id": "862d94e4",
   "metadata": {
    "execution": {
     "iopub.execute_input": "2024-10-21T14:45:37.365417Z",
     "iopub.status.busy": "2024-10-21T14:45:37.364676Z",
     "iopub.status.idle": "2024-10-21T14:45:37.374431Z",
     "shell.execute_reply": "2024-10-21T14:45:37.373596Z"
    },
    "papermill": {
     "duration": 0.111407,
     "end_time": "2024-10-21T14:45:37.376309",
     "exception": false,
     "start_time": "2024-10-21T14:45:37.264902",
     "status": "completed"
    },
    "tags": []
   },
   "outputs": [],
   "source": [
    "model = model.to(device)"
   ]
  },
  {
   "cell_type": "code",
   "execution_count": 85,
   "id": "094de594",
   "metadata": {
    "execution": {
     "iopub.execute_input": "2024-10-21T14:45:37.576407Z",
     "iopub.status.busy": "2024-10-21T14:45:37.575786Z",
     "iopub.status.idle": "2024-10-21T14:45:37.579861Z",
     "shell.execute_reply": "2024-10-21T14:45:37.578999Z"
    },
    "papermill": {
     "duration": 0.105916,
     "end_time": "2024-10-21T14:45:37.581675",
     "exception": false,
     "start_time": "2024-10-21T14:45:37.475759",
     "status": "completed"
    },
    "tags": []
   },
   "outputs": [],
   "source": [
    "num_epochs = 10"
   ]
  },
  {
   "cell_type": "code",
   "execution_count": 86,
   "id": "6ed61124",
   "metadata": {
    "execution": {
     "iopub.execute_input": "2024-10-21T14:45:37.779716Z",
     "iopub.status.busy": "2024-10-21T14:45:37.779381Z",
     "iopub.status.idle": "2024-10-21T16:18:33.271709Z",
     "shell.execute_reply": "2024-10-21T16:18:33.270509Z"
    },
    "papermill": {
     "duration": 5575.710297,
     "end_time": "2024-10-21T16:18:33.390356",
     "exception": false,
     "start_time": "2024-10-21T14:45:37.680059",
     "status": "completed"
    },
    "tags": []
   },
   "outputs": [
    {
     "name": "stdout",
     "output_type": "stream",
     "text": [
      "Dec - [0/1854] train loss : 11.292646408081055\n",
      "Dec - [100/1854] train loss : 0.10403469949960709\n",
      "Dec - [200/1854] train loss : 0.1044764593243599\n",
      "Dec - [300/1854] train loss : 0.01773829385638237\n",
      "Dec - [400/1854] train loss : 0.04145343601703644\n",
      "Dec - [500/1854] train loss : 0.0028802084270864725\n",
      "Dec - [600/1854] train loss : 0.004695962183177471\n",
      "Dec - [700/1854] train loss : 0.14364312589168549\n",
      "Dec - [800/1854] train loss : 0.011601705104112625\n",
      "Dec - [900/1854] train loss : 0.02902253158390522\n",
      "Dec - [1000/1854] train loss : 0.0933200791478157\n",
      "Dec - [1100/1854] train loss : 0.40354734659194946\n",
      "Dec - [1200/1854] train loss : 0.1235252395272255\n",
      "Dec - [1300/1854] train loss : 0.022457996383309364\n",
      "Dec - [1400/1854] train loss : 0.3118397295475006\n",
      "Dec - [1500/1854] train loss : 0.0008608946809545159\n",
      "Dec - [1600/1854] train loss : 0.14084415137767792\n",
      "Dec - [1700/1854] train loss : 0.0032545782160013914\n",
      "Dec - [1800/1854] train loss : 0.007655496709048748\n",
      "Epoch [1/10]\n",
      "Train Loss: 0.0927, Train Accuracy: 0.9745\n",
      "Validation Loss: 0.5737, Validation Accuracy: 0.9024\n",
      "Dec - [0/1854] train loss : 0.15405267477035522\n",
      "Dec - [100/1854] train loss : 0.1355242282152176\n",
      "Dec - [200/1854] train loss : 0.08039525151252747\n",
      "Dec - [300/1854] train loss : 0.008946082554757595\n",
      "Dec - [400/1854] train loss : 0.00187759252730757\n",
      "Dec - [500/1854] train loss : 0.08567710220813751\n",
      "Dec - [600/1854] train loss : 0.03708675131201744\n",
      "Dec - [700/1854] train loss : 0.16711291670799255\n",
      "Dec - [800/1854] train loss : 0.039917320013046265\n",
      "Dec - [900/1854] train loss : 0.24200710654258728\n",
      "Dec - [1000/1854] train loss : 0.30322471261024475\n",
      "Dec - [1100/1854] train loss : 0.023070428520441055\n",
      "Dec - [1200/1854] train loss : 0.049556665122509\n",
      "Dec - [1300/1854] train loss : 0.19451361894607544\n",
      "Dec - [1400/1854] train loss : 0.10190539062023163\n",
      "Dec - [1500/1854] train loss : 0.017448928207159042\n",
      "Dec - [1600/1854] train loss : 0.0674668475985527\n",
      "Dec - [1700/1854] train loss : 0.006288043223321438\n",
      "Dec - [1800/1854] train loss : 0.02472512051463127\n",
      "Epoch [2/10]\n",
      "Train Loss: 0.0560, Train Accuracy: 0.9823\n",
      "Validation Loss: 0.5733, Validation Accuracy: 0.9024\n",
      "Dec - [0/1854] train loss : 0.13512443006038666\n",
      "Dec - [100/1854] train loss : 0.09012670069932938\n",
      "Dec - [200/1854] train loss : 0.005528139881789684\n",
      "Dec - [300/1854] train loss : 0.0062476638704538345\n",
      "Dec - [400/1854] train loss : 0.011107213795185089\n",
      "Dec - [500/1854] train loss : 0.007470007054507732\n",
      "Dec - [600/1854] train loss : 0.05668145790696144\n",
      "Dec - [700/1854] train loss : 0.04302285984158516\n",
      "Dec - [800/1854] train loss : 0.033911045640707016\n",
      "Dec - [900/1854] train loss : 0.040187787264585495\n",
      "Dec - [1000/1854] train loss : 0.0020230868831276894\n",
      "Dec - [1100/1854] train loss : 0.0013613882474601269\n",
      "Dec - [1200/1854] train loss : 0.06867244839668274\n",
      "Dec - [1300/1854] train loss : 0.0228691715747118\n",
      "Dec - [1400/1854] train loss : 0.02575630135834217\n",
      "Dec - [1500/1854] train loss : 0.215581476688385\n",
      "Dec - [1600/1854] train loss : 0.0011890392052009702\n",
      "Dec - [1700/1854] train loss : 0.07070276141166687\n",
      "Dec - [1800/1854] train loss : 0.0012790197506546974\n",
      "Epoch [3/10]\n",
      "Train Loss: 0.0430, Train Accuracy: 0.9847\n",
      "Validation Loss: 0.6077, Validation Accuracy: 0.9053\n",
      "Dec - [0/1854] train loss : 0.0011195169063284993\n",
      "Dec - [100/1854] train loss : 0.005286138970404863\n",
      "Dec - [200/1854] train loss : 0.02881460264325142\n",
      "Dec - [300/1854] train loss : 0.01714075170457363\n",
      "Dec - [400/1854] train loss : 0.06984832137823105\n",
      "Dec - [500/1854] train loss : 0.011425376869738102\n",
      "Dec - [600/1854] train loss : 0.0695161297917366\n",
      "Dec - [700/1854] train loss : 0.010514500550925732\n",
      "Dec - [800/1854] train loss : 0.0276835635304451\n",
      "Dec - [900/1854] train loss : 0.028341276571154594\n",
      "Dec - [1000/1854] train loss : 0.19739072024822235\n",
      "Dec - [1100/1854] train loss : 0.03641709312796593\n",
      "Dec - [1200/1854] train loss : 0.03865416720509529\n",
      "Dec - [1300/1854] train loss : 0.09176544100046158\n",
      "Dec - [1400/1854] train loss : 0.034961383789777756\n",
      "Dec - [1500/1854] train loss : 0.026322556659579277\n",
      "Dec - [1600/1854] train loss : 0.028560813516378403\n",
      "Dec - [1700/1854] train loss : 0.003564069513231516\n",
      "Dec - [1800/1854] train loss : 0.03552503511309624\n",
      "Epoch [4/10]\n",
      "Train Loss: 0.0402, Train Accuracy: 0.9852\n",
      "Validation Loss: 0.6420, Validation Accuracy: 0.9006\n",
      "Dec - [0/1854] train loss : 0.0010632474441081285\n",
      "Dec - [100/1854] train loss : 0.053008072078228\n",
      "Dec - [200/1854] train loss : 0.01817040517926216\n",
      "Dec - [300/1854] train loss : 0.10050641745328903\n",
      "Dec - [400/1854] train loss : 0.11527686566114426\n",
      "Dec - [500/1854] train loss : 0.020764002576470375\n",
      "Dec - [600/1854] train loss : 0.17276979982852936\n",
      "Dec - [700/1854] train loss : 0.004115471616387367\n",
      "Dec - [800/1854] train loss : 0.0023483920376747847\n",
      "Dec - [900/1854] train loss : 0.023814313113689423\n",
      "Dec - [1000/1854] train loss : 0.00022734339290764183\n",
      "Dec - [1100/1854] train loss : 0.050816506147384644\n",
      "Dec - [1200/1854] train loss : 0.003439126769080758\n",
      "Dec - [1300/1854] train loss : 0.009037652984261513\n",
      "Dec - [1400/1854] train loss : 0.060366060584783554\n",
      "Dec - [1500/1854] train loss : 0.002877083607017994\n",
      "Dec - [1600/1854] train loss : 0.0032254920806735754\n",
      "Dec - [1700/1854] train loss : 0.08759564906358719\n",
      "Dec - [1800/1854] train loss : 0.00015610753325745463\n",
      "Epoch [5/10]\n",
      "Train Loss: 0.0467, Train Accuracy: 0.9836\n",
      "Validation Loss: 0.6520, Validation Accuracy: 0.9013\n",
      "Dec - [0/1854] train loss : 0.04416145011782646\n",
      "Dec - [100/1854] train loss : 0.0036946358159184456\n",
      "Dec - [200/1854] train loss : 0.018443116918206215\n",
      "Dec - [300/1854] train loss : 0.0034076792653650045\n",
      "Dec - [400/1854] train loss : 0.3274155557155609\n",
      "Dec - [500/1854] train loss : 0.0002835488994605839\n",
      "Dec - [600/1854] train loss : 0.38526806235313416\n",
      "Dec - [700/1854] train loss : 0.05082287639379501\n",
      "Dec - [800/1854] train loss : 0.0458415150642395\n",
      "Dec - [900/1854] train loss : 0.0013238723622635007\n",
      "Dec - [1000/1854] train loss : 0.01907946914434433\n",
      "Dec - [1100/1854] train loss : 0.0012032880913466215\n",
      "Dec - [1200/1854] train loss : 0.0046963077038526535\n",
      "Dec - [1300/1854] train loss : 0.2710475027561188\n",
      "Dec - [1400/1854] train loss : 0.18792565166950226\n",
      "Dec - [1500/1854] train loss : 0.007945436984300613\n",
      "Dec - [1600/1854] train loss : 0.018812790513038635\n",
      "Dec - [1700/1854] train loss : 7.549690053565428e-05\n",
      "Dec - [1800/1854] train loss : 0.0008971699862740934\n",
      "Epoch [6/10]\n",
      "Train Loss: 0.0419, Train Accuracy: 0.9852\n",
      "Validation Loss: 0.6611, Validation Accuracy: 0.9009\n",
      "Dec - [0/1854] train loss : 0.0017844103276729584\n",
      "Dec - [100/1854] train loss : 0.027353262528777122\n",
      "Dec - [200/1854] train loss : 0.0007697759428992867\n",
      "Dec - [300/1854] train loss : 0.009304560720920563\n",
      "Dec - [400/1854] train loss : 0.03317183256149292\n",
      "Dec - [500/1854] train loss : 0.0663105845451355\n",
      "Dec - [600/1854] train loss : 0.06542167067527771\n",
      "Dec - [700/1854] train loss : 0.0024822300765663385\n",
      "Dec - [800/1854] train loss : 0.13598836958408356\n",
      "Dec - [900/1854] train loss : 0.00308307446539402\n",
      "Dec - [1000/1854] train loss : 0.001186561188660562\n",
      "Dec - [1100/1854] train loss : 0.0017844587564468384\n",
      "Dec - [1200/1854] train loss : 0.0019637432415038347\n",
      "Dec - [1300/1854] train loss : 0.0023638640996068716\n",
      "Dec - [1400/1854] train loss : 0.011662829667329788\n",
      "Dec - [1500/1854] train loss : 0.34926408529281616\n",
      "Dec - [1600/1854] train loss : 0.0011881652753800154\n",
      "Dec - [1700/1854] train loss : 0.07258348166942596\n",
      "Dec - [1800/1854] train loss : 0.11539363861083984\n",
      "Epoch [7/10]\n",
      "Train Loss: 0.0380, Train Accuracy: 0.9859\n",
      "Validation Loss: 0.6072, Validation Accuracy: 0.8964\n",
      "Dec - [0/1854] train loss : 0.017644615843892097\n",
      "Dec - [100/1854] train loss : 0.058561068028211594\n",
      "Dec - [200/1854] train loss : 0.03835908696055412\n",
      "Dec - [300/1854] train loss : 0.002002902328968048\n",
      "Dec - [400/1854] train loss : 0.012932374142110348\n",
      "Dec - [500/1854] train loss : 0.0003400567511562258\n",
      "Dec - [600/1854] train loss : 0.013123400509357452\n",
      "Dec - [700/1854] train loss : 0.007555468939244747\n",
      "Dec - [800/1854] train loss : 0.002103615552186966\n",
      "Dec - [900/1854] train loss : 0.036232009530067444\n",
      "Dec - [1000/1854] train loss : 0.0010987818241119385\n",
      "Dec - [1100/1854] train loss : 0.00575148593634367\n",
      "Dec - [1200/1854] train loss : 0.000428136030677706\n",
      "Dec - [1300/1854] train loss : 0.018586894497275352\n",
      "Dec - [1400/1854] train loss : 0.01352729368954897\n",
      "Dec - [1500/1854] train loss : 0.07471589744091034\n",
      "Dec - [1600/1854] train loss : 0.0651392862200737\n",
      "Dec - [1700/1854] train loss : 0.022691406309604645\n",
      "Dec - [1800/1854] train loss : 0.021388573572039604\n",
      "Epoch [8/10]\n",
      "Train Loss: 0.0354, Train Accuracy: 0.9866\n",
      "Validation Loss: 0.7939, Validation Accuracy: 0.9011\n",
      "Dec - [0/1854] train loss : 0.0036660211626440287\n",
      "Dec - [100/1854] train loss : 0.000903629173990339\n",
      "Dec - [200/1854] train loss : 0.0013000252656638622\n",
      "Dec - [300/1854] train loss : 0.038637906312942505\n",
      "Dec - [400/1854] train loss : 4.6882058086339384e-05\n",
      "Dec - [500/1854] train loss : 0.013224831782281399\n",
      "Dec - [600/1854] train loss : 0.004281594417989254\n",
      "Dec - [700/1854] train loss : 0.0070891715586185455\n",
      "Dec - [800/1854] train loss : 0.06611008197069168\n",
      "Dec - [900/1854] train loss : 0.002939825877547264\n",
      "Dec - [1000/1854] train loss : 0.1918618381023407\n",
      "Dec - [1100/1854] train loss : 0.040345076471567154\n",
      "Dec - [1200/1854] train loss : 0.003750184318050742\n",
      "Dec - [1300/1854] train loss : 0.07509730756282806\n",
      "Dec - [1400/1854] train loss : 0.0016261455602943897\n",
      "Dec - [1500/1854] train loss : 0.06834016740322113\n",
      "Dec - [1600/1854] train loss : 0.05994747579097748\n",
      "Dec - [1700/1854] train loss : 0.0798225849866867\n",
      "Dec - [1800/1854] train loss : 0.00030654636793769896\n",
      "Epoch [9/10]\n",
      "Train Loss: 0.0405, Train Accuracy: 0.9852\n",
      "Validation Loss: 0.6831, Validation Accuracy: 0.8954\n",
      "Dec - [0/1854] train loss : 0.11850631982088089\n",
      "Dec - [100/1854] train loss : 0.033857107162475586\n",
      "Dec - [200/1854] train loss : 0.0007585198618471622\n",
      "Dec - [300/1854] train loss : 0.0003187184047419578\n",
      "Dec - [400/1854] train loss : 0.0027578824665397406\n",
      "Dec - [500/1854] train loss : 0.025607556104660034\n",
      "Dec - [600/1854] train loss : 0.004457023926079273\n",
      "Dec - [700/1854] train loss : 0.08819659054279327\n",
      "Dec - [800/1854] train loss : 0.0020106458105146885\n",
      "Dec - [900/1854] train loss : 0.0007552075549028814\n",
      "Dec - [1000/1854] train loss : 0.04686751216650009\n",
      "Dec - [1100/1854] train loss : 0.01449767779558897\n",
      "Dec - [1200/1854] train loss : 0.0038223639130592346\n",
      "Dec - [1300/1854] train loss : 0.024920491501688957\n",
      "Dec - [1400/1854] train loss : 0.026002967730164528\n",
      "Dec - [1500/1854] train loss : 0.012850136496126652\n",
      "Dec - [1600/1854] train loss : 0.006646046414971352\n",
      "Dec - [1700/1854] train loss : 0.116314597427845\n",
      "Dec - [1800/1854] train loss : 0.041933879256248474\n",
      "Epoch [10/10]\n",
      "Train Loss: 0.0336, Train Accuracy: 0.9867\n",
      "Validation Loss: 0.8620, Validation Accuracy: 0.8889\n"
     ]
    }
   ],
   "source": [
    "for epoch in range(num_epochs):\n",
    "    model.train()\n",
    "    \n",
    "    running_loss = 0.0\n",
    "    correct_predictions = 0\n",
    "    total_samples  =0\n",
    "    i = 0\n",
    "    for inputs, labels in decDL_train:\n",
    "        inputs, labels = inputs.to(device), labels.to(device)\n",
    "        \n",
    "        optimizer.zero_grad()\n",
    "        outputs = model(inputs)\n",
    "        loss = criterion(outputs, labels)\n",
    "        loss.backward()\n",
    "        optimizer.step()\n",
    "        \n",
    "        running_loss += loss.item() * inputs.size(0)\n",
    "        _, predicted = torch.max(outputs, 1)\n",
    "        correct_predictions += (predicted == labels).sum().item()\n",
    "        total_samples += labels.size(0)\n",
    "        \n",
    "        if(i%100 == 0):\n",
    "            print(f\"Dec - [{i}/{len(decDL_train)}] train loss : {loss.item()}\")\n",
    "        i = i+1\n",
    "        \n",
    "    train_loss = running_loss / total_samples\n",
    "    train_accuracy = correct_predictions / total_samples\n",
    "    \n",
    "    model.eval()\n",
    "    val_loss = 0.0\n",
    "    correct_val_predictions = 0\n",
    "    total_val_samples = 0\n",
    "    \n",
    "    with torch.no_grad():\n",
    "        for val_inputs, val_labels in decDL_val:\n",
    "            val_inputs, val_labels = val_inputs.to(device), val_labels.to(device)\n",
    "            \n",
    "            val_outputs = model(val_inputs)\n",
    "            loss = criterion(val_outputs, val_labels)\n",
    "            \n",
    "            val_loss += loss.item() * val_inputs.size(0)\n",
    "            _, val_predicted = torch.max(val_outputs, 1)\n",
    "            correct_val_predictions += (val_predicted == val_labels).sum().item()\n",
    "            total_val_samples += val_labels.size(0)\n",
    "    \n",
    "    val_loss /= total_val_samples\n",
    "    val_accuracy = correct_val_predictions / total_val_samples\n",
    "    \n",
    "    # Print epoch stats\n",
    "    print(f'Epoch [{epoch+1}/{num_epochs}]')\n",
    "    print(f'Train Loss: {train_loss:.4f}, Train Accuracy: {train_accuracy:.4f}')\n",
    "    print(f'Validation Loss: {val_loss:.4f}, Validation Accuracy: {val_accuracy:.4f}')"
   ]
  },
  {
   "cell_type": "code",
   "execution_count": 87,
   "id": "7588da3b",
   "metadata": {
    "execution": {
     "iopub.execute_input": "2024-10-21T16:18:33.623456Z",
     "iopub.status.busy": "2024-10-21T16:18:33.622412Z",
     "iopub.status.idle": "2024-10-21T16:19:29.797116Z",
     "shell.execute_reply": "2024-10-21T16:19:29.796215Z"
    },
    "papermill": {
     "duration": 56.410577,
     "end_time": "2024-10-21T16:19:29.916345",
     "exception": false,
     "start_time": "2024-10-21T16:18:33.505768",
     "status": "completed"
    },
    "tags": []
   },
   "outputs": [
    {
     "data": {
      "image/png": "[encoded data removed]",
      "text/plain": [
       "<Figure size 600x400 with 2 Axes>"
      ]
     },
     "metadata": {},
     "output_type": "display_data"
    }
   ],
   "source": [
    "# Get the predictions and true labels for the test set\n",
    "preds, true_labels = get_predictions_and_labels(model, decDL_val)\n",
    "\n",
    "# Compute the confusion matrix\n",
    "conf_matrix = confusion_matrix(true_labels, preds)\n",
    "class_names = [f'Class {i}' for i in range(len(target_class_names)+1)]\n",
    "# Plot the confusion matrix using seaborn\n",
    "plt.figure(figsize=(6, 4))\n",
    "sns.heatmap(conf_matrix, annot=True, fmt=\"d\", cmap=\"Blues\", xticklabels=class_names, yticklabels=class_names)\n",
    "plt.xlabel('Predicted Label')\n",
    "plt.ylabel('True Label')\n",
    "plt.title('Confusion Matrix')\n",
    "plt.show()"
   ]
  },
  {
   "cell_type": "code",
   "execution_count": 88,
   "id": "2ac5a108",
   "metadata": {
    "execution": {
     "iopub.execute_input": "2024-10-21T16:19:30.153338Z",
     "iopub.status.busy": "2024-10-21T16:19:30.152491Z",
     "iopub.status.idle": "2024-10-21T16:19:30.160422Z",
     "shell.execute_reply": "2024-10-21T16:19:30.159589Z"
    },
    "papermill": {
     "duration": 0.128802,
     "end_time": "2024-10-21T16:19:30.162265",
     "exception": false,
     "start_time": "2024-10-21T16:19:30.033463",
     "status": "completed"
    },
    "tags": []
   },
   "outputs": [],
   "source": [
    "del decDL_train\n",
    "del decDL_val"
   ]
  },
  {
   "cell_type": "markdown",
   "id": "633aca97",
   "metadata": {
    "papermill": {
     "duration": 0.117591,
     "end_time": "2024-10-21T16:19:30.412379",
     "exception": false,
     "start_time": "2024-10-21T16:19:30.294788",
     "status": "completed"
    },
    "tags": []
   },
   "source": [
    "# Final"
   ]
  },
  {
   "cell_type": "code",
   "execution_count": 89,
   "id": "37a0efb4",
   "metadata": {
    "execution": {
     "iopub.execute_input": "2024-10-21T16:19:30.644055Z",
     "iopub.status.busy": "2024-10-21T16:19:30.643403Z",
     "iopub.status.idle": "2024-10-21T16:19:57.707499Z",
     "shell.execute_reply": "2024-10-21T16:19:57.706720Z"
    },
    "papermill": {
     "duration": 27.182126,
     "end_time": "2024-10-21T16:19:57.709744",
     "exception": false,
     "start_time": "2024-10-21T16:19:30.527618",
     "status": "completed"
    },
    "tags": []
   },
   "outputs": [],
   "source": [
    "target_class_names = [\"Normal\",\"Erosion\",\"Polyp\", \"Angioectasia\", \"Bleeding\", \"Lymphangiectasia\", \"Foreign Body\", \"Erythema\",\"Ulcer\",\"Worms\"]\n",
    "finDL_train = getNaryDataLoader(target_class_names=target_class_names, path_to_dataset=train_path, \n",
    "                          batch_size=32, trans = train_transform)\n",
    "finDL_val = getNaryDataLoader(target_class_names=target_class_names, path_to_dataset=val_path, \n",
    "                          batch_size=32, trans = val_transform)"
   ]
  },
  {
   "cell_type": "code",
   "execution_count": 90,
   "id": "0d95d8cc",
   "metadata": {
    "execution": {
     "iopub.execute_input": "2024-10-21T16:19:57.945179Z",
     "iopub.status.busy": "2024-10-21T16:19:57.944763Z",
     "iopub.status.idle": "2024-10-21T16:19:57.949932Z",
     "shell.execute_reply": "2024-10-21T16:19:57.949093Z"
    },
    "papermill": {
     "duration": 0.124151,
     "end_time": "2024-10-21T16:19:57.951831",
     "exception": false,
     "start_time": "2024-10-21T16:19:57.827680",
     "status": "completed"
    },
    "tags": []
   },
   "outputs": [],
   "source": [
    "# num_ftrs = model.fc.in_features\n",
    "# model.fc = nn.Linear(in_features=num_ftrs, out_features=len(target_class_names)+1)\n",
    "model.set_classification_head(len(target_class_names)+1)"
   ]
  },
  {
   "cell_type": "code",
   "execution_count": 91,
   "id": "9b1f2894",
   "metadata": {
    "execution": {
     "iopub.execute_input": "2024-10-21T16:19:58.188392Z",
     "iopub.status.busy": "2024-10-21T16:19:58.188045Z",
     "iopub.status.idle": "2024-10-21T16:19:58.192761Z",
     "shell.execute_reply": "2024-10-21T16:19:58.191871Z"
    },
    "papermill": {
     "duration": 0.12643,
     "end_time": "2024-10-21T16:19:58.194704",
     "exception": false,
     "start_time": "2024-10-21T16:19:58.068274",
     "status": "completed"
    },
    "tags": []
   },
   "outputs": [],
   "source": [
    "device = torch.device(\"cuda\" if torch.cuda.is_available() else \"cpu\")\n",
    "if torch.cuda.device_count() > 1:\n",
    "    model = nn.DataParallel(model)"
   ]
  },
  {
   "cell_type": "code",
   "execution_count": 92,
   "id": "1ad3111b",
   "metadata": {
    "execution": {
     "iopub.execute_input": "2024-10-21T16:19:58.430610Z",
     "iopub.status.busy": "2024-10-21T16:19:58.429617Z",
     "iopub.status.idle": "2024-10-21T16:19:58.440228Z",
     "shell.execute_reply": "2024-10-21T16:19:58.439556Z"
    },
    "papermill": {
     "duration": 0.130075,
     "end_time": "2024-10-21T16:19:58.442195",
     "exception": false,
     "start_time": "2024-10-21T16:19:58.312120",
     "status": "completed"
    },
    "tags": []
   },
   "outputs": [],
   "source": [
    "model = model.to(device)\n",
    "criterion = nn.CrossEntropyLoss() \n",
    "# optimizer = torch.optim.Adam(model.parameters(), lr=0.001)"
   ]
  },
  {
   "cell_type": "code",
   "execution_count": 93,
   "id": "20cdee25",
   "metadata": {
    "execution": {
     "iopub.execute_input": "2024-10-21T16:19:58.675462Z",
     "iopub.status.busy": "2024-10-21T16:19:58.674861Z",
     "iopub.status.idle": "2024-10-21T16:19:58.685167Z",
     "shell.execute_reply": "2024-10-21T16:19:58.684470Z"
    },
    "papermill": {
     "duration": 0.129644,
     "end_time": "2024-10-21T16:19:58.687105",
     "exception": false,
     "start_time": "2024-10-21T16:19:58.557461",
     "status": "completed"
    },
    "tags": []
   },
   "outputs": [],
   "source": [
    "model = model.to(device)"
   ]
  },
  {
   "cell_type": "code",
   "execution_count": 94,
   "id": "7af264b1",
   "metadata": {
    "execution": {
     "iopub.execute_input": "2024-10-21T16:19:58.921462Z",
     "iopub.status.busy": "2024-10-21T16:19:58.920640Z",
     "iopub.status.idle": "2024-10-21T16:19:58.924811Z",
     "shell.execute_reply": "2024-10-21T16:19:58.924012Z"
    },
    "papermill": {
     "duration": 0.122663,
     "end_time": "2024-10-21T16:19:58.926659",
     "exception": false,
     "start_time": "2024-10-21T16:19:58.803996",
     "status": "completed"
    },
    "tags": []
   },
   "outputs": [],
   "source": [
    "num_epochs = 15"
   ]
  },
  {
   "cell_type": "code",
   "execution_count": 95,
   "id": "201c2c2f",
   "metadata": {
    "execution": {
     "iopub.execute_input": "2024-10-21T16:19:59.163020Z",
     "iopub.status.busy": "2024-10-21T16:19:59.162044Z",
     "iopub.status.idle": "2024-10-21T18:38:05.741808Z",
     "shell.execute_reply": "2024-10-21T18:38:05.740709Z"
    },
    "papermill": {
     "duration": 8286.842023,
     "end_time": "2024-10-21T18:38:05.884671",
     "exception": false,
     "start_time": "2024-10-21T16:19:59.042648",
     "status": "completed"
    },
    "tags": []
   },
   "outputs": [
    {
     "name": "stdout",
     "output_type": "stream",
     "text": [
      "Fin - [0/1854] train loss : 7.848100185394287\n",
      "Fin - [100/1854] train loss : 0.0025589449796825647\n",
      "Fin - [200/1854] train loss : 0.0014016241766512394\n",
      "Fin - [300/1854] train loss : 0.0008581134025007486\n",
      "Fin - [400/1854] train loss : 0.026245402172207832\n",
      "Fin - [500/1854] train loss : 0.00044592490303330123\n",
      "Fin - [600/1854] train loss : 0.029489772394299507\n",
      "Fin - [700/1854] train loss : 0.015455886721611023\n",
      "Fin - [800/1854] train loss : 0.0013693837681785226\n",
      "Fin - [900/1854] train loss : 0.01248049084097147\n",
      "Fin - [1000/1854] train loss : 0.005645812023431063\n",
      "Fin - [1100/1854] train loss : 0.06642767786979675\n",
      "Fin - [1200/1854] train loss : 0.10909957438707352\n",
      "Fin - [1300/1854] train loss : 0.11583314090967178\n",
      "Fin - [1400/1854] train loss : 0.005502718035131693\n",
      "Fin - [1500/1854] train loss : 0.031082913279533386\n",
      "Fin - [1600/1854] train loss : 0.00016097581828944385\n",
      "Fin - [1700/1854] train loss : 0.0024417368695139885\n",
      "Fin - [1800/1854] train loss : 0.0002281781635247171\n",
      "Epoch [1/15]\n",
      "Train Loss: 0.0629, Train Accuracy: 0.9816\n",
      "Validation Loss: 0.7402, Validation Accuracy: 0.9007\n",
      "Fin - [0/1854] train loss : 0.0012575144646689296\n",
      "Fin - [100/1854] train loss : 0.6935693025588989\n",
      "Fin - [200/1854] train loss : 0.0028580166399478912\n",
      "Fin - [300/1854] train loss : 0.1883772313594818\n",
      "Fin - [400/1854] train loss : 0.0018738096114248037\n",
      "Fin - [500/1854] train loss : 0.04284851253032684\n",
      "Fin - [600/1854] train loss : 0.0030976536218076944\n",
      "Fin - [700/1854] train loss : 0.015515481121838093\n",
      "Fin - [800/1854] train loss : 0.004431265871971846\n",
      "Fin - [900/1854] train loss : 0.09703336656093597\n",
      "Fin - [1000/1854] train loss : 0.010184869170188904\n",
      "Fin - [1100/1854] train loss : 0.018025998026132584\n",
      "Fin - [1200/1854] train loss : 0.008465533144772053\n",
      "Fin - [1300/1854] train loss : 0.0012440911959856749\n",
      "Fin - [1400/1854] train loss : 0.020377829670906067\n",
      "Fin - [1500/1854] train loss : 0.051160916686058044\n",
      "Fin - [1600/1854] train loss : 0.027653375640511513\n",
      "Fin - [1700/1854] train loss : 0.09990305453538895\n",
      "Fin - [1800/1854] train loss : 0.003098175162449479\n",
      "Epoch [2/15]\n",
      "Train Loss: 0.0392, Train Accuracy: 0.9865\n",
      "Validation Loss: 0.7056, Validation Accuracy: 0.9019\n",
      "Fin - [0/1854] train loss : 0.0029243179596960545\n",
      "Fin - [100/1854] train loss : 0.007492901757359505\n",
      "Fin - [200/1854] train loss : 0.008507177233695984\n",
      "Fin - [300/1854] train loss : 0.00033186638029292226\n",
      "Fin - [400/1854] train loss : 0.005931741092354059\n",
      "Fin - [500/1854] train loss : 0.029549792408943176\n",
      "Fin - [600/1854] train loss : 0.0002921402337960899\n",
      "Fin - [700/1854] train loss : 0.0827006846666336\n",
      "Fin - [800/1854] train loss : 0.055766358971595764\n",
      "Fin - [900/1854] train loss : 0.162186399102211\n",
      "Fin - [1000/1854] train loss : 0.03889429569244385\n",
      "Fin - [1100/1854] train loss : 0.03501889109611511\n",
      "Fin - [1200/1854] train loss : 0.03633943200111389\n",
      "Fin - [1300/1854] train loss : 0.0005924293072894216\n",
      "Fin - [1400/1854] train loss : 0.04326942190527916\n",
      "Fin - [1500/1854] train loss : 0.0030490050558000803\n",
      "Fin - [1600/1854] train loss : 0.08450191468000412\n",
      "Fin - [1700/1854] train loss : 0.017605934292078018\n",
      "Fin - [1800/1854] train loss : 0.00029284553602337837\n",
      "Epoch [3/15]\n",
      "Train Loss: 0.0424, Train Accuracy: 0.9856\n",
      "Validation Loss: 0.6421, Validation Accuracy: 0.9004\n",
      "Fin - [0/1854] train loss : 0.04108243063092232\n",
      "Fin - [100/1854] train loss : 0.0042153229005634785\n",
      "Fin - [200/1854] train loss : 0.00011446078860899433\n",
      "Fin - [300/1854] train loss : 0.006159734912216663\n",
      "Fin - [400/1854] train loss : 0.10772048681974411\n",
      "Fin - [500/1854] train loss : 0.030392397195100784\n",
      "Fin - [600/1854] train loss : 0.0061075990088284016\n",
      "Fin - [700/1854] train loss : 0.13835814595222473\n",
      "Fin - [800/1854] train loss : 0.06404241919517517\n",
      "Fin - [900/1854] train loss : 0.06886406242847443\n",
      "Fin - [1000/1854] train loss : 0.010661023668944836\n",
      "Fin - [1100/1854] train loss : 0.003910482861101627\n",
      "Fin - [1200/1854] train loss : 0.028487352654337883\n",
      "Fin - [1300/1854] train loss : 0.0030605101492255926\n",
      "Fin - [1400/1854] train loss : 0.010553677566349506\n",
      "Fin - [1500/1854] train loss : 0.0148073835298419\n",
      "Fin - [1600/1854] train loss : 0.12985928356647491\n",
      "Fin - [1700/1854] train loss : 0.0014804813545197248\n",
      "Fin - [1800/1854] train loss : 0.06015000864863396\n",
      "Epoch [4/15]\n",
      "Train Loss: 0.0313, Train Accuracy: 0.9881\n",
      "Validation Loss: 0.6064, Validation Accuracy: 0.9029\n",
      "Fin - [0/1854] train loss : 0.04849013313651085\n",
      "Fin - [100/1854] train loss : 0.004857359919697046\n",
      "Fin - [200/1854] train loss : 0.055756062269210815\n",
      "Fin - [300/1854] train loss : 0.02789561077952385\n",
      "Fin - [400/1854] train loss : 0.018470970913767815\n",
      "Fin - [500/1854] train loss : 0.0018843973521143198\n",
      "Fin - [600/1854] train loss : 0.07202201336622238\n",
      "Fin - [700/1854] train loss : 0.0006313955527730286\n",
      "Fin - [800/1854] train loss : 0.10608170926570892\n",
      "Fin - [900/1854] train loss : 0.002078296383842826\n",
      "Fin - [1000/1854] train loss : 0.04703905060887337\n",
      "Fin - [1100/1854] train loss : 0.00199494487605989\n",
      "Fin - [1200/1854] train loss : 0.00019010741380043328\n",
      "Fin - [1300/1854] train loss : 0.004324424080550671\n",
      "Fin - [1400/1854] train loss : 0.18742206692695618\n",
      "Fin - [1500/1854] train loss : 0.025207875296473503\n",
      "Fin - [1600/1854] train loss : 5.3471703722607344e-05\n",
      "Fin - [1700/1854] train loss : 0.011636676266789436\n",
      "Fin - [1800/1854] train loss : 0.07612597942352295\n",
      "Epoch [5/15]\n",
      "Train Loss: 0.0356, Train Accuracy: 0.9868\n",
      "Validation Loss: 0.5530, Validation Accuracy: 0.9008\n",
      "Fin - [0/1854] train loss : 0.027910806238651276\n",
      "Fin - [100/1854] train loss : 0.007028913125395775\n",
      "Fin - [200/1854] train loss : 0.007349429186433554\n",
      "Fin - [300/1854] train loss : 0.053557299077510834\n",
      "Fin - [400/1854] train loss : 0.002771122381091118\n",
      "Fin - [500/1854] train loss : 0.00328782107681036\n",
      "Fin - [600/1854] train loss : 0.0016731461510062218\n",
      "Fin - [700/1854] train loss : 0.036507897078990936\n",
      "Fin - [800/1854] train loss : 0.0010688022011891007\n",
      "Fin - [900/1854] train loss : 0.017248433083295822\n",
      "Fin - [1000/1854] train loss : 0.0008216422284021974\n",
      "Fin - [1100/1854] train loss : 0.19302187860012054\n",
      "Fin - [1200/1854] train loss : 0.024081964045763016\n",
      "Fin - [1300/1854] train loss : 0.00017214915715157986\n",
      "Fin - [1400/1854] train loss : 0.04032908380031586\n",
      "Fin - [1500/1854] train loss : 0.0001919901551445946\n",
      "Fin - [1600/1854] train loss : 0.19630840420722961\n",
      "Fin - [1700/1854] train loss : 0.11241672933101654\n",
      "Fin - [1800/1854] train loss : 0.006963876076042652\n",
      "Epoch [6/15]\n",
      "Train Loss: 0.0325, Train Accuracy: 0.9872\n",
      "Validation Loss: 0.6927, Validation Accuracy: 0.9029\n",
      "Fin - [0/1854] train loss : 0.01599193550646305\n",
      "Fin - [100/1854] train loss : 0.00045339466305449605\n",
      "Fin - [200/1854] train loss : 3.89867382182274e-05\n",
      "Fin - [300/1854] train loss : 0.005601308308541775\n",
      "Fin - [400/1854] train loss : 0.0038281092420220375\n",
      "Fin - [500/1854] train loss : 2.6064373741974123e-05\n",
      "Fin - [600/1854] train loss : 0.28335922956466675\n",
      "Fin - [700/1854] train loss : 0.019041532650589943\n",
      "Fin - [800/1854] train loss : 0.29817989468574524\n",
      "Fin - [900/1854] train loss : 0.014667162671685219\n",
      "Fin - [1000/1854] train loss : 0.026073293760418892\n",
      "Fin - [1100/1854] train loss : 0.008336611092090607\n",
      "Fin - [1200/1854] train loss : 0.04348079487681389\n",
      "Fin - [1300/1854] train loss : 0.023378465324640274\n",
      "Fin - [1400/1854] train loss : 0.026292376220226288\n",
      "Fin - [1500/1854] train loss : 0.09923750162124634\n",
      "Fin - [1600/1854] train loss : 0.00032780662877485156\n",
      "Fin - [1700/1854] train loss : 0.011203584261238575\n",
      "Fin - [1800/1854] train loss : 0.009886744432151318\n",
      "Epoch [7/15]\n",
      "Train Loss: 0.0332, Train Accuracy: 0.9869\n",
      "Validation Loss: 0.6538, Validation Accuracy: 0.9007\n",
      "Fin - [0/1854] train loss : 0.0027774889022111893\n",
      "Fin - [100/1854] train loss : 0.016630079597234726\n",
      "Fin - [200/1854] train loss : 0.001648232340812683\n",
      "Fin - [300/1854] train loss : 0.07385165244340897\n",
      "Fin - [400/1854] train loss : 0.05357850342988968\n",
      "Fin - [500/1854] train loss : 0.0692211240530014\n",
      "Fin - [600/1854] train loss : 0.00012397921818774194\n",
      "Fin - [700/1854] train loss : 0.005434466525912285\n",
      "Fin - [800/1854] train loss : 0.04285939037799835\n",
      "Fin - [900/1854] train loss : 0.0022655806969851255\n",
      "Fin - [1000/1854] train loss : 0.05248146504163742\n",
      "Fin - [1100/1854] train loss : 0.11664298176765442\n",
      "Fin - [1200/1854] train loss : 0.026769179850816727\n",
      "Fin - [1300/1854] train loss : 0.000288827926851809\n",
      "Fin - [1400/1854] train loss : 1.81253781192936e-05\n",
      "Fin - [1500/1854] train loss : 0.0003851417568512261\n",
      "Fin - [1600/1854] train loss : 5.204265107749961e-05\n",
      "Fin - [1700/1854] train loss : 0.0003199328202754259\n",
      "Fin - [1800/1854] train loss : 0.053160589188337326\n",
      "Epoch [8/15]\n",
      "Train Loss: 0.0336, Train Accuracy: 0.9868\n",
      "Validation Loss: 0.7835, Validation Accuracy: 0.9032\n",
      "Fin - [0/1854] train loss : 0.0645165890455246\n",
      "Fin - [100/1854] train loss : 0.0070074936375021935\n",
      "Fin - [200/1854] train loss : 0.006135257892310619\n",
      "Fin - [300/1854] train loss : 0.0003279912343714386\n",
      "Fin - [400/1854] train loss : 0.02979687601327896\n",
      "Fin - [500/1854] train loss : 0.0008978535188362002\n",
      "Fin - [600/1854] train loss : 0.03717275336384773\n",
      "Fin - [700/1854] train loss : 0.0004886731621809304\n",
      "Fin - [800/1854] train loss : 0.028327500447630882\n",
      "Fin - [900/1854] train loss : 0.04306771978735924\n",
      "Fin - [1000/1854] train loss : 0.013856367208063602\n",
      "Fin - [1100/1854] train loss : 0.05120597034692764\n",
      "Fin - [1200/1854] train loss : 0.07857046276330948\n",
      "Fin - [1300/1854] train loss : 0.00709204887971282\n",
      "Fin - [1400/1854] train loss : 0.02197360433638096\n",
      "Fin - [1500/1854] train loss : 0.005403873510658741\n",
      "Fin - [1600/1854] train loss : 0.0012712555471807718\n",
      "Fin - [1700/1854] train loss : 0.00137163489125669\n",
      "Fin - [1800/1854] train loss : 0.011107983067631721\n",
      "Epoch [9/15]\n",
      "Train Loss: 0.0307, Train Accuracy: 0.9877\n",
      "Validation Loss: 0.6236, Validation Accuracy: 0.8966\n",
      "Fin - [0/1854] train loss : 0.003002343000844121\n",
      "Fin - [100/1854] train loss : 0.06961263716220856\n",
      "Fin - [200/1854] train loss : 0.0016815572744235396\n",
      "Fin - [300/1854] train loss : 0.004188729915767908\n",
      "Fin - [400/1854] train loss : 0.002314477227628231\n",
      "Fin - [500/1854] train loss : 0.01308161485940218\n",
      "Fin - [600/1854] train loss : 0.023108448833227158\n",
      "Fin - [700/1854] train loss : 0.05866078659892082\n",
      "Fin - [800/1854] train loss : 0.09626734256744385\n",
      "Fin - [900/1854] train loss : 0.0015515091363340616\n",
      "Fin - [1000/1854] train loss : 0.04940864443778992\n",
      "Fin - [1100/1854] train loss : 0.042630113661289215\n",
      "Fin - [1200/1854] train loss : 0.04603962227702141\n",
      "Fin - [1300/1854] train loss : 0.06806690245866776\n",
      "Fin - [1400/1854] train loss : 0.13942135870456696\n",
      "Fin - [1500/1854] train loss : 0.0017755519365891814\n",
      "Fin - [1600/1854] train loss : 0.005179225467145443\n",
      "Fin - [1700/1854] train loss : 0.05802833288908005\n",
      "Fin - [1800/1854] train loss : 0.0124437240883708\n",
      "Epoch [10/15]\n",
      "Train Loss: 0.0335, Train Accuracy: 0.9878\n",
      "Validation Loss: 0.8184, Validation Accuracy: 0.8829\n",
      "Fin - [0/1854] train loss : 0.0001463735825382173\n",
      "Fin - [100/1854] train loss : 0.06059157848358154\n",
      "Fin - [200/1854] train loss : 0.07494599372148514\n",
      "Fin - [300/1854] train loss : 0.023569507524371147\n",
      "Fin - [400/1854] train loss : 0.08185896277427673\n",
      "Fin - [500/1854] train loss : 0.00322191440500319\n",
      "Fin - [600/1854] train loss : 0.0004131407185923308\n",
      "Fin - [700/1854] train loss : 0.0002546916075516492\n",
      "Fin - [800/1854] train loss : 0.0031409403309226036\n",
      "Fin - [900/1854] train loss : 0.008103897795081139\n",
      "Fin - [1000/1854] train loss : 0.06083783879876137\n",
      "Fin - [1100/1854] train loss : 0.07970235496759415\n",
      "Fin - [1200/1854] train loss : 7.886444655014202e-05\n",
      "Fin - [1300/1854] train loss : 0.00032310624374076724\n",
      "Fin - [1400/1854] train loss : 0.10670734941959381\n",
      "Fin - [1500/1854] train loss : 0.04636401683092117\n",
      "Fin - [1600/1854] train loss : 2.066274464596063e-05\n",
      "Fin - [1700/1854] train loss : 6.0059646784793586e-05\n",
      "Fin - [1800/1854] train loss : 0.0011600309517234564\n",
      "Epoch [11/15]\n",
      "Train Loss: 0.0332, Train Accuracy: 0.9879\n",
      "Validation Loss: 0.7243, Validation Accuracy: 0.9058\n",
      "Fin - [0/1854] train loss : 0.00036955653922632337\n",
      "Fin - [100/1854] train loss : 0.014734050258994102\n",
      "Fin - [200/1854] train loss : 0.011051647365093231\n",
      "Fin - [300/1854] train loss : 0.00992182083427906\n",
      "Fin - [400/1854] train loss : 0.028743384405970573\n",
      "Fin - [500/1854] train loss : 0.0016483283834531903\n",
      "Fin - [600/1854] train loss : 0.0007586932624690235\n",
      "Fin - [700/1854] train loss : 0.004760893993079662\n",
      "Fin - [800/1854] train loss : 0.05311840772628784\n",
      "Fin - [900/1854] train loss : 0.0005792581359855831\n",
      "Fin - [1000/1854] train loss : 0.00014929733879398555\n",
      "Fin - [1100/1854] train loss : 0.006922109518200159\n",
      "Fin - [1200/1854] train loss : 0.0006769961328245699\n",
      "Fin - [1300/1854] train loss : 0.20780308544635773\n",
      "Fin - [1400/1854] train loss : 0.014383332803845406\n",
      "Fin - [1500/1854] train loss : 0.004510207567363977\n",
      "Fin - [1600/1854] train loss : 0.0003394915838725865\n",
      "Fin - [1700/1854] train loss : 0.0033232939895242453\n",
      "Fin - [1800/1854] train loss : 0.016564322635531425\n",
      "Epoch [12/15]\n",
      "Train Loss: 0.0304, Train Accuracy: 0.9877\n",
      "Validation Loss: 0.8299, Validation Accuracy: 0.8973\n",
      "Fin - [0/1854] train loss : 0.01785885915160179\n",
      "Fin - [100/1854] train loss : 5.275122384773567e-05\n",
      "Fin - [200/1854] train loss : 0.012915931642055511\n",
      "Fin - [300/1854] train loss : 0.01858382485806942\n",
      "Fin - [400/1854] train loss : 6.17938203504309e-05\n",
      "Fin - [500/1854] train loss : 0.0003741428954526782\n",
      "Fin - [600/1854] train loss : 0.08606889843940735\n",
      "Fin - [700/1854] train loss : 0.03876825049519539\n",
      "Fin - [800/1854] train loss : 0.007429823745042086\n",
      "Fin - [900/1854] train loss : 0.07905828207731247\n",
      "Fin - [1000/1854] train loss : 0.10056611895561218\n",
      "Fin - [1100/1854] train loss : 0.002006746828556061\n",
      "Fin - [1200/1854] train loss : 0.07063450664281845\n",
      "Fin - [1300/1854] train loss : 0.05638539791107178\n",
      "Fin - [1400/1854] train loss : 0.05838044732809067\n",
      "Fin - [1500/1854] train loss : 0.02952747978270054\n",
      "Fin - [1600/1854] train loss : 2.577346640464384e-05\n",
      "Fin - [1700/1854] train loss : 0.023976514115929604\n",
      "Fin - [1800/1854] train loss : 0.044905584305524826\n",
      "Epoch [13/15]\n",
      "Train Loss: 0.0306, Train Accuracy: 0.9880\n",
      "Validation Loss: 0.6778, Validation Accuracy: 0.9037\n",
      "Fin - [0/1854] train loss : 0.004374422132968903\n",
      "Fin - [100/1854] train loss : 3.997920430265367e-05\n",
      "Fin - [200/1854] train loss : 0.001877415576018393\n",
      "Fin - [300/1854] train loss : 0.08536656945943832\n",
      "Fin - [400/1854] train loss : 0.04538649693131447\n",
      "Fin - [500/1854] train loss : 0.0027086229529231787\n",
      "Fin - [600/1854] train loss : 0.03867727890610695\n",
      "Fin - [700/1854] train loss : 0.0005918650422245264\n",
      "Fin - [800/1854] train loss : 0.01730281673371792\n",
      "Fin - [900/1854] train loss : 0.052176643162965775\n",
      "Fin - [1000/1854] train loss : 0.002979292767122388\n",
      "Fin - [1100/1854] train loss : 0.03277840465307236\n",
      "Fin - [1200/1854] train loss : 0.00046570246922783554\n",
      "Fin - [1300/1854] train loss : 0.1700715273618698\n",
      "Fin - [1400/1854] train loss : 0.09685703366994858\n",
      "Fin - [1500/1854] train loss : 0.00013351062079891562\n",
      "Fin - [1600/1854] train loss : 0.024129336699843407\n",
      "Fin - [1700/1854] train loss : 0.025468794628977776\n",
      "Fin - [1800/1854] train loss : 0.00465057510882616\n",
      "Epoch [14/15]\n",
      "Train Loss: 0.0277, Train Accuracy: 0.9885\n",
      "Validation Loss: 0.7310, Validation Accuracy: 0.8992\n",
      "Fin - [0/1854] train loss : 0.022548779845237732\n",
      "Fin - [100/1854] train loss : 0.0033635313156992197\n",
      "Fin - [200/1854] train loss : 0.023958325386047363\n",
      "Fin - [300/1854] train loss : 0.034491319209337234\n",
      "Fin - [400/1854] train loss : 0.0041276840493083\n",
      "Fin - [500/1854] train loss : 0.0012036176631227136\n",
      "Fin - [600/1854] train loss : 0.0004489092680159956\n",
      "Fin - [700/1854] train loss : 0.020401008427143097\n",
      "Fin - [800/1854] train loss : 0.034886181354522705\n",
      "Fin - [900/1854] train loss : 0.0003151290293317288\n",
      "Fin - [1000/1854] train loss : 0.07419490069150925\n",
      "Fin - [1100/1854] train loss : 0.005171938333660364\n",
      "Fin - [1200/1854] train loss : 0.0019005046924576163\n",
      "Fin - [1300/1854] train loss : 0.1203279048204422\n",
      "Fin - [1400/1854] train loss : 0.0003818002587649971\n",
      "Fin - [1500/1854] train loss : 0.18261855840682983\n",
      "Fin - [1600/1854] train loss : 0.07608044147491455\n",
      "Fin - [1700/1854] train loss : 0.0009468300268054008\n",
      "Fin - [1800/1854] train loss : 0.04128613322973251\n",
      "Epoch [15/15]\n",
      "Train Loss: 0.0271, Train Accuracy: 0.9886\n",
      "Validation Loss: 0.7362, Validation Accuracy: 0.8979\n"
     ]
    }
   ],
   "source": [
    "for epoch in range(num_epochs):\n",
    "    model.train()\n",
    "    \n",
    "    running_loss = 0.0\n",
    "    correct_predictions = 0\n",
    "    total_samples  =0\n",
    "    i = 0\n",
    "    for inputs, labels in finDL_train:\n",
    "        inputs, labels = inputs.to(device), labels.to(device)\n",
    "        \n",
    "        optimizer.zero_grad()\n",
    "        outputs = model(inputs)\n",
    "        loss = criterion(outputs, labels)\n",
    "        loss.backward()\n",
    "        optimizer.step()\n",
    "        \n",
    "        running_loss += loss.item() * inputs.size(0)\n",
    "        _, predicted = torch.max(outputs, 1)\n",
    "        correct_predictions += (predicted == labels).sum().item()\n",
    "        total_samples += labels.size(0)\n",
    "        \n",
    "        if(i%100 == 0):\n",
    "            print(f\"Fin - [{i}/{len(finDL_train)}] train loss : {loss.item()}\")\n",
    "        i = i+1\n",
    "        \n",
    "    train_loss = running_loss / total_samples\n",
    "    train_accuracy = correct_predictions / total_samples\n",
    "    \n",
    "    model.eval()\n",
    "    val_loss = 0.0\n",
    "    correct_val_predictions = 0\n",
    "    total_val_samples = 0\n",
    "    \n",
    "    with torch.no_grad():\n",
    "        for val_inputs, val_labels in finDL_val:\n",
    "            val_inputs, val_labels = val_inputs.to(device), val_labels.to(device)\n",
    "            \n",
    "            val_outputs = model(val_inputs)\n",
    "            loss = criterion(val_outputs, val_labels)\n",
    "            \n",
    "            val_loss += loss.item() * val_inputs.size(0)\n",
    "            _, val_predicted = torch.max(val_outputs, 1)\n",
    "            correct_val_predictions += (val_predicted == val_labels).sum().item()\n",
    "            total_val_samples += val_labels.size(0)\n",
    "    \n",
    "    val_loss /= total_val_samples\n",
    "    val_accuracy = correct_val_predictions / total_val_samples\n",
    "    \n",
    "    # Print epoch stats\n",
    "    print(f'Epoch [{epoch+1}/{num_epochs}]')\n",
    "    print(f'Train Loss: {train_loss:.4f}, Train Accuracy: {train_accuracy:.4f}')\n",
    "    print(f'Validation Loss: {val_loss:.4f}, Validation Accuracy: {val_accuracy:.4f}')"
   ]
  },
  {
   "cell_type": "code",
   "execution_count": 96,
   "id": "320ac65b",
   "metadata": {
    "execution": {
     "iopub.execute_input": "2024-10-21T18:38:06.167538Z",
     "iopub.status.busy": "2024-10-21T18:38:06.167134Z",
     "iopub.status.idle": "2024-10-21T18:39:02.910871Z",
     "shell.execute_reply": "2024-10-21T18:39:02.909768Z"
    },
    "papermill": {
     "duration": 57.038126,
     "end_time": "2024-10-21T18:39:03.063365",
     "exception": false,
     "start_time": "2024-10-21T18:38:06.025239",
     "status": "completed"
    },
    "tags": []
   },
   "outputs": [
    {
     "data": {
      "image/png": "[encoded data removed]",
      "text/plain": [
       "<Figure size 600x400 with 2 Axes>"
      ]
     },
     "metadata": {},
     "output_type": "display_data"
    }
   ],
   "source": [
    "# Get the predictions and true labels for the test set\n",
    "preds, true_labels = get_predictions_and_labels(model, finDL_val)\n",
    "\n",
    "# Compute the confusion matrix\n",
    "conf_matrix = confusion_matrix(true_labels, preds)\n",
    "class_names = [f'Class {i}' for i in range(len(target_class_names)+1)]\n",
    "# Plot the confusion matrix using seaborn\n",
    "plt.figure(figsize=(6, 4))\n",
    "sns.heatmap(conf_matrix, annot=True, fmt=\"d\", cmap=\"Blues\", xticklabels=class_names, yticklabels=class_names)\n",
    "plt.xlabel('Predicted Label')\n",
    "plt.ylabel('True Label')\n",
    "plt.title('Confusion Matrix')\n",
    "plt.show()"
   ]
  },
  {
   "cell_type": "code",
   "execution_count": 97,
   "id": "fbc148eb",
   "metadata": {
    "execution": {
     "iopub.execute_input": "2024-10-21T18:39:03.355418Z",
     "iopub.status.busy": "2024-10-21T18:39:03.355010Z",
     "iopub.status.idle": "2024-10-21T18:39:03.363085Z",
     "shell.execute_reply": "2024-10-21T18:39:03.362207Z"
    },
    "papermill": {
     "duration": 0.154626,
     "end_time": "2024-10-21T18:39:03.365420",
     "exception": false,
     "start_time": "2024-10-21T18:39:03.210794",
     "status": "completed"
    },
    "tags": []
   },
   "outputs": [],
   "source": [
    "del finDL_train\n",
    "del finDL_val"
   ]
  },
  {
   "cell_type": "code",
   "execution_count": 98,
   "id": "2b40de3d",
   "metadata": {
    "execution": {
     "iopub.execute_input": "2024-10-21T18:39:03.659133Z",
     "iopub.status.busy": "2024-10-21T18:39:03.658725Z",
     "iopub.status.idle": "2024-10-21T18:39:04.300543Z",
     "shell.execute_reply": "2024-10-21T18:39:04.299739Z"
    },
    "papermill": {
     "duration": 0.789661,
     "end_time": "2024-10-21T18:39:04.302904",
     "exception": false,
     "start_time": "2024-10-21T18:39:03.513243",
     "status": "completed"
    },
    "tags": []
   },
   "outputs": [],
   "source": [
    "final_path = \"checkpoint.pth\"\n",
    "torch.save({\n",
    "            'model_state_dict': model.state_dict(),\n",
    "            'optimizer_state_dict': optimizer.state_dict(),\n",
    "            }, final_path)"
   ]
  },
  {
   "cell_type": "code",
   "execution_count": null,
   "id": "c3feb951",
   "metadata": {
    "papermill": {
     "duration": 0.139248,
     "end_time": "2024-10-21T18:39:04.584330",
     "exception": false,
     "start_time": "2024-10-21T18:39:04.445082",
     "status": "completed"
    },
    "tags": []
   },
   "outputs": [],
   "source": []
  }
 ],
 "metadata": {
  "kaggle": {
   "accelerator": "gpu",
   "dataSources": [
    {
     "datasetId": 5880122,
     "sourceId": 9632949,
     "sourceType": "datasetVersion"
    },
    {
     "sourceId": 200073270,
     "sourceType": "kernelVersion"
    },
    {
     "sourceId": 201162695,
     "sourceType": "kernelVersion"
    },
    {
     "sourceId": 202412688,
     "sourceType": "kernelVersion"
    }
   ],
   "dockerImageVersionId": 30787,
   "isGpuEnabled": true,
   "isInternetEnabled": true,
   "language": "python",
   "sourceType": "notebook"
  },
  "kernelspec": {
   "display_name": "Python 3",
   "language": "python",
   "name": "python3"
  },
  "language_info": {
   "codemirror_mode": {
    "name": "ipython",
    "version": 3
   },
   "file_extension": ".py",
   "mimetype": "text/x-python",
   "name": "python",
   "nbconvert_exporter": "python",
   "pygments_lexer": "ipython3",
   "version": "3.10.14"
  },
  "papermill": {
   "default_parameters": {},
   "duration": 39844.553589,
   "end_time": "2024-10-21T18:39:07.316817",
   "environment_variables": {},
   "exception": null,
   "input_path": "__notebook__.ipynb",
   "output_path": "__notebook__.ipynb",
   "parameters": {},
   "start_time": "2024-10-21T07:35:02.763228",
   "version": "2.6.0"
  }
 },
 "nbformat": 4,
 "nbformat_minor": 5
}
