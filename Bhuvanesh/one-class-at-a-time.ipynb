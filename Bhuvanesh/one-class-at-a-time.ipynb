{
 "cells": [
  {
   "cell_type": "code",
   "execution_count": 1,
   "id": "33f2beb7",
   "metadata": {
    "_cell_guid": "b1076dfc-b9ad-4769-8c92-a6c4dae69d19",
    "_uuid": "8f2839f25d086af736a60e9eeb907d3b93b6e0e5",
    "execution": {
     "iopub.execute_input": "2024-10-15T07:18:36.239959Z",
     "iopub.status.busy": "2024-10-15T07:18:36.239134Z",
     "iopub.status.idle": "2024-10-15T07:18:43.707122Z",
     "shell.execute_reply": "2024-10-15T07:18:43.706382Z"
    },
    "papermill": {
     "duration": 7.497536,
     "end_time": "2024-10-15T07:18:43.709511",
     "exception": false,
     "start_time": "2024-10-15T07:18:36.211975",
     "status": "completed"
    },
    "tags": []
   },
   "outputs": [],
   "source": [
    "import torch\n",
    "import torch.nn as nn\n",
    "import torchvision\n",
    "from torchvision import transforms\n",
    "from model_file import *\n",
    "from vce_dataloader import getBinaryDataLoader, getAllDataLoader, getNaryDataLoader, visualize_batch\n",
    "from sklearn.metrics import confusion_matrix\n",
    "import matplotlib.pyplot as plt\n",
    "import seaborn as sns\n",
    "import numpy as np\n",
    "import kagglehub"
   ]
  },
  {
   "cell_type": "code",
   "execution_count": 2,
   "id": "91f82b1b",
   "metadata": {
    "execution": {
     "iopub.execute_input": "2024-10-15T07:18:43.761380Z",
     "iopub.status.busy": "2024-10-15T07:18:43.760908Z",
     "iopub.status.idle": "2024-10-15T07:18:44.928464Z",
     "shell.execute_reply": "2024-10-15T07:18:44.927463Z"
    },
    "papermill": {
     "duration": 1.195926,
     "end_time": "2024-10-15T07:18:44.930995",
     "exception": false,
     "start_time": "2024-10-15T07:18:43.735069",
     "status": "completed"
    },
    "tags": []
   },
   "outputs": [
    {
     "name": "stderr",
     "output_type": "stream",
     "text": [
      "/opt/conda/lib/python3.10/site-packages/torchvision/models/_utils.py:208: UserWarning: The parameter 'pretrained' is deprecated since 0.13 and may be removed in the future, please use 'weights' instead.\n",
      "  warnings.warn(\n",
      "/opt/conda/lib/python3.10/site-packages/torchvision/models/_utils.py:223: UserWarning: Arguments other than a weight enum or `None` for 'weights' are deprecated since 0.13 and may be removed in the future. The current behavior is equivalent to passing `weights=ResNet50_Weights.IMAGENET1K_V1`. You can also use `weights=ResNet50_Weights.DEFAULT` to get the most up-to-date weights.\n",
      "  warnings.warn(msg)\n",
      "Downloading: \"https://download.pytorch.org/models/resnet50-0676ba61.pth\" to /root/.cache/torch/hub/checkpoints/resnet50-0676ba61.pth\n",
      "100%|██████████| 97.8M/97.8M [00:00<00:00, 187MB/s]\n"
     ]
    }
   ],
   "source": [
    "model = getModel(\"resnet50\")"
   ]
  },
  {
   "cell_type": "markdown",
   "id": "f68bfc58",
   "metadata": {
    "papermill": {
     "duration": 0.025748,
     "end_time": "2024-10-15T07:18:44.986189",
     "exception": false,
     "start_time": "2024-10-15T07:18:44.960441",
     "status": "completed"
    },
    "tags": []
   },
   "source": [
    "Order of classes:\n",
    "* Normal\n",
    "* Erosion\n",
    "* Polyp\n",
    "* Angioectasia\n",
    "* Bleeding\n",
    "* Lymphangiectasia\n",
    "* Foreign Body\n",
    "* Erythema\n",
    "* Ulcer\n",
    "* Worms"
   ]
  },
  {
   "cell_type": "code",
   "execution_count": 3,
   "id": "99abf909",
   "metadata": {
    "execution": {
     "iopub.execute_input": "2024-10-15T07:18:45.039062Z",
     "iopub.status.busy": "2024-10-15T07:18:45.038239Z",
     "iopub.status.idle": "2024-10-15T07:18:45.042707Z",
     "shell.execute_reply": "2024-10-15T07:18:45.041879Z"
    },
    "papermill": {
     "duration": 0.032855,
     "end_time": "2024-10-15T07:18:45.044537",
     "exception": false,
     "start_time": "2024-10-15T07:18:45.011682",
     "status": "completed"
    },
    "tags": []
   },
   "outputs": [],
   "source": [
    "train_path = \"/kaggle/input/vce-dataset/training\"\n",
    "val_path = \"/kaggle/input/vce-dataset/validation\""
   ]
  },
  {
   "cell_type": "code",
   "execution_count": 4,
   "id": "674e89ad",
   "metadata": {
    "execution": {
     "iopub.execute_input": "2024-10-15T07:18:45.097384Z",
     "iopub.status.busy": "2024-10-15T07:18:45.097013Z",
     "iopub.status.idle": "2024-10-15T07:18:45.103382Z",
     "shell.execute_reply": "2024-10-15T07:18:45.102558Z"
    },
    "papermill": {
     "duration": 0.035083,
     "end_time": "2024-10-15T07:18:45.105265",
     "exception": false,
     "start_time": "2024-10-15T07:18:45.070182",
     "status": "completed"
    },
    "tags": []
   },
   "outputs": [],
   "source": [
    "train_transform = transforms.Compose([transforms.RandomHorizontalFlip(p=0.7),\n",
    "                                     transforms.RandomVerticalFlip(p=0.7),\n",
    "                                     transforms.RandomRotation(15),\n",
    "                                     \n",
    "                                     transforms.Resize((224,224)),\n",
    "                                     transforms.ToTensor()\n",
    "                              ])\n",
    "\n",
    "\n",
    "val_transform= transforms.Compose([transforms.Resize((224,224)),\n",
    "                                     transforms.ToTensor()])"
   ]
  },
  {
   "cell_type": "code",
   "execution_count": 5,
   "id": "ae7a0095",
   "metadata": {
    "execution": {
     "iopub.execute_input": "2024-10-15T07:18:45.157742Z",
     "iopub.status.busy": "2024-10-15T07:18:45.156941Z",
     "iopub.status.idle": "2024-10-15T07:18:45.163411Z",
     "shell.execute_reply": "2024-10-15T07:18:45.162628Z"
    },
    "papermill": {
     "duration": 0.034713,
     "end_time": "2024-10-15T07:18:45.165300",
     "exception": false,
     "start_time": "2024-10-15T07:18:45.130587",
     "status": "completed"
    },
    "tags": []
   },
   "outputs": [],
   "source": [
    "def get_predictions_and_labels(model, dataloader):\n",
    "    model.eval()  # Set the model to evaluation mode\n",
    "    all_preds = []\n",
    "    all_labels = []\n",
    "    \n",
    "    with torch.no_grad():  # Disable gradient calculation\n",
    "        for images, labels in dataloader:\n",
    "            images = images.to(device)  # Move images to the same device as model\n",
    "            labels = labels.to(device)  # Move labels to the same device as model\n",
    "            outputs = model(images)\n",
    "            _, preds = torch.max(outputs, 1)  # Get the predicted class\n",
    "            all_preds.extend(preds.cpu().numpy())  # Collect predictions\n",
    "            all_labels.extend(labels.cpu().numpy())  # Collect true labels\n",
    "\n",
    "    return np.array(all_preds), np.array(all_labels)"
   ]
  },
  {
   "cell_type": "markdown",
   "id": "f2ba4196",
   "metadata": {
    "papermill": {
     "duration": 0.024934,
     "end_time": "2024-10-15T07:18:45.215407",
     "exception": false,
     "start_time": "2024-10-15T07:18:45.190473",
     "status": "completed"
    },
    "tags": []
   },
   "source": [
    "# Binary"
   ]
  },
  {
   "cell_type": "code",
   "execution_count": 6,
   "id": "09926860",
   "metadata": {
    "execution": {
     "iopub.execute_input": "2024-10-15T07:18:45.266933Z",
     "iopub.status.busy": "2024-10-15T07:18:45.266658Z",
     "iopub.status.idle": "2024-10-15T07:20:14.620708Z",
     "shell.execute_reply": "2024-10-15T07:20:14.619663Z"
    },
    "papermill": {
     "duration": 89.382752,
     "end_time": "2024-10-15T07:20:14.623310",
     "exception": false,
     "start_time": "2024-10-15T07:18:45.240558",
     "status": "completed"
    },
    "tags": []
   },
   "outputs": [],
   "source": [
    "target_class_names = [\"Normal\"]\n",
    "binDL_train = getNaryDataLoader(target_class_names=target_class_names, path_to_dataset=train_path, \n",
    "                          batch_size=32, trans = train_transform)\n",
    "binDL_val = getNaryDataLoader(target_class_names=target_class_names, path_to_dataset=val_path, \n",
    "                          batch_size=32, trans = val_transform)"
   ]
  },
  {
   "cell_type": "code",
   "execution_count": 7,
   "id": "65bfda92",
   "metadata": {
    "execution": {
     "iopub.execute_input": "2024-10-15T07:20:14.677211Z",
     "iopub.status.busy": "2024-10-15T07:20:14.676909Z",
     "iopub.status.idle": "2024-10-15T07:20:14.682226Z",
     "shell.execute_reply": "2024-10-15T07:20:14.681541Z"
    },
    "papermill": {
     "duration": 0.033352,
     "end_time": "2024-10-15T07:20:14.684067",
     "exception": false,
     "start_time": "2024-10-15T07:20:14.650715",
     "status": "completed"
    },
    "tags": []
   },
   "outputs": [],
   "source": [
    "num_ftrs = model.fc.in_features\n",
    "model.fc = nn.Linear(in_features=num_ftrs, out_features=len(target_class_names)+1)"
   ]
  },
  {
   "cell_type": "code",
   "execution_count": 8,
   "id": "895806c5",
   "metadata": {
    "execution": {
     "iopub.execute_input": "2024-10-15T07:20:14.735598Z",
     "iopub.status.busy": "2024-10-15T07:20:14.735288Z",
     "iopub.status.idle": "2024-10-15T07:20:14.817044Z",
     "shell.execute_reply": "2024-10-15T07:20:14.816232Z"
    },
    "papermill": {
     "duration": 0.110079,
     "end_time": "2024-10-15T07:20:14.819339",
     "exception": false,
     "start_time": "2024-10-15T07:20:14.709260",
     "status": "completed"
    },
    "tags": []
   },
   "outputs": [],
   "source": [
    "device = torch.device(\"cuda\" if torch.cuda.is_available() else \"cpu\")\n",
    "if torch.cuda.device_count() > 1:\n",
    "    model = nn.DataParallel(model)"
   ]
  },
  {
   "cell_type": "code",
   "execution_count": 9,
   "id": "cf357bee",
   "metadata": {
    "execution": {
     "iopub.execute_input": "2024-10-15T07:20:14.872940Z",
     "iopub.status.busy": "2024-10-15T07:20:14.872115Z",
     "iopub.status.idle": "2024-10-15T07:20:15.047219Z",
     "shell.execute_reply": "2024-10-15T07:20:15.046444Z"
    },
    "papermill": {
     "duration": 0.204297,
     "end_time": "2024-10-15T07:20:15.049694",
     "exception": false,
     "start_time": "2024-10-15T07:20:14.845397",
     "status": "completed"
    },
    "tags": []
   },
   "outputs": [],
   "source": [
    "model = model.to(device)\n",
    "criterion = nn.CrossEntropyLoss() \n",
    "optimizer = torch.optim.Adam(model.parameters(), lr=0.001)"
   ]
  },
  {
   "cell_type": "code",
   "execution_count": 10,
   "id": "23ffccdf",
   "metadata": {
    "execution": {
     "iopub.execute_input": "2024-10-15T07:20:15.102277Z",
     "iopub.status.busy": "2024-10-15T07:20:15.101940Z",
     "iopub.status.idle": "2024-10-15T07:20:15.109397Z",
     "shell.execute_reply": "2024-10-15T07:20:15.108734Z"
    },
    "papermill": {
     "duration": 0.035721,
     "end_time": "2024-10-15T07:20:15.111289",
     "exception": false,
     "start_time": "2024-10-15T07:20:15.075568",
     "status": "completed"
    },
    "tags": []
   },
   "outputs": [],
   "source": [
    "model = model.to(device)"
   ]
  },
  {
   "cell_type": "code",
   "execution_count": 11,
   "id": "390a783b",
   "metadata": {
    "execution": {
     "iopub.execute_input": "2024-10-15T07:20:15.163219Z",
     "iopub.status.busy": "2024-10-15T07:20:15.162923Z",
     "iopub.status.idle": "2024-10-15T07:20:15.166730Z",
     "shell.execute_reply": "2024-10-15T07:20:15.165910Z"
    },
    "papermill": {
     "duration": 0.032109,
     "end_time": "2024-10-15T07:20:15.168672",
     "exception": false,
     "start_time": "2024-10-15T07:20:15.136563",
     "status": "completed"
    },
    "tags": []
   },
   "outputs": [],
   "source": [
    "num_epochs = 2"
   ]
  },
  {
   "cell_type": "code",
   "execution_count": 12,
   "id": "8a5bc39c",
   "metadata": {
    "execution": {
     "iopub.execute_input": "2024-10-15T07:20:15.220599Z",
     "iopub.status.busy": "2024-10-15T07:20:15.220292Z",
     "iopub.status.idle": "2024-10-15T07:35:48.384606Z",
     "shell.execute_reply": "2024-10-15T07:35:48.383489Z"
    },
    "papermill": {
     "duration": 933.22582,
     "end_time": "2024-10-15T07:35:48.419957",
     "exception": false,
     "start_time": "2024-10-15T07:20:15.194137",
     "status": "completed"
    },
    "tags": []
   },
   "outputs": [
    {
     "name": "stdout",
     "output_type": "stream",
     "text": [
      "Bin - [0/1176] train loss : 0.7909814119338989\n",
      "Bin - [100/1176] train loss : 0.3893841803073883\n",
      "Bin - [200/1176] train loss : 0.4344397187232971\n",
      "Bin - [300/1176] train loss : 0.8760740756988525\n",
      "Bin - [400/1176] train loss : 0.42592281103134155\n",
      "Bin - [500/1176] train loss : 0.2807391881942749\n",
      "Bin - [600/1176] train loss : 0.29987940192222595\n",
      "Bin - [700/1176] train loss : 0.3599053621292114\n",
      "Bin - [800/1176] train loss : 0.49088814854621887\n",
      "Bin - [900/1176] train loss : 0.5329098701477051\n",
      "Bin - [1000/1176] train loss : 0.3676598072052002\n",
      "Bin - [1100/1176] train loss : 0.5372167229652405\n",
      "Epoch [1/2]\n",
      "Train Loss: 0.3771, Train Accuracy: 0.8235\n",
      "Validation Loss: 0.5622, Validation Accuracy: 0.7968\n",
      "Bin - [0/1176] train loss : 0.6569541692733765\n",
      "Bin - [100/1176] train loss : 0.14759650826454163\n",
      "Bin - [200/1176] train loss : 0.35575738549232483\n",
      "Bin - [300/1176] train loss : 0.637710452079773\n",
      "Bin - [400/1176] train loss : 0.33661043643951416\n",
      "Bin - [500/1176] train loss : 0.3464619219303131\n",
      "Bin - [600/1176] train loss : 0.2875065207481384\n",
      "Bin - [700/1176] train loss : 0.3161410093307495\n",
      "Bin - [800/1176] train loss : 0.2592203915119171\n",
      "Bin - [900/1176] train loss : 0.3539316952228546\n",
      "Bin - [1000/1176] train loss : 0.17450757324695587\n",
      "Bin - [1100/1176] train loss : 0.2913059592247009\n",
      "Epoch [2/2]\n",
      "Train Loss: 0.3040, Train Accuracy: 0.8611\n",
      "Validation Loss: 0.2805, Validation Accuracy: 0.8710\n",
      "CPU times: user 24min 26s, sys: 1min 11s, total: 25min 37s\n",
      "Wall time: 15min 33s\n"
     ]
    }
   ],
   "source": [
    "%%time\n",
    "for epoch in range(num_epochs):\n",
    "    model.train()\n",
    "    \n",
    "    running_loss = 0.0\n",
    "    correct_predictions = 0\n",
    "    total_samples  =0\n",
    "    i = 0\n",
    "    for inputs, labels in binDL_train:\n",
    "        inputs, labels = inputs.to(device), labels.to(device)\n",
    "        \n",
    "        optimizer.zero_grad()\n",
    "        outputs = model(inputs)\n",
    "        loss = criterion(outputs, labels)\n",
    "        loss.backward()\n",
    "        optimizer.step()\n",
    "        \n",
    "        running_loss += loss.item() * inputs.size(0)\n",
    "        _, predicted = torch.max(outputs, 1)\n",
    "        correct_predictions += (predicted == labels).sum().item()\n",
    "        total_samples += labels.size(0)\n",
    "        if(i%100 == 0):\n",
    "            print(f\"Bin - [{i}/{len(binDL_train)}] train loss : {loss.item()}\")\n",
    "        i = i+1\n",
    "        \n",
    "    train_loss = running_loss / total_samples\n",
    "    train_accuracy = correct_predictions / total_samples\n",
    "    \n",
    "    model.eval()\n",
    "    val_loss = 0.0\n",
    "    correct_val_predictions = 0\n",
    "    total_val_samples = 0\n",
    "    \n",
    "    with torch.no_grad():\n",
    "        for val_inputs, val_labels in binDL_val:\n",
    "            val_inputs, val_labels = val_inputs.to(device), val_labels.to(device)\n",
    "            \n",
    "            val_outputs = model(val_inputs)\n",
    "            loss = criterion(val_outputs, val_labels)\n",
    "            \n",
    "            val_loss += loss.item() * val_inputs.size(0)\n",
    "            _, val_predicted = torch.max(val_outputs, 1)\n",
    "            correct_val_predictions += (val_predicted == val_labels).sum().item()\n",
    "            total_val_samples += val_labels.size(0)\n",
    "    \n",
    "    val_loss /= total_val_samples\n",
    "    val_accuracy = correct_val_predictions / total_val_samples\n",
    "    \n",
    "    # Print epoch stats\n",
    "    print(f'Epoch [{epoch+1}/{num_epochs}]')\n",
    "    print(f'Train Loss: {train_loss:.4f}, Train Accuracy: {train_accuracy:.4f}')\n",
    "    print(f'Validation Loss: {val_loss:.4f}, Validation Accuracy: {val_accuracy:.4f}')"
   ]
  },
  {
   "cell_type": "code",
   "execution_count": 13,
   "id": "8183a3d4",
   "metadata": {
    "execution": {
     "iopub.execute_input": "2024-10-15T07:35:48.486639Z",
     "iopub.status.busy": "2024-10-15T07:35:48.486206Z",
     "iopub.status.idle": "2024-10-15T07:36:40.959380Z",
     "shell.execute_reply": "2024-10-15T07:36:40.958482Z"
    },
    "papermill": {
     "duration": 52.53698,
     "end_time": "2024-10-15T07:36:40.989658",
     "exception": false,
     "start_time": "2024-10-15T07:35:48.452678",
     "status": "completed"
    },
    "tags": []
   },
   "outputs": [
    {
     "data": {
      "image/png": "[encoded data removed]",
      "text/plain": [
       "<Figure size 600x400 with 2 Axes>"
      ]
     },
     "metadata": {},
     "output_type": "display_data"
    }
   ],
   "source": [
    "# Get the predictions and true labels for the test set\n",
    "preds, true_labels = get_predictions_and_labels(model, binDL_val)\n",
    "\n",
    "# Compute the confusion matrix\n",
    "conf_matrix = confusion_matrix(true_labels, preds)\n",
    "class_names = [f'Class {i}' for i in range(len(target_class_names)+1)]\n",
    "# Plot the confusion matrix using seaborn\n",
    "plt.figure(figsize=(6, 4))\n",
    "sns.heatmap(conf_matrix, annot=True, fmt=\"d\", cmap=\"Blues\", xticklabels=class_names, yticklabels=class_names)\n",
    "plt.xlabel('Predicted Label')\n",
    "plt.ylabel('True Label')\n",
    "plt.title('Confusion Matrix')\n",
    "plt.show()"
   ]
  },
  {
   "cell_type": "code",
   "execution_count": 14,
   "id": "27b72c6e",
   "metadata": {
    "execution": {
     "iopub.execute_input": "2024-10-15T07:36:41.046820Z",
     "iopub.status.busy": "2024-10-15T07:36:41.046485Z",
     "iopub.status.idle": "2024-10-15T07:36:41.053416Z",
     "shell.execute_reply": "2024-10-15T07:36:41.052657Z"
    },
    "papermill": {
     "duration": 0.037742,
     "end_time": "2024-10-15T07:36:41.055165",
     "exception": false,
     "start_time": "2024-10-15T07:36:41.017423",
     "status": "completed"
    },
    "tags": []
   },
   "outputs": [],
   "source": [
    "del binDL_train\n",
    "del binDL_val"
   ]
  },
  {
   "cell_type": "markdown",
   "id": "a9a863f5",
   "metadata": {
    "papermill": {
     "duration": 0.02747,
     "end_time": "2024-10-15T07:36:41.110319",
     "exception": false,
     "start_time": "2024-10-15T07:36:41.082849",
     "status": "completed"
    },
    "tags": []
   },
   "source": [
    "# Ternary"
   ]
  },
  {
   "cell_type": "code",
   "execution_count": 15,
   "id": "f85f8102",
   "metadata": {
    "execution": {
     "iopub.execute_input": "2024-10-15T07:36:41.168874Z",
     "iopub.status.busy": "2024-10-15T07:36:41.168580Z",
     "iopub.status.idle": "2024-10-15T07:36:52.217025Z",
     "shell.execute_reply": "2024-10-15T07:36:52.216228Z"
    },
    "papermill": {
     "duration": 11.079907,
     "end_time": "2024-10-15T07:36:52.219376",
     "exception": false,
     "start_time": "2024-10-15T07:36:41.139469",
     "status": "completed"
    },
    "tags": []
   },
   "outputs": [],
   "source": [
    "target_class_names = [\"Normal\",\"Erosion\"]\n",
    "terDL_train = getNaryDataLoader(target_class_names=target_class_names, path_to_dataset=train_path, \n",
    "                          batch_size=32, trans = train_transform)\n",
    "terDL_val = getNaryDataLoader(target_class_names=target_class_names, path_to_dataset=val_path, \n",
    "                          batch_size=32, trans = val_transform)"
   ]
  },
  {
   "cell_type": "code",
   "execution_count": 16,
   "id": "aebc5c4e",
   "metadata": {
    "execution": {
     "iopub.execute_input": "2024-10-15T07:36:52.276875Z",
     "iopub.status.busy": "2024-10-15T07:36:52.276559Z",
     "iopub.status.idle": "2024-10-15T07:36:52.281770Z",
     "shell.execute_reply": "2024-10-15T07:36:52.280982Z"
    },
    "papermill": {
     "duration": 0.036264,
     "end_time": "2024-10-15T07:36:52.283894",
     "exception": false,
     "start_time": "2024-10-15T07:36:52.247630",
     "status": "completed"
    },
    "tags": []
   },
   "outputs": [],
   "source": [
    "num_ftrs = model.fc.in_features\n",
    "model.fc = nn.Linear(in_features=num_ftrs, out_features=len(target_class_names)+1)"
   ]
  },
  {
   "cell_type": "code",
   "execution_count": 17,
   "id": "3ed27ab8",
   "metadata": {
    "execution": {
     "iopub.execute_input": "2024-10-15T07:36:52.340542Z",
     "iopub.status.busy": "2024-10-15T07:36:52.340214Z",
     "iopub.status.idle": "2024-10-15T07:36:52.345423Z",
     "shell.execute_reply": "2024-10-15T07:36:52.344597Z"
    },
    "papermill": {
     "duration": 0.035754,
     "end_time": "2024-10-15T07:36:52.347445",
     "exception": false,
     "start_time": "2024-10-15T07:36:52.311691",
     "status": "completed"
    },
    "tags": []
   },
   "outputs": [],
   "source": [
    "device = torch.device(\"cuda\" if torch.cuda.is_available() else \"cpu\")\n",
    "if torch.cuda.device_count() > 1:\n",
    "    model = nn.DataParallel(model)"
   ]
  },
  {
   "cell_type": "code",
   "execution_count": 18,
   "id": "eacd23f1",
   "metadata": {
    "execution": {
     "iopub.execute_input": "2024-10-15T07:36:52.404297Z",
     "iopub.status.busy": "2024-10-15T07:36:52.403995Z",
     "iopub.status.idle": "2024-10-15T07:36:52.413558Z",
     "shell.execute_reply": "2024-10-15T07:36:52.412772Z"
    },
    "papermill": {
     "duration": 0.040248,
     "end_time": "2024-10-15T07:36:52.415540",
     "exception": false,
     "start_time": "2024-10-15T07:36:52.375292",
     "status": "completed"
    },
    "tags": []
   },
   "outputs": [],
   "source": [
    "model = model.to(device)\n",
    "criterion = nn.CrossEntropyLoss() \n",
    "# optimizer = torch.optim.Adam(model.parameters(), lr=0.001)"
   ]
  },
  {
   "cell_type": "code",
   "execution_count": 19,
   "id": "985d1d89",
   "metadata": {
    "execution": {
     "iopub.execute_input": "2024-10-15T07:36:52.472136Z",
     "iopub.status.busy": "2024-10-15T07:36:52.471863Z",
     "iopub.status.idle": "2024-10-15T07:36:52.480791Z",
     "shell.execute_reply": "2024-10-15T07:36:52.480096Z"
    },
    "papermill": {
     "duration": 0.039283,
     "end_time": "2024-10-15T07:36:52.482691",
     "exception": false,
     "start_time": "2024-10-15T07:36:52.443408",
     "status": "completed"
    },
    "tags": []
   },
   "outputs": [],
   "source": [
    "model = model.to(device)"
   ]
  },
  {
   "cell_type": "code",
   "execution_count": 20,
   "id": "bc4e2f9e",
   "metadata": {
    "execution": {
     "iopub.execute_input": "2024-10-15T07:36:52.540152Z",
     "iopub.status.busy": "2024-10-15T07:36:52.539770Z",
     "iopub.status.idle": "2024-10-15T07:36:52.544027Z",
     "shell.execute_reply": "2024-10-15T07:36:52.543142Z"
    },
    "papermill": {
     "duration": 0.035602,
     "end_time": "2024-10-15T07:36:52.545962",
     "exception": false,
     "start_time": "2024-10-15T07:36:52.510360",
     "status": "completed"
    },
    "tags": []
   },
   "outputs": [],
   "source": [
    "num_epochs = 3"
   ]
  },
  {
   "cell_type": "code",
   "execution_count": 21,
   "id": "a429f728",
   "metadata": {
    "execution": {
     "iopub.execute_input": "2024-10-15T07:36:52.643159Z",
     "iopub.status.busy": "2024-10-15T07:36:52.642795Z",
     "iopub.status.idle": "2024-10-15T07:52:49.354758Z",
     "shell.execute_reply": "2024-10-15T07:52:49.353782Z"
    },
    "papermill": {
     "duration": 956.777047,
     "end_time": "2024-10-15T07:52:49.390850",
     "exception": false,
     "start_time": "2024-10-15T07:36:52.613803",
     "status": "completed"
    },
    "tags": []
   },
   "outputs": [
    {
     "name": "stdout",
     "output_type": "stream",
     "text": [
      "Ter - [0/1176] train loss : 1.0790942907333374\n",
      "Ter - [100/1176] train loss : 0.4427805542945862\n",
      "Ter - [200/1176] train loss : 0.34946101903915405\n",
      "Ter - [300/1176] train loss : 0.30240219831466675\n",
      "Ter - [400/1176] train loss : 0.41724491119384766\n",
      "Ter - [500/1176] train loss : 0.3796144127845764\n",
      "Ter - [600/1176] train loss : 0.45484474301338196\n",
      "Ter - [700/1176] train loss : 0.36544445157051086\n",
      "Ter - [800/1176] train loss : 0.4151952862739563\n",
      "Ter - [900/1176] train loss : 0.34117332100868225\n",
      "Ter - [1000/1176] train loss : 0.31150323152542114\n",
      "Ter - [1100/1176] train loss : 0.654608964920044\n",
      "Epoch [1/3]\n",
      "Train Loss: 0.4044, Train Accuracy: 0.8235\n",
      "Validation Loss: 0.4966, Validation Accuracy: 0.7993\n",
      "Ter - [0/1176] train loss : 0.6071217060089111\n",
      "Ter - [100/1176] train loss : 0.4205366373062134\n",
      "Ter - [200/1176] train loss : 0.4907703697681427\n",
      "Ter - [300/1176] train loss : 0.4940725564956665\n",
      "Ter - [400/1176] train loss : 0.3297749161720276\n",
      "Ter - [500/1176] train loss : 0.29597368836402893\n",
      "Ter - [600/1176] train loss : 0.4198102653026581\n",
      "Ter - [700/1176] train loss : 0.453580766916275\n",
      "Ter - [800/1176] train loss : 0.19639469683170319\n",
      "Ter - [900/1176] train loss : 0.23017731308937073\n",
      "Ter - [1000/1176] train loss : 0.39024031162261963\n",
      "Ter - [1100/1176] train loss : 0.37390953302383423\n",
      "Epoch [2/3]\n",
      "Train Loss: 0.3710, Train Accuracy: 0.8418\n",
      "Validation Loss: 0.4113, Validation Accuracy: 0.8274\n",
      "Ter - [0/1176] train loss : 0.26355311274528503\n",
      "Ter - [100/1176] train loss : 0.18353219330310822\n",
      "Ter - [200/1176] train loss : 0.42833423614501953\n",
      "Ter - [300/1176] train loss : 0.6317015886306763\n",
      "Ter - [400/1176] train loss : 0.42882415652275085\n",
      "Ter - [500/1176] train loss : 0.3733976483345032\n",
      "Ter - [600/1176] train loss : 0.3642702102661133\n",
      "Ter - [700/1176] train loss : 0.37471699714660645\n",
      "Ter - [800/1176] train loss : 0.1787324845790863\n",
      "Ter - [900/1176] train loss : 0.39941850304603577\n",
      "Ter - [1000/1176] train loss : 0.2646103501319885\n",
      "Ter - [1100/1176] train loss : 0.33622995018959045\n",
      "Epoch [3/3]\n",
      "Train Loss: 0.3413, Train Accuracy: 0.8556\n",
      "Validation Loss: 0.4748, Validation Accuracy: 0.8360\n"
     ]
    }
   ],
   "source": [
    "for epoch in range(num_epochs):\n",
    "    model.train()\n",
    "    \n",
    "    running_loss = 0.0\n",
    "    correct_predictions = 0\n",
    "    total_samples  =0\n",
    "    i = 0\n",
    "    for inputs, labels in terDL_train:\n",
    "        inputs, labels = inputs.to(device), labels.to(device)\n",
    "        \n",
    "        optimizer.zero_grad()\n",
    "        outputs = model(inputs)\n",
    "        loss = criterion(outputs, labels)\n",
    "        loss.backward()\n",
    "        optimizer.step()\n",
    "        \n",
    "        running_loss += loss.item() * inputs.size(0)\n",
    "        _, predicted = torch.max(outputs, 1)\n",
    "        correct_predictions += (predicted == labels).sum().item()\n",
    "        total_samples += labels.size(0)\n",
    "        \n",
    "        if(i%100 == 0):\n",
    "            print(f\"Ter - [{i}/{len(terDL_train)}] train loss : {loss.item()}\")\n",
    "        i = i+1\n",
    "        \n",
    "    train_loss = running_loss / total_samples\n",
    "    train_accuracy = correct_predictions / total_samples\n",
    "    \n",
    "    model.eval()\n",
    "    val_loss = 0.0\n",
    "    correct_val_predictions = 0\n",
    "    total_val_samples = 0\n",
    "    \n",
    "    with torch.no_grad():\n",
    "        for val_inputs, val_labels in terDL_val:\n",
    "            val_inputs, val_labels = val_inputs.to(device), val_labels.to(device)\n",
    "            \n",
    "            val_outputs = model(val_inputs)\n",
    "            loss = criterion(val_outputs, val_labels)\n",
    "            \n",
    "            val_loss += loss.item() * val_inputs.size(0)\n",
    "            _, val_predicted = torch.max(val_outputs, 1)\n",
    "            correct_val_predictions += (val_predicted == val_labels).sum().item()\n",
    "            total_val_samples += val_labels.size(0)\n",
    "    \n",
    "    val_loss /= total_val_samples\n",
    "    val_accuracy = correct_val_predictions / total_val_samples\n",
    "    \n",
    "    # Print epoch stats\n",
    "    print(f'Epoch [{epoch+1}/{num_epochs}]')\n",
    "    print(f'Train Loss: {train_loss:.4f}, Train Accuracy: {train_accuracy:.4f}')\n",
    "    print(f'Validation Loss: {val_loss:.4f}, Validation Accuracy: {val_accuracy:.4f}')"
   ]
  },
  {
   "cell_type": "code",
   "execution_count": 22,
   "id": "568605ef",
   "metadata": {
    "execution": {
     "iopub.execute_input": "2024-10-15T07:52:49.454720Z",
     "iopub.status.busy": "2024-10-15T07:52:49.454344Z",
     "iopub.status.idle": "2024-10-15T07:53:40.082529Z",
     "shell.execute_reply": "2024-10-15T07:53:40.081640Z"
    },
    "papermill": {
     "duration": 50.695142,
     "end_time": "2024-10-15T07:53:40.117119",
     "exception": false,
     "start_time": "2024-10-15T07:52:49.421977",
     "status": "completed"
    },
    "tags": []
   },
   "outputs": [
    {
     "data": {
      "image/png": "[encoded data removed]",
      "text/plain": [
       "<Figure size 600x400 with 2 Axes>"
      ]
     },
     "metadata": {},
     "output_type": "display_data"
    }
   ],
   "source": [
    "# Get the predictions and true labels for the test set\n",
    "preds, true_labels = get_predictions_and_labels(model, terDL_val)\n",
    "\n",
    "# Compute the confusion matrix\n",
    "conf_matrix = confusion_matrix(true_labels, preds)\n",
    "class_names = [f'Class {i}' for i in range(len(target_class_names)+1)]\n",
    "# Plot the confusion matrix using seaborn\n",
    "plt.figure(figsize=(6, 4))\n",
    "sns.heatmap(conf_matrix, annot=True, fmt=\"d\", cmap=\"Blues\", xticklabels=class_names, yticklabels=class_names)\n",
    "plt.xlabel('Predicted Label')\n",
    "plt.ylabel('True Label')\n",
    "plt.title('Confusion Matrix')\n",
    "plt.show()"
   ]
  },
  {
   "cell_type": "code",
   "execution_count": 23,
   "id": "9136faff",
   "metadata": {
    "execution": {
     "iopub.execute_input": "2024-10-15T07:53:40.181729Z",
     "iopub.status.busy": "2024-10-15T07:53:40.181029Z",
     "iopub.status.idle": "2024-10-15T07:53:40.188164Z",
     "shell.execute_reply": "2024-10-15T07:53:40.187297Z"
    },
    "papermill": {
     "duration": 0.041604,
     "end_time": "2024-10-15T07:53:40.190075",
     "exception": false,
     "start_time": "2024-10-15T07:53:40.148471",
     "status": "completed"
    },
    "tags": []
   },
   "outputs": [],
   "source": [
    "del terDL_train\n",
    "del terDL_val"
   ]
  },
  {
   "cell_type": "markdown",
   "id": "8c7305b9",
   "metadata": {
    "papermill": {
     "duration": 0.030784,
     "end_time": "2024-10-15T07:53:40.252161",
     "exception": false,
     "start_time": "2024-10-15T07:53:40.221377",
     "status": "completed"
    },
    "tags": []
   },
   "source": [
    "# Quaternary"
   ]
  },
  {
   "cell_type": "code",
   "execution_count": 24,
   "id": "036722d0",
   "metadata": {
    "execution": {
     "iopub.execute_input": "2024-10-15T07:53:40.316461Z",
     "iopub.status.busy": "2024-10-15T07:53:40.315690Z",
     "iopub.status.idle": "2024-10-15T07:53:47.328606Z",
     "shell.execute_reply": "2024-10-15T07:53:47.327798Z"
    },
    "papermill": {
     "duration": 7.04771,
     "end_time": "2024-10-15T07:53:47.330929",
     "exception": false,
     "start_time": "2024-10-15T07:53:40.283219",
     "status": "completed"
    },
    "tags": []
   },
   "outputs": [],
   "source": [
    "target_class_names = [\"Normal\",\"Erosion\",\"Polyp\"]\n",
    "quatDL_train = getNaryDataLoader(target_class_names=target_class_names, path_to_dataset=train_path, \n",
    "                          batch_size=32, trans = train_transform)\n",
    "quatDL_val = getNaryDataLoader(target_class_names=target_class_names, path_to_dataset=val_path, \n",
    "                          batch_size=32, trans = val_transform)"
   ]
  },
  {
   "cell_type": "code",
   "execution_count": 25,
   "id": "b4ae6fdd",
   "metadata": {
    "execution": {
     "iopub.execute_input": "2024-10-15T07:53:47.395173Z",
     "iopub.status.busy": "2024-10-15T07:53:47.394855Z",
     "iopub.status.idle": "2024-10-15T07:53:47.400010Z",
     "shell.execute_reply": "2024-10-15T07:53:47.399297Z"
    },
    "papermill": {
     "duration": 0.039196,
     "end_time": "2024-10-15T07:53:47.401926",
     "exception": false,
     "start_time": "2024-10-15T07:53:47.362730",
     "status": "completed"
    },
    "tags": []
   },
   "outputs": [],
   "source": [
    "num_ftrs = model.fc.in_features\n",
    "model.fc = nn.Linear(in_features=num_ftrs, out_features=len(target_class_names)+1)"
   ]
  },
  {
   "cell_type": "code",
   "execution_count": 26,
   "id": "63ecebfe",
   "metadata": {
    "execution": {
     "iopub.execute_input": "2024-10-15T07:53:47.466325Z",
     "iopub.status.busy": "2024-10-15T07:53:47.465940Z",
     "iopub.status.idle": "2024-10-15T07:53:47.470879Z",
     "shell.execute_reply": "2024-10-15T07:53:47.470060Z"
    },
    "papermill": {
     "duration": 0.039674,
     "end_time": "2024-10-15T07:53:47.472762",
     "exception": false,
     "start_time": "2024-10-15T07:53:47.433088",
     "status": "completed"
    },
    "tags": []
   },
   "outputs": [],
   "source": [
    "device = torch.device(\"cuda\" if torch.cuda.is_available() else \"cpu\")\n",
    "if torch.cuda.device_count() > 1:\n",
    "    model = nn.DataParallel(model)"
   ]
  },
  {
   "cell_type": "code",
   "execution_count": 27,
   "id": "d2b183ea",
   "metadata": {
    "execution": {
     "iopub.execute_input": "2024-10-15T07:53:47.536668Z",
     "iopub.status.busy": "2024-10-15T07:53:47.536383Z",
     "iopub.status.idle": "2024-10-15T07:53:47.545611Z",
     "shell.execute_reply": "2024-10-15T07:53:47.544908Z"
    },
    "papermill": {
     "duration": 0.043243,
     "end_time": "2024-10-15T07:53:47.547440",
     "exception": false,
     "start_time": "2024-10-15T07:53:47.504197",
     "status": "completed"
    },
    "tags": []
   },
   "outputs": [],
   "source": [
    "model = model.to(device)\n",
    "criterion = nn.CrossEntropyLoss() \n",
    "# optimizer = torch.optim.Adam(model.parameters(), lr=0.001)"
   ]
  },
  {
   "cell_type": "code",
   "execution_count": 28,
   "id": "12feb8b3",
   "metadata": {
    "execution": {
     "iopub.execute_input": "2024-10-15T07:53:47.610592Z",
     "iopub.status.busy": "2024-10-15T07:53:47.610284Z",
     "iopub.status.idle": "2024-10-15T07:53:47.618928Z",
     "shell.execute_reply": "2024-10-15T07:53:47.618274Z"
    },
    "papermill": {
     "duration": 0.042391,
     "end_time": "2024-10-15T07:53:47.620809",
     "exception": false,
     "start_time": "2024-10-15T07:53:47.578418",
     "status": "completed"
    },
    "tags": []
   },
   "outputs": [],
   "source": [
    "model = model.to(device)"
   ]
  },
  {
   "cell_type": "code",
   "execution_count": 29,
   "id": "814debe5",
   "metadata": {
    "execution": {
     "iopub.execute_input": "2024-10-15T07:53:47.684677Z",
     "iopub.status.busy": "2024-10-15T07:53:47.684388Z",
     "iopub.status.idle": "2024-10-15T07:53:47.688094Z",
     "shell.execute_reply": "2024-10-15T07:53:47.687362Z"
    },
    "papermill": {
     "duration": 0.037603,
     "end_time": "2024-10-15T07:53:47.689828",
     "exception": false,
     "start_time": "2024-10-15T07:53:47.652225",
     "status": "completed"
    },
    "tags": []
   },
   "outputs": [],
   "source": [
    "num_epochs = 4"
   ]
  },
  {
   "cell_type": "code",
   "execution_count": 30,
   "id": "8c129927",
   "metadata": {
    "execution": {
     "iopub.execute_input": "2024-10-15T07:53:47.753800Z",
     "iopub.status.busy": "2024-10-15T07:53:47.753062Z",
     "iopub.status.idle": "2024-10-15T08:15:15.470273Z",
     "shell.execute_reply": "2024-10-15T08:15:15.469186Z"
    },
    "papermill": {
     "duration": 1287.786317,
     "end_time": "2024-10-15T08:15:15.507343",
     "exception": false,
     "start_time": "2024-10-15T07:53:47.721026",
     "status": "completed"
    },
    "tags": []
   },
   "outputs": [
    {
     "name": "stdout",
     "output_type": "stream",
     "text": [
      "Quat - [0/1176] train loss : 1.412927269935608\n",
      "Quat - [100/1176] train loss : 0.49938783049583435\n",
      "Quat - [200/1176] train loss : 0.19171935319900513\n",
      "Quat - [300/1176] train loss : 0.5116538405418396\n",
      "Quat - [400/1176] train loss : 0.29181620478630066\n",
      "Quat - [500/1176] train loss : 0.41565895080566406\n",
      "Quat - [600/1176] train loss : 0.310702919960022\n",
      "Quat - [700/1176] train loss : 0.6768542528152466\n",
      "Quat - [800/1176] train loss : 0.4380282461643219\n",
      "Quat - [900/1176] train loss : 0.27773401141166687\n",
      "Quat - [1000/1176] train loss : 0.2112203985452652\n",
      "Quat - [1100/1176] train loss : 0.28078600764274597\n",
      "Epoch [1/4]\n",
      "Train Loss: 0.3909, Train Accuracy: 0.8510\n",
      "Validation Loss: 0.4273, Validation Accuracy: 0.8405\n",
      "Quat - [0/1176] train loss : 0.43942394852638245\n",
      "Quat - [100/1176] train loss : 0.43248775601387024\n",
      "Quat - [200/1176] train loss : 0.6848973035812378\n",
      "Quat - [300/1176] train loss : 0.2693712115287781\n",
      "Quat - [400/1176] train loss : 0.22975076735019684\n",
      "Quat - [500/1176] train loss : 0.31571340560913086\n",
      "Quat - [600/1176] train loss : 0.2670709490776062\n",
      "Quat - [700/1176] train loss : 0.2231276035308838\n",
      "Quat - [800/1176] train loss : 0.3671604096889496\n",
      "Quat - [900/1176] train loss : 0.6946926116943359\n",
      "Quat - [1000/1176] train loss : 0.4346977174282074\n",
      "Quat - [1100/1176] train loss : 0.38473615050315857\n",
      "Epoch [2/4]\n",
      "Train Loss: 0.3600, Train Accuracy: 0.8633\n",
      "Validation Loss: 0.3414, Validation Accuracy: 0.8674\n",
      "Quat - [0/1176] train loss : 0.3936964273452759\n",
      "Quat - [100/1176] train loss : 0.4570208191871643\n",
      "Quat - [200/1176] train loss : 0.22178290784358978\n",
      "Quat - [300/1176] train loss : 0.18030227720737457\n",
      "Quat - [400/1176] train loss : 0.34392228722572327\n",
      "Quat - [500/1176] train loss : 0.2693445086479187\n",
      "Quat - [600/1176] train loss : 0.2942861020565033\n",
      "Quat - [700/1176] train loss : 0.3710596561431885\n",
      "Quat - [800/1176] train loss : 0.46254873275756836\n",
      "Quat - [900/1176] train loss : 0.3002033531665802\n",
      "Quat - [1000/1176] train loss : 0.35566446185112\n",
      "Quat - [1100/1176] train loss : 0.320354700088501\n",
      "Epoch [3/4]\n",
      "Train Loss: 0.3381, Train Accuracy: 0.8718\n",
      "Validation Loss: 0.5260, Validation Accuracy: 0.7949\n",
      "Quat - [0/1176] train loss : 0.31856250762939453\n",
      "Quat - [100/1176] train loss : 0.19296810030937195\n",
      "Quat - [200/1176] train loss : 0.45463335514068604\n",
      "Quat - [300/1176] train loss : 0.3573218882083893\n",
      "Quat - [400/1176] train loss : 0.18757015466690063\n",
      "Quat - [500/1176] train loss : 0.6094541549682617\n",
      "Quat - [600/1176] train loss : 0.3783625066280365\n",
      "Quat - [700/1176] train loss : 0.26185816526412964\n",
      "Quat - [800/1176] train loss : 0.1576658934354782\n",
      "Quat - [900/1176] train loss : 0.29119983315467834\n",
      "Quat - [1000/1176] train loss : 0.33413922786712646\n",
      "Quat - [1100/1176] train loss : 0.36459964513778687\n",
      "Epoch [4/4]\n",
      "Train Loss: 0.3183, Train Accuracy: 0.8772\n",
      "Validation Loss: 0.4089, Validation Accuracy: 0.8600\n"
     ]
    }
   ],
   "source": [
    "for epoch in range(num_epochs):\n",
    "    model.train()\n",
    "    \n",
    "    running_loss = 0.0\n",
    "    correct_predictions = 0\n",
    "    total_samples  =0\n",
    "    i = 0\n",
    "    for inputs, labels in quatDL_train:\n",
    "        inputs, labels = inputs.to(device), labels.to(device)\n",
    "        \n",
    "        optimizer.zero_grad()\n",
    "        outputs = model(inputs)\n",
    "        loss = criterion(outputs, labels)\n",
    "        loss.backward()\n",
    "        optimizer.step()\n",
    "        \n",
    "        running_loss += loss.item() * inputs.size(0)\n",
    "        _, predicted = torch.max(outputs, 1)\n",
    "        correct_predictions += (predicted == labels).sum().item()\n",
    "        total_samples += labels.size(0)\n",
    "        \n",
    "        if(i%100 == 0):\n",
    "            print(f\"Quat - [{i}/{len(quatDL_train)}] train loss : {loss.item()}\")\n",
    "        i = i+1\n",
    "        \n",
    "    train_loss = running_loss / total_samples\n",
    "    train_accuracy = correct_predictions / total_samples\n",
    "    \n",
    "    model.eval()\n",
    "    val_loss = 0.0\n",
    "    correct_val_predictions = 0\n",
    "    total_val_samples = 0\n",
    "    \n",
    "    with torch.no_grad():\n",
    "        for val_inputs, val_labels in quatDL_val:\n",
    "            val_inputs, val_labels = val_inputs.to(device), val_labels.to(device)\n",
    "            \n",
    "            val_outputs = model(val_inputs)\n",
    "            loss = criterion(val_outputs, val_labels)\n",
    "            \n",
    "            val_loss += loss.item() * val_inputs.size(0)\n",
    "            _, val_predicted = torch.max(val_outputs, 1)\n",
    "            correct_val_predictions += (val_predicted == val_labels).sum().item()\n",
    "            total_val_samples += val_labels.size(0)\n",
    "    \n",
    "    val_loss /= total_val_samples\n",
    "    val_accuracy = correct_val_predictions / total_val_samples\n",
    "    \n",
    "    # Print epoch stats\n",
    "    print(f'Epoch [{epoch+1}/{num_epochs}]')\n",
    "    print(f'Train Loss: {train_loss:.4f}, Train Accuracy: {train_accuracy:.4f}')\n",
    "    print(f'Validation Loss: {val_loss:.4f}, Validation Accuracy: {val_accuracy:.4f}')"
   ]
  },
  {
   "cell_type": "code",
   "execution_count": 31,
   "id": "85b72738",
   "metadata": {
    "execution": {
     "iopub.execute_input": "2024-10-15T08:15:15.579298Z",
     "iopub.status.busy": "2024-10-15T08:15:15.578432Z",
     "iopub.status.idle": "2024-10-15T08:16:07.203999Z",
     "shell.execute_reply": "2024-10-15T08:16:07.203081Z"
    },
    "papermill": {
     "duration": 51.699204,
     "end_time": "2024-10-15T08:16:07.241597",
     "exception": false,
     "start_time": "2024-10-15T08:15:15.542393",
     "status": "completed"
    },
    "tags": []
   },
   "outputs": [
    {
     "data": {
      "image/png": "[encoded data removed]",
      "text/plain": [
       "<Figure size 600x400 with 2 Axes>"
      ]
     },
     "metadata": {},
     "output_type": "display_data"
    }
   ],
   "source": [
    "# Get the predictions and true labels for the test set\n",
    "preds, true_labels = get_predictions_and_labels(model, quatDL_val)\n",
    "\n",
    "# Compute the confusion matrix\n",
    "conf_matrix = confusion_matrix(true_labels, preds)\n",
    "class_names = [f'Class {i}' for i in range(len(target_class_names)+1)]\n",
    "# Plot the confusion matrix using seaborn\n",
    "plt.figure(figsize=(6, 4))\n",
    "sns.heatmap(conf_matrix, annot=True, fmt=\"d\", cmap=\"Blues\", xticklabels=class_names, yticklabels=class_names)\n",
    "plt.xlabel('Predicted Label')\n",
    "plt.ylabel('True Label')\n",
    "plt.title('Confusion Matrix')\n",
    "plt.show()"
   ]
  },
  {
   "cell_type": "code",
   "execution_count": 32,
   "id": "5a868e34",
   "metadata": {
    "execution": {
     "iopub.execute_input": "2024-10-15T08:16:07.313800Z",
     "iopub.status.busy": "2024-10-15T08:16:07.313480Z",
     "iopub.status.idle": "2024-10-15T08:16:07.319911Z",
     "shell.execute_reply": "2024-10-15T08:16:07.319066Z"
    },
    "papermill": {
     "duration": 0.044952,
     "end_time": "2024-10-15T08:16:07.322120",
     "exception": false,
     "start_time": "2024-10-15T08:16:07.277168",
     "status": "completed"
    },
    "tags": []
   },
   "outputs": [],
   "source": [
    "del quatDL_train\n",
    "del quatDL_val"
   ]
  },
  {
   "cell_type": "markdown",
   "id": "b33a9fb9",
   "metadata": {
    "papermill": {
     "duration": 0.035533,
     "end_time": "2024-10-15T08:16:07.394114",
     "exception": false,
     "start_time": "2024-10-15T08:16:07.358581",
     "status": "completed"
    },
    "tags": []
   },
   "source": [
    "# Pentanary"
   ]
  },
  {
   "cell_type": "code",
   "execution_count": 33,
   "id": "f14cf33a",
   "metadata": {
    "execution": {
     "iopub.execute_input": "2024-10-15T08:16:07.467191Z",
     "iopub.status.busy": "2024-10-15T08:16:07.466563Z",
     "iopub.status.idle": "2024-10-15T08:16:20.645463Z",
     "shell.execute_reply": "2024-10-15T08:16:20.644586Z"
    },
    "papermill": {
     "duration": 13.217876,
     "end_time": "2024-10-15T08:16:20.647857",
     "exception": false,
     "start_time": "2024-10-15T08:16:07.429981",
     "status": "completed"
    },
    "tags": []
   },
   "outputs": [],
   "source": [
    "target_class_names = [\"Normal\",\"Erosion\",\"Polyp\", \"Angioectasia\"]\n",
    "pentDL_train = getNaryDataLoader(target_class_names=target_class_names, path_to_dataset=train_path, \n",
    "                          batch_size=32, trans = train_transform)\n",
    "pentDL_val = getNaryDataLoader(target_class_names=target_class_names, path_to_dataset=val_path, \n",
    "                          batch_size=32, trans = val_transform)"
   ]
  },
  {
   "cell_type": "code",
   "execution_count": 34,
   "id": "77dbda6d",
   "metadata": {
    "execution": {
     "iopub.execute_input": "2024-10-15T08:16:20.721053Z",
     "iopub.status.busy": "2024-10-15T08:16:20.720737Z",
     "iopub.status.idle": "2024-10-15T08:16:20.725754Z",
     "shell.execute_reply": "2024-10-15T08:16:20.725025Z"
    },
    "papermill": {
     "duration": 0.043347,
     "end_time": "2024-10-15T08:16:20.727589",
     "exception": false,
     "start_time": "2024-10-15T08:16:20.684242",
     "status": "completed"
    },
    "tags": []
   },
   "outputs": [],
   "source": [
    "num_ftrs = model.fc.in_features\n",
    "model.fc = nn.Linear(in_features=num_ftrs, out_features=len(target_class_names)+1)"
   ]
  },
  {
   "cell_type": "code",
   "execution_count": 35,
   "id": "ef234fba",
   "metadata": {
    "execution": {
     "iopub.execute_input": "2024-10-15T08:16:20.800330Z",
     "iopub.status.busy": "2024-10-15T08:16:20.800039Z",
     "iopub.status.idle": "2024-10-15T08:16:20.804469Z",
     "shell.execute_reply": "2024-10-15T08:16:20.803575Z"
    },
    "papermill": {
     "duration": 0.042742,
     "end_time": "2024-10-15T08:16:20.806403",
     "exception": false,
     "start_time": "2024-10-15T08:16:20.763661",
     "status": "completed"
    },
    "tags": []
   },
   "outputs": [],
   "source": [
    "device = torch.device(\"cuda\" if torch.cuda.is_available() else \"cpu\")\n",
    "if torch.cuda.device_count() > 1:\n",
    "    model = nn.DataParallel(model)"
   ]
  },
  {
   "cell_type": "code",
   "execution_count": 36,
   "id": "5e356245",
   "metadata": {
    "execution": {
     "iopub.execute_input": "2024-10-15T08:16:20.878563Z",
     "iopub.status.busy": "2024-10-15T08:16:20.878229Z",
     "iopub.status.idle": "2024-10-15T08:16:20.887137Z",
     "shell.execute_reply": "2024-10-15T08:16:20.886484Z"
    },
    "papermill": {
     "duration": 0.047069,
     "end_time": "2024-10-15T08:16:20.889056",
     "exception": false,
     "start_time": "2024-10-15T08:16:20.841987",
     "status": "completed"
    },
    "tags": []
   },
   "outputs": [],
   "source": [
    "model = model.to(device)\n",
    "criterion = nn.CrossEntropyLoss() \n",
    "# optimizer = torch.optim.Adam(model.parameters(), lr=0.001)"
   ]
  },
  {
   "cell_type": "code",
   "execution_count": 37,
   "id": "a1525898",
   "metadata": {
    "execution": {
     "iopub.execute_input": "2024-10-15T08:16:20.961564Z",
     "iopub.status.busy": "2024-10-15T08:16:20.961274Z",
     "iopub.status.idle": "2024-10-15T08:16:20.969656Z",
     "shell.execute_reply": "2024-10-15T08:16:20.968977Z"
    },
    "papermill": {
     "duration": 0.046638,
     "end_time": "2024-10-15T08:16:20.971498",
     "exception": false,
     "start_time": "2024-10-15T08:16:20.924860",
     "status": "completed"
    },
    "tags": []
   },
   "outputs": [],
   "source": [
    "model = model.to(device)"
   ]
  },
  {
   "cell_type": "code",
   "execution_count": 38,
   "id": "c745cfd7",
   "metadata": {
    "execution": {
     "iopub.execute_input": "2024-10-15T08:16:21.043429Z",
     "iopub.status.busy": "2024-10-15T08:16:21.042898Z",
     "iopub.status.idle": "2024-10-15T08:16:21.046773Z",
     "shell.execute_reply": "2024-10-15T08:16:21.045932Z"
    },
    "papermill": {
     "duration": 0.041767,
     "end_time": "2024-10-15T08:16:21.048591",
     "exception": false,
     "start_time": "2024-10-15T08:16:21.006824",
     "status": "completed"
    },
    "tags": []
   },
   "outputs": [],
   "source": [
    "num_epochs = 5"
   ]
  },
  {
   "cell_type": "code",
   "execution_count": 39,
   "id": "068d47e9",
   "metadata": {
    "execution": {
     "iopub.execute_input": "2024-10-15T08:16:21.122384Z",
     "iopub.status.busy": "2024-10-15T08:16:21.121424Z",
     "iopub.status.idle": "2024-10-15T08:42:53.818714Z",
     "shell.execute_reply": "2024-10-15T08:42:53.817584Z"
    },
    "papermill": {
     "duration": 1592.778437,
     "end_time": "2024-10-15T08:42:53.862983",
     "exception": false,
     "start_time": "2024-10-15T08:16:21.084546",
     "status": "completed"
    },
    "tags": []
   },
   "outputs": [
    {
     "name": "stdout",
     "output_type": "stream",
     "text": [
      "Pent - [0/1176] train loss : 2.027250289916992\n",
      "Pent - [100/1176] train loss : 0.2790639102458954\n",
      "Pent - [200/1176] train loss : 0.2674429714679718\n",
      "Pent - [300/1176] train loss : 0.6662746667861938\n",
      "Pent - [400/1176] train loss : 0.2669607400894165\n",
      "Pent - [500/1176] train loss : 0.36924654245376587\n",
      "Pent - [600/1176] train loss : 0.6310205459594727\n",
      "Pent - [700/1176] train loss : 0.44395896792411804\n",
      "Pent - [800/1176] train loss : 0.4545394480228424\n",
      "Pent - [900/1176] train loss : 0.30942025780677795\n",
      "Pent - [1000/1176] train loss : 0.26176849007606506\n",
      "Pent - [1100/1176] train loss : 0.15801073610782623\n",
      "Epoch [1/5]\n",
      "Train Loss: 0.3705, Train Accuracy: 0.8655\n",
      "Validation Loss: 0.4281, Validation Accuracy: 0.8496\n",
      "Pent - [0/1176] train loss : 0.2966002821922302\n",
      "Pent - [100/1176] train loss : 0.3386543095111847\n",
      "Pent - [200/1176] train loss : 0.37210172414779663\n",
      "Pent - [300/1176] train loss : 0.7380220890045166\n",
      "Pent - [400/1176] train loss : 0.664692759513855\n",
      "Pent - [500/1176] train loss : 0.5172102451324463\n",
      "Pent - [600/1176] train loss : 0.2197931855916977\n",
      "Pent - [700/1176] train loss : 0.33363956212997437\n",
      "Pent - [800/1176] train loss : 0.19276218116283417\n",
      "Pent - [900/1176] train loss : 0.2743828296661377\n",
      "Pent - [1000/1176] train loss : 0.3758137822151184\n",
      "Pent - [1100/1176] train loss : 0.35315394401550293\n",
      "Epoch [2/5]\n",
      "Train Loss: 0.3255, Train Accuracy: 0.8831\n",
      "Validation Loss: 0.3372, Validation Accuracy: 0.8797\n",
      "Pent - [0/1176] train loss : 0.27473926544189453\n",
      "Pent - [100/1176] train loss : 0.16316141188144684\n",
      "Pent - [200/1176] train loss : 0.3309589922428131\n",
      "Pent - [300/1176] train loss : 0.7196251153945923\n",
      "Pent - [400/1176] train loss : 0.5419442057609558\n",
      "Pent - [500/1176] train loss : 0.42054763436317444\n",
      "Pent - [600/1176] train loss : 0.27521345019340515\n",
      "Pent - [700/1176] train loss : 0.5998948812484741\n",
      "Pent - [800/1176] train loss : 0.31908610463142395\n",
      "Pent - [900/1176] train loss : 0.4035781919956207\n",
      "Pent - [1000/1176] train loss : 0.21974506974220276\n",
      "Pent - [1100/1176] train loss : 0.32966652512550354\n",
      "Epoch [3/5]\n",
      "Train Loss: 0.3092, Train Accuracy: 0.8895\n",
      "Validation Loss: 0.3332, Validation Accuracy: 0.8798\n",
      "Pent - [0/1176] train loss : 0.40913817286491394\n",
      "Pent - [100/1176] train loss : 0.17832045257091522\n",
      "Pent - [200/1176] train loss : 0.5364335775375366\n",
      "Pent - [300/1176] train loss : 0.2434701919555664\n",
      "Pent - [400/1176] train loss : 0.1536615788936615\n",
      "Pent - [500/1176] train loss : 0.1244509220123291\n",
      "Pent - [600/1176] train loss : 0.38817840814590454\n",
      "Pent - [700/1176] train loss : 0.18048129975795746\n",
      "Pent - [800/1176] train loss : 0.3365319073200226\n",
      "Pent - [900/1176] train loss : 0.39047500491142273\n",
      "Pent - [1000/1176] train loss : 0.35271281003952026\n",
      "Pent - [1100/1176] train loss : 0.15480118989944458\n",
      "Epoch [4/5]\n",
      "Train Loss: 0.2982, Train Accuracy: 0.8920\n",
      "Validation Loss: 0.6328, Validation Accuracy: 0.8215\n",
      "Pent - [0/1176] train loss : 0.3704116940498352\n",
      "Pent - [100/1176] train loss : 0.2863827347755432\n",
      "Pent - [200/1176] train loss : 0.18652766942977905\n",
      "Pent - [300/1176] train loss : 0.16737137734889984\n",
      "Pent - [400/1176] train loss : 0.23892153799533844\n",
      "Pent - [500/1176] train loss : 0.21588639914989471\n",
      "Pent - [600/1176] train loss : 0.18590688705444336\n",
      "Pent - [700/1176] train loss : 0.17378103733062744\n",
      "Pent - [800/1176] train loss : 0.15551823377609253\n",
      "Pent - [900/1176] train loss : 0.3271976113319397\n",
      "Pent - [1000/1176] train loss : 0.22989675402641296\n",
      "Pent - [1100/1176] train loss : 0.23652583360671997\n",
      "Epoch [5/5]\n",
      "Train Loss: 0.2843, Train Accuracy: 0.8979\n",
      "Validation Loss: 0.3476, Validation Accuracy: 0.8767\n"
     ]
    }
   ],
   "source": [
    "for epoch in range(num_epochs):\n",
    "    model.train()\n",
    "    \n",
    "    running_loss = 0.0\n",
    "    correct_predictions = 0\n",
    "    total_samples  =0\n",
    "    i = 0\n",
    "    for inputs, labels in pentDL_train:\n",
    "        inputs, labels = inputs.to(device), labels.to(device)\n",
    "        \n",
    "        optimizer.zero_grad()\n",
    "        outputs = model(inputs)\n",
    "        loss = criterion(outputs, labels)\n",
    "        loss.backward()\n",
    "        optimizer.step()\n",
    "        \n",
    "        running_loss += loss.item() * inputs.size(0)\n",
    "        _, predicted = torch.max(outputs, 1)\n",
    "        correct_predictions += (predicted == labels).sum().item()\n",
    "        total_samples += labels.size(0)\n",
    "        \n",
    "        if(i%100 == 0):\n",
    "            print(f\"Pent - [{i}/{len(pentDL_train)}] train loss : {loss.item()}\")\n",
    "        i = i+1\n",
    "        \n",
    "    train_loss = running_loss / total_samples\n",
    "    train_accuracy = correct_predictions / total_samples\n",
    "    \n",
    "    model.eval()\n",
    "    val_loss = 0.0\n",
    "    correct_val_predictions = 0\n",
    "    total_val_samples = 0\n",
    "    \n",
    "    with torch.no_grad():\n",
    "        for val_inputs, val_labels in pentDL_val:\n",
    "            val_inputs, val_labels = val_inputs.to(device), val_labels.to(device)\n",
    "            \n",
    "            val_outputs = model(val_inputs)\n",
    "            loss = criterion(val_outputs, val_labels)\n",
    "            \n",
    "            val_loss += loss.item() * val_inputs.size(0)\n",
    "            _, val_predicted = torch.max(val_outputs, 1)\n",
    "            correct_val_predictions += (val_predicted == val_labels).sum().item()\n",
    "            total_val_samples += val_labels.size(0)\n",
    "    \n",
    "    val_loss /= total_val_samples\n",
    "    val_accuracy = correct_val_predictions / total_val_samples\n",
    "    \n",
    "    # Print epoch stats\n",
    "    print(f'Epoch [{epoch+1}/{num_epochs}]')\n",
    "    print(f'Train Loss: {train_loss:.4f}, Train Accuracy: {train_accuracy:.4f}')\n",
    "    print(f'Validation Loss: {val_loss:.4f}, Validation Accuracy: {val_accuracy:.4f}')"
   ]
  },
  {
   "cell_type": "code",
   "execution_count": 40,
   "id": "83ab9e46",
   "metadata": {
    "execution": {
     "iopub.execute_input": "2024-10-15T08:42:53.946816Z",
     "iopub.status.busy": "2024-10-15T08:42:53.946434Z",
     "iopub.status.idle": "2024-10-15T08:43:43.823149Z",
     "shell.execute_reply": "2024-10-15T08:43:43.822274Z"
    },
    "papermill": {
     "duration": 49.963063,
     "end_time": "2024-10-15T08:43:43.867403",
     "exception": false,
     "start_time": "2024-10-15T08:42:53.904340",
     "status": "completed"
    },
    "tags": []
   },
   "outputs": [
    {
     "data": {
      "image/png": "[encoded data removed]",
      "text/plain": [
       "<Figure size 600x400 with 2 Axes>"
      ]
     },
     "metadata": {},
     "output_type": "display_data"
    }
   ],
   "source": [
    "# Get the predictions and true labels for the test set\n",
    "preds, true_labels = get_predictions_and_labels(model, pentDL_val)\n",
    "\n",
    "# Compute the confusion matrix\n",
    "conf_matrix = confusion_matrix(true_labels, preds)\n",
    "class_names = [f'Class {i}' for i in range(len(target_class_names)+1)]\n",
    "# Plot the confusion matrix using seaborn\n",
    "plt.figure(figsize=(6, 4))\n",
    "sns.heatmap(conf_matrix, annot=True, fmt=\"d\", cmap=\"Blues\", xticklabels=class_names, yticklabels=class_names)\n",
    "plt.xlabel('Predicted Label')\n",
    "plt.ylabel('True Label')\n",
    "plt.title('Confusion Matrix')\n",
    "plt.show()"
   ]
  },
  {
   "cell_type": "code",
   "execution_count": 41,
   "id": "865121e6",
   "metadata": {
    "execution": {
     "iopub.execute_input": "2024-10-15T08:43:43.950951Z",
     "iopub.status.busy": "2024-10-15T08:43:43.950649Z",
     "iopub.status.idle": "2024-10-15T08:43:43.957026Z",
     "shell.execute_reply": "2024-10-15T08:43:43.956259Z"
    },
    "papermill": {
     "duration": 0.050489,
     "end_time": "2024-10-15T08:43:43.958896",
     "exception": false,
     "start_time": "2024-10-15T08:43:43.908407",
     "status": "completed"
    },
    "tags": []
   },
   "outputs": [],
   "source": [
    "del pentDL_train\n",
    "del pentDL_val"
   ]
  },
  {
   "cell_type": "markdown",
   "id": "6c32275f",
   "metadata": {
    "papermill": {
     "duration": 0.040705,
     "end_time": "2024-10-15T08:43:44.040922",
     "exception": false,
     "start_time": "2024-10-15T08:43:44.000217",
     "status": "completed"
    },
    "tags": []
   },
   "source": [
    "# Senary"
   ]
  },
  {
   "cell_type": "code",
   "execution_count": 42,
   "id": "609daf12",
   "metadata": {
    "execution": {
     "iopub.execute_input": "2024-10-15T08:43:44.124309Z",
     "iopub.status.busy": "2024-10-15T08:43:44.124004Z",
     "iopub.status.idle": "2024-10-15T08:43:57.234452Z",
     "shell.execute_reply": "2024-10-15T08:43:57.233667Z"
    },
    "papermill": {
     "duration": 13.154873,
     "end_time": "2024-10-15T08:43:57.236716",
     "exception": false,
     "start_time": "2024-10-15T08:43:44.081843",
     "status": "completed"
    },
    "tags": []
   },
   "outputs": [],
   "source": [
    "target_class_names = [\"Normal\",\"Erosion\",\"Polyp\", \"Angioectasia\", \"Bleeding\"]\n",
    "senDL_train = getNaryDataLoader(target_class_names=target_class_names, path_to_dataset=train_path, \n",
    "                          batch_size=32, trans = train_transform)\n",
    "senDL_val = getNaryDataLoader(target_class_names=target_class_names, path_to_dataset=val_path, \n",
    "                          batch_size=32, trans = val_transform)"
   ]
  },
  {
   "cell_type": "code",
   "execution_count": 43,
   "id": "c4ff5d49",
   "metadata": {
    "execution": {
     "iopub.execute_input": "2024-10-15T08:43:57.320707Z",
     "iopub.status.busy": "2024-10-15T08:43:57.320404Z",
     "iopub.status.idle": "2024-10-15T08:43:57.325225Z",
     "shell.execute_reply": "2024-10-15T08:43:57.324423Z"
    },
    "papermill": {
     "duration": 0.048744,
     "end_time": "2024-10-15T08:43:57.327106",
     "exception": false,
     "start_time": "2024-10-15T08:43:57.278362",
     "status": "completed"
    },
    "tags": []
   },
   "outputs": [],
   "source": [
    "num_ftrs = model.fc.in_features\n",
    "model.fc = nn.Linear(in_features=num_ftrs, out_features=len(target_class_names)+1)"
   ]
  },
  {
   "cell_type": "code",
   "execution_count": 44,
   "id": "10efc222",
   "metadata": {
    "execution": {
     "iopub.execute_input": "2024-10-15T08:43:57.411890Z",
     "iopub.status.busy": "2024-10-15T08:43:57.411617Z",
     "iopub.status.idle": "2024-10-15T08:43:57.416090Z",
     "shell.execute_reply": "2024-10-15T08:43:57.415293Z"
    },
    "papermill": {
     "duration": 0.048385,
     "end_time": "2024-10-15T08:43:57.417941",
     "exception": false,
     "start_time": "2024-10-15T08:43:57.369556",
     "status": "completed"
    },
    "tags": []
   },
   "outputs": [],
   "source": [
    "device = torch.device(\"cuda\" if torch.cuda.is_available() else \"cpu\")\n",
    "if torch.cuda.device_count() > 1:\n",
    "    model = nn.DataParallel(model)"
   ]
  },
  {
   "cell_type": "code",
   "execution_count": 45,
   "id": "e6cc28a6",
   "metadata": {
    "execution": {
     "iopub.execute_input": "2024-10-15T08:43:57.502503Z",
     "iopub.status.busy": "2024-10-15T08:43:57.502021Z",
     "iopub.status.idle": "2024-10-15T08:43:57.511902Z",
     "shell.execute_reply": "2024-10-15T08:43:57.511212Z"
    },
    "papermill": {
     "duration": 0.054998,
     "end_time": "2024-10-15T08:43:57.513813",
     "exception": false,
     "start_time": "2024-10-15T08:43:57.458815",
     "status": "completed"
    },
    "tags": []
   },
   "outputs": [],
   "source": [
    "model = model.to(device)\n",
    "criterion = nn.CrossEntropyLoss() \n",
    "# optimizer = torch.optim.Adam(model.parameters(), lr=0.001)"
   ]
  },
  {
   "cell_type": "code",
   "execution_count": 46,
   "id": "eb0e4d4c",
   "metadata": {
    "execution": {
     "iopub.execute_input": "2024-10-15T08:43:57.597125Z",
     "iopub.status.busy": "2024-10-15T08:43:57.596857Z",
     "iopub.status.idle": "2024-10-15T08:43:57.605630Z",
     "shell.execute_reply": "2024-10-15T08:43:57.604933Z"
    },
    "papermill": {
     "duration": 0.052349,
     "end_time": "2024-10-15T08:43:57.607488",
     "exception": false,
     "start_time": "2024-10-15T08:43:57.555139",
     "status": "completed"
    },
    "tags": []
   },
   "outputs": [],
   "source": [
    "model = model.to(device)"
   ]
  },
  {
   "cell_type": "code",
   "execution_count": 47,
   "id": "f2e18fe6",
   "metadata": {
    "execution": {
     "iopub.execute_input": "2024-10-15T08:43:57.691216Z",
     "iopub.status.busy": "2024-10-15T08:43:57.690956Z",
     "iopub.status.idle": "2024-10-15T08:43:57.694513Z",
     "shell.execute_reply": "2024-10-15T08:43:57.693685Z"
    },
    "papermill": {
     "duration": 0.047354,
     "end_time": "2024-10-15T08:43:57.696304",
     "exception": false,
     "start_time": "2024-10-15T08:43:57.648950",
     "status": "completed"
    },
    "tags": []
   },
   "outputs": [],
   "source": [
    "num_epochs = 6"
   ]
  },
  {
   "cell_type": "code",
   "execution_count": 48,
   "id": "81b41f23",
   "metadata": {
    "execution": {
     "iopub.execute_input": "2024-10-15T08:43:57.779707Z",
     "iopub.status.busy": "2024-10-15T08:43:57.779432Z",
     "iopub.status.idle": "2024-10-15T09:16:09.263027Z",
     "shell.execute_reply": "2024-10-15T09:16:09.261949Z"
    },
    "papermill": {
     "duration": 1931.573109,
     "end_time": "2024-10-15T09:16:09.310684",
     "exception": false,
     "start_time": "2024-10-15T08:43:57.737575",
     "status": "completed"
    },
    "tags": []
   },
   "outputs": [
    {
     "name": "stdout",
     "output_type": "stream",
     "text": [
      "[Sen - 0/1176] train loss : 1.559638500213623\n",
      "[Sen - 100/1176] train loss : 0.41239720582962036\n",
      "[Sen - 200/1176] train loss : 0.2147323489189148\n",
      "[Sen - 300/1176] train loss : 0.13465970754623413\n",
      "[Sen - 400/1176] train loss : 0.38576412200927734\n",
      "[Sen - 500/1176] train loss : 0.3145352303981781\n",
      "[Sen - 600/1176] train loss : 0.19937320053577423\n",
      "[Sen - 700/1176] train loss : 0.2317735105752945\n",
      "[Sen - 800/1176] train loss : 0.20972208678722382\n",
      "[Sen - 900/1176] train loss : 0.25843101739883423\n",
      "[Sen - 1000/1176] train loss : 0.27670180797576904\n",
      "[Sen - 1100/1176] train loss : 0.07082508504390717\n",
      "Epoch [1/6]\n",
      "Train Loss: 0.3187, Train Accuracy: 0.8900\n",
      "Validation Loss: 0.3967, Validation Accuracy: 0.8683\n",
      "[Sen - 0/1176] train loss : 0.2512650787830353\n",
      "[Sen - 100/1176] train loss : 0.2112232744693756\n",
      "[Sen - 200/1176] train loss : 0.4280259311199188\n",
      "[Sen - 300/1176] train loss : 0.24941641092300415\n",
      "[Sen - 400/1176] train loss : 0.4052334427833557\n",
      "[Sen - 500/1176] train loss : 0.3987770080566406\n",
      "[Sen - 600/1176] train loss : 0.44193848967552185\n",
      "[Sen - 700/1176] train loss : 0.375255286693573\n",
      "[Sen - 800/1176] train loss : 0.4547809064388275\n",
      "[Sen - 900/1176] train loss : 0.32555291056632996\n",
      "[Sen - 1000/1176] train loss : 0.32035645842552185\n",
      "[Sen - 1100/1176] train loss : 0.30181142687797546\n",
      "Epoch [2/6]\n",
      "Train Loss: 0.2844, Train Accuracy: 0.9007\n",
      "Validation Loss: 0.3883, Validation Accuracy: 0.8670\n",
      "[Sen - 0/1176] train loss : 0.12280359119176865\n",
      "[Sen - 100/1176] train loss : 0.39277952909469604\n",
      "[Sen - 200/1176] train loss : 0.6499056220054626\n",
      "[Sen - 300/1176] train loss : 0.548691987991333\n",
      "[Sen - 400/1176] train loss : 0.5317723155021667\n",
      "[Sen - 500/1176] train loss : 0.25171148777008057\n",
      "[Sen - 600/1176] train loss : 0.5769815444946289\n",
      "[Sen - 700/1176] train loss : 0.08705739676952362\n",
      "[Sen - 800/1176] train loss : 0.3218382000923157\n",
      "[Sen - 900/1176] train loss : 0.29706329107284546\n",
      "[Sen - 1000/1176] train loss : 0.2962074279785156\n",
      "[Sen - 1100/1176] train loss : 0.2504234313964844\n",
      "Epoch [3/6]\n",
      "Train Loss: 0.2761, Train Accuracy: 0.9016\n",
      "Validation Loss: 0.4712, Validation Accuracy: 0.8315\n",
      "[Sen - 0/1176] train loss : 0.4091801643371582\n",
      "[Sen - 100/1176] train loss : 0.14622460305690765\n",
      "[Sen - 200/1176] train loss : 0.3539581000804901\n",
      "[Sen - 300/1176] train loss : 0.17518974840641022\n",
      "[Sen - 400/1176] train loss : 0.4328670799732208\n",
      "[Sen - 500/1176] train loss : 0.1839597523212433\n",
      "[Sen - 600/1176] train loss : 0.12050033360719681\n",
      "[Sen - 700/1176] train loss : 0.11695267260074615\n",
      "[Sen - 800/1176] train loss : 0.2705029547214508\n",
      "[Sen - 900/1176] train loss : 0.36320045590400696\n",
      "[Sen - 1000/1176] train loss : 0.18384501338005066\n",
      "[Sen - 1100/1176] train loss : 0.6958685517311096\n",
      "Epoch [4/6]\n",
      "Train Loss: 0.2609, Train Accuracy: 0.9074\n",
      "Validation Loss: 0.3149, Validation Accuracy: 0.8921\n",
      "[Sen - 0/1176] train loss : 0.4639723002910614\n",
      "[Sen - 100/1176] train loss : 0.2330121099948883\n",
      "[Sen - 200/1176] train loss : 0.10326848924160004\n",
      "[Sen - 300/1176] train loss : 0.2546011209487915\n",
      "[Sen - 400/1176] train loss : 0.4139273464679718\n",
      "[Sen - 500/1176] train loss : 0.21537628769874573\n",
      "[Sen - 600/1176] train loss : 0.2085062712430954\n",
      "[Sen - 700/1176] train loss : 0.15905624628067017\n",
      "[Sen - 800/1176] train loss : 0.20193350315093994\n",
      "[Sen - 900/1176] train loss : 0.1352352350950241\n",
      "[Sen - 1000/1176] train loss : 0.17755639553070068\n",
      "[Sen - 1100/1176] train loss : 0.15019364655017853\n",
      "Epoch [5/6]\n",
      "Train Loss: 0.2548, Train Accuracy: 0.9100\n",
      "Validation Loss: 0.3371, Validation Accuracy: 0.8868\n",
      "[Sen - 0/1176] train loss : 0.25835222005844116\n",
      "[Sen - 100/1176] train loss : 0.185438871383667\n",
      "[Sen - 200/1176] train loss : 0.3504408597946167\n",
      "[Sen - 300/1176] train loss : 0.20869119465351105\n",
      "[Sen - 400/1176] train loss : 0.2250359207391739\n",
      "[Sen - 500/1176] train loss : 0.29147645831108093\n",
      "[Sen - 600/1176] train loss : 0.3505704402923584\n",
      "[Sen - 700/1176] train loss : 0.2934856712818146\n",
      "[Sen - 800/1176] train loss : 0.515324592590332\n",
      "[Sen - 900/1176] train loss : 0.34354567527770996\n",
      "[Sen - 1000/1176] train loss : 0.18182677030563354\n",
      "[Sen - 1100/1176] train loss : 0.1770693063735962\n",
      "Epoch [6/6]\n",
      "Train Loss: 0.2489, Train Accuracy: 0.9114\n",
      "Validation Loss: 0.3917, Validation Accuracy: 0.8640\n"
     ]
    }
   ],
   "source": [
    "for epoch in range(num_epochs):\n",
    "    model.train()\n",
    "    \n",
    "    running_loss = 0.0\n",
    "    correct_predictions = 0\n",
    "    total_samples  =0\n",
    "    i = 0\n",
    "    for inputs, labels in senDL_train:\n",
    "        inputs, labels = inputs.to(device), labels.to(device)\n",
    "        \n",
    "        optimizer.zero_grad()\n",
    "        outputs = model(inputs)\n",
    "        loss = criterion(outputs, labels)\n",
    "        loss.backward()\n",
    "        optimizer.step()\n",
    "        \n",
    "        running_loss += loss.item() * inputs.size(0)\n",
    "        _, predicted = torch.max(outputs, 1)\n",
    "        correct_predictions += (predicted == labels).sum().item()\n",
    "        total_samples += labels.size(0)\n",
    "        \n",
    "        if(i%100 == 0):\n",
    "            print(f\"[Sen - {i}/{len(senDL_train)}] train loss : {loss.item()}\")\n",
    "        i = i+1\n",
    "        \n",
    "    train_loss = running_loss / total_samples\n",
    "    train_accuracy = correct_predictions / total_samples\n",
    "    \n",
    "    model.eval()\n",
    "    val_loss = 0.0\n",
    "    correct_val_predictions = 0\n",
    "    total_val_samples = 0\n",
    "    \n",
    "    with torch.no_grad():\n",
    "        for val_inputs, val_labels in senDL_val:\n",
    "            val_inputs, val_labels = val_inputs.to(device), val_labels.to(device)\n",
    "            \n",
    "            val_outputs = model(val_inputs)\n",
    "            loss = criterion(val_outputs, val_labels)\n",
    "            \n",
    "            val_loss += loss.item() * val_inputs.size(0)\n",
    "            _, val_predicted = torch.max(val_outputs, 1)\n",
    "            correct_val_predictions += (val_predicted == val_labels).sum().item()\n",
    "            total_val_samples += val_labels.size(0)\n",
    "    \n",
    "    val_loss /= total_val_samples\n",
    "    val_accuracy = correct_val_predictions / total_val_samples\n",
    "    \n",
    "    # Print epoch stats\n",
    "    print(f'Epoch [{epoch+1}/{num_epochs}]')\n",
    "    print(f'Train Loss: {train_loss:.4f}, Train Accuracy: {train_accuracy:.4f}')\n",
    "    print(f'Validation Loss: {val_loss:.4f}, Validation Accuracy: {val_accuracy:.4f}')"
   ]
  },
  {
   "cell_type": "code",
   "execution_count": 49,
   "id": "38bd0780",
   "metadata": {
    "execution": {
     "iopub.execute_input": "2024-10-15T09:16:09.408506Z",
     "iopub.status.busy": "2024-10-15T09:16:09.408114Z",
     "iopub.status.idle": "2024-10-15T09:16:58.127934Z",
     "shell.execute_reply": "2024-10-15T09:16:58.127049Z"
    },
    "papermill": {
     "duration": 48.820294,
     "end_time": "2024-10-15T09:16:58.178496",
     "exception": false,
     "start_time": "2024-10-15T09:16:09.358202",
     "status": "completed"
    },
    "tags": []
   },
   "outputs": [
    {
     "data": {
      "image/png": "[encoded data removed]",
      "text/plain": [
       "<Figure size 600x400 with 2 Axes>"
      ]
     },
     "metadata": {},
     "output_type": "display_data"
    }
   ],
   "source": [
    "# Get the predictions and true labels for the test set\n",
    "preds, true_labels = get_predictions_and_labels(model, senDL_val)\n",
    "\n",
    "# Compute the confusion matrix\n",
    "conf_matrix = confusion_matrix(true_labels, preds)\n",
    "class_names = [f'Class {i}' for i in range(len(target_class_names)+1)]\n",
    "# Plot the confusion matrix using seaborn\n",
    "plt.figure(figsize=(6, 4))\n",
    "sns.heatmap(conf_matrix, annot=True, fmt=\"d\", cmap=\"Blues\", xticklabels=class_names, yticklabels=class_names)\n",
    "plt.xlabel('Predicted Label')\n",
    "plt.ylabel('True Label')\n",
    "plt.title('Confusion Matrix')\n",
    "plt.show()"
   ]
  },
  {
   "cell_type": "code",
   "execution_count": 50,
   "id": "65ee0002",
   "metadata": {
    "execution": {
     "iopub.execute_input": "2024-10-15T09:16:58.279768Z",
     "iopub.status.busy": "2024-10-15T09:16:58.279388Z",
     "iopub.status.idle": "2024-10-15T09:16:58.286080Z",
     "shell.execute_reply": "2024-10-15T09:16:58.285129Z"
    },
    "papermill": {
     "duration": 0.061616,
     "end_time": "2024-10-15T09:16:58.288087",
     "exception": false,
     "start_time": "2024-10-15T09:16:58.226471",
     "status": "completed"
    },
    "tags": []
   },
   "outputs": [],
   "source": [
    "del senDL_train\n",
    "del senDL_val"
   ]
  },
  {
   "cell_type": "markdown",
   "id": "ff5948f8",
   "metadata": {
    "papermill": {
     "duration": 0.050729,
     "end_time": "2024-10-15T09:16:58.389654",
     "exception": false,
     "start_time": "2024-10-15T09:16:58.338925",
     "status": "completed"
    },
    "tags": []
   },
   "source": [
    "# Septenary"
   ]
  },
  {
   "cell_type": "code",
   "execution_count": null,
   "id": "659170ef",
   "metadata": {
    "papermill": {
     "duration": 0.047482,
     "end_time": "2024-10-15T09:16:58.484655",
     "exception": false,
     "start_time": "2024-10-15T09:16:58.437173",
     "status": "completed"
    },
    "tags": []
   },
   "outputs": [],
   "source": []
  },
  {
   "cell_type": "code",
   "execution_count": 51,
   "id": "10cc200d",
   "metadata": {
    "execution": {
     "iopub.execute_input": "2024-10-15T09:16:58.581407Z",
     "iopub.status.busy": "2024-10-15T09:16:58.581018Z",
     "iopub.status.idle": "2024-10-15T09:17:07.717580Z",
     "shell.execute_reply": "2024-10-15T09:17:07.716789Z"
    },
    "papermill": {
     "duration": 9.187642,
     "end_time": "2024-10-15T09:17:07.719844",
     "exception": false,
     "start_time": "2024-10-15T09:16:58.532202",
     "status": "completed"
    },
    "tags": []
   },
   "outputs": [],
   "source": [
    "target_class_names = [\"Normal\",\"Erosion\",\"Polyp\", \"Angioectasia\", \"Bleeding\", \"Lymphangiectasia\"]\n",
    "septDL_train = getNaryDataLoader(target_class_names=target_class_names, path_to_dataset=train_path, \n",
    "                          batch_size=32, trans = train_transform)\n",
    "septDL_val = getNaryDataLoader(target_class_names=target_class_names, path_to_dataset=val_path, \n",
    "                          batch_size=32, trans = val_transform)"
   ]
  },
  {
   "cell_type": "code",
   "execution_count": 52,
   "id": "933ede7a",
   "metadata": {
    "execution": {
     "iopub.execute_input": "2024-10-15T09:17:07.816952Z",
     "iopub.status.busy": "2024-10-15T09:17:07.816633Z",
     "iopub.status.idle": "2024-10-15T09:17:07.821520Z",
     "shell.execute_reply": "2024-10-15T09:17:07.820689Z"
    },
    "papermill": {
     "duration": 0.055322,
     "end_time": "2024-10-15T09:17:07.823401",
     "exception": false,
     "start_time": "2024-10-15T09:17:07.768079",
     "status": "completed"
    },
    "tags": []
   },
   "outputs": [],
   "source": [
    "num_ftrs = model.fc.in_features\n",
    "model.fc = nn.Linear(in_features=num_ftrs, out_features=len(target_class_names)+1)"
   ]
  },
  {
   "cell_type": "code",
   "execution_count": 53,
   "id": "89f753db",
   "metadata": {
    "execution": {
     "iopub.execute_input": "2024-10-15T09:17:07.920597Z",
     "iopub.status.busy": "2024-10-15T09:17:07.920037Z",
     "iopub.status.idle": "2024-10-15T09:17:07.924631Z",
     "shell.execute_reply": "2024-10-15T09:17:07.923759Z"
    },
    "papermill": {
     "duration": 0.054695,
     "end_time": "2024-10-15T09:17:07.926382",
     "exception": false,
     "start_time": "2024-10-15T09:17:07.871687",
     "status": "completed"
    },
    "tags": []
   },
   "outputs": [],
   "source": [
    "device = torch.device(\"cuda\" if torch.cuda.is_available() else \"cpu\")\n",
    "if torch.cuda.device_count() > 1:\n",
    "    model = nn.DataParallel(model)"
   ]
  },
  {
   "cell_type": "code",
   "execution_count": 54,
   "id": "cbaf3077",
   "metadata": {
    "execution": {
     "iopub.execute_input": "2024-10-15T09:17:08.022204Z",
     "iopub.status.busy": "2024-10-15T09:17:08.021913Z",
     "iopub.status.idle": "2024-10-15T09:17:08.030630Z",
     "shell.execute_reply": "2024-10-15T09:17:08.029967Z"
    },
    "papermill": {
     "duration": 0.05869,
     "end_time": "2024-10-15T09:17:08.032432",
     "exception": false,
     "start_time": "2024-10-15T09:17:07.973742",
     "status": "completed"
    },
    "tags": []
   },
   "outputs": [],
   "source": [
    "model = model.to(device)\n",
    "criterion = nn.CrossEntropyLoss() \n",
    "# optimizer = torch.optim.Adam(model.parameters(), lr=0.001)"
   ]
  },
  {
   "cell_type": "code",
   "execution_count": 55,
   "id": "24dcf856",
   "metadata": {
    "execution": {
     "iopub.execute_input": "2024-10-15T09:17:08.130429Z",
     "iopub.status.busy": "2024-10-15T09:17:08.129783Z",
     "iopub.status.idle": "2024-10-15T09:17:08.138814Z",
     "shell.execute_reply": "2024-10-15T09:17:08.137956Z"
    },
    "papermill": {
     "duration": 0.059557,
     "end_time": "2024-10-15T09:17:08.140655",
     "exception": false,
     "start_time": "2024-10-15T09:17:08.081098",
     "status": "completed"
    },
    "tags": []
   },
   "outputs": [],
   "source": [
    "model = model.to(device)"
   ]
  },
  {
   "cell_type": "code",
   "execution_count": 56,
   "id": "8ee13f14",
   "metadata": {
    "execution": {
     "iopub.execute_input": "2024-10-15T09:17:08.236276Z",
     "iopub.status.busy": "2024-10-15T09:17:08.235974Z",
     "iopub.status.idle": "2024-10-15T09:17:08.239801Z",
     "shell.execute_reply": "2024-10-15T09:17:08.238961Z"
    },
    "papermill": {
     "duration": 0.053803,
     "end_time": "2024-10-15T09:17:08.241744",
     "exception": false,
     "start_time": "2024-10-15T09:17:08.187941",
     "status": "completed"
    },
    "tags": []
   },
   "outputs": [],
   "source": [
    "num_epochs = 7"
   ]
  },
  {
   "cell_type": "code",
   "execution_count": 57,
   "id": "e12c3142",
   "metadata": {
    "execution": {
     "iopub.execute_input": "2024-10-15T09:17:08.341691Z",
     "iopub.status.busy": "2024-10-15T09:17:08.341387Z",
     "iopub.status.idle": "2024-10-15T09:54:19.913122Z",
     "shell.execute_reply": "2024-10-15T09:54:19.912102Z"
    },
    "papermill": {
     "duration": 2231.68186,
     "end_time": "2024-10-15T09:54:19.972564",
     "exception": false,
     "start_time": "2024-10-15T09:17:08.290704",
     "status": "completed"
    },
    "tags": []
   },
   "outputs": [
    {
     "name": "stdout",
     "output_type": "stream",
     "text": [
      "Sept - [0/1176] train loss : 1.9691519737243652\n",
      "Sept - [100/1176] train loss : 0.2168794870376587\n",
      "Sept - [200/1176] train loss : 0.14581894874572754\n",
      "Sept - [300/1176] train loss : 0.2718738615512848\n",
      "Sept - [400/1176] train loss : 0.1007678434252739\n",
      "Sept - [500/1176] train loss : 0.2198568731546402\n",
      "Sept - [600/1176] train loss : 0.34577295184135437\n",
      "Sept - [700/1176] train loss : 0.3469672203063965\n",
      "Sept - [800/1176] train loss : 0.3047991096973419\n",
      "Sept - [900/1176] train loss : 0.18047887086868286\n",
      "Sept - [1000/1176] train loss : 0.1264537125825882\n",
      "Sept - [1100/1176] train loss : 0.2504444718360901\n",
      "Epoch [1/7]\n",
      "Train Loss: 0.2853, Train Accuracy: 0.9032\n",
      "Validation Loss: 0.4508, Validation Accuracy: 0.8587\n",
      "Sept - [0/1176] train loss : 0.4806485176086426\n",
      "Sept - [100/1176] train loss : 0.2534679174423218\n",
      "Sept - [200/1176] train loss : 0.29300951957702637\n",
      "Sept - [300/1176] train loss : 0.15654799342155457\n",
      "Sept - [400/1176] train loss : 0.1388782113790512\n",
      "Sept - [500/1176] train loss : 0.07524772733449936\n",
      "Sept - [600/1176] train loss : 0.17257027328014374\n",
      "Sept - [700/1176] train loss : 0.2208513468503952\n",
      "Sept - [800/1176] train loss : 0.091230608522892\n",
      "Sept - [900/1176] train loss : 0.34634482860565186\n",
      "Sept - [1000/1176] train loss : 0.2431982308626175\n",
      "Sept - [1100/1176] train loss : 0.42124396562576294\n",
      "Epoch [2/7]\n",
      "Train Loss: 0.2567, Train Accuracy: 0.9120\n",
      "Validation Loss: 0.6366, Validation Accuracy: 0.8443\n",
      "Sept - [0/1176] train loss : 0.2672654092311859\n",
      "Sept - [100/1176] train loss : 0.09860213100910187\n",
      "Sept - [200/1176] train loss : 0.2717643678188324\n",
      "Sept - [300/1176] train loss : 0.1417703926563263\n",
      "Sept - [400/1176] train loss : 0.25233539938926697\n",
      "Sept - [500/1176] train loss : 0.324213445186615\n",
      "Sept - [600/1176] train loss : 0.24876999855041504\n",
      "Sept - [700/1176] train loss : 0.0495811365544796\n",
      "Sept - [800/1176] train loss : 0.11904873698949814\n",
      "Sept - [900/1176] train loss : 0.3088172972202301\n",
      "Sept - [1000/1176] train loss : 0.6337971687316895\n",
      "Sept - [1100/1176] train loss : 0.07520923763513565\n",
      "Epoch [3/7]\n",
      "Train Loss: 0.2454, Train Accuracy: 0.9139\n",
      "Validation Loss: 0.5590, Validation Accuracy: 0.8570\n",
      "Sept - [0/1176] train loss : 0.17691603302955627\n",
      "Sept - [100/1176] train loss : 0.09071236103773117\n",
      "Sept - [200/1176] train loss : 0.0899810716509819\n",
      "Sept - [300/1176] train loss : 0.18990962207317352\n",
      "Sept - [400/1176] train loss : 0.20075076818466187\n",
      "Sept - [500/1176] train loss : 0.21581074595451355\n",
      "Sept - [600/1176] train loss : 0.43285617232322693\n",
      "Sept - [700/1176] train loss : 0.2122178077697754\n",
      "Sept - [800/1176] train loss : 0.30232569575309753\n",
      "Sept - [900/1176] train loss : 0.084811270236969\n",
      "Sept - [1000/1176] train loss : 0.36921676993370056\n",
      "Sept - [1100/1176] train loss : 0.25024083256721497\n",
      "Epoch [4/7]\n",
      "Train Loss: 0.2374, Train Accuracy: 0.9174\n",
      "Validation Loss: 0.2730, Validation Accuracy: 0.9066\n",
      "Sept - [0/1176] train loss : 0.2802690267562866\n",
      "Sept - [100/1176] train loss : 0.10984230041503906\n",
      "Sept - [200/1176] train loss : 0.2220703810453415\n",
      "Sept - [300/1176] train loss : 0.20866969227790833\n",
      "Sept - [400/1176] train loss : 0.2582792043685913\n",
      "Sept - [500/1176] train loss : 0.18671397864818573\n",
      "Sept - [600/1176] train loss : 0.15452241897583008\n",
      "Sept - [700/1176] train loss : 0.37534594535827637\n",
      "Sept - [800/1176] train loss : 0.27881142497062683\n",
      "Sept - [900/1176] train loss : 0.23588363826274872\n",
      "Sept - [1000/1176] train loss : 0.22642169892787933\n",
      "Sept - [1100/1176] train loss : 0.20091091096401215\n",
      "Epoch [5/7]\n",
      "Train Loss: 0.2280, Train Accuracy: 0.9218\n",
      "Validation Loss: 0.2799, Validation Accuracy: 0.9036\n",
      "Sept - [0/1176] train loss : 0.1408560872077942\n",
      "Sept - [100/1176] train loss : 0.11321154981851578\n",
      "Sept - [200/1176] train loss : 0.13120800256729126\n",
      "Sept - [300/1176] train loss : 0.3402610719203949\n",
      "Sept - [400/1176] train loss : 0.11042457818984985\n",
      "Sept - [500/1176] train loss : 0.22217786312103271\n",
      "Sept - [600/1176] train loss : 0.145143061876297\n",
      "Sept - [700/1176] train loss : 0.25815045833587646\n",
      "Sept - [800/1176] train loss : 0.0865926742553711\n",
      "Sept - [900/1176] train loss : 0.1403966099023819\n",
      "Sept - [1000/1176] train loss : 0.16199027001857758\n",
      "Sept - [1100/1176] train loss : 0.35265159606933594\n",
      "Epoch [6/7]\n",
      "Train Loss: 0.2237, Train Accuracy: 0.9218\n",
      "Validation Loss: 0.2829, Validation Accuracy: 0.9031\n",
      "Sept - [0/1176] train loss : 0.21037830412387848\n",
      "Sept - [100/1176] train loss : 0.185310959815979\n",
      "Sept - [200/1176] train loss : 0.25143101811408997\n",
      "Sept - [300/1176] train loss : 0.2348105013370514\n",
      "Sept - [400/1176] train loss : 0.2687612473964691\n",
      "Sept - [500/1176] train loss : 0.07222171872854233\n",
      "Sept - [600/1176] train loss : 0.17530396580696106\n",
      "Sept - [700/1176] train loss : 0.05173838883638382\n",
      "Sept - [800/1176] train loss : 0.45989513397216797\n",
      "Sept - [900/1176] train loss : 0.41615915298461914\n",
      "Sept - [1000/1176] train loss : 0.24373242259025574\n",
      "Sept - [1100/1176] train loss : 0.2446184903383255\n",
      "Epoch [7/7]\n",
      "Train Loss: 0.2117, Train Accuracy: 0.9254\n",
      "Validation Loss: 0.2531, Validation Accuracy: 0.9138\n"
     ]
    }
   ],
   "source": [
    "for epoch in range(num_epochs):\n",
    "    model.train()\n",
    "    \n",
    "    running_loss = 0.0\n",
    "    correct_predictions = 0\n",
    "    total_samples  =0\n",
    "    i = 0\n",
    "    for inputs, labels in septDL_train:\n",
    "        inputs, labels = inputs.to(device), labels.to(device)\n",
    "        \n",
    "        optimizer.zero_grad()\n",
    "        outputs = model(inputs)\n",
    "        loss = criterion(outputs, labels)\n",
    "        loss.backward()\n",
    "        optimizer.step()\n",
    "        \n",
    "        running_loss += loss.item() * inputs.size(0)\n",
    "        _, predicted = torch.max(outputs, 1)\n",
    "        correct_predictions += (predicted == labels).sum().item()\n",
    "        total_samples += labels.size(0)\n",
    "        \n",
    "        if(i%100 == 0):\n",
    "            print(f\"Sept - [{i}/{len(septDL_train)}] train loss : {loss.item()}\")\n",
    "        i = i+1\n",
    "        \n",
    "    train_loss = running_loss / total_samples\n",
    "    train_accuracy = correct_predictions / total_samples\n",
    "    \n",
    "    model.eval()\n",
    "    val_loss = 0.0\n",
    "    correct_val_predictions = 0\n",
    "    total_val_samples = 0\n",
    "    \n",
    "    with torch.no_grad():\n",
    "        for val_inputs, val_labels in septDL_val:\n",
    "            val_inputs, val_labels = val_inputs.to(device), val_labels.to(device)\n",
    "            \n",
    "            val_outputs = model(val_inputs)\n",
    "            loss = criterion(val_outputs, val_labels)\n",
    "            \n",
    "            val_loss += loss.item() * val_inputs.size(0)\n",
    "            _, val_predicted = torch.max(val_outputs, 1)\n",
    "            correct_val_predictions += (val_predicted == val_labels).sum().item()\n",
    "            total_val_samples += val_labels.size(0)\n",
    "    \n",
    "    val_loss /= total_val_samples\n",
    "    val_accuracy = correct_val_predictions / total_val_samples\n",
    "    \n",
    "    # Print epoch stats\n",
    "    print(f'Epoch [{epoch+1}/{num_epochs}]')\n",
    "    print(f'Train Loss: {train_loss:.4f}, Train Accuracy: {train_accuracy:.4f}')\n",
    "    print(f'Validation Loss: {val_loss:.4f}, Validation Accuracy: {val_accuracy:.4f}')"
   ]
  },
  {
   "cell_type": "code",
   "execution_count": 58,
   "id": "9af030db",
   "metadata": {
    "execution": {
     "iopub.execute_input": "2024-10-15T09:54:20.083631Z",
     "iopub.status.busy": "2024-10-15T09:54:20.083299Z",
     "iopub.status.idle": "2024-10-15T09:55:13.072456Z",
     "shell.execute_reply": "2024-10-15T09:55:13.071501Z"
    },
    "papermill": {
     "duration": 53.1028,
     "end_time": "2024-10-15T09:55:13.130149",
     "exception": false,
     "start_time": "2024-10-15T09:54:20.027349",
     "status": "completed"
    },
    "tags": []
   },
   "outputs": [
    {
     "data": {
      "image/png": "[encoded data removed]",
      "text/plain": [
       "<Figure size 600x400 with 2 Axes>"
      ]
     },
     "metadata": {},
     "output_type": "display_data"
    }
   ],
   "source": [
    "# Get the predictions and true labels for the test set\n",
    "preds, true_labels = get_predictions_and_labels(model, septDL_val)\n",
    "\n",
    "# Compute the confusion matrix\n",
    "conf_matrix = confusion_matrix(true_labels, preds)\n",
    "class_names = [f'Class {i}' for i in range(len(target_class_names)+1)]\n",
    "# Plot the confusion matrix using seaborn\n",
    "plt.figure(figsize=(6, 4))\n",
    "sns.heatmap(conf_matrix, annot=True, fmt=\"d\", cmap=\"Blues\", xticklabels=class_names, yticklabels=class_names)\n",
    "plt.xlabel('Predicted Label')\n",
    "plt.ylabel('True Label')\n",
    "plt.title('Confusion Matrix')\n",
    "plt.show()"
   ]
  },
  {
   "cell_type": "code",
   "execution_count": 59,
   "id": "c9f1aef5",
   "metadata": {
    "execution": {
     "iopub.execute_input": "2024-10-15T09:55:13.242225Z",
     "iopub.status.busy": "2024-10-15T09:55:13.241641Z",
     "iopub.status.idle": "2024-10-15T09:55:13.248685Z",
     "shell.execute_reply": "2024-10-15T09:55:13.247563Z"
    },
    "papermill": {
     "duration": 0.065016,
     "end_time": "2024-10-15T09:55:13.250487",
     "exception": false,
     "start_time": "2024-10-15T09:55:13.185471",
     "status": "completed"
    },
    "tags": []
   },
   "outputs": [],
   "source": [
    "del septDL_train\n",
    "del septDL_val"
   ]
  },
  {
   "cell_type": "markdown",
   "id": "29f6e462",
   "metadata": {
    "papermill": {
     "duration": 0.05663,
     "end_time": "2024-10-15T09:55:13.362411",
     "exception": false,
     "start_time": "2024-10-15T09:55:13.305781",
     "status": "completed"
    },
    "tags": []
   },
   "source": [
    "# Octal"
   ]
  },
  {
   "cell_type": "code",
   "execution_count": 60,
   "id": "228c6ed4",
   "metadata": {
    "execution": {
     "iopub.execute_input": "2024-10-15T09:55:13.474681Z",
     "iopub.status.busy": "2024-10-15T09:55:13.473837Z",
     "iopub.status.idle": "2024-10-15T09:55:21.436465Z",
     "shell.execute_reply": "2024-10-15T09:55:21.435305Z"
    },
    "papermill": {
     "duration": 8.021072,
     "end_time": "2024-10-15T09:55:21.438790",
     "exception": false,
     "start_time": "2024-10-15T09:55:13.417718",
     "status": "completed"
    },
    "tags": []
   },
   "outputs": [],
   "source": [
    "target_class_names = [\"Normal\",\"Erosion\",\"Polyp\", \"Angioectasia\", \"Bleeding\", \"Lymphangiectasia\", \"Foreign Body\"]\n",
    "octDL_train = getNaryDataLoader(target_class_names=target_class_names, path_to_dataset=train_path, \n",
    "                          batch_size=32, trans = train_transform)\n",
    "octDL_val = getNaryDataLoader(target_class_names=target_class_names, path_to_dataset=val_path, \n",
    "                          batch_size=32, trans = val_transform)"
   ]
  },
  {
   "cell_type": "code",
   "execution_count": 61,
   "id": "6dce3d29",
   "metadata": {
    "execution": {
     "iopub.execute_input": "2024-10-15T09:55:21.557417Z",
     "iopub.status.busy": "2024-10-15T09:55:21.556843Z",
     "iopub.status.idle": "2024-10-15T09:55:21.561798Z",
     "shell.execute_reply": "2024-10-15T09:55:21.561041Z"
    },
    "papermill": {
     "duration": 0.063077,
     "end_time": "2024-10-15T09:55:21.563588",
     "exception": false,
     "start_time": "2024-10-15T09:55:21.500511",
     "status": "completed"
    },
    "tags": []
   },
   "outputs": [],
   "source": [
    "num_ftrs = model.fc.in_features\n",
    "model.fc = nn.Linear(in_features=num_ftrs, out_features=len(target_class_names)+1)"
   ]
  },
  {
   "cell_type": "code",
   "execution_count": 62,
   "id": "2743ffbe",
   "metadata": {
    "execution": {
     "iopub.execute_input": "2024-10-15T09:55:21.675115Z",
     "iopub.status.busy": "2024-10-15T09:55:21.674821Z",
     "iopub.status.idle": "2024-10-15T09:55:21.679413Z",
     "shell.execute_reply": "2024-10-15T09:55:21.678554Z"
    },
    "papermill": {
     "duration": 0.062548,
     "end_time": "2024-10-15T09:55:21.681371",
     "exception": false,
     "start_time": "2024-10-15T09:55:21.618823",
     "status": "completed"
    },
    "tags": []
   },
   "outputs": [],
   "source": [
    "device = torch.device(\"cuda\" if torch.cuda.is_available() else \"cpu\")\n",
    "if torch.cuda.device_count() > 1:\n",
    "    model = nn.DataParallel(model)"
   ]
  },
  {
   "cell_type": "code",
   "execution_count": 63,
   "id": "6a5148e0",
   "metadata": {
    "execution": {
     "iopub.execute_input": "2024-10-15T09:55:21.793649Z",
     "iopub.status.busy": "2024-10-15T09:55:21.792920Z",
     "iopub.status.idle": "2024-10-15T09:55:21.802812Z",
     "shell.execute_reply": "2024-10-15T09:55:21.801949Z"
    },
    "papermill": {
     "duration": 0.06785,
     "end_time": "2024-10-15T09:55:21.804740",
     "exception": false,
     "start_time": "2024-10-15T09:55:21.736890",
     "status": "completed"
    },
    "tags": []
   },
   "outputs": [],
   "source": [
    "model = model.to(device)\n",
    "criterion = nn.CrossEntropyLoss() \n",
    "# optimizer = torch.optim.Adam(model.parameters(), lr=0.001)"
   ]
  },
  {
   "cell_type": "code",
   "execution_count": 64,
   "id": "fbf96a08",
   "metadata": {
    "execution": {
     "iopub.execute_input": "2024-10-15T09:55:21.916674Z",
     "iopub.status.busy": "2024-10-15T09:55:21.916378Z",
     "iopub.status.idle": "2024-10-15T09:55:21.925330Z",
     "shell.execute_reply": "2024-10-15T09:55:21.924643Z"
    },
    "papermill": {
     "duration": 0.066843,
     "end_time": "2024-10-15T09:55:21.927066",
     "exception": false,
     "start_time": "2024-10-15T09:55:21.860223",
     "status": "completed"
    },
    "tags": []
   },
   "outputs": [],
   "source": [
    "model = model.to(device)"
   ]
  },
  {
   "cell_type": "code",
   "execution_count": 65,
   "id": "7bf73174",
   "metadata": {
    "execution": {
     "iopub.execute_input": "2024-10-15T09:55:22.038381Z",
     "iopub.status.busy": "2024-10-15T09:55:22.038045Z",
     "iopub.status.idle": "2024-10-15T09:55:22.041714Z",
     "shell.execute_reply": "2024-10-15T09:55:22.040866Z"
    },
    "papermill": {
     "duration": 0.061068,
     "end_time": "2024-10-15T09:55:22.043561",
     "exception": false,
     "start_time": "2024-10-15T09:55:21.982493",
     "status": "completed"
    },
    "tags": []
   },
   "outputs": [],
   "source": [
    "num_epochs = 8"
   ]
  },
  {
   "cell_type": "code",
   "execution_count": 66,
   "id": "f67d3da6",
   "metadata": {
    "execution": {
     "iopub.execute_input": "2024-10-15T09:55:22.155715Z",
     "iopub.status.busy": "2024-10-15T09:55:22.154928Z",
     "iopub.status.idle": "2024-10-15T10:37:58.430168Z",
     "shell.execute_reply": "2024-10-15T10:37:58.429300Z"
    },
    "papermill": {
     "duration": 2556.404708,
     "end_time": "2024-10-15T10:37:58.503396",
     "exception": false,
     "start_time": "2024-10-15T09:55:22.098688",
     "status": "completed"
    },
    "tags": []
   },
   "outputs": [
    {
     "name": "stdout",
     "output_type": "stream",
     "text": [
      "Oct - [0/1176] train loss : 2.198258876800537\n",
      "Oct - [100/1176] train loss : 0.4691775441169739\n",
      "Oct - [200/1176] train loss : 0.3059997260570526\n",
      "Oct - [300/1176] train loss : 0.10485783964395523\n",
      "Oct - [400/1176] train loss : 0.13020506501197815\n",
      "Oct - [500/1176] train loss : 0.24221201241016388\n",
      "Oct - [600/1176] train loss : 0.10793156176805496\n",
      "Oct - [700/1176] train loss : 0.11503341048955917\n",
      "Oct - [800/1176] train loss : 0.03787016123533249\n",
      "Oct - [900/1176] train loss : 0.13947908580303192\n",
      "Oct - [1000/1176] train loss : 0.21824800968170166\n",
      "Oct - [1100/1176] train loss : 0.2582828998565674\n",
      "Epoch [1/8]\n",
      "Train Loss: 0.2570, Train Accuracy: 0.9147\n",
      "Validation Loss: 0.3882, Validation Accuracy: 0.8778\n",
      "Oct - [0/1176] train loss : 0.05520565062761307\n",
      "Oct - [100/1176] train loss : 0.2661575973033905\n",
      "Oct - [200/1176] train loss : 0.17996981739997864\n",
      "Oct - [300/1176] train loss : 0.11484388262033463\n",
      "Oct - [400/1176] train loss : 0.38889479637145996\n",
      "Oct - [500/1176] train loss : 0.1919083595275879\n",
      "Oct - [600/1176] train loss : 0.12843915820121765\n",
      "Oct - [700/1176] train loss : 0.1209864690899849\n",
      "Oct - [800/1176] train loss : 0.33388417959213257\n",
      "Oct - [900/1176] train loss : 0.10602867603302002\n",
      "Oct - [1000/1176] train loss : 0.12072066962718964\n",
      "Oct - [1100/1176] train loss : 0.1506207287311554\n",
      "Epoch [2/8]\n",
      "Train Loss: 0.2237, Train Accuracy: 0.9243\n",
      "Validation Loss: 0.5667, Validation Accuracy: 0.8108\n",
      "Oct - [0/1176] train loss : 0.19586864113807678\n",
      "Oct - [100/1176] train loss : 0.12191768735647202\n",
      "Oct - [200/1176] train loss : 0.6337699294090271\n",
      "Oct - [300/1176] train loss : 0.36673176288604736\n",
      "Oct - [400/1176] train loss : 0.27470046281814575\n",
      "Oct - [500/1176] train loss : 0.08661995828151703\n",
      "Oct - [600/1176] train loss : 0.16101332008838654\n",
      "Oct - [700/1176] train loss : 0.24177443981170654\n",
      "Oct - [800/1176] train loss : 0.16308154165744781\n",
      "Oct - [900/1176] train loss : 0.13769525289535522\n",
      "Oct - [1000/1176] train loss : 0.11787980049848557\n",
      "Oct - [1100/1176] train loss : 0.3163630962371826\n",
      "Epoch [3/8]\n",
      "Train Loss: 0.2154, Train Accuracy: 0.9266\n",
      "Validation Loss: 0.3896, Validation Accuracy: 0.8766\n",
      "Oct - [0/1176] train loss : 0.14348885416984558\n",
      "Oct - [100/1176] train loss : 0.2753843665122986\n",
      "Oct - [200/1176] train loss : 0.21779415011405945\n",
      "Oct - [300/1176] train loss : 0.3245106637477875\n",
      "Oct - [400/1176] train loss : 0.09939216077327728\n",
      "Oct - [500/1176] train loss : 0.24392187595367432\n",
      "Oct - [600/1176] train loss : 0.15718719363212585\n",
      "Oct - [700/1176] train loss : 0.1173384040594101\n",
      "Oct - [800/1176] train loss : 0.3465197682380676\n",
      "Oct - [900/1176] train loss : 0.1329268217086792\n",
      "Oct - [1000/1176] train loss : 0.21457509696483612\n",
      "Oct - [1100/1176] train loss : 0.5017896890640259\n",
      "Epoch [4/8]\n",
      "Train Loss: 0.2100, Train Accuracy: 0.9271\n",
      "Validation Loss: 0.5724, Validation Accuracy: 0.8574\n",
      "Oct - [0/1176] train loss : 0.07199855148792267\n",
      "Oct - [100/1176] train loss : 0.23892603814601898\n",
      "Oct - [200/1176] train loss : 0.11820806562900543\n",
      "Oct - [300/1176] train loss : 0.12904813885688782\n",
      "Oct - [400/1176] train loss : 0.12403649836778641\n",
      "Oct - [500/1176] train loss : 0.23282386362552643\n",
      "Oct - [600/1176] train loss : 0.11278976500034332\n",
      "Oct - [700/1176] train loss : 0.05646143853664398\n",
      "Oct - [800/1176] train loss : 0.3219112455844879\n",
      "Oct - [900/1176] train loss : 0.12845683097839355\n",
      "Oct - [1000/1176] train loss : 0.09172365814447403\n",
      "Oct - [1100/1176] train loss : 0.10923551768064499\n",
      "Epoch [5/8]\n",
      "Train Loss: 0.2057, Train Accuracy: 0.9299\n",
      "Validation Loss: 0.3039, Validation Accuracy: 0.9016\n",
      "Oct - [0/1176] train loss : 0.20877467095851898\n",
      "Oct - [100/1176] train loss : 0.11899857968091965\n",
      "Oct - [200/1176] train loss : 0.3736150562763214\n",
      "Oct - [300/1176] train loss : 0.05235980078577995\n",
      "Oct - [400/1176] train loss : 0.13961689174175262\n",
      "Oct - [500/1176] train loss : 0.18687765300273895\n",
      "Oct - [600/1176] train loss : 0.08405760675668716\n",
      "Oct - [700/1176] train loss : 0.21733403205871582\n",
      "Oct - [800/1176] train loss : 0.3503910005092621\n",
      "Oct - [900/1176] train loss : 0.31426483392715454\n",
      "Oct - [1000/1176] train loss : 0.16001051664352417\n",
      "Oct - [1100/1176] train loss : 0.1079244390130043\n",
      "Epoch [6/8]\n",
      "Train Loss: 0.1997, Train Accuracy: 0.9309\n",
      "Validation Loss: 0.2933, Validation Accuracy: 0.9047\n",
      "Oct - [0/1176] train loss : 0.0615684948861599\n",
      "Oct - [100/1176] train loss : 0.20471830666065216\n",
      "Oct - [200/1176] train loss : 0.24697089195251465\n",
      "Oct - [300/1176] train loss : 0.050307922065258026\n",
      "Oct - [400/1176] train loss : 0.13408347964286804\n",
      "Oct - [500/1176] train loss : 0.019751152023673058\n",
      "Oct - [600/1176] train loss : 0.18771244585514069\n",
      "Oct - [700/1176] train loss : 0.055488597601652145\n",
      "Oct - [800/1176] train loss : 0.29320722818374634\n",
      "Oct - [900/1176] train loss : 0.18251392245292664\n",
      "Oct - [1000/1176] train loss : 0.19171608984470367\n",
      "Oct - [1100/1176] train loss : 0.3500126302242279\n",
      "Epoch [7/8]\n",
      "Train Loss: 0.1944, Train Accuracy: 0.9338\n",
      "Validation Loss: 0.2611, Validation Accuracy: 0.9143\n",
      "Oct - [0/1176] train loss : 0.110228531062603\n",
      "Oct - [100/1176] train loss : 0.11814466863870621\n",
      "Oct - [200/1176] train loss : 0.14899422228336334\n",
      "Oct - [300/1176] train loss : 0.22109515964984894\n",
      "Oct - [400/1176] train loss : 0.29774728417396545\n",
      "Oct - [500/1176] train loss : 0.2985992133617401\n",
      "Oct - [600/1176] train loss : 0.09129682928323746\n",
      "Oct - [700/1176] train loss : 0.07643064111471176\n",
      "Oct - [800/1176] train loss : 0.25328829884529114\n",
      "Oct - [900/1176] train loss : 0.3246961534023285\n",
      "Oct - [1000/1176] train loss : 0.0394446961581707\n",
      "Oct - [1100/1176] train loss : 0.0927986204624176\n",
      "Epoch [8/8]\n",
      "Train Loss: 0.1885, Train Accuracy: 0.9352\n",
      "Validation Loss: 0.2718, Validation Accuracy: 0.9098\n"
     ]
    }
   ],
   "source": [
    "for epoch in range(num_epochs):\n",
    "    model.train()\n",
    "    \n",
    "    running_loss = 0.0\n",
    "    correct_predictions = 0\n",
    "    total_samples  =0\n",
    "    i = 0\n",
    "    for inputs, labels in octDL_train:\n",
    "        inputs, labels = inputs.to(device), labels.to(device)\n",
    "        \n",
    "        optimizer.zero_grad()\n",
    "        outputs = model(inputs)\n",
    "        loss = criterion(outputs, labels)\n",
    "        loss.backward()\n",
    "        optimizer.step()\n",
    "        \n",
    "        running_loss += loss.item() * inputs.size(0)\n",
    "        _, predicted = torch.max(outputs, 1)\n",
    "        correct_predictions += (predicted == labels).sum().item()\n",
    "        total_samples += labels.size(0)\n",
    "        \n",
    "        if(i%100 == 0):\n",
    "            print(f\"Oct - [{i}/{len(octDL_train)}] train loss : {loss.item()}\")\n",
    "        i = i+1\n",
    "        \n",
    "    train_loss = running_loss / total_samples\n",
    "    train_accuracy = correct_predictions / total_samples\n",
    "    \n",
    "    model.eval()\n",
    "    val_loss = 0.0\n",
    "    correct_val_predictions = 0\n",
    "    total_val_samples = 0\n",
    "    \n",
    "    with torch.no_grad():\n",
    "        for val_inputs, val_labels in octDL_val:\n",
    "            val_inputs, val_labels = val_inputs.to(device), val_labels.to(device)\n",
    "            \n",
    "            val_outputs = model(val_inputs)\n",
    "            loss = criterion(val_outputs, val_labels)\n",
    "            \n",
    "            val_loss += loss.item() * val_inputs.size(0)\n",
    "            _, val_predicted = torch.max(val_outputs, 1)\n",
    "            correct_val_predictions += (val_predicted == val_labels).sum().item()\n",
    "            total_val_samples += val_labels.size(0)\n",
    "    \n",
    "    val_loss /= total_val_samples\n",
    "    val_accuracy = correct_val_predictions / total_val_samples\n",
    "    \n",
    "    # Print epoch stats\n",
    "    print(f'Epoch [{epoch+1}/{num_epochs}]')\n",
    "    print(f'Train Loss: {train_loss:.4f}, Train Accuracy: {train_accuracy:.4f}')\n",
    "    print(f'Validation Loss: {val_loss:.4f}, Validation Accuracy: {val_accuracy:.4f}')"
   ]
  },
  {
   "cell_type": "code",
   "execution_count": 67,
   "id": "ba227d55",
   "metadata": {
    "execution": {
     "iopub.execute_input": "2024-10-15T10:37:58.650481Z",
     "iopub.status.busy": "2024-10-15T10:37:58.650086Z",
     "iopub.status.idle": "2024-10-15T10:38:49.075851Z",
     "shell.execute_reply": "2024-10-15T10:38:49.074937Z"
    },
    "papermill": {
     "duration": 50.562316,
     "end_time": "2024-10-15T10:38:49.142993",
     "exception": false,
     "start_time": "2024-10-15T10:37:58.580677",
     "status": "completed"
    },
    "tags": []
   },
   "outputs": [
    {
     "data": {
      "image/png": "[encoded data removed]",
      "text/plain": [
       "<Figure size 600x400 with 2 Axes>"
      ]
     },
     "metadata": {},
     "output_type": "display_data"
    }
   ],
   "source": [
    "# Get the predictions and true labels for the test set\n",
    "preds, true_labels = get_predictions_and_labels(model, octDL_val)\n",
    "\n",
    "# Compute the confusion matrix\n",
    "conf_matrix = confusion_matrix(true_labels, preds)\n",
    "class_names = [f'Class {i}' for i in range(len(target_class_names)+1)]\n",
    "# Plot the confusion matrix using seaborn\n",
    "plt.figure(figsize=(6, 4))\n",
    "sns.heatmap(conf_matrix, annot=True, fmt=\"d\", cmap=\"Blues\", xticklabels=class_names, yticklabels=class_names)\n",
    "plt.xlabel('Predicted Label')\n",
    "plt.ylabel('True Label')\n",
    "plt.title('Confusion Matrix')\n",
    "plt.show()"
   ]
  },
  {
   "cell_type": "code",
   "execution_count": 68,
   "id": "c59d54e1",
   "metadata": {
    "execution": {
     "iopub.execute_input": "2024-10-15T10:38:49.273353Z",
     "iopub.status.busy": "2024-10-15T10:38:49.272766Z",
     "iopub.status.idle": "2024-10-15T10:38:49.279527Z",
     "shell.execute_reply": "2024-10-15T10:38:49.278662Z"
    },
    "papermill": {
     "duration": 0.074206,
     "end_time": "2024-10-15T10:38:49.281382",
     "exception": false,
     "start_time": "2024-10-15T10:38:49.207176",
     "status": "completed"
    },
    "tags": []
   },
   "outputs": [],
   "source": [
    "del octDL_train\n",
    "del octDL_val"
   ]
  },
  {
   "cell_type": "markdown",
   "id": "03b8f4e2",
   "metadata": {
    "papermill": {
     "duration": 0.0636,
     "end_time": "2024-10-15T10:38:49.408982",
     "exception": false,
     "start_time": "2024-10-15T10:38:49.345382",
     "status": "completed"
    },
    "tags": []
   },
   "source": [
    "# Nonary"
   ]
  },
  {
   "cell_type": "code",
   "execution_count": 69,
   "id": "39bbeca1",
   "metadata": {
    "execution": {
     "iopub.execute_input": "2024-10-15T10:38:49.540002Z",
     "iopub.status.busy": "2024-10-15T10:38:49.539690Z",
     "iopub.status.idle": "2024-10-15T10:39:00.332239Z",
     "shell.execute_reply": "2024-10-15T10:39:00.331476Z"
    },
    "papermill": {
     "duration": 10.860131,
     "end_time": "2024-10-15T10:39:00.334597",
     "exception": false,
     "start_time": "2024-10-15T10:38:49.474466",
     "status": "completed"
    },
    "tags": []
   },
   "outputs": [],
   "source": [
    "target_class_names = [\"Normal\",\"Erosion\",\"Polyp\", \"Angioectasia\", \"Bleeding\", \"Lymphangiectasia\", \"Foreign Body\", \"Erythema\"]\n",
    "nonDL_train = getNaryDataLoader(target_class_names=target_class_names, path_to_dataset=train_path, \n",
    "                          batch_size=32, trans = train_transform)\n",
    "nonDL_val = getNaryDataLoader(target_class_names=target_class_names, path_to_dataset=val_path, \n",
    "                          batch_size=32, trans = val_transform)"
   ]
  },
  {
   "cell_type": "code",
   "execution_count": 70,
   "id": "3fde8091",
   "metadata": {
    "execution": {
     "iopub.execute_input": "2024-10-15T10:39:00.465766Z",
     "iopub.status.busy": "2024-10-15T10:39:00.464934Z",
     "iopub.status.idle": "2024-10-15T10:39:00.470394Z",
     "shell.execute_reply": "2024-10-15T10:39:00.469500Z"
    },
    "papermill": {
     "duration": 0.072507,
     "end_time": "2024-10-15T10:39:00.472343",
     "exception": false,
     "start_time": "2024-10-15T10:39:00.399836",
     "status": "completed"
    },
    "tags": []
   },
   "outputs": [],
   "source": [
    "num_ftrs = model.fc.in_features\n",
    "model.fc = nn.Linear(in_features=num_ftrs, out_features=len(target_class_names)+1)"
   ]
  },
  {
   "cell_type": "code",
   "execution_count": 71,
   "id": "1f841147",
   "metadata": {
    "execution": {
     "iopub.execute_input": "2024-10-15T10:39:00.603126Z",
     "iopub.status.busy": "2024-10-15T10:39:00.602826Z",
     "iopub.status.idle": "2024-10-15T10:39:00.607518Z",
     "shell.execute_reply": "2024-10-15T10:39:00.606654Z"
    },
    "papermill": {
     "duration": 0.071597,
     "end_time": "2024-10-15T10:39:00.609547",
     "exception": false,
     "start_time": "2024-10-15T10:39:00.537950",
     "status": "completed"
    },
    "tags": []
   },
   "outputs": [],
   "source": [
    "device = torch.device(\"cuda\" if torch.cuda.is_available() else \"cpu\")\n",
    "if torch.cuda.device_count() > 1:\n",
    "    model = nn.DataParallel(model)"
   ]
  },
  {
   "cell_type": "code",
   "execution_count": 72,
   "id": "511d826c",
   "metadata": {
    "execution": {
     "iopub.execute_input": "2024-10-15T10:39:00.739037Z",
     "iopub.status.busy": "2024-10-15T10:39:00.738753Z",
     "iopub.status.idle": "2024-10-15T10:39:00.748059Z",
     "shell.execute_reply": "2024-10-15T10:39:00.747199Z"
    },
    "papermill": {
     "duration": 0.075932,
     "end_time": "2024-10-15T10:39:00.750002",
     "exception": false,
     "start_time": "2024-10-15T10:39:00.674070",
     "status": "completed"
    },
    "tags": []
   },
   "outputs": [],
   "source": [
    "model = model.to(device)\n",
    "criterion = nn.CrossEntropyLoss() \n",
    "# optimizer = torch.optim.Adam(model.parameters(), lr=0.001)"
   ]
  },
  {
   "cell_type": "code",
   "execution_count": 73,
   "id": "8b429a2c",
   "metadata": {
    "execution": {
     "iopub.execute_input": "2024-10-15T10:39:00.879081Z",
     "iopub.status.busy": "2024-10-15T10:39:00.878489Z",
     "iopub.status.idle": "2024-10-15T10:39:00.886678Z",
     "shell.execute_reply": "2024-10-15T10:39:00.885974Z"
    },
    "papermill": {
     "duration": 0.074763,
     "end_time": "2024-10-15T10:39:00.888535",
     "exception": false,
     "start_time": "2024-10-15T10:39:00.813772",
     "status": "completed"
    },
    "tags": []
   },
   "outputs": [],
   "source": [
    "model = model.to(device)"
   ]
  },
  {
   "cell_type": "code",
   "execution_count": 74,
   "id": "71f947b3",
   "metadata": {
    "execution": {
     "iopub.execute_input": "2024-10-15T10:39:01.017981Z",
     "iopub.status.busy": "2024-10-15T10:39:01.017689Z",
     "iopub.status.idle": "2024-10-15T10:39:01.021370Z",
     "shell.execute_reply": "2024-10-15T10:39:01.020527Z"
    },
    "papermill": {
     "duration": 0.070601,
     "end_time": "2024-10-15T10:39:01.023209",
     "exception": false,
     "start_time": "2024-10-15T10:39:00.952608",
     "status": "completed"
    },
    "tags": []
   },
   "outputs": [],
   "source": [
    "num_epochs = 9"
   ]
  },
  {
   "cell_type": "code",
   "execution_count": 75,
   "id": "db6068b6",
   "metadata": {
    "execution": {
     "iopub.execute_input": "2024-10-15T10:39:01.152298Z",
     "iopub.status.busy": "2024-10-15T10:39:01.151983Z",
     "iopub.status.idle": "2024-10-15T11:26:58.892009Z",
     "shell.execute_reply": "2024-10-15T11:26:58.890940Z"
    },
    "papermill": {
     "duration": 2877.88161,
     "end_time": "2024-10-15T11:26:58.968544",
     "exception": false,
     "start_time": "2024-10-15T10:39:01.086934",
     "status": "completed"
    },
    "tags": []
   },
   "outputs": [
    {
     "name": "stdout",
     "output_type": "stream",
     "text": [
      "Non - [0/1176] train loss : 2.5752079486846924\n",
      "Non - [100/1176] train loss : 0.13530921936035156\n",
      "Non - [200/1176] train loss : 0.15099197626113892\n",
      "Non - [300/1176] train loss : 0.19160832464694977\n",
      "Non - [400/1176] train loss : 0.14013244211673737\n",
      "Non - [500/1176] train loss : 0.1715463250875473\n",
      "Non - [600/1176] train loss : 0.26857587695121765\n",
      "Non - [700/1176] train loss : 0.20669017732143402\n",
      "Non - [800/1176] train loss : 0.08147351443767548\n",
      "Non - [900/1176] train loss : 0.2292148768901825\n",
      "Non - [1000/1176] train loss : 0.08332031220197678\n",
      "Non - [1100/1176] train loss : 0.10538073629140854\n",
      "Epoch [1/9]\n",
      "Train Loss: 0.2256, Train Accuracy: 0.9250\n",
      "Validation Loss: 0.2765, Validation Accuracy: 0.9070\n",
      "Non - [0/1176] train loss : 0.21272118389606476\n",
      "Non - [100/1176] train loss : 0.13638852536678314\n",
      "Non - [200/1176] train loss : 0.05251694843173027\n",
      "Non - [300/1176] train loss : 0.21748559176921844\n",
      "Non - [400/1176] train loss : 0.03353322297334671\n",
      "Non - [500/1176] train loss : 0.07161145657300949\n",
      "Non - [600/1176] train loss : 0.22502835094928741\n",
      "Non - [700/1176] train loss : 0.2767651677131653\n",
      "Non - [800/1176] train loss : 0.28047892451286316\n",
      "Non - [900/1176] train loss : 0.18765893578529358\n",
      "Non - [1000/1176] train loss : 0.18067538738250732\n",
      "Non - [1100/1176] train loss : 0.16719141602516174\n",
      "Epoch [2/9]\n",
      "Train Loss: 0.1956, Train Accuracy: 0.9329\n",
      "Validation Loss: 0.3379, Validation Accuracy: 0.8948\n",
      "Non - [0/1176] train loss : 0.15810251235961914\n",
      "Non - [100/1176] train loss : 0.171599879860878\n",
      "Non - [200/1176] train loss : 0.1935429871082306\n",
      "Non - [300/1176] train loss : 0.1518721878528595\n",
      "Non - [400/1176] train loss : 0.0823916345834732\n",
      "Non - [500/1176] train loss : 0.32926490902900696\n",
      "Non - [600/1176] train loss : 0.26124119758605957\n",
      "Non - [700/1176] train loss : 0.08784234523773193\n",
      "Non - [800/1176] train loss : 0.05810707062482834\n",
      "Non - [900/1176] train loss : 0.0632694661617279\n",
      "Non - [1000/1176] train loss : 0.08633400499820709\n",
      "Non - [1100/1176] train loss : 0.54149329662323\n",
      "Epoch [3/9]\n",
      "Train Loss: 0.1832, Train Accuracy: 0.9368\n",
      "Validation Loss: 0.3363, Validation Accuracy: 0.8958\n",
      "Non - [0/1176] train loss : 0.26298215985298157\n",
      "Non - [100/1176] train loss : 0.07344438880681992\n",
      "Non - [200/1176] train loss : 0.28499409556388855\n",
      "Non - [300/1176] train loss : 0.25989460945129395\n",
      "Non - [400/1176] train loss : 0.27786096930503845\n",
      "Non - [500/1176] train loss : 0.4342059791088104\n",
      "Non - [600/1176] train loss : 0.3397255837917328\n",
      "Non - [700/1176] train loss : 0.09577558189630508\n",
      "Non - [800/1176] train loss : 0.22826819121837616\n",
      "Non - [900/1176] train loss : 0.15485377609729767\n",
      "Non - [1000/1176] train loss : 0.1074325442314148\n",
      "Non - [1100/1176] train loss : 0.10521864891052246\n",
      "Epoch [4/9]\n",
      "Train Loss: 0.1782, Train Accuracy: 0.9391\n",
      "Validation Loss: 0.5761, Validation Accuracy: 0.8647\n",
      "Non - [0/1176] train loss : 0.0850592628121376\n",
      "Non - [100/1176] train loss : 0.08914753794670105\n",
      "Non - [200/1176] train loss : 0.34823665022850037\n",
      "Non - [300/1176] train loss : 0.055549874901771545\n",
      "Non - [400/1176] train loss : 0.1581897884607315\n",
      "Non - [500/1176] train loss : 0.09717053174972534\n",
      "Non - [600/1176] train loss : 0.04861641675233841\n",
      "Non - [700/1176] train loss : 0.1650964617729187\n",
      "Non - [800/1176] train loss : 0.2647927403450012\n",
      "Non - [900/1176] train loss : 0.09366092830896378\n",
      "Non - [1000/1176] train loss : 0.14192385971546173\n",
      "Non - [1100/1176] train loss : 0.14712071418762207\n",
      "Epoch [5/9]\n",
      "Train Loss: 0.1772, Train Accuracy: 0.9392\n",
      "Validation Loss: 0.3440, Validation Accuracy: 0.8982\n",
      "Non - [0/1176] train loss : 0.29905226826667786\n",
      "Non - [100/1176] train loss : 0.3424493372440338\n",
      "Non - [200/1176] train loss : 0.2481921762228012\n",
      "Non - [300/1176] train loss : 0.23479583859443665\n",
      "Non - [400/1176] train loss : 0.10920971632003784\n",
      "Non - [500/1176] train loss : 0.18931245803833008\n",
      "Non - [600/1176] train loss : 0.08600348234176636\n",
      "Non - [700/1176] train loss : 0.04136792570352554\n",
      "Non - [800/1176] train loss : 0.08666897565126419\n",
      "Non - [900/1176] train loss : 0.2436428964138031\n",
      "Non - [1000/1176] train loss : 0.09755770117044449\n",
      "Non - [1100/1176] train loss : 0.12087590992450714\n",
      "Epoch [6/9]\n",
      "Train Loss: 0.1707, Train Accuracy: 0.9405\n",
      "Validation Loss: 0.2703, Validation Accuracy: 0.9109\n",
      "Non - [0/1176] train loss : 0.055365391075611115\n",
      "Non - [100/1176] train loss : 0.06139175966382027\n",
      "Non - [200/1176] train loss : 0.16905874013900757\n",
      "Non - [300/1176] train loss : 0.29379937052726746\n",
      "Non - [400/1176] train loss : 0.364519327878952\n",
      "Non - [500/1176] train loss : 0.10222488641738892\n",
      "Non - [600/1176] train loss : 0.09082520008087158\n",
      "Non - [700/1176] train loss : 0.08036615699529648\n",
      "Non - [800/1176] train loss : 0.275274395942688\n",
      "Non - [900/1176] train loss : 0.25943100452423096\n",
      "Non - [1000/1176] train loss : 0.4412806034088135\n",
      "Non - [1100/1176] train loss : 0.06304839998483658\n",
      "Epoch [7/9]\n",
      "Train Loss: 0.1655, Train Accuracy: 0.9417\n",
      "Validation Loss: 0.4689, Validation Accuracy: 0.8812\n",
      "Non - [0/1176] train loss : 0.09883290529251099\n",
      "Non - [100/1176] train loss : 0.18362553417682648\n",
      "Non - [200/1176] train loss : 0.22292621433734894\n",
      "Non - [300/1176] train loss : 0.21659432351589203\n",
      "Non - [400/1176] train loss : 0.19578027725219727\n",
      "Non - [500/1176] train loss : 0.07528474181890488\n",
      "Non - [600/1176] train loss : 0.05564631521701813\n",
      "Non - [700/1176] train loss : 0.1016540452837944\n",
      "Non - [800/1176] train loss : 0.16467735171318054\n",
      "Non - [900/1176] train loss : 0.11700541526079178\n",
      "Non - [1000/1176] train loss : 0.2068958282470703\n",
      "Non - [1100/1176] train loss : 0.034102439880371094\n",
      "Epoch [8/9]\n",
      "Train Loss: 0.1631, Train Accuracy: 0.9438\n",
      "Validation Loss: 0.5155, Validation Accuracy: 0.8362\n",
      "Non - [0/1176] train loss : 0.06764018535614014\n",
      "Non - [100/1176] train loss : 0.34853395819664\n",
      "Non - [200/1176] train loss : 0.07237371057271957\n",
      "Non - [300/1176] train loss : 0.10685164481401443\n",
      "Non - [400/1176] train loss : 0.13536961376667023\n",
      "Non - [500/1176] train loss : 0.03427311033010483\n",
      "Non - [600/1176] train loss : 0.09823568910360336\n",
      "Non - [700/1176] train loss : 0.03279385343194008\n",
      "Non - [800/1176] train loss : 0.19342833757400513\n",
      "Non - [900/1176] train loss : 0.25258564949035645\n",
      "Non - [1000/1176] train loss : 0.07198360562324524\n",
      "Non - [1100/1176] train loss : 0.10334717482328415\n",
      "Epoch [9/9]\n",
      "Train Loss: 0.1581, Train Accuracy: 0.9465\n",
      "Validation Loss: 0.2532, Validation Accuracy: 0.9161\n"
     ]
    }
   ],
   "source": [
    "for epoch in range(num_epochs):\n",
    "    model.train()\n",
    "    \n",
    "    running_loss = 0.0\n",
    "    correct_predictions = 0\n",
    "    total_samples  =0\n",
    "    i = 0\n",
    "    for inputs, labels in nonDL_train:\n",
    "        inputs, labels = inputs.to(device), labels.to(device)\n",
    "        \n",
    "        optimizer.zero_grad()\n",
    "        outputs = model(inputs)\n",
    "        loss = criterion(outputs, labels)\n",
    "        loss.backward()\n",
    "        optimizer.step()\n",
    "        \n",
    "        running_loss += loss.item() * inputs.size(0)\n",
    "        _, predicted = torch.max(outputs, 1)\n",
    "        correct_predictions += (predicted == labels).sum().item()\n",
    "        total_samples += labels.size(0)\n",
    "        \n",
    "        if(i%100 == 0):\n",
    "            print(f\"Non - [{i}/{len(nonDL_train)}] train loss : {loss.item()}\")\n",
    "        i = i+1\n",
    "        \n",
    "    train_loss = running_loss / total_samples\n",
    "    train_accuracy = correct_predictions / total_samples\n",
    "    \n",
    "    model.eval()\n",
    "    val_loss = 0.0\n",
    "    correct_val_predictions = 0\n",
    "    total_val_samples = 0\n",
    "    \n",
    "    with torch.no_grad():\n",
    "        for val_inputs, val_labels in nonDL_val:\n",
    "            val_inputs, val_labels = val_inputs.to(device), val_labels.to(device)\n",
    "            \n",
    "            val_outputs = model(val_inputs)\n",
    "            loss = criterion(val_outputs, val_labels)\n",
    "            \n",
    "            val_loss += loss.item() * val_inputs.size(0)\n",
    "            _, val_predicted = torch.max(val_outputs, 1)\n",
    "            correct_val_predictions += (val_predicted == val_labels).sum().item()\n",
    "            total_val_samples += val_labels.size(0)\n",
    "    \n",
    "    val_loss /= total_val_samples\n",
    "    val_accuracy = correct_val_predictions / total_val_samples\n",
    "    \n",
    "    # Print epoch stats\n",
    "    print(f'Epoch [{epoch+1}/{num_epochs}]')\n",
    "    print(f'Train Loss: {train_loss:.4f}, Train Accuracy: {train_accuracy:.4f}')\n",
    "    print(f'Validation Loss: {val_loss:.4f}, Validation Accuracy: {val_accuracy:.4f}')"
   ]
  },
  {
   "cell_type": "code",
   "execution_count": 76,
   "id": "5e38e165",
   "metadata": {
    "execution": {
     "iopub.execute_input": "2024-10-15T11:26:59.119500Z",
     "iopub.status.busy": "2024-10-15T11:26:59.119091Z",
     "iopub.status.idle": "2024-10-15T11:27:48.914316Z",
     "shell.execute_reply": "2024-10-15T11:27:48.913394Z"
    },
    "papermill": {
     "duration": 49.94558,
     "end_time": "2024-10-15T11:27:48.988538",
     "exception": false,
     "start_time": "2024-10-15T11:26:59.042958",
     "status": "completed"
    },
    "tags": []
   },
   "outputs": [
    {
     "data": {
      "image/png": "[encoded data removed]",
      "text/plain": [
       "<Figure size 600x400 with 2 Axes>"
      ]
     },
     "metadata": {},
     "output_type": "display_data"
    }
   ],
   "source": [
    "# Get the predictions and true labels for the test set\n",
    "preds, true_labels = get_predictions_and_labels(model, nonDL_val)\n",
    "\n",
    "# Compute the confusion matrix\n",
    "conf_matrix = confusion_matrix(true_labels, preds)\n",
    "class_names = [f'Class {i}' for i in range(len(target_class_names)+1)]\n",
    "# Plot the confusion matrix using seaborn\n",
    "plt.figure(figsize=(6, 4))\n",
    "sns.heatmap(conf_matrix, annot=True, fmt=\"d\", cmap=\"Blues\", xticklabels=class_names, yticklabels=class_names)\n",
    "plt.xlabel('Predicted Label')\n",
    "plt.ylabel('True Label')\n",
    "plt.title('Confusion Matrix')\n",
    "plt.show()"
   ]
  },
  {
   "cell_type": "code",
   "execution_count": 77,
   "id": "806fada7",
   "metadata": {
    "execution": {
     "iopub.execute_input": "2024-10-15T11:27:49.137699Z",
     "iopub.status.busy": "2024-10-15T11:27:49.137325Z",
     "iopub.status.idle": "2024-10-15T11:27:49.144536Z",
     "shell.execute_reply": "2024-10-15T11:27:49.143448Z"
    },
    "papermill": {
     "duration": 0.084159,
     "end_time": "2024-10-15T11:27:49.146489",
     "exception": false,
     "start_time": "2024-10-15T11:27:49.062330",
     "status": "completed"
    },
    "tags": []
   },
   "outputs": [],
   "source": [
    "del nonDL_train\n",
    "del nonDL_val"
   ]
  },
  {
   "cell_type": "markdown",
   "id": "03bf9a90",
   "metadata": {
    "papermill": {
     "duration": 0.073714,
     "end_time": "2024-10-15T11:27:49.293739",
     "exception": false,
     "start_time": "2024-10-15T11:27:49.220025",
     "status": "completed"
    },
    "tags": []
   },
   "source": [
    "# Decimal"
   ]
  },
  {
   "cell_type": "code",
   "execution_count": 78,
   "id": "ddc96749",
   "metadata": {
    "execution": {
     "iopub.execute_input": "2024-10-15T11:27:49.443400Z",
     "iopub.status.busy": "2024-10-15T11:27:49.442605Z",
     "iopub.status.idle": "2024-10-15T11:27:58.695235Z",
     "shell.execute_reply": "2024-10-15T11:27:58.694257Z"
    },
    "papermill": {
     "duration": 9.33003,
     "end_time": "2024-10-15T11:27:58.697756",
     "exception": false,
     "start_time": "2024-10-15T11:27:49.367726",
     "status": "completed"
    },
    "tags": []
   },
   "outputs": [],
   "source": [
    "target_class_names = [\"Normal\",\"Erosion\",\"Polyp\", \"Angioectasia\", \"Bleeding\", \"Lymphangiectasia\", \"Foreign Body\", \"Erythema\",\"Ulcer\"]\n",
    "decDL_train = getNaryDataLoader(target_class_names=target_class_names, path_to_dataset=train_path, \n",
    "                          batch_size=32, trans = train_transform)\n",
    "decDL_val = getNaryDataLoader(target_class_names=target_class_names, path_to_dataset=val_path, \n",
    "                          batch_size=32, trans = val_transform)"
   ]
  },
  {
   "cell_type": "code",
   "execution_count": 79,
   "id": "8c9953c3",
   "metadata": {
    "execution": {
     "iopub.execute_input": "2024-10-15T11:27:58.850701Z",
     "iopub.status.busy": "2024-10-15T11:27:58.850057Z",
     "iopub.status.idle": "2024-10-15T11:27:58.855221Z",
     "shell.execute_reply": "2024-10-15T11:27:58.854496Z"
    },
    "papermill": {
     "duration": 0.081975,
     "end_time": "2024-10-15T11:27:58.857047",
     "exception": false,
     "start_time": "2024-10-15T11:27:58.775072",
     "status": "completed"
    },
    "tags": []
   },
   "outputs": [],
   "source": [
    "num_ftrs = model.fc.in_features\n",
    "model.fc = nn.Linear(in_features=num_ftrs, out_features=len(target_class_names)+1)"
   ]
  },
  {
   "cell_type": "code",
   "execution_count": 80,
   "id": "ef9331d4",
   "metadata": {
    "execution": {
     "iopub.execute_input": "2024-10-15T11:27:59.007208Z",
     "iopub.status.busy": "2024-10-15T11:27:59.006505Z",
     "iopub.status.idle": "2024-10-15T11:27:59.011161Z",
     "shell.execute_reply": "2024-10-15T11:27:59.010290Z"
    },
    "papermill": {
     "duration": 0.082128,
     "end_time": "2024-10-15T11:27:59.013080",
     "exception": false,
     "start_time": "2024-10-15T11:27:58.930952",
     "status": "completed"
    },
    "tags": []
   },
   "outputs": [],
   "source": [
    "device = torch.device(\"cuda\" if torch.cuda.is_available() else \"cpu\")\n",
    "if torch.cuda.device_count() > 1:\n",
    "    model = nn.DataParallel(model)"
   ]
  },
  {
   "cell_type": "code",
   "execution_count": 81,
   "id": "ebc3193e",
   "metadata": {
    "execution": {
     "iopub.execute_input": "2024-10-15T11:27:59.162617Z",
     "iopub.status.busy": "2024-10-15T11:27:59.162284Z",
     "iopub.status.idle": "2024-10-15T11:27:59.171917Z",
     "shell.execute_reply": "2024-10-15T11:27:59.171213Z"
    },
    "papermill": {
     "duration": 0.086533,
     "end_time": "2024-10-15T11:27:59.173716",
     "exception": false,
     "start_time": "2024-10-15T11:27:59.087183",
     "status": "completed"
    },
    "tags": []
   },
   "outputs": [],
   "source": [
    "model = model.to(device)\n",
    "criterion = nn.CrossEntropyLoss() \n",
    "# optimizer = torch.optim.Adam(model.parameters(), lr=0.001)"
   ]
  },
  {
   "cell_type": "code",
   "execution_count": 82,
   "id": "34b43805",
   "metadata": {
    "execution": {
     "iopub.execute_input": "2024-10-15T11:27:59.323421Z",
     "iopub.status.busy": "2024-10-15T11:27:59.323088Z",
     "iopub.status.idle": "2024-10-15T11:27:59.332441Z",
     "shell.execute_reply": "2024-10-15T11:27:59.331764Z"
    },
    "papermill": {
     "duration": 0.086629,
     "end_time": "2024-10-15T11:27:59.334315",
     "exception": false,
     "start_time": "2024-10-15T11:27:59.247686",
     "status": "completed"
    },
    "tags": []
   },
   "outputs": [],
   "source": [
    "model = model.to(device)"
   ]
  },
  {
   "cell_type": "code",
   "execution_count": 83,
   "id": "482ba30b",
   "metadata": {
    "execution": {
     "iopub.execute_input": "2024-10-15T11:27:59.483131Z",
     "iopub.status.busy": "2024-10-15T11:27:59.482541Z",
     "iopub.status.idle": "2024-10-15T11:27:59.486669Z",
     "shell.execute_reply": "2024-10-15T11:27:59.485836Z"
    },
    "papermill": {
     "duration": 0.080653,
     "end_time": "2024-10-15T11:27:59.488475",
     "exception": false,
     "start_time": "2024-10-15T11:27:59.407822",
     "status": "completed"
    },
    "tags": []
   },
   "outputs": [],
   "source": [
    "num_epochs = 10"
   ]
  },
  {
   "cell_type": "code",
   "execution_count": 84,
   "id": "a476413c",
   "metadata": {
    "execution": {
     "iopub.execute_input": "2024-10-15T11:27:59.638165Z",
     "iopub.status.busy": "2024-10-15T11:27:59.637473Z",
     "iopub.status.idle": "2024-10-15T12:21:04.362341Z",
     "shell.execute_reply": "2024-10-15T12:21:04.361322Z"
    },
    "papermill": {
     "duration": 3184.886979,
     "end_time": "2024-10-15T12:21:04.449172",
     "exception": false,
     "start_time": "2024-10-15T11:27:59.562193",
     "status": "completed"
    },
    "tags": []
   },
   "outputs": [
    {
     "name": "stdout",
     "output_type": "stream",
     "text": [
      "Dec - [0/1176] train loss : 2.557032585144043\n",
      "Dec - [100/1176] train loss : 0.22557106614112854\n",
      "Dec - [200/1176] train loss : 0.16013985872268677\n",
      "Dec - [300/1176] train loss : 0.13662084937095642\n",
      "Dec - [400/1176] train loss : 0.09384875744581223\n",
      "Dec - [500/1176] train loss : 0.02743530459702015\n",
      "Dec - [600/1176] train loss : 0.053130388259887695\n",
      "Dec - [700/1176] train loss : 0.18353396654129028\n",
      "Dec - [800/1176] train loss : 0.41516393423080444\n",
      "Dec - [900/1176] train loss : 0.06318777799606323\n",
      "Dec - [1000/1176] train loss : 0.3099803924560547\n",
      "Dec - [1100/1176] train loss : 0.06213516741991043\n",
      "Epoch [1/10]\n",
      "Train Loss: 0.1989, Train Accuracy: 0.9345\n",
      "Validation Loss: 0.2818, Validation Accuracy: 0.9084\n",
      "Dec - [0/1176] train loss : 0.0806257352232933\n",
      "Dec - [100/1176] train loss : 0.12578627467155457\n",
      "Dec - [200/1176] train loss : 0.13876520097255707\n",
      "Dec - [300/1176] train loss : 0.3810300827026367\n",
      "Dec - [400/1176] train loss : 0.12062959372997284\n",
      "Dec - [500/1176] train loss : 0.06688748300075531\n",
      "Dec - [600/1176] train loss : 0.39767029881477356\n",
      "Dec - [700/1176] train loss : 0.03537313640117645\n",
      "Dec - [800/1176] train loss : 0.08047271519899368\n",
      "Dec - [900/1176] train loss : 0.10072053968906403\n",
      "Dec - [1000/1176] train loss : 0.2507511377334595\n",
      "Dec - [1100/1176] train loss : 0.21465612947940826\n",
      "Epoch [2/10]\n",
      "Train Loss: 0.1610, Train Accuracy: 0.9449\n",
      "Validation Loss: 0.3223, Validation Accuracy: 0.9022\n",
      "Dec - [0/1176] train loss : 0.13639721274375916\n",
      "Dec - [100/1176] train loss : 0.20020484924316406\n",
      "Dec - [200/1176] train loss : 0.15595713257789612\n",
      "Dec - [300/1176] train loss : 0.03856422379612923\n",
      "Dec - [400/1176] train loss : 0.10393286496400833\n",
      "Dec - [500/1176] train loss : 0.06365865468978882\n",
      "Dec - [600/1176] train loss : 0.13502664864063263\n",
      "Dec - [700/1176] train loss : 0.09009826928377151\n",
      "Dec - [800/1176] train loss : 0.0481022410094738\n",
      "Dec - [900/1176] train loss : 0.19126316905021667\n",
      "Dec - [1000/1176] train loss : 0.1995636522769928\n",
      "Dec - [1100/1176] train loss : 0.09676571190357208\n",
      "Epoch [3/10]\n",
      "Train Loss: 0.1548, Train Accuracy: 0.9476\n",
      "Validation Loss: 0.2728, Validation Accuracy: 0.9154\n",
      "Dec - [0/1176] train loss : 0.03001289814710617\n",
      "Dec - [100/1176] train loss : 0.3491894602775574\n",
      "Dec - [200/1176] train loss : 0.1691417098045349\n",
      "Dec - [300/1176] train loss : 0.0665530115365982\n",
      "Dec - [400/1176] train loss : 0.04903459921479225\n",
      "Dec - [500/1176] train loss : 0.12441395968198776\n",
      "Dec - [600/1176] train loss : 0.3166692852973938\n",
      "Dec - [700/1176] train loss : 0.04185568541288376\n",
      "Dec - [800/1176] train loss : 0.05462260544300079\n",
      "Dec - [900/1176] train loss : 0.14058323204517365\n",
      "Dec - [1000/1176] train loss : 0.06638654321432114\n",
      "Dec - [1100/1176] train loss : 0.18400055170059204\n",
      "Epoch [4/10]\n",
      "Train Loss: 0.1506, Train Accuracy: 0.9481\n",
      "Validation Loss: 0.3523, Validation Accuracy: 0.8977\n",
      "Dec - [0/1176] train loss : 0.1500011384487152\n",
      "Dec - [100/1176] train loss : 0.2153591364622116\n",
      "Dec - [200/1176] train loss : 0.05956820398569107\n",
      "Dec - [300/1176] train loss : 0.06848877668380737\n",
      "Dec - [400/1176] train loss : 0.07152216136455536\n",
      "Dec - [500/1176] train loss : 0.18631164729595184\n",
      "Dec - [600/1176] train loss : 0.04313712567090988\n",
      "Dec - [700/1176] train loss : 0.032508619129657745\n",
      "Dec - [800/1176] train loss : 0.4633975028991699\n",
      "Dec - [900/1176] train loss : 0.19935715198516846\n",
      "Dec - [1000/1176] train loss : 0.06573372334241867\n",
      "Dec - [1100/1176] train loss : 0.12798768281936646\n",
      "Epoch [5/10]\n",
      "Train Loss: 0.1451, Train Accuracy: 0.9501\n",
      "Validation Loss: 0.3115, Validation Accuracy: 0.9073\n",
      "Dec - [0/1176] train loss : 0.13276365399360657\n",
      "Dec - [100/1176] train loss : 0.19407466053962708\n",
      "Dec - [200/1176] train loss : 0.0911586731672287\n",
      "Dec - [300/1176] train loss : 0.046755045652389526\n",
      "Dec - [400/1176] train loss : 0.0626176968216896\n",
      "Dec - [500/1176] train loss : 0.012546555139124393\n",
      "Dec - [600/1176] train loss : 0.2476160079240799\n",
      "Dec - [700/1176] train loss : 0.31920701265335083\n",
      "Dec - [800/1176] train loss : 0.008826060220599174\n",
      "Dec - [900/1176] train loss : 0.08742038905620575\n",
      "Dec - [1000/1176] train loss : 0.1340910643339157\n",
      "Dec - [1100/1176] train loss : 0.08702794462442398\n",
      "Epoch [6/10]\n",
      "Train Loss: 0.1417, Train Accuracy: 0.9500\n",
      "Validation Loss: 0.2632, Validation Accuracy: 0.9195\n",
      "Dec - [0/1176] train loss : 0.07867759466171265\n",
      "Dec - [100/1176] train loss : 0.11277758330106735\n",
      "Dec - [200/1176] train loss : 0.0358290895819664\n",
      "Dec - [300/1176] train loss : 0.04865023121237755\n",
      "Dec - [400/1176] train loss : 0.17437447607517242\n",
      "Dec - [500/1176] train loss : 0.03357236832380295\n",
      "Dec - [600/1176] train loss : 0.165121927857399\n",
      "Dec - [700/1176] train loss : 0.10064571350812912\n",
      "Dec - [800/1176] train loss : 0.2016545832157135\n",
      "Dec - [900/1176] train loss : 0.26932528614997864\n",
      "Dec - [1000/1176] train loss : 0.09220646321773529\n",
      "Dec - [1100/1176] train loss : 0.045627303421497345\n",
      "Epoch [7/10]\n",
      "Train Loss: 0.1397, Train Accuracy: 0.9525\n",
      "Validation Loss: 0.3231, Validation Accuracy: 0.9065\n",
      "Dec - [0/1176] train loss : 0.10271263122558594\n",
      "Dec - [100/1176] train loss : 0.08615138381719589\n",
      "Dec - [200/1176] train loss : 0.07921542972326279\n",
      "Dec - [300/1176] train loss : 0.18710847198963165\n",
      "Dec - [400/1176] train loss : 0.15474657714366913\n",
      "Dec - [500/1176] train loss : 0.14802099764347076\n",
      "Dec - [600/1176] train loss : 0.033017873764038086\n",
      "Dec - [700/1176] train loss : 0.342402845621109\n",
      "Dec - [800/1176] train loss : 0.14254340529441833\n",
      "Dec - [900/1176] train loss : 0.06306018680334091\n",
      "Dec - [1000/1176] train loss : 0.13221772015094757\n",
      "Dec - [1100/1176] train loss : 0.25075122714042664\n",
      "Epoch [8/10]\n",
      "Train Loss: 0.1348, Train Accuracy: 0.9534\n",
      "Validation Loss: 0.2583, Validation Accuracy: 0.9204\n",
      "Dec - [0/1176] train loss : 0.12795118987560272\n",
      "Dec - [100/1176] train loss : 0.10704024136066437\n",
      "Dec - [200/1176] train loss : 0.034551508724689484\n",
      "Dec - [300/1176] train loss : 0.034831367433071136\n",
      "Dec - [400/1176] train loss : 0.04744311794638634\n",
      "Dec - [500/1176] train loss : 0.24195221066474915\n",
      "Dec - [600/1176] train loss : 0.056656911969184875\n",
      "Dec - [700/1176] train loss : 0.027117619290947914\n",
      "Dec - [800/1176] train loss : 0.06911464035511017\n",
      "Dec - [900/1176] train loss : 0.07203365862369537\n",
      "Dec - [1000/1176] train loss : 0.4015407860279083\n",
      "Dec - [1100/1176] train loss : 0.11227352917194366\n",
      "Epoch [9/10]\n",
      "Train Loss: 0.1319, Train Accuracy: 0.9540\n",
      "Validation Loss: 0.2500, Validation Accuracy: 0.9186\n",
      "Dec - [0/1176] train loss : 0.061011020094156265\n",
      "Dec - [100/1176] train loss : 0.060750991106033325\n",
      "Dec - [200/1176] train loss : 0.17661085724830627\n",
      "Dec - [300/1176] train loss : 0.2136577069759369\n",
      "Dec - [400/1176] train loss : 0.2890493869781494\n",
      "Dec - [500/1176] train loss : 0.10419939458370209\n",
      "Dec - [600/1176] train loss : 0.1333514153957367\n",
      "Dec - [700/1176] train loss : 0.2213013917207718\n",
      "Dec - [800/1176] train loss : 0.04188942536711693\n",
      "Dec - [900/1176] train loss : 0.06242626905441284\n",
      "Dec - [1000/1176] train loss : 0.0941447988152504\n",
      "Dec - [1100/1176] train loss : 0.053223270922899246\n",
      "Epoch [10/10]\n",
      "Train Loss: 0.1297, Train Accuracy: 0.9554\n",
      "Validation Loss: 0.2992, Validation Accuracy: 0.9080\n"
     ]
    }
   ],
   "source": [
    "for epoch in range(num_epochs):\n",
    "    model.train()\n",
    "    \n",
    "    running_loss = 0.0\n",
    "    correct_predictions = 0\n",
    "    total_samples  =0\n",
    "    i = 0\n",
    "    for inputs, labels in decDL_train:\n",
    "        inputs, labels = inputs.to(device), labels.to(device)\n",
    "        \n",
    "        optimizer.zero_grad()\n",
    "        outputs = model(inputs)\n",
    "        loss = criterion(outputs, labels)\n",
    "        loss.backward()\n",
    "        optimizer.step()\n",
    "        \n",
    "        running_loss += loss.item() * inputs.size(0)\n",
    "        _, predicted = torch.max(outputs, 1)\n",
    "        correct_predictions += (predicted == labels).sum().item()\n",
    "        total_samples += labels.size(0)\n",
    "        \n",
    "        if(i%100 == 0):\n",
    "            print(f\"Dec - [{i}/{len(decDL_train)}] train loss : {loss.item()}\")\n",
    "        i = i+1\n",
    "        \n",
    "    train_loss = running_loss / total_samples\n",
    "    train_accuracy = correct_predictions / total_samples\n",
    "    \n",
    "    model.eval()\n",
    "    val_loss = 0.0\n",
    "    correct_val_predictions = 0\n",
    "    total_val_samples = 0\n",
    "    \n",
    "    with torch.no_grad():\n",
    "        for val_inputs, val_labels in decDL_val:\n",
    "            val_inputs, val_labels = val_inputs.to(device), val_labels.to(device)\n",
    "            \n",
    "            val_outputs = model(val_inputs)\n",
    "            loss = criterion(val_outputs, val_labels)\n",
    "            \n",
    "            val_loss += loss.item() * val_inputs.size(0)\n",
    "            _, val_predicted = torch.max(val_outputs, 1)\n",
    "            correct_val_predictions += (val_predicted == val_labels).sum().item()\n",
    "            total_val_samples += val_labels.size(0)\n",
    "    \n",
    "    val_loss /= total_val_samples\n",
    "    val_accuracy = correct_val_predictions / total_val_samples\n",
    "    \n",
    "    # Print epoch stats\n",
    "    print(f'Epoch [{epoch+1}/{num_epochs}]')\n",
    "    print(f'Train Loss: {train_loss:.4f}, Train Accuracy: {train_accuracy:.4f}')\n",
    "    print(f'Validation Loss: {val_loss:.4f}, Validation Accuracy: {val_accuracy:.4f}')"
   ]
  },
  {
   "cell_type": "code",
   "execution_count": 85,
   "id": "4a11d9ed",
   "metadata": {
    "execution": {
     "iopub.execute_input": "2024-10-15T12:21:04.618842Z",
     "iopub.status.busy": "2024-10-15T12:21:04.618075Z",
     "iopub.status.idle": "2024-10-15T12:21:52.980475Z",
     "shell.execute_reply": "2024-10-15T12:21:52.979593Z"
    },
    "papermill": {
     "duration": 48.537092,
     "end_time": "2024-10-15T12:21:53.070012",
     "exception": false,
     "start_time": "2024-10-15T12:21:04.532920",
     "status": "completed"
    },
    "tags": []
   },
   "outputs": [
    {
     "data": {
      "image/png": "[encoded data removed]",
      "text/plain": [
       "<Figure size 600x400 with 2 Axes>"
      ]
     },
     "metadata": {},
     "output_type": "display_data"
    }
   ],
   "source": [
    "# Get the predictions and true labels for the test set\n",
    "preds, true_labels = get_predictions_and_labels(model, decDL_val)\n",
    "\n",
    "# Compute the confusion matrix\n",
    "conf_matrix = confusion_matrix(true_labels, preds)\n",
    "class_names = [f'Class {i}' for i in range(len(target_class_names)+1)]\n",
    "# Plot the confusion matrix using seaborn\n",
    "plt.figure(figsize=(6, 4))\n",
    "sns.heatmap(conf_matrix, annot=True, fmt=\"d\", cmap=\"Blues\", xticklabels=class_names, yticklabels=class_names)\n",
    "plt.xlabel('Predicted Label')\n",
    "plt.ylabel('True Label')\n",
    "plt.title('Confusion Matrix')\n",
    "plt.show()"
   ]
  },
  {
   "cell_type": "code",
   "execution_count": 86,
   "id": "d3ef4948",
   "metadata": {
    "execution": {
     "iopub.execute_input": "2024-10-15T12:21:53.241311Z",
     "iopub.status.busy": "2024-10-15T12:21:53.240969Z",
     "iopub.status.idle": "2024-10-15T12:21:53.247731Z",
     "shell.execute_reply": "2024-10-15T12:21:53.246844Z"
    },
    "papermill": {
     "duration": 0.094518,
     "end_time": "2024-10-15T12:21:53.249626",
     "exception": false,
     "start_time": "2024-10-15T12:21:53.155108",
     "status": "completed"
    },
    "tags": []
   },
   "outputs": [],
   "source": [
    "del decDL_train\n",
    "del decDL_val"
   ]
  },
  {
   "cell_type": "markdown",
   "id": "3b075400",
   "metadata": {
    "papermill": {
     "duration": 0.08429,
     "end_time": "2024-10-15T12:21:53.418366",
     "exception": false,
     "start_time": "2024-10-15T12:21:53.334076",
     "status": "completed"
    },
    "tags": []
   },
   "source": [
    "# Final"
   ]
  },
  {
   "cell_type": "code",
   "execution_count": 87,
   "id": "3e98c95d",
   "metadata": {
    "execution": {
     "iopub.execute_input": "2024-10-15T12:21:53.589128Z",
     "iopub.status.busy": "2024-10-15T12:21:53.588815Z",
     "iopub.status.idle": "2024-10-15T12:22:01.782284Z",
     "shell.execute_reply": "2024-10-15T12:22:01.781373Z"
    },
    "papermill": {
     "duration": 8.28184,
     "end_time": "2024-10-15T12:22:01.784668",
     "exception": false,
     "start_time": "2024-10-15T12:21:53.502828",
     "status": "completed"
    },
    "tags": []
   },
   "outputs": [],
   "source": [
    "target_class_names = [\"Normal\",\"Erosion\",\"Polyp\", \"Angioectasia\", \"Bleeding\", \"Lymphangiectasia\", \"Foreign Body\", \"Erythema\",\"Ulcer\",\"Worms\"]\n",
    "finDL_train = getNaryDataLoader(target_class_names=target_class_names, path_to_dataset=train_path, \n",
    "                          batch_size=32, trans = train_transform)\n",
    "finDL_val = getNaryDataLoader(target_class_names=target_class_names, path_to_dataset=val_path, \n",
    "                          batch_size=32, trans = val_transform)"
   ]
  },
  {
   "cell_type": "code",
   "execution_count": 88,
   "id": "f46156c9",
   "metadata": {
    "execution": {
     "iopub.execute_input": "2024-10-15T12:22:01.957849Z",
     "iopub.status.busy": "2024-10-15T12:22:01.957085Z",
     "iopub.status.idle": "2024-10-15T12:22:01.962160Z",
     "shell.execute_reply": "2024-10-15T12:22:01.961387Z"
    },
    "papermill": {
     "duration": 0.09387,
     "end_time": "2024-10-15T12:22:01.964010",
     "exception": false,
     "start_time": "2024-10-15T12:22:01.870140",
     "status": "completed"
    },
    "tags": []
   },
   "outputs": [],
   "source": [
    "num_ftrs = model.fc.in_features\n",
    "model.fc = nn.Linear(in_features=num_ftrs, out_features=len(target_class_names)+1)"
   ]
  },
  {
   "cell_type": "code",
   "execution_count": 89,
   "id": "74852056",
   "metadata": {
    "execution": {
     "iopub.execute_input": "2024-10-15T12:22:02.137604Z",
     "iopub.status.busy": "2024-10-15T12:22:02.136983Z",
     "iopub.status.idle": "2024-10-15T12:22:02.142280Z",
     "shell.execute_reply": "2024-10-15T12:22:02.141298Z"
    },
    "papermill": {
     "duration": 0.092939,
     "end_time": "2024-10-15T12:22:02.144109",
     "exception": false,
     "start_time": "2024-10-15T12:22:02.051170",
     "status": "completed"
    },
    "tags": []
   },
   "outputs": [],
   "source": [
    "device = torch.device(\"cuda\" if torch.cuda.is_available() else \"cpu\")\n",
    "if torch.cuda.device_count() > 1:\n",
    "    model = nn.DataParallel(model)"
   ]
  },
  {
   "cell_type": "code",
   "execution_count": 90,
   "id": "c769b39f",
   "metadata": {
    "execution": {
     "iopub.execute_input": "2024-10-15T12:22:02.315425Z",
     "iopub.status.busy": "2024-10-15T12:22:02.314390Z",
     "iopub.status.idle": "2024-10-15T12:22:02.324459Z",
     "shell.execute_reply": "2024-10-15T12:22:02.323763Z"
    },
    "papermill": {
     "duration": 0.097595,
     "end_time": "2024-10-15T12:22:02.326314",
     "exception": false,
     "start_time": "2024-10-15T12:22:02.228719",
     "status": "completed"
    },
    "tags": []
   },
   "outputs": [],
   "source": [
    "model = model.to(device)\n",
    "criterion = nn.CrossEntropyLoss() \n",
    "# optimizer = torch.optim.Adam(model.parameters(), lr=0.001)"
   ]
  },
  {
   "cell_type": "code",
   "execution_count": 91,
   "id": "e3c39173",
   "metadata": {
    "execution": {
     "iopub.execute_input": "2024-10-15T12:22:02.497908Z",
     "iopub.status.busy": "2024-10-15T12:22:02.497548Z",
     "iopub.status.idle": "2024-10-15T12:22:02.506765Z",
     "shell.execute_reply": "2024-10-15T12:22:02.505884Z"
    },
    "papermill": {
     "duration": 0.096412,
     "end_time": "2024-10-15T12:22:02.508708",
     "exception": false,
     "start_time": "2024-10-15T12:22:02.412296",
     "status": "completed"
    },
    "tags": []
   },
   "outputs": [],
   "source": [
    "model = model.to(device)"
   ]
  },
  {
   "cell_type": "code",
   "execution_count": 92,
   "id": "3201045a",
   "metadata": {
    "execution": {
     "iopub.execute_input": "2024-10-15T12:22:02.680559Z",
     "iopub.status.busy": "2024-10-15T12:22:02.679700Z",
     "iopub.status.idle": "2024-10-15T12:22:02.684158Z",
     "shell.execute_reply": "2024-10-15T12:22:02.683315Z"
    },
    "papermill": {
     "duration": 0.093146,
     "end_time": "2024-10-15T12:22:02.686115",
     "exception": false,
     "start_time": "2024-10-15T12:22:02.592969",
     "status": "completed"
    },
    "tags": []
   },
   "outputs": [],
   "source": [
    "num_epochs = 15"
   ]
  },
  {
   "cell_type": "code",
   "execution_count": 93,
   "id": "df9b108c",
   "metadata": {
    "execution": {
     "iopub.execute_input": "2024-10-15T12:22:02.857169Z",
     "iopub.status.busy": "2024-10-15T12:22:02.856806Z",
     "iopub.status.idle": "2024-10-15T13:42:05.059617Z",
     "shell.execute_reply": "2024-10-15T13:42:05.058481Z"
    },
    "papermill": {
     "duration": 4802.391106,
     "end_time": "2024-10-15T13:42:05.162180",
     "exception": false,
     "start_time": "2024-10-15T12:22:02.771074",
     "status": "completed"
    },
    "tags": []
   },
   "outputs": [
    {
     "name": "stdout",
     "output_type": "stream",
     "text": [
      "Fin - [0/1176] train loss : 3.0295767784118652\n",
      "Fin - [100/1176] train loss : 0.0659606009721756\n",
      "Fin - [200/1176] train loss : 0.05336415395140648\n",
      "Fin - [300/1176] train loss : 0.05527076870203018\n",
      "Fin - [400/1176] train loss : 0.05060533061623573\n",
      "Fin - [500/1176] train loss : 0.49792569875717163\n",
      "Fin - [600/1176] train loss : 0.23915544152259827\n",
      "Fin - [700/1176] train loss : 0.10828927159309387\n",
      "Fin - [800/1176] train loss : 0.07824499905109406\n",
      "Fin - [900/1176] train loss : 0.28034812211990356\n",
      "Fin - [1000/1176] train loss : 0.13936571776866913\n",
      "Fin - [1100/1176] train loss : 0.2507406771183014\n",
      "Epoch [1/15]\n",
      "Train Loss: 0.1671, Train Accuracy: 0.9455\n",
      "Validation Loss: 0.2609, Validation Accuracy: 0.9164\n",
      "Fin - [0/1176] train loss : 0.023567209020256996\n",
      "Fin - [100/1176] train loss : 0.14125292003154755\n",
      "Fin - [200/1176] train loss : 0.34424588084220886\n",
      "Fin - [300/1176] train loss : 0.23879374563694\n",
      "Fin - [400/1176] train loss : 0.15495721995830536\n",
      "Fin - [500/1176] train loss : 0.14630234241485596\n",
      "Fin - [600/1176] train loss : 0.09889471530914307\n",
      "Fin - [700/1176] train loss : 0.11760378628969193\n",
      "Fin - [800/1176] train loss : 0.17101453244686127\n",
      "Fin - [900/1176] train loss : 0.18106727302074432\n",
      "Fin - [1000/1176] train loss : 0.16302219033241272\n",
      "Fin - [1100/1176] train loss : 0.043852549046278\n",
      "Epoch [2/15]\n",
      "Train Loss: 0.1294, Train Accuracy: 0.9560\n",
      "Validation Loss: 0.3109, Validation Accuracy: 0.9078\n",
      "Fin - [0/1176] train loss : 0.06700189411640167\n",
      "Fin - [100/1176] train loss : 0.1279458999633789\n",
      "Fin - [200/1176] train loss : 0.26881667971611023\n",
      "Fin - [300/1176] train loss : 0.02524353750050068\n",
      "Fin - [400/1176] train loss : 0.2624053657054901\n",
      "Fin - [500/1176] train loss : 0.16144464910030365\n",
      "Fin - [600/1176] train loss : 0.07601630687713623\n",
      "Fin - [700/1176] train loss : 0.13681352138519287\n",
      "Fin - [800/1176] train loss : 0.14858873188495636\n",
      "Fin - [900/1176] train loss : 0.05382576957345009\n",
      "Fin - [1000/1176] train loss : 0.11675432324409485\n",
      "Fin - [1100/1176] train loss : 0.11286350339651108\n",
      "Epoch [3/15]\n",
      "Train Loss: 0.1268, Train Accuracy: 0.9571\n",
      "Validation Loss: 0.2956, Validation Accuracy: 0.9126\n",
      "Fin - [0/1176] train loss : 0.09038761258125305\n",
      "Fin - [100/1176] train loss : 0.04662692919373512\n",
      "Fin - [200/1176] train loss : 0.04912707954645157\n",
      "Fin - [300/1176] train loss : 0.10585136711597443\n",
      "Fin - [400/1176] train loss : 0.07302507758140564\n",
      "Fin - [500/1176] train loss : 0.0592459999024868\n",
      "Fin - [600/1176] train loss : 0.24649390578269958\n",
      "Fin - [700/1176] train loss : 0.22629700601100922\n",
      "Fin - [800/1176] train loss : 0.11470511555671692\n",
      "Fin - [900/1176] train loss : 0.13832733035087585\n",
      "Fin - [1000/1176] train loss : 0.19427919387817383\n",
      "Fin - [1100/1176] train loss : 0.11346307396888733\n",
      "Epoch [4/15]\n",
      "Train Loss: 0.1244, Train Accuracy: 0.9569\n",
      "Validation Loss: 0.2781, Validation Accuracy: 0.9125\n",
      "Fin - [0/1176] train loss : 0.04708731174468994\n",
      "Fin - [100/1176] train loss : 0.15332305431365967\n",
      "Fin - [200/1176] train loss : 0.10135824978351593\n",
      "Fin - [300/1176] train loss : 0.1112571582198143\n",
      "Fin - [400/1176] train loss : 0.24175463616847992\n",
      "Fin - [500/1176] train loss : 0.32358330488204956\n",
      "Fin - [600/1176] train loss : 0.2672109603881836\n",
      "Fin - [700/1176] train loss : 0.013973270542919636\n",
      "Fin - [800/1176] train loss : 0.0191211961209774\n",
      "Fin - [900/1176] train loss : 0.13389751315116882\n",
      "Fin - [1000/1176] train loss : 0.239423006772995\n",
      "Fin - [1100/1176] train loss : 0.38588428497314453\n",
      "Epoch [5/15]\n",
      "Train Loss: 0.1209, Train Accuracy: 0.9579\n",
      "Validation Loss: 0.2493, Validation Accuracy: 0.9191\n",
      "Fin - [0/1176] train loss : 0.28412050008773804\n",
      "Fin - [100/1176] train loss : 0.08624999225139618\n",
      "Fin - [200/1176] train loss : 0.2789955139160156\n",
      "Fin - [300/1176] train loss : 0.12504728138446808\n",
      "Fin - [400/1176] train loss : 0.34414947032928467\n",
      "Fin - [500/1176] train loss : 0.1506962776184082\n",
      "Fin - [600/1176] train loss : 0.13101616501808167\n",
      "Fin - [700/1176] train loss : 0.132260262966156\n",
      "Fin - [800/1176] train loss : 0.12446504086256027\n",
      "Fin - [900/1176] train loss : 0.05502861365675926\n",
      "Fin - [1000/1176] train loss : 0.07938475906848907\n",
      "Fin - [1100/1176] train loss : 0.08763322234153748\n",
      "Epoch [6/15]\n",
      "Train Loss: 0.1159, Train Accuracy: 0.9597\n",
      "Validation Loss: 0.2818, Validation Accuracy: 0.9167\n",
      "Fin - [0/1176] train loss : 0.08634059876203537\n",
      "Fin - [100/1176] train loss : 0.19123117625713348\n",
      "Fin - [200/1176] train loss : 0.08694055676460266\n",
      "Fin - [300/1176] train loss : 0.06612414121627808\n",
      "Fin - [400/1176] train loss : 0.08573159575462341\n",
      "Fin - [500/1176] train loss : 0.1128406748175621\n",
      "Fin - [600/1176] train loss : 0.03886156529188156\n",
      "Fin - [700/1176] train loss : 0.16158050298690796\n",
      "Fin - [800/1176] train loss : 0.037702519446611404\n",
      "Fin - [900/1176] train loss : 0.042684074491262436\n",
      "Fin - [1000/1176] train loss : 0.03982304781675339\n",
      "Fin - [1100/1176] train loss : 0.07183374464511871\n",
      "Epoch [7/15]\n",
      "Train Loss: 0.1109, Train Accuracy: 0.9614\n",
      "Validation Loss: 0.2897, Validation Accuracy: 0.9094\n",
      "Fin - [0/1176] train loss : 0.06903967261314392\n",
      "Fin - [100/1176] train loss : 0.10957171767950058\n",
      "Fin - [200/1176] train loss : 0.24873414635658264\n",
      "Fin - [300/1176] train loss : 0.2727954387664795\n",
      "Fin - [400/1176] train loss : 0.07000171393156052\n",
      "Fin - [500/1176] train loss : 0.14545834064483643\n",
      "Fin - [600/1176] train loss : 0.03875352442264557\n",
      "Fin - [700/1176] train loss : 0.06814294308423996\n",
      "Fin - [800/1176] train loss : 0.18273696303367615\n",
      "Fin - [900/1176] train loss : 0.5247886776924133\n",
      "Fin - [1000/1176] train loss : 0.07540231943130493\n",
      "Fin - [1100/1176] train loss : 0.0653037428855896\n",
      "Epoch [8/15]\n",
      "Train Loss: 0.1098, Train Accuracy: 0.9607\n",
      "Validation Loss: 0.2733, Validation Accuracy: 0.9180\n",
      "Fin - [0/1176] train loss : 0.027075428515672684\n",
      "Fin - [100/1176] train loss : 0.06460602581501007\n",
      "Fin - [200/1176] train loss : 0.02510819584131241\n",
      "Fin - [300/1176] train loss : 0.0730321854352951\n",
      "Fin - [400/1176] train loss : 0.5376744866371155\n",
      "Fin - [500/1176] train loss : 0.043051671236753464\n",
      "Fin - [600/1176] train loss : 0.007408190984278917\n",
      "Fin - [700/1176] train loss : 0.2579860985279083\n",
      "Fin - [800/1176] train loss : 0.06237184628844261\n",
      "Fin - [900/1176] train loss : 0.04740819334983826\n",
      "Fin - [1000/1176] train loss : 0.030788417905569077\n",
      "Fin - [1100/1176] train loss : 0.037037063390016556\n",
      "Epoch [9/15]\n",
      "Train Loss: 0.1060, Train Accuracy: 0.9630\n",
      "Validation Loss: 0.2637, Validation Accuracy: 0.9198\n",
      "Fin - [0/1176] train loss : 0.030071888118982315\n",
      "Fin - [100/1176] train loss : 0.07103932648897171\n",
      "Fin - [200/1176] train loss : 0.02378116175532341\n",
      "Fin - [300/1176] train loss : 0.053057555109262466\n",
      "Fin - [400/1176] train loss : 0.06914084404706955\n",
      "Fin - [500/1176] train loss : 0.13334937393665314\n",
      "Fin - [600/1176] train loss : 0.03831648826599121\n",
      "Fin - [700/1176] train loss : 0.11649313569068909\n",
      "Fin - [800/1176] train loss : 0.09745366126298904\n",
      "Fin - [900/1176] train loss : 0.2720737159252167\n",
      "Fin - [1000/1176] train loss : 0.07180570065975189\n",
      "Fin - [1100/1176] train loss : 0.016952766105532646\n",
      "Epoch [10/15]\n",
      "Train Loss: 0.1061, Train Accuracy: 0.9636\n",
      "Validation Loss: 0.2874, Validation Accuracy: 0.9180\n",
      "Fin - [0/1176] train loss : 0.16182951629161835\n",
      "Fin - [100/1176] train loss : 0.09499106556177139\n",
      "Fin - [200/1176] train loss : 0.1955491006374359\n",
      "Fin - [300/1176] train loss : 0.093020960688591\n",
      "Fin - [400/1176] train loss : 0.06291330605745316\n",
      "Fin - [500/1176] train loss : 0.01771353930234909\n",
      "Fin - [600/1176] train loss : 0.02142712101340294\n",
      "Fin - [700/1176] train loss : 0.060423728078603745\n",
      "Fin - [800/1176] train loss : 0.16003724932670593\n",
      "Fin - [900/1176] train loss : 0.013673660345375538\n",
      "Fin - [1000/1176] train loss : 0.012889201752841473\n",
      "Fin - [1100/1176] train loss : 0.15340040624141693\n",
      "Epoch [11/15]\n",
      "Train Loss: 0.1014, Train Accuracy: 0.9648\n",
      "Validation Loss: 0.2752, Validation Accuracy: 0.9181\n",
      "Fin - [0/1176] train loss : 0.2002006471157074\n",
      "Fin - [100/1176] train loss : 0.04106929153203964\n",
      "Fin - [200/1176] train loss : 0.03439018130302429\n",
      "Fin - [300/1176] train loss : 0.08713036775588989\n",
      "Fin - [400/1176] train loss : 0.03962467610836029\n",
      "Fin - [500/1176] train loss : 0.15133161842823029\n",
      "Fin - [600/1176] train loss : 0.1032300814986229\n",
      "Fin - [700/1176] train loss : 0.10646580159664154\n",
      "Fin - [800/1176] train loss : 0.1192876324057579\n",
      "Fin - [900/1176] train loss : 0.22280922532081604\n",
      "Fin - [1000/1176] train loss : 0.05124391242861748\n",
      "Fin - [1100/1176] train loss : 0.13382555544376373\n",
      "Epoch [12/15]\n",
      "Train Loss: 0.0986, Train Accuracy: 0.9653\n",
      "Validation Loss: 0.2865, Validation Accuracy: 0.9192\n",
      "Fin - [0/1176] train loss : 0.013260754756629467\n",
      "Fin - [100/1176] train loss : 0.1430463343858719\n",
      "Fin - [200/1176] train loss : 0.11018599569797516\n",
      "Fin - [300/1176] train loss : 0.16091041266918182\n",
      "Fin - [400/1176] train loss : 0.05739123374223709\n",
      "Fin - [500/1176] train loss : 0.259197473526001\n",
      "Fin - [600/1176] train loss : 0.19529835879802704\n",
      "Fin - [700/1176] train loss : 0.15049128234386444\n",
      "Fin - [800/1176] train loss : 0.07211854308843613\n",
      "Fin - [900/1176] train loss : 0.1938515156507492\n",
      "Fin - [1000/1176] train loss : 0.17320600152015686\n",
      "Fin - [1100/1176] train loss : 0.06036803871393204\n",
      "Epoch [13/15]\n",
      "Train Loss: 0.0996, Train Accuracy: 0.9662\n",
      "Validation Loss: 0.2645, Validation Accuracy: 0.9183\n",
      "Fin - [0/1176] train loss : 0.15352319180965424\n",
      "Fin - [100/1176] train loss : 0.04946594312787056\n",
      "Fin - [200/1176] train loss : 0.039514053612947464\n",
      "Fin - [300/1176] train loss : 0.023173904046416283\n",
      "Fin - [400/1176] train loss : 0.0799560621380806\n",
      "Fin - [500/1176] train loss : 0.09057790786027908\n",
      "Fin - [600/1176] train loss : 0.07270066440105438\n",
      "Fin - [700/1176] train loss : 0.035646941512823105\n",
      "Fin - [800/1176] train loss : 0.06686697155237198\n",
      "Fin - [900/1176] train loss : 0.2013874351978302\n",
      "Fin - [1000/1176] train loss : 0.2057885229587555\n",
      "Fin - [1100/1176] train loss : 0.06277213245630264\n",
      "Epoch [14/15]\n",
      "Train Loss: 0.0928, Train Accuracy: 0.9667\n",
      "Validation Loss: 0.2709, Validation Accuracy: 0.9196\n",
      "Fin - [0/1176] train loss : 0.04712866619229317\n",
      "Fin - [100/1176] train loss : 0.09133301675319672\n",
      "Fin - [200/1176] train loss : 0.16105015575885773\n",
      "Fin - [300/1176] train loss : 0.2227538675069809\n",
      "Fin - [400/1176] train loss : 0.055586326867341995\n",
      "Fin - [500/1176] train loss : 0.0033427677117288113\n",
      "Fin - [600/1176] train loss : 0.03659685701131821\n",
      "Fin - [700/1176] train loss : 0.11637035012245178\n",
      "Fin - [800/1176] train loss : 0.08942858874797821\n",
      "Fin - [900/1176] train loss : 0.05622351914644241\n",
      "Fin - [1000/1176] train loss : 0.04441014677286148\n",
      "Fin - [1100/1176] train loss : 0.07210012525320053\n",
      "Epoch [15/15]\n",
      "Train Loss: 0.0956, Train Accuracy: 0.9658\n",
      "Validation Loss: 0.2829, Validation Accuracy: 0.9192\n"
     ]
    }
   ],
   "source": [
    "for epoch in range(num_epochs):\n",
    "    model.train()\n",
    "    \n",
    "    running_loss = 0.0\n",
    "    correct_predictions = 0\n",
    "    total_samples  =0\n",
    "    i = 0\n",
    "    for inputs, labels in finDL_train:\n",
    "        inputs, labels = inputs.to(device), labels.to(device)\n",
    "        \n",
    "        optimizer.zero_grad()\n",
    "        outputs = model(inputs)\n",
    "        loss = criterion(outputs, labels)\n",
    "        loss.backward()\n",
    "        optimizer.step()\n",
    "        \n",
    "        running_loss += loss.item() * inputs.size(0)\n",
    "        _, predicted = torch.max(outputs, 1)\n",
    "        correct_predictions += (predicted == labels).sum().item()\n",
    "        total_samples += labels.size(0)\n",
    "        \n",
    "        if(i%100 == 0):\n",
    "            print(f\"Fin - [{i}/{len(finDL_train)}] train loss : {loss.item()}\")\n",
    "        i = i+1\n",
    "        \n",
    "    train_loss = running_loss / total_samples\n",
    "    train_accuracy = correct_predictions / total_samples\n",
    "    \n",
    "    model.eval()\n",
    "    val_loss = 0.0\n",
    "    correct_val_predictions = 0\n",
    "    total_val_samples = 0\n",
    "    \n",
    "    with torch.no_grad():\n",
    "        for val_inputs, val_labels in finDL_val:\n",
    "            val_inputs, val_labels = val_inputs.to(device), val_labels.to(device)\n",
    "            \n",
    "            val_outputs = model(val_inputs)\n",
    "            loss = criterion(val_outputs, val_labels)\n",
    "            \n",
    "            val_loss += loss.item() * val_inputs.size(0)\n",
    "            _, val_predicted = torch.max(val_outputs, 1)\n",
    "            correct_val_predictions += (val_predicted == val_labels).sum().item()\n",
    "            total_val_samples += val_labels.size(0)\n",
    "    \n",
    "    val_loss /= total_val_samples\n",
    "    val_accuracy = correct_val_predictions / total_val_samples\n",
    "    \n",
    "    # Print epoch stats\n",
    "    print(f'Epoch [{epoch+1}/{num_epochs}]')\n",
    "    print(f'Train Loss: {train_loss:.4f}, Train Accuracy: {train_accuracy:.4f}')\n",
    "    print(f'Validation Loss: {val_loss:.4f}, Validation Accuracy: {val_accuracy:.4f}')"
   ]
  },
  {
   "cell_type": "code",
   "execution_count": 94,
   "id": "253ab8e5",
   "metadata": {
    "execution": {
     "iopub.execute_input": "2024-10-15T13:42:05.364939Z",
     "iopub.status.busy": "2024-10-15T13:42:05.364219Z",
     "iopub.status.idle": "2024-10-15T13:42:56.720450Z",
     "shell.execute_reply": "2024-10-15T13:42:56.719478Z"
    },
    "papermill": {
     "duration": 51.562406,
     "end_time": "2024-10-15T13:42:56.825083",
     "exception": false,
     "start_time": "2024-10-15T13:42:05.262677",
     "status": "completed"
    },
    "tags": []
   },
   "outputs": [
    {
     "data": {
      "image/png": "[encoded data removed]",
      "text/plain": [
       "<Figure size 600x400 with 2 Axes>"
      ]
     },
     "metadata": {},
     "output_type": "display_data"
    }
   ],
   "source": [
    "# Get the predictions and true labels for the test set\n",
    "preds, true_labels = get_predictions_and_labels(model, finDL_val)\n",
    "\n",
    "# Compute the confusion matrix\n",
    "conf_matrix = confusion_matrix(true_labels, preds)\n",
    "class_names = [f'Class {i}' for i in range(len(target_class_names)+1)]\n",
    "# Plot the confusion matrix using seaborn\n",
    "plt.figure(figsize=(6, 4))\n",
    "sns.heatmap(conf_matrix, annot=True, fmt=\"d\", cmap=\"Blues\", xticklabels=class_names, yticklabels=class_names)\n",
    "plt.xlabel('Predicted Label')\n",
    "plt.ylabel('True Label')\n",
    "plt.title('Confusion Matrix')\n",
    "plt.show()"
   ]
  },
  {
   "cell_type": "code",
   "execution_count": 95,
   "id": "3658dab3",
   "metadata": {
    "execution": {
     "iopub.execute_input": "2024-10-15T13:42:57.030305Z",
     "iopub.status.busy": "2024-10-15T13:42:57.029622Z",
     "iopub.status.idle": "2024-10-15T13:42:57.036520Z",
     "shell.execute_reply": "2024-10-15T13:42:57.035635Z"
    },
    "papermill": {
     "duration": 0.111483,
     "end_time": "2024-10-15T13:42:57.038442",
     "exception": false,
     "start_time": "2024-10-15T13:42:56.926959",
     "status": "completed"
    },
    "tags": []
   },
   "outputs": [],
   "source": [
    "del finDL_train\n",
    "del finDL_val"
   ]
  },
  {
   "cell_type": "code",
   "execution_count": 96,
   "id": "8c17aa2b",
   "metadata": {
    "execution": {
     "iopub.execute_input": "2024-10-15T13:42:57.240528Z",
     "iopub.status.busy": "2024-10-15T13:42:57.240130Z",
     "iopub.status.idle": "2024-10-15T13:42:57.659284Z",
     "shell.execute_reply": "2024-10-15T13:42:57.658278Z"
    },
    "papermill": {
     "duration": 0.523257,
     "end_time": "2024-10-15T13:42:57.661736",
     "exception": false,
     "start_time": "2024-10-15T13:42:57.138479",
     "status": "completed"
    },
    "tags": []
   },
   "outputs": [],
   "source": [
    "final_path = \"checkpoint.pth\"\n",
    "torch.save({\n",
    "            'model_state_dict': model.state_dict(),\n",
    "            'optimizer_state_dict': optimizer.state_dict(),\n",
    "            }, final_path)"
   ]
  },
  {
   "cell_type": "code",
   "execution_count": null,
   "id": "7e187ea6",
   "metadata": {
    "papermill": {
     "duration": 0.100253,
     "end_time": "2024-10-15T13:42:57.863489",
     "exception": false,
     "start_time": "2024-10-15T13:42:57.763236",
     "status": "completed"
    },
    "tags": []
   },
   "outputs": [],
   "source": []
  }
 ],
 "metadata": {
  "kaggle": {
   "accelerator": "gpu",
   "dataSources": [
    {
     "datasetId": 5606571,
     "sourceId": 9315744,
     "sourceType": "datasetVersion"
    },
    {
     "sourceId": 200073270,
     "sourceType": "kernelVersion"
    },
    {
     "sourceId": 201162695,
     "sourceType": "kernelVersion"
    }
   ],
   "dockerImageVersionId": 30786,
   "isGpuEnabled": true,
   "isInternetEnabled": true,
   "language": "python",
   "sourceType": "notebook"
  },
  "kernelspec": {
   "display_name": "Python 3",
   "language": "python",
   "name": "python3"
  },
  "language_info": {
   "codemirror_mode": {
    "name": "ipython",
    "version": 3
   },
   "file_extension": ".py",
   "mimetype": "text/x-python",
   "name": "python",
   "nbconvert_exporter": "python",
   "pygments_lexer": "ipython3",
   "version": "3.10.14"
  },
  "papermill": {
   "default_parameters": {},
   "duration": 23066.05776,
   "end_time": "2024-10-15T13:42:59.487317",
   "environment_variables": {},
   "exception": null,
   "input_path": "__notebook__.ipynb",
   "output_path": "__notebook__.ipynb",
   "parameters": {},
   "start_time": "2024-10-15T07:18:33.429557",
   "version": "2.6.0"
  }
 },
 "nbformat": 4,
 "nbformat_minor": 5
}
