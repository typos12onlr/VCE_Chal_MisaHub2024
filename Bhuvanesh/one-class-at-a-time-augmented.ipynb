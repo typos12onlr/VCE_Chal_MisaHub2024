{
 "cells": [
  {
   "cell_type": "code",
   "execution_count": 1,
   "id": "01ac38d4",
   "metadata": {
    "_cell_guid": "b1076dfc-b9ad-4769-8c92-a6c4dae69d19",
    "_uuid": "8f2839f25d086af736a60e9eeb907d3b93b6e0e5",
    "execution": {
     "iopub.execute_input": "2024-10-19T14:25:22.908941Z",
     "iopub.status.busy": "2024-10-19T14:25:22.908296Z",
     "iopub.status.idle": "2024-10-19T14:25:30.016878Z",
     "shell.execute_reply": "2024-10-19T14:25:30.015891Z"
    },
    "papermill": {
     "duration": 7.138201,
     "end_time": "2024-10-19T14:25:30.019316",
     "exception": false,
     "start_time": "2024-10-19T14:25:22.881115",
     "status": "completed"
    },
    "tags": []
   },
   "outputs": [],
   "source": [
    "import torch\n",
    "import torch.nn as nn\n",
    "import torchvision\n",
    "from torchvision import transforms\n",
    "from model_file import *\n",
    "from vce_dataloader import getBinaryDataLoader, getAllDataLoader, getNaryDataLoader, visualize_batch\n",
    "from sklearn.metrics import confusion_matrix\n",
    "import matplotlib.pyplot as plt\n",
    "import seaborn as sns\n",
    "import numpy as np\n",
    "import kagglehub"
   ]
  },
  {
   "cell_type": "code",
   "execution_count": 2,
   "id": "51c4eec2",
   "metadata": {
    "execution": {
     "iopub.execute_input": "2024-10-19T14:25:30.071578Z",
     "iopub.status.busy": "2024-10-19T14:25:30.071098Z",
     "iopub.status.idle": "2024-10-19T14:25:31.367427Z",
     "shell.execute_reply": "2024-10-19T14:25:31.366700Z"
    },
    "papermill": {
     "duration": 1.324617,
     "end_time": "2024-10-19T14:25:31.369558",
     "exception": false,
     "start_time": "2024-10-19T14:25:30.044941",
     "status": "completed"
    },
    "tags": []
   },
   "outputs": [
    {
     "name": "stderr",
     "output_type": "stream",
     "text": [
      "/opt/conda/lib/python3.10/site-packages/torchvision/models/_utils.py:208: UserWarning: The parameter 'pretrained' is deprecated since 0.13 and may be removed in the future, please use 'weights' instead.\n",
      "  warnings.warn(\n",
      "/opt/conda/lib/python3.10/site-packages/torchvision/models/_utils.py:223: UserWarning: Arguments other than a weight enum or `None` for 'weights' are deprecated since 0.13 and may be removed in the future. The current behavior is equivalent to passing `weights=ResNet50_Weights.IMAGENET1K_V1`. You can also use `weights=ResNet50_Weights.DEFAULT` to get the most up-to-date weights.\n",
      "  warnings.warn(msg)\n",
      "Downloading: \"https://download.pytorch.org/models/resnet50-0676ba61.pth\" to /root/.cache/torch/hub/checkpoints/resnet50-0676ba61.pth\n",
      "100%|██████████| 97.8M/97.8M [00:00<00:00, 202MB/s]\n"
     ]
    }
   ],
   "source": [
    "model = getModel(\"resnet50\")"
   ]
  },
  {
   "cell_type": "markdown",
   "id": "85624958",
   "metadata": {
    "papermill": {
     "duration": 0.025459,
     "end_time": "2024-10-19T14:25:31.421123",
     "exception": false,
     "start_time": "2024-10-19T14:25:31.395664",
     "status": "completed"
    },
    "tags": []
   },
   "source": [
    "Order of classes:\n",
    "* Normal\n",
    "* Erosion\n",
    "* Polyp\n",
    "* Angioectasia\n",
    "* Bleeding\n",
    "* Lymphangiectasia\n",
    "* Foreign Body\n",
    "* Erythema\n",
    "* Ulcer\n",
    "* Worms"
   ]
  },
  {
   "cell_type": "code",
   "execution_count": 3,
   "id": "7d2a9b0d",
   "metadata": {
    "execution": {
     "iopub.execute_input": "2024-10-19T14:25:31.474754Z",
     "iopub.status.busy": "2024-10-19T14:25:31.474375Z",
     "iopub.status.idle": "2024-10-19T14:25:31.478854Z",
     "shell.execute_reply": "2024-10-19T14:25:31.477729Z"
    },
    "papermill": {
     "duration": 0.033503,
     "end_time": "2024-10-19T14:25:31.480824",
     "exception": false,
     "start_time": "2024-10-19T14:25:31.447321",
     "status": "completed"
    },
    "tags": []
   },
   "outputs": [],
   "source": [
    "train_path = \"/kaggle/input/vce-augmented-dataset/training\"\n",
    "val_path = \"/kaggle/input/vce-augmented-dataset/validation\""
   ]
  },
  {
   "cell_type": "code",
   "execution_count": 4,
   "id": "b0d44149",
   "metadata": {
    "execution": {
     "iopub.execute_input": "2024-10-19T14:25:31.533612Z",
     "iopub.status.busy": "2024-10-19T14:25:31.533285Z",
     "iopub.status.idle": "2024-10-19T14:25:31.538808Z",
     "shell.execute_reply": "2024-10-19T14:25:31.538026Z"
    },
    "papermill": {
     "duration": 0.033991,
     "end_time": "2024-10-19T14:25:31.540756",
     "exception": false,
     "start_time": "2024-10-19T14:25:31.506765",
     "status": "completed"
    },
    "tags": []
   },
   "outputs": [],
   "source": [
    "train_transform = transforms.Compose([#transforms.RandomHorizontalFlip(p=0.7),\n",
    "                                     #transforms.RandomVerticalFlip(p=0.7),\n",
    "                                     #transforms.RandomRotation(15),\n",
    "                                     \n",
    "                                     transforms.Resize((224,224)),\n",
    "                                     transforms.ToTensor()\n",
    "                              ])\n",
    "\n",
    "\n",
    "val_transform= transforms.Compose([transforms.Resize((224,224)),\n",
    "                                     transforms.ToTensor()])"
   ]
  },
  {
   "cell_type": "code",
   "execution_count": 5,
   "id": "6538edf4",
   "metadata": {
    "execution": {
     "iopub.execute_input": "2024-10-19T14:25:31.591991Z",
     "iopub.status.busy": "2024-10-19T14:25:31.591697Z",
     "iopub.status.idle": "2024-10-19T14:25:31.598021Z",
     "shell.execute_reply": "2024-10-19T14:25:31.597213Z"
    },
    "papermill": {
     "duration": 0.033989,
     "end_time": "2024-10-19T14:25:31.599918",
     "exception": false,
     "start_time": "2024-10-19T14:25:31.565929",
     "status": "completed"
    },
    "tags": []
   },
   "outputs": [],
   "source": [
    "def get_predictions_and_labels(model, dataloader):\n",
    "    model.eval()  # Set the model to evaluation mode\n",
    "    all_preds = []\n",
    "    all_labels = []\n",
    "    \n",
    "    with torch.no_grad():  # Disable gradient calculation\n",
    "        for images, labels in dataloader:\n",
    "            images = images.to(device)  # Move images to the same device as model\n",
    "            labels = labels.to(device)  # Move labels to the same device as model\n",
    "            outputs = model(images)\n",
    "            _, preds = torch.max(outputs, 1)  # Get the predicted class\n",
    "            all_preds.extend(preds.cpu().numpy())  # Collect predictions\n",
    "            all_labels.extend(labels.cpu().numpy())  # Collect true labels\n",
    "\n",
    "    return np.array(all_preds), np.array(all_labels)"
   ]
  },
  {
   "cell_type": "markdown",
   "id": "671d8b50",
   "metadata": {
    "papermill": {
     "duration": 0.024815,
     "end_time": "2024-10-19T14:25:31.649712",
     "exception": false,
     "start_time": "2024-10-19T14:25:31.624897",
     "status": "completed"
    },
    "tags": []
   },
   "source": [
    "# Binary"
   ]
  },
  {
   "cell_type": "code",
   "execution_count": 6,
   "id": "3ba759d6",
   "metadata": {
    "execution": {
     "iopub.execute_input": "2024-10-19T14:25:31.700771Z",
     "iopub.status.busy": "2024-10-19T14:25:31.700473Z",
     "iopub.status.idle": "2024-10-19T14:26:48.271013Z",
     "shell.execute_reply": "2024-10-19T14:26:48.270161Z"
    },
    "papermill": {
     "duration": 76.598781,
     "end_time": "2024-10-19T14:26:48.273463",
     "exception": false,
     "start_time": "2024-10-19T14:25:31.674682",
     "status": "completed"
    },
    "tags": []
   },
   "outputs": [],
   "source": [
    "target_class_names = [\"Normal\"]\n",
    "binDL_train = getNaryDataLoader(target_class_names=target_class_names, path_to_dataset=train_path, \n",
    "                          batch_size=32, trans = train_transform)\n",
    "binDL_val = getNaryDataLoader(target_class_names=target_class_names, path_to_dataset=val_path, \n",
    "                          batch_size=32, trans = val_transform)"
   ]
  },
  {
   "cell_type": "code",
   "execution_count": 7,
   "id": "a617bcd4",
   "metadata": {
    "execution": {
     "iopub.execute_input": "2024-10-19T14:26:48.326152Z",
     "iopub.status.busy": "2024-10-19T14:26:48.325425Z",
     "iopub.status.idle": "2024-10-19T14:26:48.330939Z",
     "shell.execute_reply": "2024-10-19T14:26:48.330266Z"
    },
    "papermill": {
     "duration": 0.033395,
     "end_time": "2024-10-19T14:26:48.332785",
     "exception": false,
     "start_time": "2024-10-19T14:26:48.299390",
     "status": "completed"
    },
    "tags": []
   },
   "outputs": [],
   "source": [
    "num_ftrs = model.fc.in_features\n",
    "model.fc = nn.Linear(in_features=num_ftrs, out_features=len(target_class_names)+1)"
   ]
  },
  {
   "cell_type": "code",
   "execution_count": 8,
   "id": "8843912d",
   "metadata": {
    "execution": {
     "iopub.execute_input": "2024-10-19T14:26:48.384476Z",
     "iopub.status.busy": "2024-10-19T14:26:48.383958Z",
     "iopub.status.idle": "2024-10-19T14:26:48.470133Z",
     "shell.execute_reply": "2024-10-19T14:26:48.469241Z"
    },
    "papermill": {
     "duration": 0.114328,
     "end_time": "2024-10-19T14:26:48.472244",
     "exception": false,
     "start_time": "2024-10-19T14:26:48.357916",
     "status": "completed"
    },
    "tags": []
   },
   "outputs": [],
   "source": [
    "device = torch.device(\"cuda\" if torch.cuda.is_available() else \"cpu\")\n",
    "if torch.cuda.device_count() > 1:\n",
    "    model = nn.DataParallel(model)"
   ]
  },
  {
   "cell_type": "code",
   "execution_count": 9,
   "id": "ef57b2cd",
   "metadata": {
    "execution": {
     "iopub.execute_input": "2024-10-19T14:26:48.523999Z",
     "iopub.status.busy": "2024-10-19T14:26:48.523639Z",
     "iopub.status.idle": "2024-10-19T14:26:48.705839Z",
     "shell.execute_reply": "2024-10-19T14:26:48.705054Z"
    },
    "papermill": {
     "duration": 0.210707,
     "end_time": "2024-10-19T14:26:48.708411",
     "exception": false,
     "start_time": "2024-10-19T14:26:48.497704",
     "status": "completed"
    },
    "tags": []
   },
   "outputs": [],
   "source": [
    "model = model.to(device)\n",
    "criterion = nn.CrossEntropyLoss() \n",
    "optimizer = torch.optim.Adam(model.parameters(), lr=0.001)"
   ]
  },
  {
   "cell_type": "code",
   "execution_count": 10,
   "id": "6f7eaac2",
   "metadata": {
    "execution": {
     "iopub.execute_input": "2024-10-19T14:26:48.769682Z",
     "iopub.status.busy": "2024-10-19T14:26:48.769306Z",
     "iopub.status.idle": "2024-10-19T14:26:48.776633Z",
     "shell.execute_reply": "2024-10-19T14:26:48.775968Z"
    },
    "papermill": {
     "duration": 0.037344,
     "end_time": "2024-10-19T14:26:48.778581",
     "exception": false,
     "start_time": "2024-10-19T14:26:48.741237",
     "status": "completed"
    },
    "tags": []
   },
   "outputs": [],
   "source": [
    "model = model.to(device)"
   ]
  },
  {
   "cell_type": "code",
   "execution_count": 11,
   "id": "b34522e7",
   "metadata": {
    "execution": {
     "iopub.execute_input": "2024-10-19T14:26:48.830758Z",
     "iopub.status.busy": "2024-10-19T14:26:48.830468Z",
     "iopub.status.idle": "2024-10-19T14:26:48.834453Z",
     "shell.execute_reply": "2024-10-19T14:26:48.833643Z"
    },
    "papermill": {
     "duration": 0.032383,
     "end_time": "2024-10-19T14:26:48.836393",
     "exception": false,
     "start_time": "2024-10-19T14:26:48.804010",
     "status": "completed"
    },
    "tags": []
   },
   "outputs": [],
   "source": [
    "num_epochs = 2"
   ]
  },
  {
   "cell_type": "code",
   "execution_count": 12,
   "id": "c42b9cef",
   "metadata": {
    "execution": {
     "iopub.execute_input": "2024-10-19T14:26:48.887853Z",
     "iopub.status.busy": "2024-10-19T14:26:48.887572Z",
     "iopub.status.idle": "2024-10-19T14:47:51.142213Z",
     "shell.execute_reply": "2024-10-19T14:47:51.141030Z"
    },
    "papermill": {
     "duration": 1262.319875,
     "end_time": "2024-10-19T14:47:51.181284",
     "exception": false,
     "start_time": "2024-10-19T14:26:48.861409",
     "status": "completed"
    },
    "tags": []
   },
   "outputs": [
    {
     "name": "stdout",
     "output_type": "stream",
     "text": [
      "Bin - [0/1854] train loss : 0.7442784905433655\n",
      "Bin - [100/1854] train loss : 0.45407626032829285\n",
      "Bin - [200/1854] train loss : 0.6311940550804138\n",
      "Bin - [300/1854] train loss : 0.36550086736679077\n",
      "Bin - [400/1854] train loss : 0.17340439558029175\n",
      "Bin - [500/1854] train loss : 0.3157053291797638\n",
      "Bin - [600/1854] train loss : 0.18418486416339874\n",
      "Bin - [700/1854] train loss : 0.23835434019565582\n",
      "Bin - [800/1854] train loss : 0.3243001401424408\n",
      "Bin - [900/1854] train loss : 0.36736878752708435\n",
      "Bin - [1000/1854] train loss : 0.29360148310661316\n",
      "Bin - [1100/1854] train loss : 0.06440175324678421\n",
      "Bin - [1200/1854] train loss : 0.2250434160232544\n",
      "Bin - [1300/1854] train loss : 0.4603845179080963\n",
      "Bin - [1400/1854] train loss : 0.39367029070854187\n",
      "Bin - [1500/1854] train loss : 0.20170731842517853\n",
      "Bin - [1600/1854] train loss : 0.24450275301933289\n",
      "Bin - [1700/1854] train loss : 0.25843873620033264\n",
      "Bin - [1800/1854] train loss : 0.2073570191860199\n",
      "Epoch [1/2]\n",
      "Train Loss: 0.2919, Train Accuracy: 0.8828\n",
      "Validation Loss: 0.3347, Validation Accuracy: 0.8618\n",
      "Bin - [0/1854] train loss : 0.24697674810886383\n",
      "Bin - [100/1854] train loss : 0.19087228178977966\n",
      "Bin - [200/1854] train loss : 0.24501387774944305\n",
      "Bin - [300/1854] train loss : 0.19114433228969574\n",
      "Bin - [400/1854] train loss : 0.20976793766021729\n",
      "Bin - [500/1854] train loss : 0.19897004961967468\n",
      "Bin - [600/1854] train loss : 0.3559667468070984\n",
      "Bin - [700/1854] train loss : 0.2736939787864685\n",
      "Bin - [800/1854] train loss : 0.1997646540403366\n",
      "Bin - [900/1854] train loss : 0.19886930286884308\n",
      "Bin - [1000/1854] train loss : 0.1975620985031128\n",
      "Bin - [1100/1854] train loss : 0.3496370315551758\n",
      "Bin - [1200/1854] train loss : 0.17717431485652924\n",
      "Bin - [1300/1854] train loss : 0.16499648988246918\n",
      "Bin - [1400/1854] train loss : 0.15521402657032013\n",
      "Bin - [1500/1854] train loss : 0.25544458627700806\n",
      "Bin - [1600/1854] train loss : 0.27008697390556335\n",
      "Bin - [1700/1854] train loss : 0.28298255801200867\n",
      "Bin - [1800/1854] train loss : 0.16923992335796356\n",
      "Epoch [2/2]\n",
      "Train Loss: 0.1948, Train Accuracy: 0.9220\n",
      "Validation Loss: 0.2533, Validation Accuracy: 0.9001\n"
     ]
    }
   ],
   "source": [
    "\n",
    "for epoch in range(num_epochs):\n",
    "    model.train()\n",
    "    \n",
    "    running_loss = 0.0\n",
    "    correct_predictions = 0\n",
    "    total_samples  =0\n",
    "    i = 0\n",
    "    for inputs, labels in binDL_train:\n",
    "        inputs, labels = inputs.to(device), labels.to(device)\n",
    "        \n",
    "        optimizer.zero_grad()\n",
    "        outputs = model(inputs)\n",
    "        loss = criterion(outputs, labels)\n",
    "        loss.backward()\n",
    "        optimizer.step()\n",
    "        \n",
    "        running_loss += loss.item() * inputs.size(0)\n",
    "        _, predicted = torch.max(outputs, 1)\n",
    "        correct_predictions += (predicted == labels).sum().item()\n",
    "        total_samples += labels.size(0)\n",
    "        if(i%100 == 0):\n",
    "            print(f\"Bin - [{i}/{len(binDL_train)}] train loss : {loss.item()}\")\n",
    "        i = i+1\n",
    "        \n",
    "    train_loss = running_loss / total_samples\n",
    "    train_accuracy = correct_predictions / total_samples\n",
    "    \n",
    "    model.eval()\n",
    "    val_loss = 0.0\n",
    "    correct_val_predictions = 0\n",
    "    total_val_samples = 0\n",
    "    \n",
    "    with torch.no_grad():\n",
    "        for val_inputs, val_labels in binDL_val:\n",
    "            val_inputs, val_labels = val_inputs.to(device), val_labels.to(device)\n",
    "            \n",
    "            val_outputs = model(val_inputs)\n",
    "            loss = criterion(val_outputs, val_labels)\n",
    "            \n",
    "            val_loss += loss.item() * val_inputs.size(0)\n",
    "            _, val_predicted = torch.max(val_outputs, 1)\n",
    "            correct_val_predictions += (val_predicted == val_labels).sum().item()\n",
    "            total_val_samples += val_labels.size(0)\n",
    "    \n",
    "    val_loss /= total_val_samples\n",
    "    val_accuracy = correct_val_predictions / total_val_samples\n",
    "    \n",
    "    # Print epoch stats\n",
    "    print(f'Epoch [{epoch+1}/{num_epochs}]')\n",
    "    print(f'Train Loss: {train_loss:.4f}, Train Accuracy: {train_accuracy:.4f}')\n",
    "    print(f'Validation Loss: {val_loss:.4f}, Validation Accuracy: {val_accuracy:.4f}')"
   ]
  },
  {
   "cell_type": "code",
   "execution_count": 13,
   "id": "afd981e8",
   "metadata": {
    "execution": {
     "iopub.execute_input": "2024-10-19T14:47:51.242039Z",
     "iopub.status.busy": "2024-10-19T14:47:51.241649Z",
     "iopub.status.idle": "2024-10-19T14:48:41.273511Z",
     "shell.execute_reply": "2024-10-19T14:48:41.272603Z"
    },
    "papermill": {
     "duration": 50.134331,
     "end_time": "2024-10-19T14:48:41.346782",
     "exception": false,
     "start_time": "2024-10-19T14:47:51.212451",
     "status": "completed"
    },
    "tags": []
   },
   "outputs": [
    {
     "data": {
      "image/png": "[encoded data removed]",
      "text/plain": [
       "<Figure size 600x400 with 2 Axes>"
      ]
     },
     "metadata": {},
     "output_type": "display_data"
    }
   ],
   "source": [
    "# Get the predictions and true labels for the test set\n",
    "preds, true_labels = get_predictions_and_labels(model, binDL_val)\n",
    "\n",
    "# Compute the confusion matrix\n",
    "conf_matrix = confusion_matrix(true_labels, preds)\n",
    "class_names = [f'Class {i}' for i in range(len(target_class_names)+1)]\n",
    "# Plot the confusion matrix using seaborn\n",
    "plt.figure(figsize=(6, 4))\n",
    "sns.heatmap(conf_matrix, annot=True, fmt=\"d\", cmap=\"Blues\", xticklabels=class_names, yticklabels=class_names)\n",
    "plt.xlabel('Predicted Label')\n",
    "plt.ylabel('True Label')\n",
    "plt.title('Confusion Matrix')\n",
    "plt.show()"
   ]
  },
  {
   "cell_type": "code",
   "execution_count": 14,
   "id": "918cee0d",
   "metadata": {
    "execution": {
     "iopub.execute_input": "2024-10-19T14:48:41.406688Z",
     "iopub.status.busy": "2024-10-19T14:48:41.405745Z",
     "iopub.status.idle": "2024-10-19T14:48:41.414057Z",
     "shell.execute_reply": "2024-10-19T14:48:41.413167Z"
    },
    "papermill": {
     "duration": 0.040171,
     "end_time": "2024-10-19T14:48:41.415992",
     "exception": false,
     "start_time": "2024-10-19T14:48:41.375821",
     "status": "completed"
    },
    "tags": []
   },
   "outputs": [],
   "source": [
    "del binDL_train\n",
    "del binDL_val"
   ]
  },
  {
   "cell_type": "markdown",
   "id": "f2cd18e7",
   "metadata": {
    "papermill": {
     "duration": 0.028672,
     "end_time": "2024-10-19T14:48:41.473601",
     "exception": false,
     "start_time": "2024-10-19T14:48:41.444929",
     "status": "completed"
    },
    "tags": []
   },
   "source": [
    "# Ternary"
   ]
  },
  {
   "cell_type": "code",
   "execution_count": 15,
   "id": "3b06e3ab",
   "metadata": {
    "execution": {
     "iopub.execute_input": "2024-10-19T14:48:41.533193Z",
     "iopub.status.busy": "2024-10-19T14:48:41.532514Z",
     "iopub.status.idle": "2024-10-19T14:49:05.223419Z",
     "shell.execute_reply": "2024-10-19T14:49:05.222598Z"
    },
    "papermill": {
     "duration": 23.723501,
     "end_time": "2024-10-19T14:49:05.225783",
     "exception": false,
     "start_time": "2024-10-19T14:48:41.502282",
     "status": "completed"
    },
    "tags": []
   },
   "outputs": [],
   "source": [
    "target_class_names = [\"Normal\",\"Erosion\"]\n",
    "terDL_train = getNaryDataLoader(target_class_names=target_class_names, path_to_dataset=train_path, \n",
    "                          batch_size=32, trans = train_transform)\n",
    "terDL_val = getNaryDataLoader(target_class_names=target_class_names, path_to_dataset=val_path, \n",
    "                          batch_size=32, trans = val_transform)"
   ]
  },
  {
   "cell_type": "code",
   "execution_count": 16,
   "id": "758c20fb",
   "metadata": {
    "execution": {
     "iopub.execute_input": "2024-10-19T14:49:05.286202Z",
     "iopub.status.busy": "2024-10-19T14:49:05.285405Z",
     "iopub.status.idle": "2024-10-19T14:49:05.290485Z",
     "shell.execute_reply": "2024-10-19T14:49:05.289778Z"
    },
    "papermill": {
     "duration": 0.037195,
     "end_time": "2024-10-19T14:49:05.292310",
     "exception": false,
     "start_time": "2024-10-19T14:49:05.255115",
     "status": "completed"
    },
    "tags": []
   },
   "outputs": [],
   "source": [
    "num_ftrs = model.fc.in_features\n",
    "model.fc = nn.Linear(in_features=num_ftrs, out_features=len(target_class_names)+1)"
   ]
  },
  {
   "cell_type": "code",
   "execution_count": 17,
   "id": "3bd97745",
   "metadata": {
    "execution": {
     "iopub.execute_input": "2024-10-19T14:49:05.351527Z",
     "iopub.status.busy": "2024-10-19T14:49:05.351218Z",
     "iopub.status.idle": "2024-10-19T14:49:05.356258Z",
     "shell.execute_reply": "2024-10-19T14:49:05.355405Z"
    },
    "papermill": {
     "duration": 0.036903,
     "end_time": "2024-10-19T14:49:05.358284",
     "exception": false,
     "start_time": "2024-10-19T14:49:05.321381",
     "status": "completed"
    },
    "tags": []
   },
   "outputs": [],
   "source": [
    "device = torch.device(\"cuda\" if torch.cuda.is_available() else \"cpu\")\n",
    "if torch.cuda.device_count() > 1:\n",
    "    model = nn.DataParallel(model)"
   ]
  },
  {
   "cell_type": "code",
   "execution_count": 18,
   "id": "e70a9a15",
   "metadata": {
    "execution": {
     "iopub.execute_input": "2024-10-19T14:49:05.416734Z",
     "iopub.status.busy": "2024-10-19T14:49:05.416455Z",
     "iopub.status.idle": "2024-10-19T14:49:05.427098Z",
     "shell.execute_reply": "2024-10-19T14:49:05.426371Z"
    },
    "papermill": {
     "duration": 0.041922,
     "end_time": "2024-10-19T14:49:05.428998",
     "exception": false,
     "start_time": "2024-10-19T14:49:05.387076",
     "status": "completed"
    },
    "tags": []
   },
   "outputs": [],
   "source": [
    "model = model.to(device)\n",
    "criterion = nn.CrossEntropyLoss() \n",
    "# optimizer = torch.optim.Adam(model.parameters(), lr=0.001)"
   ]
  },
  {
   "cell_type": "code",
   "execution_count": 19,
   "id": "8e48dc97",
   "metadata": {
    "execution": {
     "iopub.execute_input": "2024-10-19T14:49:05.488311Z",
     "iopub.status.busy": "2024-10-19T14:49:05.487963Z",
     "iopub.status.idle": "2024-10-19T14:49:05.497276Z",
     "shell.execute_reply": "2024-10-19T14:49:05.496307Z"
    },
    "papermill": {
     "duration": 0.041323,
     "end_time": "2024-10-19T14:49:05.499226",
     "exception": false,
     "start_time": "2024-10-19T14:49:05.457903",
     "status": "completed"
    },
    "tags": []
   },
   "outputs": [],
   "source": [
    "model = model.to(device)"
   ]
  },
  {
   "cell_type": "code",
   "execution_count": 20,
   "id": "acd5c6c5",
   "metadata": {
    "execution": {
     "iopub.execute_input": "2024-10-19T14:49:05.559678Z",
     "iopub.status.busy": "2024-10-19T14:49:05.559284Z",
     "iopub.status.idle": "2024-10-19T14:49:05.563329Z",
     "shell.execute_reply": "2024-10-19T14:49:05.562501Z"
    },
    "papermill": {
     "duration": 0.036373,
     "end_time": "2024-10-19T14:49:05.565186",
     "exception": false,
     "start_time": "2024-10-19T14:49:05.528813",
     "status": "completed"
    },
    "tags": []
   },
   "outputs": [],
   "source": [
    "num_epochs = 3"
   ]
  },
  {
   "cell_type": "code",
   "execution_count": 21,
   "id": "8e5b9221",
   "metadata": {
    "execution": {
     "iopub.execute_input": "2024-10-19T14:49:05.626095Z",
     "iopub.status.busy": "2024-10-19T14:49:05.625679Z",
     "iopub.status.idle": "2024-10-19T15:13:25.270687Z",
     "shell.execute_reply": "2024-10-19T15:13:25.269723Z"
    },
    "papermill": {
     "duration": 1459.715161,
     "end_time": "2024-10-19T15:13:25.309581",
     "exception": false,
     "start_time": "2024-10-19T14:49:05.594420",
     "status": "completed"
    },
    "tags": []
   },
   "outputs": [
    {
     "name": "stdout",
     "output_type": "stream",
     "text": [
      "Ter - [0/1854] train loss : 1.1346890926361084\n",
      "Ter - [100/1854] train loss : 0.2776508331298828\n",
      "Ter - [200/1854] train loss : 0.6265456676483154\n",
      "Ter - [300/1854] train loss : 0.44591131806373596\n",
      "Ter - [400/1854] train loss : 0.30576765537261963\n",
      "Ter - [500/1854] train loss : 0.2835116684436798\n",
      "Ter - [600/1854] train loss : 0.5197866559028625\n",
      "Ter - [700/1854] train loss : 0.3675122857093811\n",
      "Ter - [800/1854] train loss : 0.6435298919677734\n",
      "Ter - [900/1854] train loss : 0.323330819606781\n",
      "Ter - [1000/1854] train loss : 0.5315526127815247\n",
      "Ter - [1100/1854] train loss : 0.26511627435684204\n",
      "Ter - [1200/1854] train loss : 0.3080146014690399\n",
      "Ter - [1300/1854] train loss : 0.4536721408367157\n",
      "Ter - [1400/1854] train loss : 0.430555135011673\n",
      "Ter - [1500/1854] train loss : 0.522671639919281\n",
      "Ter - [1600/1854] train loss : 0.16492915153503418\n",
      "Ter - [1700/1854] train loss : 0.23800906538963318\n",
      "Ter - [1800/1854] train loss : 0.3758378326892853\n",
      "Epoch [1/3]\n",
      "Train Loss: 0.3559, Train Accuracy: 0.8532\n",
      "Validation Loss: 0.3233, Validation Accuracy: 0.8643\n",
      "Ter - [0/1854] train loss : 0.45626115798950195\n",
      "Ter - [100/1854] train loss : 0.1675165295600891\n",
      "Ter - [200/1854] train loss : 0.30744674801826477\n",
      "Ter - [300/1854] train loss : 0.33207446336746216\n",
      "Ter - [400/1854] train loss : 0.5951744914054871\n",
      "Ter - [500/1854] train loss : 0.2564986050128937\n",
      "Ter - [600/1854] train loss : 0.2939983606338501\n",
      "Ter - [700/1854] train loss : 0.24465075135231018\n",
      "Ter - [800/1854] train loss : 0.5089115500450134\n",
      "Ter - [900/1854] train loss : 0.33029964566230774\n",
      "Ter - [1000/1854] train loss : 0.3494628369808197\n",
      "Ter - [1100/1854] train loss : 0.27114173769950867\n",
      "Ter - [1200/1854] train loss : 0.3873780071735382\n",
      "Ter - [1300/1854] train loss : 0.29214197397232056\n",
      "Ter - [1400/1854] train loss : 0.24273329973220825\n",
      "Ter - [1500/1854] train loss : 0.2372480034828186\n",
      "Ter - [1600/1854] train loss : 0.2247466742992401\n",
      "Ter - [1700/1854] train loss : 0.5872218012809753\n",
      "Ter - [1800/1854] train loss : 0.2784195840358734\n",
      "Epoch [2/3]\n",
      "Train Loss: 0.3080, Train Accuracy: 0.8745\n",
      "Validation Loss: 0.3373, Validation Accuracy: 0.8661\n",
      "Ter - [0/1854] train loss : 0.2179812490940094\n",
      "Ter - [100/1854] train loss : 0.23333999514579773\n",
      "Ter - [200/1854] train loss : 0.09430977702140808\n",
      "Ter - [300/1854] train loss : 0.2727571427822113\n",
      "Ter - [400/1854] train loss : 0.5061683654785156\n",
      "Ter - [500/1854] train loss : 0.2543996572494507\n",
      "Ter - [600/1854] train loss : 0.34880077838897705\n",
      "Ter - [700/1854] train loss : 0.12489890307188034\n",
      "Ter - [800/1854] train loss : 0.26682421565055847\n",
      "Ter - [900/1854] train loss : 0.3204193413257599\n",
      "Ter - [1000/1854] train loss : 0.21373048424720764\n",
      "Ter - [1100/1854] train loss : 0.07011763751506805\n",
      "Ter - [1200/1854] train loss : 0.358843594789505\n",
      "Ter - [1300/1854] train loss : 0.6510910987854004\n",
      "Ter - [1400/1854] train loss : 0.10781288892030716\n",
      "Ter - [1500/1854] train loss : 0.20006756484508514\n",
      "Ter - [1600/1854] train loss : 0.1675429344177246\n",
      "Ter - [1700/1854] train loss : 0.2566828727722168\n",
      "Ter - [1800/1854] train loss : 0.06569678336381912\n",
      "Epoch [3/3]\n",
      "Train Loss: 0.2760, Train Accuracy: 0.8871\n",
      "Validation Loss: 0.2996, Validation Accuracy: 0.8763\n"
     ]
    }
   ],
   "source": [
    "for epoch in range(num_epochs):\n",
    "    model.train()\n",
    "    \n",
    "    running_loss = 0.0\n",
    "    correct_predictions = 0\n",
    "    total_samples  =0\n",
    "    i = 0\n",
    "    for inputs, labels in terDL_train:\n",
    "        inputs, labels = inputs.to(device), labels.to(device)\n",
    "        \n",
    "        optimizer.zero_grad()\n",
    "        outputs = model(inputs)\n",
    "        loss = criterion(outputs, labels)\n",
    "        loss.backward()\n",
    "        optimizer.step()\n",
    "        \n",
    "        running_loss += loss.item() * inputs.size(0)\n",
    "        _, predicted = torch.max(outputs, 1)\n",
    "        correct_predictions += (predicted == labels).sum().item()\n",
    "        total_samples += labels.size(0)\n",
    "        \n",
    "        if(i%100 == 0):\n",
    "            print(f\"Ter - [{i}/{len(terDL_train)}] train loss : {loss.item()}\")\n",
    "        i = i+1\n",
    "        \n",
    "    train_loss = running_loss / total_samples\n",
    "    train_accuracy = correct_predictions / total_samples\n",
    "    \n",
    "    model.eval()\n",
    "    val_loss = 0.0\n",
    "    correct_val_predictions = 0\n",
    "    total_val_samples = 0\n",
    "    \n",
    "    with torch.no_grad():\n",
    "        for val_inputs, val_labels in terDL_val:\n",
    "            val_inputs, val_labels = val_inputs.to(device), val_labels.to(device)\n",
    "            \n",
    "            val_outputs = model(val_inputs)\n",
    "            loss = criterion(val_outputs, val_labels)\n",
    "            \n",
    "            val_loss += loss.item() * val_inputs.size(0)\n",
    "            _, val_predicted = torch.max(val_outputs, 1)\n",
    "            correct_val_predictions += (val_predicted == val_labels).sum().item()\n",
    "            total_val_samples += val_labels.size(0)\n",
    "    \n",
    "    val_loss /= total_val_samples\n",
    "    val_accuracy = correct_val_predictions / total_val_samples\n",
    "    \n",
    "    # Print epoch stats\n",
    "    print(f'Epoch [{epoch+1}/{num_epochs}]')\n",
    "    print(f'Train Loss: {train_loss:.4f}, Train Accuracy: {train_accuracy:.4f}')\n",
    "    print(f'Validation Loss: {val_loss:.4f}, Validation Accuracy: {val_accuracy:.4f}')"
   ]
  },
  {
   "cell_type": "code",
   "execution_count": 22,
   "id": "a0ade000",
   "metadata": {
    "execution": {
     "iopub.execute_input": "2024-10-19T15:13:25.379218Z",
     "iopub.status.busy": "2024-10-19T15:13:25.378312Z",
     "iopub.status.idle": "2024-10-19T15:14:14.552470Z",
     "shell.execute_reply": "2024-10-19T15:14:14.551596Z"
    },
    "papermill": {
     "duration": 49.245979,
     "end_time": "2024-10-19T15:14:14.589221",
     "exception": false,
     "start_time": "2024-10-19T15:13:25.343242",
     "status": "completed"
    },
    "tags": []
   },
   "outputs": [
    {
     "data": {
      "image/png": "[encoded data removed]",
      "text/plain": [
       "<Figure size 600x400 with 2 Axes>"
      ]
     },
     "metadata": {},
     "output_type": "display_data"
    }
   ],
   "source": [
    "# Get the predictions and true labels for the test set\n",
    "preds, true_labels = get_predictions_and_labels(model, terDL_val)\n",
    "\n",
    "# Compute the confusion matrix\n",
    "conf_matrix = confusion_matrix(true_labels, preds)\n",
    "class_names = [f'Class {i}' for i in range(len(target_class_names)+1)]\n",
    "# Plot the confusion matrix using seaborn\n",
    "plt.figure(figsize=(6, 4))\n",
    "sns.heatmap(conf_matrix, annot=True, fmt=\"d\", cmap=\"Blues\", xticklabels=class_names, yticklabels=class_names)\n",
    "plt.xlabel('Predicted Label')\n",
    "plt.ylabel('True Label')\n",
    "plt.title('Confusion Matrix')\n",
    "plt.show()"
   ]
  },
  {
   "cell_type": "code",
   "execution_count": 23,
   "id": "918639cf",
   "metadata": {
    "execution": {
     "iopub.execute_input": "2024-10-19T15:14:14.659279Z",
     "iopub.status.busy": "2024-10-19T15:14:14.658413Z",
     "iopub.status.idle": "2024-10-19T15:14:14.666533Z",
     "shell.execute_reply": "2024-10-19T15:14:14.665636Z"
    },
    "papermill": {
     "duration": 0.045177,
     "end_time": "2024-10-19T15:14:14.668409",
     "exception": false,
     "start_time": "2024-10-19T15:14:14.623232",
     "status": "completed"
    },
    "tags": []
   },
   "outputs": [],
   "source": [
    "del terDL_train\n",
    "del terDL_val"
   ]
  },
  {
   "cell_type": "markdown",
   "id": "b16839a4",
   "metadata": {
    "papermill": {
     "duration": 0.033921,
     "end_time": "2024-10-19T15:14:14.736542",
     "exception": false,
     "start_time": "2024-10-19T15:14:14.702621",
     "status": "completed"
    },
    "tags": []
   },
   "source": [
    "# Quaternary"
   ]
  },
  {
   "cell_type": "code",
   "execution_count": 24,
   "id": "6b2f93c1",
   "metadata": {
    "execution": {
     "iopub.execute_input": "2024-10-19T15:14:14.806668Z",
     "iopub.status.busy": "2024-10-19T15:14:14.806280Z",
     "iopub.status.idle": "2024-10-19T15:14:35.896673Z",
     "shell.execute_reply": "2024-10-19T15:14:35.895891Z"
    },
    "papermill": {
     "duration": 21.128826,
     "end_time": "2024-10-19T15:14:35.899002",
     "exception": false,
     "start_time": "2024-10-19T15:14:14.770176",
     "status": "completed"
    },
    "tags": []
   },
   "outputs": [],
   "source": [
    "target_class_names = [\"Normal\",\"Erosion\",\"Polyp\"]\n",
    "quatDL_train = getNaryDataLoader(target_class_names=target_class_names, path_to_dataset=train_path, \n",
    "                          batch_size=32, trans = train_transform)\n",
    "quatDL_val = getNaryDataLoader(target_class_names=target_class_names, path_to_dataset=val_path, \n",
    "                          batch_size=32, trans = val_transform)"
   ]
  },
  {
   "cell_type": "code",
   "execution_count": 25,
   "id": "e0d8bed7",
   "metadata": {
    "execution": {
     "iopub.execute_input": "2024-10-19T15:14:35.970960Z",
     "iopub.status.busy": "2024-10-19T15:14:35.969895Z",
     "iopub.status.idle": "2024-10-19T15:14:35.975788Z",
     "shell.execute_reply": "2024-10-19T15:14:35.975024Z"
    },
    "papermill": {
     "duration": 0.043695,
     "end_time": "2024-10-19T15:14:35.977628",
     "exception": false,
     "start_time": "2024-10-19T15:14:35.933933",
     "status": "completed"
    },
    "tags": []
   },
   "outputs": [],
   "source": [
    "num_ftrs = model.fc.in_features\n",
    "model.fc = nn.Linear(in_features=num_ftrs, out_features=len(target_class_names)+1)"
   ]
  },
  {
   "cell_type": "code",
   "execution_count": 26,
   "id": "b90c026e",
   "metadata": {
    "execution": {
     "iopub.execute_input": "2024-10-19T15:14:36.047592Z",
     "iopub.status.busy": "2024-10-19T15:14:36.047210Z",
     "iopub.status.idle": "2024-10-19T15:14:36.052062Z",
     "shell.execute_reply": "2024-10-19T15:14:36.051204Z"
    },
    "papermill": {
     "duration": 0.042027,
     "end_time": "2024-10-19T15:14:36.053958",
     "exception": false,
     "start_time": "2024-10-19T15:14:36.011931",
     "status": "completed"
    },
    "tags": []
   },
   "outputs": [],
   "source": [
    "device = torch.device(\"cuda\" if torch.cuda.is_available() else \"cpu\")\n",
    "if torch.cuda.device_count() > 1:\n",
    "    model = nn.DataParallel(model)"
   ]
  },
  {
   "cell_type": "code",
   "execution_count": 27,
   "id": "d4672c0a",
   "metadata": {
    "execution": {
     "iopub.execute_input": "2024-10-19T15:14:36.124086Z",
     "iopub.status.busy": "2024-10-19T15:14:36.123265Z",
     "iopub.status.idle": "2024-10-19T15:14:36.132849Z",
     "shell.execute_reply": "2024-10-19T15:14:36.131967Z"
    },
    "papermill": {
     "duration": 0.046885,
     "end_time": "2024-10-19T15:14:36.134984",
     "exception": false,
     "start_time": "2024-10-19T15:14:36.088099",
     "status": "completed"
    },
    "tags": []
   },
   "outputs": [],
   "source": [
    "model = model.to(device)\n",
    "criterion = nn.CrossEntropyLoss() \n",
    "# optimizer = torch.optim.Adam(model.parameters(), lr=0.001)"
   ]
  },
  {
   "cell_type": "code",
   "execution_count": 28,
   "id": "d3ff8f0a",
   "metadata": {
    "execution": {
     "iopub.execute_input": "2024-10-19T15:14:36.205276Z",
     "iopub.status.busy": "2024-10-19T15:14:36.204885Z",
     "iopub.status.idle": "2024-10-19T15:14:36.214492Z",
     "shell.execute_reply": "2024-10-19T15:14:36.213794Z"
    },
    "papermill": {
     "duration": 0.047186,
     "end_time": "2024-10-19T15:14:36.216416",
     "exception": false,
     "start_time": "2024-10-19T15:14:36.169230",
     "status": "completed"
    },
    "tags": []
   },
   "outputs": [],
   "source": [
    "model = model.to(device)"
   ]
  },
  {
   "cell_type": "code",
   "execution_count": 29,
   "id": "b024701b",
   "metadata": {
    "execution": {
     "iopub.execute_input": "2024-10-19T15:14:36.286081Z",
     "iopub.status.busy": "2024-10-19T15:14:36.285251Z",
     "iopub.status.idle": "2024-10-19T15:14:36.289398Z",
     "shell.execute_reply": "2024-10-19T15:14:36.288567Z"
    },
    "papermill": {
     "duration": 0.040911,
     "end_time": "2024-10-19T15:14:36.291230",
     "exception": false,
     "start_time": "2024-10-19T15:14:36.250319",
     "status": "completed"
    },
    "tags": []
   },
   "outputs": [],
   "source": [
    "num_epochs = 4"
   ]
  },
  {
   "cell_type": "code",
   "execution_count": 30,
   "id": "20e238be",
   "metadata": {
    "execution": {
     "iopub.execute_input": "2024-10-19T15:14:36.361216Z",
     "iopub.status.busy": "2024-10-19T15:14:36.360370Z",
     "iopub.status.idle": "2024-10-19T15:46:58.398171Z",
     "shell.execute_reply": "2024-10-19T15:46:58.397211Z"
    },
    "papermill": {
     "duration": 1942.118175,
     "end_time": "2024-10-19T15:46:58.443077",
     "exception": false,
     "start_time": "2024-10-19T15:14:36.324902",
     "status": "completed"
    },
    "tags": []
   },
   "outputs": [
    {
     "name": "stdout",
     "output_type": "stream",
     "text": [
      "Quat - [0/1854] train loss : 1.157763123512268\n",
      "Quat - [100/1854] train loss : 0.4221314489841461\n",
      "Quat - [200/1854] train loss : 0.1942014843225479\n",
      "Quat - [300/1854] train loss : 0.25435319542884827\n",
      "Quat - [400/1854] train loss : 0.270487904548645\n",
      "Quat - [500/1854] train loss : 0.29274648427963257\n",
      "Quat - [600/1854] train loss : 0.4013693332672119\n",
      "Quat - [700/1854] train loss : 0.2008822113275528\n",
      "Quat - [800/1854] train loss : 0.5016006231307983\n",
      "Quat - [900/1854] train loss : 0.18540428578853607\n",
      "Quat - [1000/1854] train loss : 0.13509751856327057\n",
      "Quat - [1100/1854] train loss : 0.47793880105018616\n",
      "Quat - [1200/1854] train loss : 0.35397621989250183\n",
      "Quat - [1300/1854] train loss : 0.16772814095020294\n",
      "Quat - [1400/1854] train loss : 0.34458038210868835\n",
      "Quat - [1500/1854] train loss : 0.33118632435798645\n",
      "Quat - [1600/1854] train loss : 0.34758737683296204\n",
      "Quat - [1700/1854] train loss : 0.7297539114952087\n",
      "Quat - [1800/1854] train loss : 0.3678463101387024\n",
      "Epoch [1/4]\n",
      "Train Loss: 0.3393, Train Accuracy: 0.8692\n",
      "Validation Loss: 0.4265, Validation Accuracy: 0.8444\n",
      "Quat - [0/1854] train loss : 0.33948248624801636\n",
      "Quat - [100/1854] train loss : 0.4062175452709198\n",
      "Quat - [200/1854] train loss : 0.3427087962627411\n",
      "Quat - [300/1854] train loss : 0.21121186017990112\n",
      "Quat - [400/1854] train loss : 0.4122145175933838\n",
      "Quat - [500/1854] train loss : 0.2979641258716583\n",
      "Quat - [600/1854] train loss : 0.4041139483451843\n",
      "Quat - [700/1854] train loss : 0.2967357039451599\n",
      "Quat - [800/1854] train loss : 0.4520642161369324\n",
      "Quat - [900/1854] train loss : 0.35440000891685486\n",
      "Quat - [1000/1854] train loss : 0.19733020663261414\n",
      "Quat - [1100/1854] train loss : 0.444597065448761\n",
      "Quat - [1200/1854] train loss : 0.507663369178772\n",
      "Quat - [1300/1854] train loss : 0.15006664395332336\n",
      "Quat - [1400/1854] train loss : 0.2980160415172577\n",
      "Quat - [1500/1854] train loss : 0.13552024960517883\n",
      "Quat - [1600/1854] train loss : 0.2501410245895386\n",
      "Quat - [1700/1854] train loss : 0.132612943649292\n",
      "Quat - [1800/1854] train loss : 0.2634192407131195\n",
      "Epoch [2/4]\n",
      "Train Loss: 0.2965, Train Accuracy: 0.8834\n",
      "Validation Loss: 0.2755, Validation Accuracy: 0.8945\n",
      "Quat - [0/1854] train loss : 0.24983268976211548\n",
      "Quat - [100/1854] train loss : 0.4092855155467987\n",
      "Quat - [200/1854] train loss : 0.44001293182373047\n",
      "Quat - [300/1854] train loss : 0.4100993275642395\n",
      "Quat - [400/1854] train loss : 0.3302742540836334\n",
      "Quat - [500/1854] train loss : 0.25089412927627563\n",
      "Quat - [600/1854] train loss : 0.29490867257118225\n",
      "Quat - [700/1854] train loss : 0.16287367045879364\n",
      "Quat - [800/1854] train loss : 0.25277867913246155\n",
      "Quat - [900/1854] train loss : 0.11694265902042389\n",
      "Quat - [1000/1854] train loss : 0.20623080432415009\n",
      "Quat - [1100/1854] train loss : 0.32559725642204285\n",
      "Quat - [1200/1854] train loss : 0.22724126279354095\n",
      "Quat - [1300/1854] train loss : 0.4160982370376587\n",
      "Quat - [1400/1854] train loss : 0.4108467698097229\n",
      "Quat - [1500/1854] train loss : 0.25414931774139404\n",
      "Quat - [1600/1854] train loss : 0.2983911335468292\n",
      "Quat - [1700/1854] train loss : 0.19789938628673553\n",
      "Quat - [1800/1854] train loss : 0.18404853343963623\n",
      "Epoch [3/4]\n",
      "Train Loss: 0.2690, Train Accuracy: 0.8940\n",
      "Validation Loss: 0.2821, Validation Accuracy: 0.8926\n",
      "Quat - [0/1854] train loss : 0.11149462312459946\n",
      "Quat - [100/1854] train loss : 0.25114813446998596\n",
      "Quat - [200/1854] train loss : 0.27584758400917053\n",
      "Quat - [300/1854] train loss : 0.2667776644229889\n",
      "Quat - [400/1854] train loss : 0.16732019186019897\n",
      "Quat - [500/1854] train loss : 0.4573073387145996\n",
      "Quat - [600/1854] train loss : 0.20534759759902954\n",
      "Quat - [700/1854] train loss : 0.33315932750701904\n",
      "Quat - [800/1854] train loss : 0.09556177258491516\n",
      "Quat - [900/1854] train loss : 0.17207786440849304\n",
      "Quat - [1000/1854] train loss : 0.22411619126796722\n",
      "Quat - [1100/1854] train loss : 0.28311488032341003\n",
      "Quat - [1200/1854] train loss : 0.07223162055015564\n",
      "Quat - [1300/1854] train loss : 0.12131290137767792\n",
      "Quat - [1400/1854] train loss : 0.15977762639522552\n",
      "Quat - [1500/1854] train loss : 0.20685702562332153\n",
      "Quat - [1600/1854] train loss : 0.4336129128932953\n",
      "Quat - [1700/1854] train loss : 0.16910359263420105\n",
      "Quat - [1800/1854] train loss : 0.2686060070991516\n",
      "Epoch [4/4]\n",
      "Train Loss: 0.2418, Train Accuracy: 0.9056\n",
      "Validation Loss: 0.2760, Validation Accuracy: 0.8941\n"
     ]
    }
   ],
   "source": [
    "for epoch in range(num_epochs):\n",
    "    model.train()\n",
    "    \n",
    "    running_loss = 0.0\n",
    "    correct_predictions = 0\n",
    "    total_samples  =0\n",
    "    i = 0\n",
    "    for inputs, labels in quatDL_train:\n",
    "        inputs, labels = inputs.to(device), labels.to(device)\n",
    "        \n",
    "        optimizer.zero_grad()\n",
    "        outputs = model(inputs)\n",
    "        loss = criterion(outputs, labels)\n",
    "        loss.backward()\n",
    "        optimizer.step()\n",
    "        \n",
    "        running_loss += loss.item() * inputs.size(0)\n",
    "        _, predicted = torch.max(outputs, 1)\n",
    "        correct_predictions += (predicted == labels).sum().item()\n",
    "        total_samples += labels.size(0)\n",
    "        \n",
    "        if(i%100 == 0):\n",
    "            print(f\"Quat - [{i}/{len(quatDL_train)}] train loss : {loss.item()}\")\n",
    "        i = i+1\n",
    "        \n",
    "    train_loss = running_loss / total_samples\n",
    "    train_accuracy = correct_predictions / total_samples\n",
    "    \n",
    "    model.eval()\n",
    "    val_loss = 0.0\n",
    "    correct_val_predictions = 0\n",
    "    total_val_samples = 0\n",
    "    \n",
    "    with torch.no_grad():\n",
    "        for val_inputs, val_labels in quatDL_val:\n",
    "            val_inputs, val_labels = val_inputs.to(device), val_labels.to(device)\n",
    "            \n",
    "            val_outputs = model(val_inputs)\n",
    "            loss = criterion(val_outputs, val_labels)\n",
    "            \n",
    "            val_loss += loss.item() * val_inputs.size(0)\n",
    "            _, val_predicted = torch.max(val_outputs, 1)\n",
    "            correct_val_predictions += (val_predicted == val_labels).sum().item()\n",
    "            total_val_samples += val_labels.size(0)\n",
    "    \n",
    "    val_loss /= total_val_samples\n",
    "    val_accuracy = correct_val_predictions / total_val_samples\n",
    "    \n",
    "    # Print epoch stats\n",
    "    print(f'Epoch [{epoch+1}/{num_epochs}]')\n",
    "    print(f'Train Loss: {train_loss:.4f}, Train Accuracy: {train_accuracy:.4f}')\n",
    "    print(f'Validation Loss: {val_loss:.4f}, Validation Accuracy: {val_accuracy:.4f}')"
   ]
  },
  {
   "cell_type": "code",
   "execution_count": 31,
   "id": "c7e9b836",
   "metadata": {
    "execution": {
     "iopub.execute_input": "2024-10-19T15:46:58.523721Z",
     "iopub.status.busy": "2024-10-19T15:46:58.523378Z",
     "iopub.status.idle": "2024-10-19T15:47:47.142630Z",
     "shell.execute_reply": "2024-10-19T15:47:47.141790Z"
    },
    "papermill": {
     "duration": 48.703018,
     "end_time": "2024-10-19T15:47:47.185721",
     "exception": false,
     "start_time": "2024-10-19T15:46:58.482703",
     "status": "completed"
    },
    "tags": []
   },
   "outputs": [
    {
     "data": {
      "image/png": "[encoded data removed]",
      "text/plain": [
       "<Figure size 600x400 with 2 Axes>"
      ]
     },
     "metadata": {},
     "output_type": "display_data"
    }
   ],
   "source": [
    "# Get the predictions and true labels for the test set\n",
    "preds, true_labels = get_predictions_and_labels(model, quatDL_val)\n",
    "\n",
    "# Compute the confusion matrix\n",
    "conf_matrix = confusion_matrix(true_labels, preds)\n",
    "class_names = [f'Class {i}' for i in range(len(target_class_names)+1)]\n",
    "# Plot the confusion matrix using seaborn\n",
    "plt.figure(figsize=(6, 4))\n",
    "sns.heatmap(conf_matrix, annot=True, fmt=\"d\", cmap=\"Blues\", xticklabels=class_names, yticklabels=class_names)\n",
    "plt.xlabel('Predicted Label')\n",
    "plt.ylabel('True Label')\n",
    "plt.title('Confusion Matrix')\n",
    "plt.show()"
   ]
  },
  {
   "cell_type": "code",
   "execution_count": 32,
   "id": "d2f22eb8",
   "metadata": {
    "execution": {
     "iopub.execute_input": "2024-10-19T15:47:47.267701Z",
     "iopub.status.busy": "2024-10-19T15:47:47.267136Z",
     "iopub.status.idle": "2024-10-19T15:47:47.274758Z",
     "shell.execute_reply": "2024-10-19T15:47:47.273948Z"
    },
    "papermill": {
     "duration": 0.050328,
     "end_time": "2024-10-19T15:47:47.276595",
     "exception": false,
     "start_time": "2024-10-19T15:47:47.226267",
     "status": "completed"
    },
    "tags": []
   },
   "outputs": [],
   "source": [
    "del quatDL_train\n",
    "del quatDL_val"
   ]
  },
  {
   "cell_type": "markdown",
   "id": "12660b79",
   "metadata": {
    "papermill": {
     "duration": 0.040592,
     "end_time": "2024-10-19T15:47:47.357647",
     "exception": false,
     "start_time": "2024-10-19T15:47:47.317055",
     "status": "completed"
    },
    "tags": []
   },
   "source": [
    "# Pentanary"
   ]
  },
  {
   "cell_type": "code",
   "execution_count": 33,
   "id": "0b51230f",
   "metadata": {
    "execution": {
     "iopub.execute_input": "2024-10-19T15:47:47.443585Z",
     "iopub.status.busy": "2024-10-19T15:47:47.443254Z",
     "iopub.status.idle": "2024-10-19T15:48:09.551803Z",
     "shell.execute_reply": "2024-10-19T15:48:09.550796Z"
    },
    "papermill": {
     "duration": 22.155327,
     "end_time": "2024-10-19T15:48:09.554279",
     "exception": false,
     "start_time": "2024-10-19T15:47:47.398952",
     "status": "completed"
    },
    "tags": []
   },
   "outputs": [],
   "source": [
    "target_class_names = [\"Normal\",\"Erosion\",\"Polyp\", \"Angioectasia\"]\n",
    "pentDL_train = getNaryDataLoader(target_class_names=target_class_names, path_to_dataset=train_path, \n",
    "                          batch_size=32, trans = train_transform)\n",
    "pentDL_val = getNaryDataLoader(target_class_names=target_class_names, path_to_dataset=val_path, \n",
    "                          batch_size=32, trans = val_transform)"
   ]
  },
  {
   "cell_type": "code",
   "execution_count": 34,
   "id": "c00bef28",
   "metadata": {
    "execution": {
     "iopub.execute_input": "2024-10-19T15:48:09.637661Z",
     "iopub.status.busy": "2024-10-19T15:48:09.637286Z",
     "iopub.status.idle": "2024-10-19T15:48:09.642680Z",
     "shell.execute_reply": "2024-10-19T15:48:09.641792Z"
    },
    "papermill": {
     "duration": 0.049451,
     "end_time": "2024-10-19T15:48:09.644645",
     "exception": false,
     "start_time": "2024-10-19T15:48:09.595194",
     "status": "completed"
    },
    "tags": []
   },
   "outputs": [],
   "source": [
    "num_ftrs = model.fc.in_features\n",
    "model.fc = nn.Linear(in_features=num_ftrs, out_features=len(target_class_names)+1)"
   ]
  },
  {
   "cell_type": "code",
   "execution_count": 35,
   "id": "6fa7267f",
   "metadata": {
    "execution": {
     "iopub.execute_input": "2024-10-19T15:48:09.727131Z",
     "iopub.status.busy": "2024-10-19T15:48:09.726547Z",
     "iopub.status.idle": "2024-10-19T15:48:09.731508Z",
     "shell.execute_reply": "2024-10-19T15:48:09.730587Z"
    },
    "papermill": {
     "duration": 0.048022,
     "end_time": "2024-10-19T15:48:09.733280",
     "exception": false,
     "start_time": "2024-10-19T15:48:09.685258",
     "status": "completed"
    },
    "tags": []
   },
   "outputs": [],
   "source": [
    "device = torch.device(\"cuda\" if torch.cuda.is_available() else \"cpu\")\n",
    "if torch.cuda.device_count() > 1:\n",
    "    model = nn.DataParallel(model)"
   ]
  },
  {
   "cell_type": "code",
   "execution_count": 36,
   "id": "1e1d9ff7",
   "metadata": {
    "execution": {
     "iopub.execute_input": "2024-10-19T15:48:09.814560Z",
     "iopub.status.busy": "2024-10-19T15:48:09.814252Z",
     "iopub.status.idle": "2024-10-19T15:48:09.823383Z",
     "shell.execute_reply": "2024-10-19T15:48:09.822556Z"
    },
    "papermill": {
     "duration": 0.051835,
     "end_time": "2024-10-19T15:48:09.825200",
     "exception": false,
     "start_time": "2024-10-19T15:48:09.773365",
     "status": "completed"
    },
    "tags": []
   },
   "outputs": [],
   "source": [
    "model = model.to(device)\n",
    "criterion = nn.CrossEntropyLoss() \n",
    "# optimizer = torch.optim.Adam(model.parameters(), lr=0.001)"
   ]
  },
  {
   "cell_type": "code",
   "execution_count": 37,
   "id": "47f0a984",
   "metadata": {
    "execution": {
     "iopub.execute_input": "2024-10-19T15:48:09.908049Z",
     "iopub.status.busy": "2024-10-19T15:48:09.907496Z",
     "iopub.status.idle": "2024-10-19T15:48:09.916314Z",
     "shell.execute_reply": "2024-10-19T15:48:09.915643Z"
    },
    "papermill": {
     "duration": 0.052415,
     "end_time": "2024-10-19T15:48:09.918141",
     "exception": false,
     "start_time": "2024-10-19T15:48:09.865726",
     "status": "completed"
    },
    "tags": []
   },
   "outputs": [],
   "source": [
    "model = model.to(device)"
   ]
  },
  {
   "cell_type": "code",
   "execution_count": 38,
   "id": "da789c6a",
   "metadata": {
    "execution": {
     "iopub.execute_input": "2024-10-19T15:48:09.999665Z",
     "iopub.status.busy": "2024-10-19T15:48:09.999363Z",
     "iopub.status.idle": "2024-10-19T15:48:10.003245Z",
     "shell.execute_reply": "2024-10-19T15:48:10.002373Z"
    },
    "papermill": {
     "duration": 0.046744,
     "end_time": "2024-10-19T15:48:10.005182",
     "exception": false,
     "start_time": "2024-10-19T15:48:09.958438",
     "status": "completed"
    },
    "tags": []
   },
   "outputs": [],
   "source": [
    "num_epochs = 5"
   ]
  },
  {
   "cell_type": "code",
   "execution_count": 39,
   "id": "0c37436b",
   "metadata": {
    "execution": {
     "iopub.execute_input": "2024-10-19T15:48:10.088060Z",
     "iopub.status.busy": "2024-10-19T15:48:10.087754Z",
     "iopub.status.idle": "2024-10-19T16:28:59.042364Z",
     "shell.execute_reply": "2024-10-19T16:28:59.041389Z"
    },
    "papermill": {
     "duration": 2449.050093,
     "end_time": "2024-10-19T16:28:59.096863",
     "exception": false,
     "start_time": "2024-10-19T15:48:10.046770",
     "status": "completed"
    },
    "tags": []
   },
   "outputs": [
    {
     "name": "stdout",
     "output_type": "stream",
     "text": [
      "Pent - [0/1854] train loss : 1.5683170557022095\n",
      "Pent - [100/1854] train loss : 0.2664135694503784\n",
      "Pent - [200/1854] train loss : 0.2469060868024826\n",
      "Pent - [300/1854] train loss : 0.27689746022224426\n",
      "Pent - [400/1854] train loss : 0.12361003458499908\n",
      "Pent - [500/1854] train loss : 0.201502725481987\n",
      "Pent - [600/1854] train loss : 0.3930719792842865\n",
      "Pent - [700/1854] train loss : 0.31882444024086\n",
      "Pent - [800/1854] train loss : 0.3896319568157196\n",
      "Pent - [900/1854] train loss : 0.41537022590637207\n",
      "Pent - [1000/1854] train loss : 0.05610436946153641\n",
      "Pent - [1100/1854] train loss : 0.2685435712337494\n",
      "Pent - [1200/1854] train loss : 0.3111408054828644\n",
      "Pent - [1300/1854] train loss : 0.10438234359025955\n",
      "Pent - [1400/1854] train loss : 0.41128769516944885\n",
      "Pent - [1500/1854] train loss : 0.12991318106651306\n",
      "Pent - [1600/1854] train loss : 0.3124922215938568\n",
      "Pent - [1700/1854] train loss : 0.26954764127731323\n",
      "Pent - [1800/1854] train loss : 0.2723226547241211\n",
      "Epoch [1/5]\n",
      "Train Loss: 0.2889, Train Accuracy: 0.8941\n",
      "Validation Loss: 0.3657, Validation Accuracy: 0.8732\n",
      "Pent - [0/1854] train loss : 0.24687907099723816\n",
      "Pent - [100/1854] train loss : 0.31427839398384094\n",
      "Pent - [200/1854] train loss : 0.14073094725608826\n",
      "Pent - [300/1854] train loss : 0.1991460621356964\n",
      "Pent - [400/1854] train loss : 0.22198079526424408\n",
      "Pent - [500/1854] train loss : 0.15694375336170197\n",
      "Pent - [600/1854] train loss : 0.32168906927108765\n",
      "Pent - [700/1854] train loss : 0.16907964646816254\n",
      "Pent - [800/1854] train loss : 0.4192104935646057\n",
      "Pent - [900/1854] train loss : 0.14902442693710327\n",
      "Pent - [1000/1854] train loss : 0.15338310599327087\n",
      "Pent - [1100/1854] train loss : 0.12316612899303436\n",
      "Pent - [1200/1854] train loss : 0.16750606894493103\n",
      "Pent - [1300/1854] train loss : 0.3645615577697754\n",
      "Pent - [1400/1854] train loss : 0.11955705285072327\n",
      "Pent - [1500/1854] train loss : 0.2700892388820648\n",
      "Pent - [1600/1854] train loss : 0.09902588278055191\n",
      "Pent - [1700/1854] train loss : 0.3770557940006256\n",
      "Pent - [1800/1854] train loss : 0.14089921116828918\n",
      "Epoch [2/5]\n",
      "Train Loss: 0.2364, Train Accuracy: 0.9126\n",
      "Validation Loss: 0.3075, Validation Accuracy: 0.8920\n",
      "Pent - [0/1854] train loss : 0.2227981984615326\n",
      "Pent - [100/1854] train loss : 0.11625442653894424\n",
      "Pent - [200/1854] train loss : 0.2523987889289856\n",
      "Pent - [300/1854] train loss : 0.14564751088619232\n",
      "Pent - [400/1854] train loss : 0.22607316076755524\n",
      "Pent - [500/1854] train loss : 0.2908521592617035\n",
      "Pent - [600/1854] train loss : 0.2950487434864044\n",
      "Pent - [700/1854] train loss : 0.3102343678474426\n",
      "Pent - [800/1854] train loss : 0.15367966890335083\n",
      "Pent - [900/1854] train loss : 0.20896077156066895\n",
      "Pent - [1000/1854] train loss : 0.1500767320394516\n",
      "Pent - [1100/1854] train loss : 0.04044051095843315\n",
      "Pent - [1200/1854] train loss : 0.38841697573661804\n",
      "Pent - [1300/1854] train loss : 0.24083013832569122\n",
      "Pent - [1400/1854] train loss : 0.14601659774780273\n",
      "Pent - [1500/1854] train loss : 0.30335429310798645\n",
      "Pent - [1600/1854] train loss : 0.19262807071208954\n",
      "Pent - [1700/1854] train loss : 0.17442527413368225\n",
      "Pent - [1800/1854] train loss : 0.13271261751651764\n",
      "Epoch [3/5]\n",
      "Train Loss: 0.2111, Train Accuracy: 0.9228\n",
      "Validation Loss: 0.3751, Validation Accuracy: 0.8740\n",
      "Pent - [0/1854] train loss : 0.0668245404958725\n",
      "Pent - [100/1854] train loss : 0.16100609302520752\n",
      "Pent - [200/1854] train loss : 0.07437227666378021\n",
      "Pent - [300/1854] train loss : 0.20515084266662598\n",
      "Pent - [400/1854] train loss : 0.21207112073898315\n",
      "Pent - [500/1854] train loss : 0.13510937988758087\n",
      "Pent - [600/1854] train loss : 0.2632594108581543\n",
      "Pent - [700/1854] train loss : 0.12143075466156006\n",
      "Pent - [800/1854] train loss : 0.17544114589691162\n",
      "Pent - [900/1854] train loss : 0.2443273961544037\n",
      "Pent - [1000/1854] train loss : 0.07309887558221817\n",
      "Pent - [1100/1854] train loss : 0.10375519096851349\n",
      "Pent - [1200/1854] train loss : 0.11772503703832626\n",
      "Pent - [1300/1854] train loss : 0.11528728902339935\n",
      "Pent - [1400/1854] train loss : 0.2921268045902252\n",
      "Pent - [1500/1854] train loss : 0.12515048682689667\n",
      "Pent - [1600/1854] train loss : 0.18607351183891296\n",
      "Pent - [1700/1854] train loss : 0.5549764037132263\n",
      "Pent - [1800/1854] train loss : 0.08762563019990921\n",
      "Epoch [4/5]\n",
      "Train Loss: 0.1812, Train Accuracy: 0.9339\n",
      "Validation Loss: 0.4132, Validation Accuracy: 0.8624\n",
      "Pent - [0/1854] train loss : 0.1391565054655075\n",
      "Pent - [100/1854] train loss : 0.15140651166439056\n",
      "Pent - [200/1854] train loss : 0.018586628139019012\n",
      "Pent - [300/1854] train loss : 0.112409807741642\n",
      "Pent - [400/1854] train loss : 0.24634556472301483\n",
      "Pent - [500/1854] train loss : 0.015454215928912163\n",
      "Pent - [600/1854] train loss : 0.04826757684350014\n",
      "Pent - [700/1854] train loss : 0.023707246407866478\n",
      "Pent - [800/1854] train loss : 0.17296306788921356\n",
      "Pent - [900/1854] train loss : 0.20952223241329193\n",
      "Pent - [1000/1854] train loss : 0.08003842830657959\n",
      "Pent - [1100/1854] train loss : 0.05429058521986008\n",
      "Pent - [1200/1854] train loss : 0.22324535250663757\n",
      "Pent - [1300/1854] train loss : 0.08242682367563248\n",
      "Pent - [1400/1854] train loss : 0.20442727208137512\n",
      "Pent - [1500/1854] train loss : 0.08164010941982269\n",
      "Pent - [1600/1854] train loss : 0.38856860995292664\n",
      "Pent - [1700/1854] train loss : 0.0340481735765934\n",
      "Pent - [1800/1854] train loss : 0.07427598536014557\n",
      "Epoch [5/5]\n",
      "Train Loss: 0.1585, Train Accuracy: 0.9439\n",
      "Validation Loss: 0.3132, Validation Accuracy: 0.9035\n"
     ]
    }
   ],
   "source": [
    "for epoch in range(num_epochs):\n",
    "    model.train()\n",
    "    \n",
    "    running_loss = 0.0\n",
    "    correct_predictions = 0\n",
    "    total_samples  =0\n",
    "    i = 0\n",
    "    for inputs, labels in pentDL_train:\n",
    "        inputs, labels = inputs.to(device), labels.to(device)\n",
    "        \n",
    "        optimizer.zero_grad()\n",
    "        outputs = model(inputs)\n",
    "        loss = criterion(outputs, labels)\n",
    "        loss.backward()\n",
    "        optimizer.step()\n",
    "        \n",
    "        running_loss += loss.item() * inputs.size(0)\n",
    "        _, predicted = torch.max(outputs, 1)\n",
    "        correct_predictions += (predicted == labels).sum().item()\n",
    "        total_samples += labels.size(0)\n",
    "        \n",
    "        if(i%100 == 0):\n",
    "            print(f\"Pent - [{i}/{len(pentDL_train)}] train loss : {loss.item()}\")\n",
    "        i = i+1\n",
    "        \n",
    "    train_loss = running_loss / total_samples\n",
    "    train_accuracy = correct_predictions / total_samples\n",
    "    \n",
    "    model.eval()\n",
    "    val_loss = 0.0\n",
    "    correct_val_predictions = 0\n",
    "    total_val_samples = 0\n",
    "    \n",
    "    with torch.no_grad():\n",
    "        for val_inputs, val_labels in pentDL_val:\n",
    "            val_inputs, val_labels = val_inputs.to(device), val_labels.to(device)\n",
    "            \n",
    "            val_outputs = model(val_inputs)\n",
    "            loss = criterion(val_outputs, val_labels)\n",
    "            \n",
    "            val_loss += loss.item() * val_inputs.size(0)\n",
    "            _, val_predicted = torch.max(val_outputs, 1)\n",
    "            correct_val_predictions += (val_predicted == val_labels).sum().item()\n",
    "            total_val_samples += val_labels.size(0)\n",
    "    \n",
    "    val_loss /= total_val_samples\n",
    "    val_accuracy = correct_val_predictions / total_val_samples\n",
    "    \n",
    "    # Print epoch stats\n",
    "    print(f'Epoch [{epoch+1}/{num_epochs}]')\n",
    "    print(f'Train Loss: {train_loss:.4f}, Train Accuracy: {train_accuracy:.4f}')\n",
    "    print(f'Validation Loss: {val_loss:.4f}, Validation Accuracy: {val_accuracy:.4f}')"
   ]
  },
  {
   "cell_type": "code",
   "execution_count": 40,
   "id": "dc11d576",
   "metadata": {
    "execution": {
     "iopub.execute_input": "2024-10-19T16:28:59.204281Z",
     "iopub.status.busy": "2024-10-19T16:28:59.203272Z",
     "iopub.status.idle": "2024-10-19T16:29:50.708877Z",
     "shell.execute_reply": "2024-10-19T16:29:50.707842Z"
    },
    "papermill": {
     "duration": 51.612155,
     "end_time": "2024-10-19T16:29:50.760402",
     "exception": false,
     "start_time": "2024-10-19T16:28:59.148247",
     "status": "completed"
    },
    "tags": []
   },
   "outputs": [
    {
     "data": {
      "image/png": "[encoded data removed]",
      "text/plain": [
       "<Figure size 600x400 with 2 Axes>"
      ]
     },
     "metadata": {},
     "output_type": "display_data"
    }
   ],
   "source": [
    "# Get the predictions and true labels for the test set\n",
    "preds, true_labels = get_predictions_and_labels(model, pentDL_val)\n",
    "\n",
    "# Compute the confusion matrix\n",
    "conf_matrix = confusion_matrix(true_labels, preds)\n",
    "class_names = [f'Class {i}' for i in range(len(target_class_names)+1)]\n",
    "# Plot the confusion matrix using seaborn\n",
    "plt.figure(figsize=(6, 4))\n",
    "sns.heatmap(conf_matrix, annot=True, fmt=\"d\", cmap=\"Blues\", xticklabels=class_names, yticklabels=class_names)\n",
    "plt.xlabel('Predicted Label')\n",
    "plt.ylabel('True Label')\n",
    "plt.title('Confusion Matrix')\n",
    "plt.show()"
   ]
  },
  {
   "cell_type": "code",
   "execution_count": 41,
   "id": "42307dc6",
   "metadata": {
    "execution": {
     "iopub.execute_input": "2024-10-19T16:29:50.860576Z",
     "iopub.status.busy": "2024-10-19T16:29:50.860200Z",
     "iopub.status.idle": "2024-10-19T16:29:50.867702Z",
     "shell.execute_reply": "2024-10-19T16:29:50.866857Z"
    },
    "papermill": {
     "duration": 0.059307,
     "end_time": "2024-10-19T16:29:50.869574",
     "exception": false,
     "start_time": "2024-10-19T16:29:50.810267",
     "status": "completed"
    },
    "tags": []
   },
   "outputs": [],
   "source": [
    "del pentDL_train\n",
    "del pentDL_val"
   ]
  },
  {
   "cell_type": "markdown",
   "id": "9d0a40ce",
   "metadata": {
    "papermill": {
     "duration": 0.048452,
     "end_time": "2024-10-19T16:29:50.967060",
     "exception": false,
     "start_time": "2024-10-19T16:29:50.918608",
     "status": "completed"
    },
    "tags": []
   },
   "source": [
    "# Senary"
   ]
  },
  {
   "cell_type": "code",
   "execution_count": 42,
   "id": "326df4ad",
   "metadata": {
    "execution": {
     "iopub.execute_input": "2024-10-19T16:29:51.066088Z",
     "iopub.status.busy": "2024-10-19T16:29:51.065710Z",
     "iopub.status.idle": "2024-10-19T16:30:18.485580Z",
     "shell.execute_reply": "2024-10-19T16:30:18.484795Z"
    },
    "papermill": {
     "duration": 27.471802,
     "end_time": "2024-10-19T16:30:18.487887",
     "exception": false,
     "start_time": "2024-10-19T16:29:51.016085",
     "status": "completed"
    },
    "tags": []
   },
   "outputs": [],
   "source": [
    "target_class_names = [\"Normal\",\"Erosion\",\"Polyp\", \"Angioectasia\", \"Bleeding\"]\n",
    "senDL_train = getNaryDataLoader(target_class_names=target_class_names, path_to_dataset=train_path, \n",
    "                          batch_size=32, trans = train_transform)\n",
    "senDL_val = getNaryDataLoader(target_class_names=target_class_names, path_to_dataset=val_path, \n",
    "                          batch_size=32, trans = val_transform)"
   ]
  },
  {
   "cell_type": "code",
   "execution_count": 43,
   "id": "6f3aabd8",
   "metadata": {
    "execution": {
     "iopub.execute_input": "2024-10-19T16:30:18.628548Z",
     "iopub.status.busy": "2024-10-19T16:30:18.628172Z",
     "iopub.status.idle": "2024-10-19T16:30:18.633439Z",
     "shell.execute_reply": "2024-10-19T16:30:18.632675Z"
    },
    "papermill": {
     "duration": 0.056881,
     "end_time": "2024-10-19T16:30:18.635266",
     "exception": false,
     "start_time": "2024-10-19T16:30:18.578385",
     "status": "completed"
    },
    "tags": []
   },
   "outputs": [],
   "source": [
    "num_ftrs = model.fc.in_features\n",
    "model.fc = nn.Linear(in_features=num_ftrs, out_features=len(target_class_names)+1)"
   ]
  },
  {
   "cell_type": "code",
   "execution_count": 44,
   "id": "710a11c1",
   "metadata": {
    "execution": {
     "iopub.execute_input": "2024-10-19T16:30:18.732764Z",
     "iopub.status.busy": "2024-10-19T16:30:18.732450Z",
     "iopub.status.idle": "2024-10-19T16:30:18.737054Z",
     "shell.execute_reply": "2024-10-19T16:30:18.736266Z"
    },
    "papermill": {
     "duration": 0.055217,
     "end_time": "2024-10-19T16:30:18.738802",
     "exception": false,
     "start_time": "2024-10-19T16:30:18.683585",
     "status": "completed"
    },
    "tags": []
   },
   "outputs": [],
   "source": [
    "device = torch.device(\"cuda\" if torch.cuda.is_available() else \"cpu\")\n",
    "if torch.cuda.device_count() > 1:\n",
    "    model = nn.DataParallel(model)"
   ]
  },
  {
   "cell_type": "code",
   "execution_count": 45,
   "id": "b0aeeb77",
   "metadata": {
    "execution": {
     "iopub.execute_input": "2024-10-19T16:30:18.837505Z",
     "iopub.status.busy": "2024-10-19T16:30:18.837134Z",
     "iopub.status.idle": "2024-10-19T16:30:18.846344Z",
     "shell.execute_reply": "2024-10-19T16:30:18.845664Z"
    },
    "papermill": {
     "duration": 0.06085,
     "end_time": "2024-10-19T16:30:18.848303",
     "exception": false,
     "start_time": "2024-10-19T16:30:18.787453",
     "status": "completed"
    },
    "tags": []
   },
   "outputs": [],
   "source": [
    "model = model.to(device)\n",
    "criterion = nn.CrossEntropyLoss() \n",
    "# optimizer = torch.optim.Adam(model.parameters(), lr=0.001)"
   ]
  },
  {
   "cell_type": "code",
   "execution_count": 46,
   "id": "871852b4",
   "metadata": {
    "execution": {
     "iopub.execute_input": "2024-10-19T16:30:18.947254Z",
     "iopub.status.busy": "2024-10-19T16:30:18.946951Z",
     "iopub.status.idle": "2024-10-19T16:30:18.955580Z",
     "shell.execute_reply": "2024-10-19T16:30:18.954936Z"
    },
    "papermill": {
     "duration": 0.059326,
     "end_time": "2024-10-19T16:30:18.957458",
     "exception": false,
     "start_time": "2024-10-19T16:30:18.898132",
     "status": "completed"
    },
    "tags": []
   },
   "outputs": [],
   "source": [
    "model = model.to(device)"
   ]
  },
  {
   "cell_type": "code",
   "execution_count": 47,
   "id": "f4b20ac7",
   "metadata": {
    "execution": {
     "iopub.execute_input": "2024-10-19T16:30:19.055768Z",
     "iopub.status.busy": "2024-10-19T16:30:19.055090Z",
     "iopub.status.idle": "2024-10-19T16:30:19.058983Z",
     "shell.execute_reply": "2024-10-19T16:30:19.058149Z"
    },
    "papermill": {
     "duration": 0.054981,
     "end_time": "2024-10-19T16:30:19.060872",
     "exception": false,
     "start_time": "2024-10-19T16:30:19.005891",
     "status": "completed"
    },
    "tags": []
   },
   "outputs": [],
   "source": [
    "num_epochs = 6"
   ]
  },
  {
   "cell_type": "code",
   "execution_count": 48,
   "id": "708ad840",
   "metadata": {
    "execution": {
     "iopub.execute_input": "2024-10-19T16:30:19.158848Z",
     "iopub.status.busy": "2024-10-19T16:30:19.158534Z",
     "iopub.status.idle": "2024-10-19T17:19:20.648329Z",
     "shell.execute_reply": "2024-10-19T17:19:20.647376Z"
    },
    "papermill": {
     "duration": 2941.599972,
     "end_time": "2024-10-19T17:19:20.709123",
     "exception": false,
     "start_time": "2024-10-19T16:30:19.109151",
     "status": "completed"
    },
    "tags": []
   },
   "outputs": [
    {
     "name": "stdout",
     "output_type": "stream",
     "text": [
      "[Sen - 0/1854] train loss : 1.7107648849487305\n",
      "[Sen - 100/1854] train loss : 0.18960824608802795\n",
      "[Sen - 200/1854] train loss : 0.3883121907711029\n",
      "[Sen - 300/1854] train loss : 0.17957402765750885\n",
      "[Sen - 400/1854] train loss : 0.3368385136127472\n",
      "[Sen - 500/1854] train loss : 0.284449964761734\n",
      "[Sen - 600/1854] train loss : 0.4748823642730713\n",
      "[Sen - 700/1854] train loss : 0.34262990951538086\n",
      "[Sen - 800/1854] train loss : 0.21161404252052307\n",
      "[Sen - 900/1854] train loss : 0.14438119530677795\n",
      "[Sen - 1000/1854] train loss : 0.11637528985738754\n",
      "[Sen - 1100/1854] train loss : 0.13943535089492798\n",
      "[Sen - 1200/1854] train loss : 0.20657753944396973\n",
      "[Sen - 1300/1854] train loss : 0.4680265784263611\n",
      "[Sen - 1400/1854] train loss : 0.09052379429340363\n",
      "[Sen - 1500/1854] train loss : 0.11184889078140259\n",
      "[Sen - 1600/1854] train loss : 0.15522277355194092\n",
      "[Sen - 1700/1854] train loss : 0.06220632418990135\n",
      "[Sen - 1800/1854] train loss : 0.42363154888153076\n",
      "Epoch [1/6]\n",
      "Train Loss: 0.2401, Train Accuracy: 0.9138\n",
      "Validation Loss: 0.3458, Validation Accuracy: 0.8944\n",
      "[Sen - 0/1854] train loss : 0.12536102533340454\n",
      "[Sen - 100/1854] train loss : 0.3350788652896881\n",
      "[Sen - 200/1854] train loss : 0.13323821127414703\n",
      "[Sen - 300/1854] train loss : 0.0767037570476532\n",
      "[Sen - 400/1854] train loss : 0.16781359910964966\n",
      "[Sen - 500/1854] train loss : 0.03037467785179615\n",
      "[Sen - 600/1854] train loss : 0.09641566127538681\n",
      "[Sen - 700/1854] train loss : 0.1491466611623764\n",
      "[Sen - 800/1854] train loss : 0.13442319631576538\n",
      "[Sen - 900/1854] train loss : 0.07093959301710129\n",
      "[Sen - 1000/1854] train loss : 0.1446126252412796\n",
      "[Sen - 1100/1854] train loss : 0.13417915999889374\n",
      "[Sen - 1200/1854] train loss : 0.0939047560095787\n",
      "[Sen - 1300/1854] train loss : 0.3878365755081177\n",
      "[Sen - 1400/1854] train loss : 0.16869588196277618\n",
      "[Sen - 1500/1854] train loss : 0.0985446497797966\n",
      "[Sen - 1600/1854] train loss : 0.21626479923725128\n",
      "[Sen - 1700/1854] train loss : 0.06318250298500061\n",
      "[Sen - 1800/1854] train loss : 0.19214510917663574\n",
      "Epoch [2/6]\n",
      "Train Loss: 0.1795, Train Accuracy: 0.9365\n",
      "Validation Loss: 0.3702, Validation Accuracy: 0.8924\n",
      "[Sen - 0/1854] train loss : 0.11940205842256546\n",
      "[Sen - 100/1854] train loss : 0.08968321233987808\n",
      "[Sen - 200/1854] train loss : 0.15263968706130981\n",
      "[Sen - 300/1854] train loss : 0.10540158301591873\n",
      "[Sen - 400/1854] train loss : 0.0850866436958313\n",
      "[Sen - 500/1854] train loss : 0.11131897568702698\n",
      "[Sen - 600/1854] train loss : 0.3246443569660187\n",
      "[Sen - 700/1854] train loss : 0.29547420144081116\n",
      "[Sen - 800/1854] train loss : 0.11291863769292831\n",
      "[Sen - 900/1854] train loss : 0.1851792186498642\n",
      "[Sen - 1000/1854] train loss : 0.16862203180789948\n",
      "[Sen - 1100/1854] train loss : 0.024137109518051147\n",
      "[Sen - 1200/1854] train loss : 0.12498066574335098\n",
      "[Sen - 1300/1854] train loss : 0.05460278317332268\n",
      "[Sen - 1400/1854] train loss : 0.308259516954422\n",
      "[Sen - 1500/1854] train loss : 0.15121422708034515\n",
      "[Sen - 1600/1854] train loss : 0.09835421293973923\n",
      "[Sen - 1700/1854] train loss : 0.17181825637817383\n",
      "[Sen - 1800/1854] train loss : 0.258084774017334\n",
      "Epoch [3/6]\n",
      "Train Loss: 0.1469, Train Accuracy: 0.9500\n",
      "Validation Loss: 0.4421, Validation Accuracy: 0.8828\n",
      "[Sen - 0/1854] train loss : 0.08841349184513092\n",
      "[Sen - 100/1854] train loss : 0.054114315658807755\n",
      "[Sen - 200/1854] train loss : 0.2529639005661011\n",
      "[Sen - 300/1854] train loss : 0.27430063486099243\n",
      "[Sen - 400/1854] train loss : 0.17108896374702454\n",
      "[Sen - 500/1854] train loss : 0.06881532818078995\n",
      "[Sen - 600/1854] train loss : 0.01946021243929863\n",
      "[Sen - 700/1854] train loss : 0.03522014990448952\n",
      "[Sen - 800/1854] train loss : 0.04922382906079292\n",
      "[Sen - 900/1854] train loss : 0.16214978694915771\n",
      "[Sen - 1000/1854] train loss : 0.02128257416188717\n",
      "[Sen - 1100/1854] train loss : 0.05876554548740387\n",
      "[Sen - 1200/1854] train loss : 0.2044287621974945\n",
      "[Sen - 1300/1854] train loss : 0.05587559938430786\n",
      "[Sen - 1400/1854] train loss : 0.12396395206451416\n",
      "[Sen - 1500/1854] train loss : 0.041908130049705505\n",
      "[Sen - 1600/1854] train loss : 0.254689484834671\n",
      "[Sen - 1700/1854] train loss : 0.11533299088478088\n",
      "[Sen - 1800/1854] train loss : 0.11416587978601456\n",
      "Epoch [4/6]\n",
      "Train Loss: 0.1278, Train Accuracy: 0.9565\n",
      "Validation Loss: 0.3488, Validation Accuracy: 0.9009\n",
      "[Sen - 0/1854] train loss : 0.11535533517599106\n",
      "[Sen - 100/1854] train loss : 0.081943079829216\n",
      "[Sen - 200/1854] train loss : 0.06190679222345352\n",
      "[Sen - 300/1854] train loss : 0.09080612659454346\n",
      "[Sen - 400/1854] train loss : 0.19749122858047485\n",
      "[Sen - 500/1854] train loss : 0.08413154631853104\n",
      "[Sen - 600/1854] train loss : 0.04741983115673065\n",
      "[Sen - 700/1854] train loss : 0.051927126944065094\n",
      "[Sen - 800/1854] train loss : 0.15960519015789032\n",
      "[Sen - 900/1854] train loss : 0.038904692977666855\n",
      "[Sen - 1000/1854] train loss : 0.11757789552211761\n",
      "[Sen - 1100/1854] train loss : 0.2007220834493637\n",
      "[Sen - 1200/1854] train loss : 0.05130438506603241\n",
      "[Sen - 1300/1854] train loss : 0.024662407115101814\n",
      "[Sen - 1400/1854] train loss : 0.014361447654664516\n",
      "[Sen - 1500/1854] train loss : 0.2202894240617752\n",
      "[Sen - 1600/1854] train loss : 0.004170583561062813\n",
      "[Sen - 1700/1854] train loss : 0.11136721819639206\n",
      "[Sen - 1800/1854] train loss : 0.07632683962583542\n",
      "Epoch [5/6]\n",
      "Train Loss: 0.1139, Train Accuracy: 0.9620\n",
      "Validation Loss: 0.3989, Validation Accuracy: 0.8895\n",
      "[Sen - 0/1854] train loss : 0.22692595422267914\n",
      "[Sen - 100/1854] train loss : 0.05357411876320839\n",
      "[Sen - 200/1854] train loss : 0.26678091287612915\n",
      "[Sen - 300/1854] train loss : 0.2658078670501709\n",
      "[Sen - 400/1854] train loss : 0.06885892897844315\n",
      "[Sen - 500/1854] train loss : 0.09169778972864151\n",
      "[Sen - 600/1854] train loss : 0.03698190301656723\n",
      "[Sen - 700/1854] train loss : 0.12121785432100296\n",
      "[Sen - 800/1854] train loss : 0.12001199275255203\n",
      "[Sen - 900/1854] train loss : 0.08225718140602112\n",
      "[Sen - 1000/1854] train loss : 0.18711164593696594\n",
      "[Sen - 1100/1854] train loss : 0.06888218224048615\n",
      "[Sen - 1200/1854] train loss : 0.2990255653858185\n",
      "[Sen - 1300/1854] train loss : 0.023463375866413116\n",
      "[Sen - 1400/1854] train loss : 0.03132697939872742\n",
      "[Sen - 1500/1854] train loss : 0.14743122458457947\n",
      "[Sen - 1600/1854] train loss : 0.12464277446269989\n",
      "[Sen - 1700/1854] train loss : 0.04332514479756355\n",
      "[Sen - 1800/1854] train loss : 0.28814730048179626\n",
      "Epoch [6/6]\n",
      "Train Loss: 0.1005, Train Accuracy: 0.9667\n",
      "Validation Loss: 0.4385, Validation Accuracy: 0.8900\n"
     ]
    }
   ],
   "source": [
    "for epoch in range(num_epochs):\n",
    "    model.train()\n",
    "    \n",
    "    running_loss = 0.0\n",
    "    correct_predictions = 0\n",
    "    total_samples  =0\n",
    "    i = 0\n",
    "    for inputs, labels in senDL_train:\n",
    "        inputs, labels = inputs.to(device), labels.to(device)\n",
    "        \n",
    "        optimizer.zero_grad()\n",
    "        outputs = model(inputs)\n",
    "        loss = criterion(outputs, labels)\n",
    "        loss.backward()\n",
    "        optimizer.step()\n",
    "        \n",
    "        running_loss += loss.item() * inputs.size(0)\n",
    "        _, predicted = torch.max(outputs, 1)\n",
    "        correct_predictions += (predicted == labels).sum().item()\n",
    "        total_samples += labels.size(0)\n",
    "        \n",
    "        if(i%100 == 0):\n",
    "            print(f\"[Sen - {i}/{len(senDL_train)}] train loss : {loss.item()}\")\n",
    "        i = i+1\n",
    "        \n",
    "    train_loss = running_loss / total_samples\n",
    "    train_accuracy = correct_predictions / total_samples\n",
    "    \n",
    "    model.eval()\n",
    "    val_loss = 0.0\n",
    "    correct_val_predictions = 0\n",
    "    total_val_samples = 0\n",
    "    \n",
    "    with torch.no_grad():\n",
    "        for val_inputs, val_labels in senDL_val:\n",
    "            val_inputs, val_labels = val_inputs.to(device), val_labels.to(device)\n",
    "            \n",
    "            val_outputs = model(val_inputs)\n",
    "            loss = criterion(val_outputs, val_labels)\n",
    "            \n",
    "            val_loss += loss.item() * val_inputs.size(0)\n",
    "            _, val_predicted = torch.max(val_outputs, 1)\n",
    "            correct_val_predictions += (val_predicted == val_labels).sum().item()\n",
    "            total_val_samples += val_labels.size(0)\n",
    "    \n",
    "    val_loss /= total_val_samples\n",
    "    val_accuracy = correct_val_predictions / total_val_samples\n",
    "    \n",
    "    # Print epoch stats\n",
    "    print(f'Epoch [{epoch+1}/{num_epochs}]')\n",
    "    print(f'Train Loss: {train_loss:.4f}, Train Accuracy: {train_accuracy:.4f}')\n",
    "    print(f'Validation Loss: {val_loss:.4f}, Validation Accuracy: {val_accuracy:.4f}')"
   ]
  },
  {
   "cell_type": "code",
   "execution_count": 49,
   "id": "dc80bd5b",
   "metadata": {
    "execution": {
     "iopub.execute_input": "2024-10-19T17:19:20.827629Z",
     "iopub.status.busy": "2024-10-19T17:19:20.827247Z",
     "iopub.status.idle": "2024-10-19T17:20:09.720539Z",
     "shell.execute_reply": "2024-10-19T17:20:09.719583Z"
    },
    "papermill": {
     "duration": 49.012892,
     "end_time": "2024-10-19T17:20:09.780936",
     "exception": false,
     "start_time": "2024-10-19T17:19:20.768044",
     "status": "completed"
    },
    "tags": []
   },
   "outputs": [
    {
     "data": {
      "image/png": "[encoded data removed]",
      "text/plain": [
       "<Figure size 600x400 with 2 Axes>"
      ]
     },
     "metadata": {},
     "output_type": "display_data"
    }
   ],
   "source": [
    "# Get the predictions and true labels for the test set\n",
    "preds, true_labels = get_predictions_and_labels(model, senDL_val)\n",
    "\n",
    "# Compute the confusion matrix\n",
    "conf_matrix = confusion_matrix(true_labels, preds)\n",
    "class_names = [f'Class {i}' for i in range(len(target_class_names)+1)]\n",
    "# Plot the confusion matrix using seaborn\n",
    "plt.figure(figsize=(6, 4))\n",
    "sns.heatmap(conf_matrix, annot=True, fmt=\"d\", cmap=\"Blues\", xticklabels=class_names, yticklabels=class_names)\n",
    "plt.xlabel('Predicted Label')\n",
    "plt.ylabel('True Label')\n",
    "plt.title('Confusion Matrix')\n",
    "plt.show()"
   ]
  },
  {
   "cell_type": "code",
   "execution_count": 50,
   "id": "cdaa2fac",
   "metadata": {
    "execution": {
     "iopub.execute_input": "2024-10-19T17:20:09.898626Z",
     "iopub.status.busy": "2024-10-19T17:20:09.897796Z",
     "iopub.status.idle": "2024-10-19T17:20:09.905737Z",
     "shell.execute_reply": "2024-10-19T17:20:09.904878Z"
    },
    "papermill": {
     "duration": 0.069016,
     "end_time": "2024-10-19T17:20:09.907570",
     "exception": false,
     "start_time": "2024-10-19T17:20:09.838554",
     "status": "completed"
    },
    "tags": []
   },
   "outputs": [],
   "source": [
    "del senDL_train\n",
    "del senDL_val"
   ]
  },
  {
   "cell_type": "markdown",
   "id": "85866f8a",
   "metadata": {
    "papermill": {
     "duration": 0.05823,
     "end_time": "2024-10-19T17:20:10.023593",
     "exception": false,
     "start_time": "2024-10-19T17:20:09.965363",
     "status": "completed"
    },
    "tags": []
   },
   "source": [
    "# Septenary"
   ]
  },
  {
   "cell_type": "code",
   "execution_count": null,
   "id": "aecfe40f",
   "metadata": {
    "papermill": {
     "duration": 0.058505,
     "end_time": "2024-10-19T17:20:10.140655",
     "exception": false,
     "start_time": "2024-10-19T17:20:10.082150",
     "status": "completed"
    },
    "tags": []
   },
   "outputs": [],
   "source": []
  },
  {
   "cell_type": "code",
   "execution_count": 51,
   "id": "69ca7aa6",
   "metadata": {
    "execution": {
     "iopub.execute_input": "2024-10-19T17:20:10.258733Z",
     "iopub.status.busy": "2024-10-19T17:20:10.258131Z",
     "iopub.status.idle": "2024-10-19T17:20:32.718956Z",
     "shell.execute_reply": "2024-10-19T17:20:32.718062Z"
    },
    "papermill": {
     "duration": 22.522204,
     "end_time": "2024-10-19T17:20:32.721160",
     "exception": false,
     "start_time": "2024-10-19T17:20:10.198956",
     "status": "completed"
    },
    "tags": []
   },
   "outputs": [],
   "source": [
    "target_class_names = [\"Normal\",\"Erosion\",\"Polyp\", \"Angioectasia\", \"Bleeding\", \"Lymphangiectasia\"]\n",
    "septDL_train = getNaryDataLoader(target_class_names=target_class_names, path_to_dataset=train_path, \n",
    "                          batch_size=32, trans = train_transform)\n",
    "septDL_val = getNaryDataLoader(target_class_names=target_class_names, path_to_dataset=val_path, \n",
    "                          batch_size=32, trans = val_transform)"
   ]
  },
  {
   "cell_type": "code",
   "execution_count": 52,
   "id": "cfbbeffc",
   "metadata": {
    "execution": {
     "iopub.execute_input": "2024-10-19T17:20:32.841845Z",
     "iopub.status.busy": "2024-10-19T17:20:32.841129Z",
     "iopub.status.idle": "2024-10-19T17:20:32.846284Z",
     "shell.execute_reply": "2024-10-19T17:20:32.845418Z"
    },
    "papermill": {
     "duration": 0.067285,
     "end_time": "2024-10-19T17:20:32.848243",
     "exception": false,
     "start_time": "2024-10-19T17:20:32.780958",
     "status": "completed"
    },
    "tags": []
   },
   "outputs": [],
   "source": [
    "num_ftrs = model.fc.in_features\n",
    "model.fc = nn.Linear(in_features=num_ftrs, out_features=len(target_class_names)+1)"
   ]
  },
  {
   "cell_type": "code",
   "execution_count": 53,
   "id": "76a79733",
   "metadata": {
    "execution": {
     "iopub.execute_input": "2024-10-19T17:20:32.965944Z",
     "iopub.status.busy": "2024-10-19T17:20:32.965607Z",
     "iopub.status.idle": "2024-10-19T17:20:32.970515Z",
     "shell.execute_reply": "2024-10-19T17:20:32.969626Z"
    },
    "papermill": {
     "duration": 0.065883,
     "end_time": "2024-10-19T17:20:32.972390",
     "exception": false,
     "start_time": "2024-10-19T17:20:32.906507",
     "status": "completed"
    },
    "tags": []
   },
   "outputs": [],
   "source": [
    "device = torch.device(\"cuda\" if torch.cuda.is_available() else \"cpu\")\n",
    "if torch.cuda.device_count() > 1:\n",
    "    model = nn.DataParallel(model)"
   ]
  },
  {
   "cell_type": "code",
   "execution_count": 54,
   "id": "1e6a614c",
   "metadata": {
    "execution": {
     "iopub.execute_input": "2024-10-19T17:20:33.090146Z",
     "iopub.status.busy": "2024-10-19T17:20:33.089352Z",
     "iopub.status.idle": "2024-10-19T17:20:33.098886Z",
     "shell.execute_reply": "2024-10-19T17:20:33.097980Z"
    },
    "papermill": {
     "duration": 0.070497,
     "end_time": "2024-10-19T17:20:33.100852",
     "exception": false,
     "start_time": "2024-10-19T17:20:33.030355",
     "status": "completed"
    },
    "tags": []
   },
   "outputs": [],
   "source": [
    "model = model.to(device)\n",
    "criterion = nn.CrossEntropyLoss() \n",
    "# optimizer = torch.optim.Adam(model.parameters(), lr=0.001)"
   ]
  },
  {
   "cell_type": "code",
   "execution_count": 55,
   "id": "2d4af79e",
   "metadata": {
    "execution": {
     "iopub.execute_input": "2024-10-19T17:20:33.220372Z",
     "iopub.status.busy": "2024-10-19T17:20:33.219561Z",
     "iopub.status.idle": "2024-10-19T17:20:33.228715Z",
     "shell.execute_reply": "2024-10-19T17:20:33.227869Z"
    },
    "papermill": {
     "duration": 0.071132,
     "end_time": "2024-10-19T17:20:33.230702",
     "exception": false,
     "start_time": "2024-10-19T17:20:33.159570",
     "status": "completed"
    },
    "tags": []
   },
   "outputs": [],
   "source": [
    "model = model.to(device)"
   ]
  },
  {
   "cell_type": "code",
   "execution_count": 56,
   "id": "33f00d35",
   "metadata": {
    "execution": {
     "iopub.execute_input": "2024-10-19T17:20:33.348513Z",
     "iopub.status.busy": "2024-10-19T17:20:33.348164Z",
     "iopub.status.idle": "2024-10-19T17:20:33.352190Z",
     "shell.execute_reply": "2024-10-19T17:20:33.351329Z"
    },
    "papermill": {
     "duration": 0.064978,
     "end_time": "2024-10-19T17:20:33.354019",
     "exception": false,
     "start_time": "2024-10-19T17:20:33.289041",
     "status": "completed"
    },
    "tags": []
   },
   "outputs": [],
   "source": [
    "num_epochs = 7"
   ]
  },
  {
   "cell_type": "code",
   "execution_count": 57,
   "id": "f9c69f32",
   "metadata": {
    "execution": {
     "iopub.execute_input": "2024-10-19T17:20:33.473483Z",
     "iopub.status.busy": "2024-10-19T17:20:33.472631Z",
     "iopub.status.idle": "2024-10-19T18:18:41.918120Z",
     "shell.execute_reply": "2024-10-19T18:18:41.917110Z"
    },
    "papermill": {
     "duration": 3488.577706,
     "end_time": "2024-10-19T18:18:41.989621",
     "exception": false,
     "start_time": "2024-10-19T17:20:33.411915",
     "status": "completed"
    },
    "tags": []
   },
   "outputs": [
    {
     "name": "stdout",
     "output_type": "stream",
     "text": [
      "Sept - [0/1854] train loss : 2.4298768043518066\n",
      "Sept - [100/1854] train loss : 0.3817530870437622\n",
      "Sept - [200/1854] train loss : 0.1942717730998993\n",
      "Sept - [300/1854] train loss : 0.1948413997888565\n",
      "Sept - [400/1854] train loss : 0.3403310775756836\n",
      "Sept - [500/1854] train loss : 0.037268269807100296\n",
      "Sept - [600/1854] train loss : 0.05128294229507446\n",
      "Sept - [700/1854] train loss : 0.14805975556373596\n",
      "Sept - [800/1854] train loss : 0.14633958041667938\n",
      "Sept - [900/1854] train loss : 0.20045027136802673\n",
      "Sept - [1000/1854] train loss : 0.1337042897939682\n",
      "Sept - [1100/1854] train loss : 0.2351984679698944\n",
      "Sept - [1200/1854] train loss : 0.13921396434307098\n",
      "Sept - [1300/1854] train loss : 0.23230203986167908\n",
      "Sept - [1400/1854] train loss : 0.11244550347328186\n",
      "Sept - [1500/1854] train loss : 0.2514991760253906\n",
      "Sept - [1600/1854] train loss : 0.0867079421877861\n",
      "Sept - [1700/1854] train loss : 0.28910031914711\n",
      "Sept - [1800/1854] train loss : 0.19869394600391388\n",
      "Epoch [1/7]\n",
      "Train Loss: 0.1782, Train Accuracy: 0.9399\n",
      "Validation Loss: 0.4557, Validation Accuracy: 0.8865\n",
      "Sept - [0/1854] train loss : 0.035602495074272156\n",
      "Sept - [100/1854] train loss : 0.17992740869522095\n",
      "Sept - [200/1854] train loss : 0.0638727992773056\n",
      "Sept - [300/1854] train loss : 0.22363869845867157\n",
      "Sept - [400/1854] train loss : 0.023762578144669533\n",
      "Sept - [500/1854] train loss : 0.24338160455226898\n",
      "Sept - [600/1854] train loss : 0.058173976838588715\n",
      "Sept - [700/1854] train loss : 0.10319390892982483\n",
      "Sept - [800/1854] train loss : 0.054602913558483124\n",
      "Sept - [900/1854] train loss : 0.1518358439207077\n",
      "Sept - [1000/1854] train loss : 0.15859586000442505\n",
      "Sept - [1100/1854] train loss : 0.05370976775884628\n",
      "Sept - [1200/1854] train loss : 0.14698107540607452\n",
      "Sept - [1300/1854] train loss : 0.08758462965488434\n",
      "Sept - [1400/1854] train loss : 0.07444434612989426\n",
      "Sept - [1500/1854] train loss : 0.015911705791950226\n",
      "Sept - [1600/1854] train loss : 0.0328863188624382\n",
      "Sept - [1700/1854] train loss : 0.0416400246322155\n",
      "Sept - [1800/1854] train loss : 0.25708821415901184\n",
      "Epoch [2/7]\n",
      "Train Loss: 0.1256, Train Accuracy: 0.9577\n",
      "Validation Loss: 0.4148, Validation Accuracy: 0.8913\n",
      "Sept - [0/1854] train loss : 0.05209200456738472\n",
      "Sept - [100/1854] train loss : 0.01712730899453163\n",
      "Sept - [200/1854] train loss : 0.14314502477645874\n",
      "Sept - [300/1854] train loss : 0.08398124575614929\n",
      "Sept - [400/1854] train loss : 0.045815128833055496\n",
      "Sept - [500/1854] train loss : 0.09064410626888275\n",
      "Sept - [600/1854] train loss : 0.06836097687482834\n",
      "Sept - [700/1854] train loss : 0.04901694133877754\n",
      "Sept - [800/1854] train loss : 0.11527173221111298\n",
      "Sept - [900/1854] train loss : 0.013128604739904404\n",
      "Sept - [1000/1854] train loss : 0.05424400418996811\n",
      "Sept - [1100/1854] train loss : 0.06838786602020264\n",
      "Sept - [1200/1854] train loss : 0.07225106656551361\n",
      "Sept - [1300/1854] train loss : 0.035599175840616226\n",
      "Sept - [1400/1854] train loss : 0.13851115107536316\n",
      "Sept - [1500/1854] train loss : 0.10300900787115097\n",
      "Sept - [1600/1854] train loss : 0.3703390061855316\n",
      "Sept - [1700/1854] train loss : 0.027730677276849747\n",
      "Sept - [1800/1854] train loss : 0.009864428080618382\n",
      "Epoch [3/7]\n",
      "Train Loss: 0.1021, Train Accuracy: 0.9664\n",
      "Validation Loss: 0.4272, Validation Accuracy: 0.8910\n",
      "Sept - [0/1854] train loss : 0.18313582241535187\n",
      "Sept - [100/1854] train loss : 0.14833493530750275\n",
      "Sept - [200/1854] train loss : 0.16344404220581055\n",
      "Sept - [300/1854] train loss : 0.11850200593471527\n",
      "Sept - [400/1854] train loss : 0.014651691541075706\n",
      "Sept - [500/1854] train loss : 0.07483915239572525\n",
      "Sept - [600/1854] train loss : 0.0216226726770401\n",
      "Sept - [700/1854] train loss : 0.10231379419565201\n",
      "Sept - [800/1854] train loss : 0.039571307599544525\n",
      "Sept - [900/1854] train loss : 0.16228368878364563\n",
      "Sept - [1000/1854] train loss : 0.15310846269130707\n",
      "Sept - [1100/1854] train loss : 0.10199812054634094\n",
      "Sept - [1200/1854] train loss : 0.010418402962386608\n",
      "Sept - [1300/1854] train loss : 0.03419528156518936\n",
      "Sept - [1400/1854] train loss : 0.05755377933382988\n",
      "Sept - [1500/1854] train loss : 0.03318418562412262\n",
      "Sept - [1600/1854] train loss : 0.036091551184654236\n",
      "Sept - [1700/1854] train loss : 0.057176485657691956\n",
      "Sept - [1800/1854] train loss : 0.2747029662132263\n",
      "Epoch [4/7]\n",
      "Train Loss: 0.0965, Train Accuracy: 0.9679\n",
      "Validation Loss: 0.4533, Validation Accuracy: 0.8885\n",
      "Sept - [0/1854] train loss : 0.010687646456062794\n",
      "Sept - [100/1854] train loss : 0.060644734650850296\n",
      "Sept - [200/1854] train loss : 0.16572357714176178\n",
      "Sept - [300/1854] train loss : 0.06833112984895706\n",
      "Sept - [400/1854] train loss : 0.07960344105958939\n",
      "Sept - [500/1854] train loss : 0.008791054598987103\n",
      "Sept - [600/1854] train loss : 0.13765762746334076\n",
      "Sept - [700/1854] train loss : 0.03384116664528847\n",
      "Sept - [800/1854] train loss : 0.1395610272884369\n",
      "Sept - [900/1854] train loss : 0.1176832988858223\n",
      "Sept - [1000/1854] train loss : 0.019163915887475014\n",
      "Sept - [1100/1854] train loss : 0.09707164764404297\n",
      "Sept - [1200/1854] train loss : 0.05257517099380493\n",
      "Sept - [1300/1854] train loss : 0.019348518922924995\n",
      "Sept - [1400/1854] train loss : 0.04628307744860649\n",
      "Sept - [1500/1854] train loss : 0.05127299576997757\n",
      "Sept - [1600/1854] train loss : 0.2136440873146057\n",
      "Sept - [1700/1854] train loss : 0.01142215821892023\n",
      "Sept - [1800/1854] train loss : 0.030204830691218376\n",
      "Epoch [5/7]\n",
      "Train Loss: 0.0845, Train Accuracy: 0.9732\n",
      "Validation Loss: 0.4562, Validation Accuracy: 0.8909\n",
      "Sept - [0/1854] train loss : 0.030124515295028687\n",
      "Sept - [100/1854] train loss : 0.005245701409876347\n",
      "Sept - [200/1854] train loss : 0.02359067276120186\n",
      "Sept - [300/1854] train loss : 0.04060906171798706\n",
      "Sept - [400/1854] train loss : 0.029736092314124107\n",
      "Sept - [500/1854] train loss : 0.21871799230575562\n",
      "Sept - [600/1854] train loss : 0.012095046229660511\n",
      "Sept - [700/1854] train loss : 0.02614874765276909\n",
      "Sept - [800/1854] train loss : 0.004583598114550114\n",
      "Sept - [900/1854] train loss : 0.030011393129825592\n",
      "Sept - [1000/1854] train loss : 0.005074637942016125\n",
      "Sept - [1100/1854] train loss : 0.030546605587005615\n",
      "Sept - [1200/1854] train loss : 0.016397610306739807\n",
      "Sept - [1300/1854] train loss : 0.16892561316490173\n",
      "Sept - [1400/1854] train loss : 0.0633564367890358\n",
      "Sept - [1500/1854] train loss : 0.1306874305009842\n",
      "Sept - [1600/1854] train loss : 0.03577524423599243\n",
      "Sept - [1700/1854] train loss : 0.003611853811889887\n",
      "Sept - [1800/1854] train loss : 0.01956104300916195\n",
      "Epoch [6/7]\n",
      "Train Loss: 0.0764, Train Accuracy: 0.9764\n",
      "Validation Loss: 0.4778, Validation Accuracy: 0.8903\n",
      "Sept - [0/1854] train loss : 0.026544494554400444\n",
      "Sept - [100/1854] train loss : 0.01294367853552103\n",
      "Sept - [200/1854] train loss : 0.17145971953868866\n",
      "Sept - [300/1854] train loss : 0.13433055579662323\n",
      "Sept - [400/1854] train loss : 0.06352803111076355\n",
      "Sept - [500/1854] train loss : 0.034433674067258835\n",
      "Sept - [600/1854] train loss : 0.006721822544932365\n",
      "Sept - [700/1854] train loss : 0.003808307461440563\n",
      "Sept - [800/1854] train loss : 0.09854836761951447\n",
      "Sept - [900/1854] train loss : 0.02695636637508869\n",
      "Sept - [1000/1854] train loss : 0.015392869710922241\n",
      "Sept - [1100/1854] train loss : 0.013130273669958115\n",
      "Sept - [1200/1854] train loss : 0.04644327983260155\n",
      "Sept - [1300/1854] train loss : 0.12642964720726013\n",
      "Sept - [1400/1854] train loss : 0.02341793105006218\n",
      "Sept - [1500/1854] train loss : 0.044887740164995193\n",
      "Sept - [1600/1854] train loss : 0.059759363532066345\n",
      "Sept - [1700/1854] train loss : 0.16612590849399567\n",
      "Sept - [1800/1854] train loss : 0.40999528765678406\n",
      "Epoch [7/7]\n",
      "Train Loss: 0.0759, Train Accuracy: 0.9756\n",
      "Validation Loss: 0.4883, Validation Accuracy: 0.8840\n"
     ]
    }
   ],
   "source": [
    "for epoch in range(num_epochs):\n",
    "    model.train()\n",
    "    \n",
    "    running_loss = 0.0\n",
    "    correct_predictions = 0\n",
    "    total_samples  =0\n",
    "    i = 0\n",
    "    for inputs, labels in septDL_train:\n",
    "        inputs, labels = inputs.to(device), labels.to(device)\n",
    "        \n",
    "        optimizer.zero_grad()\n",
    "        outputs = model(inputs)\n",
    "        loss = criterion(outputs, labels)\n",
    "        loss.backward()\n",
    "        optimizer.step()\n",
    "        \n",
    "        running_loss += loss.item() * inputs.size(0)\n",
    "        _, predicted = torch.max(outputs, 1)\n",
    "        correct_predictions += (predicted == labels).sum().item()\n",
    "        total_samples += labels.size(0)\n",
    "        \n",
    "        if(i%100 == 0):\n",
    "            print(f\"Sept - [{i}/{len(septDL_train)}] train loss : {loss.item()}\")\n",
    "        i = i+1\n",
    "        \n",
    "    train_loss = running_loss / total_samples\n",
    "    train_accuracy = correct_predictions / total_samples\n",
    "    \n",
    "    model.eval()\n",
    "    val_loss = 0.0\n",
    "    correct_val_predictions = 0\n",
    "    total_val_samples = 0\n",
    "    \n",
    "    with torch.no_grad():\n",
    "        for val_inputs, val_labels in septDL_val:\n",
    "            val_inputs, val_labels = val_inputs.to(device), val_labels.to(device)\n",
    "            \n",
    "            val_outputs = model(val_inputs)\n",
    "            loss = criterion(val_outputs, val_labels)\n",
    "            \n",
    "            val_loss += loss.item() * val_inputs.size(0)\n",
    "            _, val_predicted = torch.max(val_outputs, 1)\n",
    "            correct_val_predictions += (val_predicted == val_labels).sum().item()\n",
    "            total_val_samples += val_labels.size(0)\n",
    "    \n",
    "    val_loss /= total_val_samples\n",
    "    val_accuracy = correct_val_predictions / total_val_samples\n",
    "    \n",
    "    # Print epoch stats\n",
    "    print(f'Epoch [{epoch+1}/{num_epochs}]')\n",
    "    print(f'Train Loss: {train_loss:.4f}, Train Accuracy: {train_accuracy:.4f}')\n",
    "    print(f'Validation Loss: {val_loss:.4f}, Validation Accuracy: {val_accuracy:.4f}')"
   ]
  },
  {
   "cell_type": "code",
   "execution_count": 58,
   "id": "7bd5e2cc",
   "metadata": {
    "execution": {
     "iopub.execute_input": "2024-10-19T18:18:42.129356Z",
     "iopub.status.busy": "2024-10-19T18:18:42.128523Z",
     "iopub.status.idle": "2024-10-19T18:19:32.450777Z",
     "shell.execute_reply": "2024-10-19T18:19:32.449883Z"
    },
    "papermill": {
     "duration": 50.46465,
     "end_time": "2024-10-19T18:19:32.522938",
     "exception": false,
     "start_time": "2024-10-19T18:18:42.058288",
     "status": "completed"
    },
    "tags": []
   },
   "outputs": [
    {
     "data": {
      "image/png": "[encoded data removed]",
      "text/plain": [
       "<Figure size 600x400 with 2 Axes>"
      ]
     },
     "metadata": {},
     "output_type": "display_data"
    }
   ],
   "source": [
    "# Get the predictions and true labels for the test set\n",
    "preds, true_labels = get_predictions_and_labels(model, septDL_val)\n",
    "\n",
    "# Compute the confusion matrix\n",
    "conf_matrix = confusion_matrix(true_labels, preds)\n",
    "class_names = [f'Class {i}' for i in range(len(target_class_names)+1)]\n",
    "# Plot the confusion matrix using seaborn\n",
    "plt.figure(figsize=(6, 4))\n",
    "sns.heatmap(conf_matrix, annot=True, fmt=\"d\", cmap=\"Blues\", xticklabels=class_names, yticklabels=class_names)\n",
    "plt.xlabel('Predicted Label')\n",
    "plt.ylabel('True Label')\n",
    "plt.title('Confusion Matrix')\n",
    "plt.show()"
   ]
  },
  {
   "cell_type": "code",
   "execution_count": 59,
   "id": "c6c74b77",
   "metadata": {
    "execution": {
     "iopub.execute_input": "2024-10-19T18:19:32.662603Z",
     "iopub.status.busy": "2024-10-19T18:19:32.662261Z",
     "iopub.status.idle": "2024-10-19T18:19:32.669852Z",
     "shell.execute_reply": "2024-10-19T18:19:32.669082Z"
    },
    "papermill": {
     "duration": 0.079516,
     "end_time": "2024-10-19T18:19:32.671617",
     "exception": false,
     "start_time": "2024-10-19T18:19:32.592101",
     "status": "completed"
    },
    "tags": []
   },
   "outputs": [],
   "source": [
    "del septDL_train\n",
    "del septDL_val"
   ]
  },
  {
   "cell_type": "markdown",
   "id": "a1825235",
   "metadata": {
    "papermill": {
     "duration": 0.068668,
     "end_time": "2024-10-19T18:19:32.809128",
     "exception": false,
     "start_time": "2024-10-19T18:19:32.740460",
     "status": "completed"
    },
    "tags": []
   },
   "source": [
    "# Octal"
   ]
  },
  {
   "cell_type": "code",
   "execution_count": 60,
   "id": "ed969f94",
   "metadata": {
    "execution": {
     "iopub.execute_input": "2024-10-19T18:19:32.948485Z",
     "iopub.status.busy": "2024-10-19T18:19:32.948132Z",
     "iopub.status.idle": "2024-10-19T18:19:58.526758Z",
     "shell.execute_reply": "2024-10-19T18:19:58.525961Z"
    },
    "papermill": {
     "duration": 25.65114,
     "end_time": "2024-10-19T18:19:58.529085",
     "exception": false,
     "start_time": "2024-10-19T18:19:32.877945",
     "status": "completed"
    },
    "tags": []
   },
   "outputs": [],
   "source": [
    "target_class_names = [\"Normal\",\"Erosion\",\"Polyp\", \"Angioectasia\", \"Bleeding\", \"Lymphangiectasia\", \"Foreign Body\"]\n",
    "octDL_train = getNaryDataLoader(target_class_names=target_class_names, path_to_dataset=train_path, \n",
    "                          batch_size=32, trans = train_transform)\n",
    "octDL_val = getNaryDataLoader(target_class_names=target_class_names, path_to_dataset=val_path, \n",
    "                          batch_size=32, trans = val_transform)"
   ]
  },
  {
   "cell_type": "code",
   "execution_count": 61,
   "id": "909b1922",
   "metadata": {
    "execution": {
     "iopub.execute_input": "2024-10-19T18:19:58.710682Z",
     "iopub.status.busy": "2024-10-19T18:19:58.709939Z",
     "iopub.status.idle": "2024-10-19T18:19:58.714817Z",
     "shell.execute_reply": "2024-10-19T18:19:58.714071Z"
    },
    "papermill": {
     "duration": 0.076872,
     "end_time": "2024-10-19T18:19:58.716620",
     "exception": false,
     "start_time": "2024-10-19T18:19:58.639748",
     "status": "completed"
    },
    "tags": []
   },
   "outputs": [],
   "source": [
    "num_ftrs = model.fc.in_features\n",
    "model.fc = nn.Linear(in_features=num_ftrs, out_features=len(target_class_names)+1)"
   ]
  },
  {
   "cell_type": "code",
   "execution_count": 62,
   "id": "5a6a1a2c",
   "metadata": {
    "execution": {
     "iopub.execute_input": "2024-10-19T18:19:58.856561Z",
     "iopub.status.busy": "2024-10-19T18:19:58.856262Z",
     "iopub.status.idle": "2024-10-19T18:19:58.860711Z",
     "shell.execute_reply": "2024-10-19T18:19:58.859880Z"
    },
    "papermill": {
     "duration": 0.076547,
     "end_time": "2024-10-19T18:19:58.862650",
     "exception": false,
     "start_time": "2024-10-19T18:19:58.786103",
     "status": "completed"
    },
    "tags": []
   },
   "outputs": [],
   "source": [
    "device = torch.device(\"cuda\" if torch.cuda.is_available() else \"cpu\")\n",
    "if torch.cuda.device_count() > 1:\n",
    "    model = nn.DataParallel(model)"
   ]
  },
  {
   "cell_type": "code",
   "execution_count": 63,
   "id": "1cbc7453",
   "metadata": {
    "execution": {
     "iopub.execute_input": "2024-10-19T18:19:59.002901Z",
     "iopub.status.busy": "2024-10-19T18:19:59.002547Z",
     "iopub.status.idle": "2024-10-19T18:19:59.011794Z",
     "shell.execute_reply": "2024-10-19T18:19:59.011077Z"
    },
    "papermill": {
     "duration": 0.081606,
     "end_time": "2024-10-19T18:19:59.013719",
     "exception": false,
     "start_time": "2024-10-19T18:19:58.932113",
     "status": "completed"
    },
    "tags": []
   },
   "outputs": [],
   "source": [
    "model = model.to(device)\n",
    "criterion = nn.CrossEntropyLoss() \n",
    "# optimizer = torch.optim.Adam(model.parameters(), lr=0.001)"
   ]
  },
  {
   "cell_type": "code",
   "execution_count": 64,
   "id": "88e0f39f",
   "metadata": {
    "execution": {
     "iopub.execute_input": "2024-10-19T18:19:59.161900Z",
     "iopub.status.busy": "2024-10-19T18:19:59.161569Z",
     "iopub.status.idle": "2024-10-19T18:19:59.171530Z",
     "shell.execute_reply": "2024-10-19T18:19:59.170858Z"
    },
    "papermill": {
     "duration": 0.087128,
     "end_time": "2024-10-19T18:19:59.173428",
     "exception": false,
     "start_time": "2024-10-19T18:19:59.086300",
     "status": "completed"
    },
    "tags": []
   },
   "outputs": [],
   "source": [
    "model = model.to(device)"
   ]
  },
  {
   "cell_type": "code",
   "execution_count": 65,
   "id": "0ed6e8d0",
   "metadata": {
    "execution": {
     "iopub.execute_input": "2024-10-19T18:19:59.320019Z",
     "iopub.status.busy": "2024-10-19T18:19:59.319646Z",
     "iopub.status.idle": "2024-10-19T18:19:59.323857Z",
     "shell.execute_reply": "2024-10-19T18:19:59.322975Z"
    },
    "papermill": {
     "duration": 0.0773,
     "end_time": "2024-10-19T18:19:59.325763",
     "exception": false,
     "start_time": "2024-10-19T18:19:59.248463",
     "status": "completed"
    },
    "tags": []
   },
   "outputs": [],
   "source": [
    "num_epochs = 8"
   ]
  },
  {
   "cell_type": "code",
   "execution_count": 66,
   "id": "15a86ad2",
   "metadata": {
    "execution": {
     "iopub.execute_input": "2024-10-19T18:19:59.467125Z",
     "iopub.status.busy": "2024-10-19T18:19:59.466729Z",
     "iopub.status.idle": "2024-10-19T19:24:29.505079Z",
     "shell.execute_reply": "2024-10-19T19:24:29.504138Z"
    },
    "papermill": {
     "duration": 3870.197184,
     "end_time": "2024-10-19T19:24:29.592785",
     "exception": false,
     "start_time": "2024-10-19T18:19:59.395601",
     "status": "completed"
    },
    "tags": []
   },
   "outputs": [
    {
     "name": "stdout",
     "output_type": "stream",
     "text": [
      "Oct - [0/1854] train loss : 2.754426956176758\n",
      "Oct - [100/1854] train loss : 0.16784654557704926\n",
      "Oct - [200/1854] train loss : 0.16382494568824768\n",
      "Oct - [300/1854] train loss : 0.13067369163036346\n",
      "Oct - [400/1854] train loss : 0.1857515424489975\n",
      "Oct - [500/1854] train loss : 0.07824495434761047\n",
      "Oct - [600/1854] train loss : 0.016179794445633888\n",
      "Oct - [700/1854] train loss : 0.056800711899995804\n",
      "Oct - [800/1854] train loss : 0.06823843717575073\n",
      "Oct - [900/1854] train loss : 0.02594716101884842\n",
      "Oct - [1000/1854] train loss : 0.21404248476028442\n",
      "Oct - [1100/1854] train loss : 0.11891694366931915\n",
      "Oct - [1200/1854] train loss : 0.12317006289958954\n",
      "Oct - [1300/1854] train loss : 0.1432359516620636\n",
      "Oct - [1400/1854] train loss : 0.20050589740276337\n",
      "Oct - [1500/1854] train loss : 0.18517887592315674\n",
      "Oct - [1600/1854] train loss : 0.0817171111702919\n",
      "Oct - [1700/1854] train loss : 0.08273065090179443\n",
      "Oct - [1800/1854] train loss : 0.19906866550445557\n",
      "Epoch [1/8]\n",
      "Train Loss: 0.1406, Train Accuracy: 0.9545\n",
      "Validation Loss: 0.4166, Validation Accuracy: 0.8927\n",
      "Oct - [0/1854] train loss : 0.022106708958745003\n",
      "Oct - [100/1854] train loss : 0.006245846394449472\n",
      "Oct - [200/1854] train loss : 0.03865119069814682\n",
      "Oct - [300/1854] train loss : 0.5860961079597473\n",
      "Oct - [400/1854] train loss : 0.007810596376657486\n",
      "Oct - [500/1854] train loss : 0.010253645479679108\n",
      "Oct - [600/1854] train loss : 0.07212197780609131\n",
      "Oct - [700/1854] train loss : 0.10061495006084442\n",
      "Oct - [800/1854] train loss : 0.05409893020987511\n",
      "Oct - [900/1854] train loss : 0.04108467698097229\n",
      "Oct - [1000/1854] train loss : 0.07843700796365738\n",
      "Oct - [1100/1854] train loss : 0.2122114598751068\n",
      "Oct - [1200/1854] train loss : 0.060447704046964645\n",
      "Oct - [1300/1854] train loss : 0.12193113565444946\n",
      "Oct - [1400/1854] train loss : 0.10633937269449234\n",
      "Oct - [1500/1854] train loss : 0.1466614454984665\n",
      "Oct - [1600/1854] train loss : 0.1682721972465515\n",
      "Oct - [1700/1854] train loss : 0.049820344895124435\n",
      "Oct - [1800/1854] train loss : 0.03327310085296631\n",
      "Epoch [2/8]\n",
      "Train Loss: 0.0929, Train Accuracy: 0.9699\n",
      "Validation Loss: 0.4628, Validation Accuracy: 0.8898\n",
      "Oct - [0/1854] train loss : 0.011881212703883648\n",
      "Oct - [100/1854] train loss : 0.013900076039135456\n",
      "Oct - [200/1854] train loss : 0.13139723241329193\n",
      "Oct - [300/1854] train loss : 0.013354883529245853\n",
      "Oct - [400/1854] train loss : 0.018184887245297432\n",
      "Oct - [500/1854] train loss : 0.0630410686135292\n",
      "Oct - [600/1854] train loss : 0.04806547984480858\n",
      "Oct - [700/1854] train loss : 0.06333338469266891\n",
      "Oct - [800/1854] train loss : 0.02028198167681694\n",
      "Oct - [900/1854] train loss : 0.003960072062909603\n",
      "Oct - [1000/1854] train loss : 0.06638474762439728\n",
      "Oct - [1100/1854] train loss : 0.07368744164705276\n",
      "Oct - [1200/1854] train loss : 0.08203461021184921\n",
      "Oct - [1300/1854] train loss : 0.033280149102211\n",
      "Oct - [1400/1854] train loss : 0.03300442174077034\n",
      "Oct - [1500/1854] train loss : 0.04384798929095268\n",
      "Oct - [1600/1854] train loss : 0.044841550290584564\n",
      "Oct - [1700/1854] train loss : 0.06490255147218704\n",
      "Oct - [1800/1854] train loss : 0.2483418583869934\n",
      "Epoch [3/8]\n",
      "Train Loss: 0.0809, Train Accuracy: 0.9744\n",
      "Validation Loss: 0.4486, Validation Accuracy: 0.8995\n",
      "Oct - [0/1854] train loss : 0.03643205016851425\n",
      "Oct - [100/1854] train loss : 0.019012168049812317\n",
      "Oct - [200/1854] train loss : 0.004591196309775114\n",
      "Oct - [300/1854] train loss : 0.0028592473827302456\n",
      "Oct - [400/1854] train loss : 0.05428541451692581\n",
      "Oct - [500/1854] train loss : 0.02739829570055008\n",
      "Oct - [600/1854] train loss : 0.003304674755781889\n",
      "Oct - [700/1854] train loss : 0.0026038221549242735\n",
      "Oct - [800/1854] train loss : 0.013322358019649982\n",
      "Oct - [900/1854] train loss : 0.017817890271544456\n",
      "Oct - [1000/1854] train loss : 0.17955449223518372\n",
      "Oct - [1100/1854] train loss : 0.006369247566908598\n",
      "Oct - [1200/1854] train loss : 0.19734106957912445\n",
      "Oct - [1300/1854] train loss : 0.2837896943092346\n",
      "Oct - [1400/1854] train loss : 0.13475187122821808\n",
      "Oct - [1500/1854] train loss : 0.09048806130886078\n",
      "Oct - [1600/1854] train loss : 0.01738639734685421\n",
      "Oct - [1700/1854] train loss : 0.015245540998876095\n",
      "Oct - [1800/1854] train loss : 0.18695583939552307\n",
      "Epoch [4/8]\n",
      "Train Loss: 0.0753, Train Accuracy: 0.9764\n",
      "Validation Loss: 0.4165, Validation Accuracy: 0.8983\n",
      "Oct - [0/1854] train loss : 0.06920765340328217\n",
      "Oct - [100/1854] train loss : 0.10280700027942657\n",
      "Oct - [200/1854] train loss : 0.0199873223900795\n",
      "Oct - [300/1854] train loss : 0.009787497110664845\n",
      "Oct - [400/1854] train loss : 0.001598087721504271\n",
      "Oct - [500/1854] train loss : 0.22197411954402924\n",
      "Oct - [600/1854] train loss : 0.08318860828876495\n",
      "Oct - [700/1854] train loss : 0.02404117025434971\n",
      "Oct - [800/1854] train loss : 0.00847007054835558\n",
      "Oct - [900/1854] train loss : 0.015345786698162556\n",
      "Oct - [1000/1854] train loss : 0.003119364846497774\n",
      "Oct - [1100/1854] train loss : 0.025888720527291298\n",
      "Oct - [1200/1854] train loss : 0.0870637372136116\n",
      "Oct - [1300/1854] train loss : 0.05074109882116318\n",
      "Oct - [1400/1854] train loss : 0.24111002683639526\n",
      "Oct - [1500/1854] train loss : 0.07214576750993729\n",
      "Oct - [1600/1854] train loss : 0.01388441864401102\n",
      "Oct - [1700/1854] train loss : 0.131260946393013\n",
      "Oct - [1800/1854] train loss : 0.024048198014497757\n",
      "Epoch [5/8]\n",
      "Train Loss: 0.0701, Train Accuracy: 0.9785\n",
      "Validation Loss: 0.5038, Validation Accuracy: 0.8805\n",
      "Oct - [0/1854] train loss : 0.004670772701501846\n",
      "Oct - [100/1854] train loss : 0.10572044551372528\n",
      "Oct - [200/1854] train loss : 0.020560074597597122\n",
      "Oct - [300/1854] train loss : 0.0585458017885685\n",
      "Oct - [400/1854] train loss : 0.026257779449224472\n",
      "Oct - [500/1854] train loss : 0.008683876134455204\n",
      "Oct - [600/1854] train loss : 0.08340433984994888\n",
      "Oct - [700/1854] train loss : 0.01643012836575508\n",
      "Oct - [800/1854] train loss : 0.016768144443631172\n",
      "Oct - [900/1854] train loss : 0.01677926816046238\n",
      "Oct - [1000/1854] train loss : 0.1633416712284088\n",
      "Oct - [1100/1854] train loss : 0.004436000715941191\n",
      "Oct - [1200/1854] train loss : 0.08560898900032043\n",
      "Oct - [1300/1854] train loss : 0.01655576005578041\n",
      "Oct - [1400/1854] train loss : 0.018643811345100403\n",
      "Oct - [1500/1854] train loss : 0.006157451309263706\n",
      "Oct - [1600/1854] train loss : 0.03309128060936928\n",
      "Oct - [1700/1854] train loss : 0.08886560052633286\n",
      "Oct - [1800/1854] train loss : 0.01186406146734953\n",
      "Epoch [6/8]\n",
      "Train Loss: 0.0606, Train Accuracy: 0.9812\n",
      "Validation Loss: 0.5025, Validation Accuracy: 0.8893\n",
      "Oct - [0/1854] train loss : 0.0974634513258934\n",
      "Oct - [100/1854] train loss : 0.002371488604694605\n",
      "Oct - [200/1854] train loss : 0.016802707687020302\n",
      "Oct - [300/1854] train loss : 0.020678699016571045\n",
      "Oct - [400/1854] train loss : 0.1815321147441864\n",
      "Oct - [500/1854] train loss : 0.015435353852808475\n",
      "Oct - [600/1854] train loss : 0.06771543622016907\n",
      "Oct - [700/1854] train loss : 0.2683711647987366\n",
      "Oct - [800/1854] train loss : 0.00922111514955759\n",
      "Oct - [900/1854] train loss : 0.009466549381613731\n",
      "Oct - [1000/1854] train loss : 0.17118830978870392\n",
      "Oct - [1100/1854] train loss : 0.11192124336957932\n",
      "Oct - [1200/1854] train loss : 0.016787203028798103\n",
      "Oct - [1300/1854] train loss : 0.06378215551376343\n",
      "Oct - [1400/1854] train loss : 0.18903036415576935\n",
      "Oct - [1500/1854] train loss : 0.06719361245632172\n",
      "Oct - [1600/1854] train loss : 0.010875217616558075\n",
      "Oct - [1700/1854] train loss : 0.2824832797050476\n",
      "Oct - [1800/1854] train loss : 0.006800269242376089\n",
      "Epoch [7/8]\n",
      "Train Loss: 0.0617, Train Accuracy: 0.9807\n",
      "Validation Loss: 0.4742, Validation Accuracy: 0.8939\n",
      "Oct - [0/1854] train loss : 0.012702090665698051\n",
      "Oct - [100/1854] train loss : 0.07000035792589188\n",
      "Oct - [200/1854] train loss : 0.12993793189525604\n",
      "Oct - [300/1854] train loss : 0.01126005221158266\n",
      "Oct - [400/1854] train loss : 0.13344299793243408\n",
      "Oct - [500/1854] train loss : 0.03760708123445511\n",
      "Oct - [600/1854] train loss : 0.0027833767235279083\n",
      "Oct - [700/1854] train loss : 0.019390003755688667\n",
      "Oct - [800/1854] train loss : 0.09169291704893112\n",
      "Oct - [900/1854] train loss : 0.014228608459234238\n",
      "Oct - [1000/1854] train loss : 0.01699945516884327\n",
      "Oct - [1100/1854] train loss : 0.022443436086177826\n",
      "Oct - [1200/1854] train loss : 0.04621736705303192\n",
      "Oct - [1300/1854] train loss : 0.04126575216650963\n",
      "Oct - [1400/1854] train loss : 0.013276957906782627\n",
      "Oct - [1500/1854] train loss : 0.014298677444458008\n",
      "Oct - [1600/1854] train loss : 0.07176847755908966\n",
      "Oct - [1700/1854] train loss : 0.00128979014698416\n",
      "Oct - [1800/1854] train loss : 0.05753033980727196\n",
      "Epoch [8/8]\n",
      "Train Loss: 0.0579, Train Accuracy: 0.9815\n",
      "Validation Loss: 0.4939, Validation Accuracy: 0.8879\n"
     ]
    }
   ],
   "source": [
    "for epoch in range(num_epochs):\n",
    "    model.train()\n",
    "    \n",
    "    running_loss = 0.0\n",
    "    correct_predictions = 0\n",
    "    total_samples  =0\n",
    "    i = 0\n",
    "    for inputs, labels in octDL_train:\n",
    "        inputs, labels = inputs.to(device), labels.to(device)\n",
    "        \n",
    "        optimizer.zero_grad()\n",
    "        outputs = model(inputs)\n",
    "        loss = criterion(outputs, labels)\n",
    "        loss.backward()\n",
    "        optimizer.step()\n",
    "        \n",
    "        running_loss += loss.item() * inputs.size(0)\n",
    "        _, predicted = torch.max(outputs, 1)\n",
    "        correct_predictions += (predicted == labels).sum().item()\n",
    "        total_samples += labels.size(0)\n",
    "        \n",
    "        if(i%100 == 0):\n",
    "            print(f\"Oct - [{i}/{len(octDL_train)}] train loss : {loss.item()}\")\n",
    "        i = i+1\n",
    "        \n",
    "    train_loss = running_loss / total_samples\n",
    "    train_accuracy = correct_predictions / total_samples\n",
    "    \n",
    "    model.eval()\n",
    "    val_loss = 0.0\n",
    "    correct_val_predictions = 0\n",
    "    total_val_samples = 0\n",
    "    \n",
    "    with torch.no_grad():\n",
    "        for val_inputs, val_labels in octDL_val:\n",
    "            val_inputs, val_labels = val_inputs.to(device), val_labels.to(device)\n",
    "            \n",
    "            val_outputs = model(val_inputs)\n",
    "            loss = criterion(val_outputs, val_labels)\n",
    "            \n",
    "            val_loss += loss.item() * val_inputs.size(0)\n",
    "            _, val_predicted = torch.max(val_outputs, 1)\n",
    "            correct_val_predictions += (val_predicted == val_labels).sum().item()\n",
    "            total_val_samples += val_labels.size(0)\n",
    "    \n",
    "    val_loss /= total_val_samples\n",
    "    val_accuracy = correct_val_predictions / total_val_samples\n",
    "    \n",
    "    # Print epoch stats\n",
    "    print(f'Epoch [{epoch+1}/{num_epochs}]')\n",
    "    print(f'Train Loss: {train_loss:.4f}, Train Accuracy: {train_accuracy:.4f}')\n",
    "    print(f'Validation Loss: {val_loss:.4f}, Validation Accuracy: {val_accuracy:.4f}')"
   ]
  },
  {
   "cell_type": "code",
   "execution_count": 67,
   "id": "15a92826",
   "metadata": {
    "execution": {
     "iopub.execute_input": "2024-10-19T19:24:29.756302Z",
     "iopub.status.busy": "2024-10-19T19:24:29.755958Z",
     "iopub.status.idle": "2024-10-19T19:25:17.692963Z",
     "shell.execute_reply": "2024-10-19T19:25:17.692110Z"
    },
    "papermill": {
     "duration": 48.105532,
     "end_time": "2024-10-19T19:25:17.779487",
     "exception": false,
     "start_time": "2024-10-19T19:24:29.673955",
     "status": "completed"
    },
    "tags": []
   },
   "outputs": [
    {
     "data": {
      "image/png": "[encoded data removed]",
      "text/plain": [
       "<Figure size 600x400 with 2 Axes>"
      ]
     },
     "metadata": {},
     "output_type": "display_data"
    }
   ],
   "source": [
    "# Get the predictions and true labels for the test set\n",
    "preds, true_labels = get_predictions_and_labels(model, octDL_val)\n",
    "\n",
    "# Compute the confusion matrix\n",
    "conf_matrix = confusion_matrix(true_labels, preds)\n",
    "class_names = [f'Class {i}' for i in range(len(target_class_names)+1)]\n",
    "# Plot the confusion matrix using seaborn\n",
    "plt.figure(figsize=(6, 4))\n",
    "sns.heatmap(conf_matrix, annot=True, fmt=\"d\", cmap=\"Blues\", xticklabels=class_names, yticklabels=class_names)\n",
    "plt.xlabel('Predicted Label')\n",
    "plt.ylabel('True Label')\n",
    "plt.title('Confusion Matrix')\n",
    "plt.show()"
   ]
  },
  {
   "cell_type": "code",
   "execution_count": 68,
   "id": "0ebecdca",
   "metadata": {
    "execution": {
     "iopub.execute_input": "2024-10-19T19:25:17.945168Z",
     "iopub.status.busy": "2024-10-19T19:25:17.944854Z",
     "iopub.status.idle": "2024-10-19T19:25:17.952549Z",
     "shell.execute_reply": "2024-10-19T19:25:17.951640Z"
    },
    "papermill": {
     "duration": 0.093074,
     "end_time": "2024-10-19T19:25:17.954520",
     "exception": false,
     "start_time": "2024-10-19T19:25:17.861446",
     "status": "completed"
    },
    "tags": []
   },
   "outputs": [],
   "source": [
    "del octDL_train\n",
    "del octDL_val"
   ]
  },
  {
   "cell_type": "markdown",
   "id": "cfc88ce9",
   "metadata": {
    "papermill": {
     "duration": 0.081187,
     "end_time": "2024-10-19T19:25:18.117273",
     "exception": false,
     "start_time": "2024-10-19T19:25:18.036086",
     "status": "completed"
    },
    "tags": []
   },
   "source": [
    "# Nonary"
   ]
  },
  {
   "cell_type": "code",
   "execution_count": 69,
   "id": "79ddd005",
   "metadata": {
    "execution": {
     "iopub.execute_input": "2024-10-19T19:25:18.282312Z",
     "iopub.status.busy": "2024-10-19T19:25:18.282036Z",
     "iopub.status.idle": "2024-10-19T19:25:35.788246Z",
     "shell.execute_reply": "2024-10-19T19:25:35.787447Z"
    },
    "papermill": {
     "duration": 17.591445,
     "end_time": "2024-10-19T19:25:35.790425",
     "exception": false,
     "start_time": "2024-10-19T19:25:18.198980",
     "status": "completed"
    },
    "tags": []
   },
   "outputs": [],
   "source": [
    "target_class_names = [\"Normal\",\"Erosion\",\"Polyp\", \"Angioectasia\", \"Bleeding\", \"Lymphangiectasia\", \"Foreign Body\", \"Erythema\"]\n",
    "nonDL_train = getNaryDataLoader(target_class_names=target_class_names, path_to_dataset=train_path, \n",
    "                          batch_size=32, trans = train_transform)\n",
    "nonDL_val = getNaryDataLoader(target_class_names=target_class_names, path_to_dataset=val_path, \n",
    "                          batch_size=32, trans = val_transform)"
   ]
  },
  {
   "cell_type": "code",
   "execution_count": 70,
   "id": "0a9aefc7",
   "metadata": {
    "execution": {
     "iopub.execute_input": "2024-10-19T19:25:35.957443Z",
     "iopub.status.busy": "2024-10-19T19:25:35.956862Z",
     "iopub.status.idle": "2024-10-19T19:25:35.961770Z",
     "shell.execute_reply": "2024-10-19T19:25:35.960966Z"
    },
    "papermill": {
     "duration": 0.090138,
     "end_time": "2024-10-19T19:25:35.963639",
     "exception": false,
     "start_time": "2024-10-19T19:25:35.873501",
     "status": "completed"
    },
    "tags": []
   },
   "outputs": [],
   "source": [
    "num_ftrs = model.fc.in_features\n",
    "model.fc = nn.Linear(in_features=num_ftrs, out_features=len(target_class_names)+1)"
   ]
  },
  {
   "cell_type": "code",
   "execution_count": 71,
   "id": "1410be2c",
   "metadata": {
    "execution": {
     "iopub.execute_input": "2024-10-19T19:25:36.129118Z",
     "iopub.status.busy": "2024-10-19T19:25:36.128803Z",
     "iopub.status.idle": "2024-10-19T19:25:36.133613Z",
     "shell.execute_reply": "2024-10-19T19:25:36.132728Z"
    },
    "papermill": {
     "duration": 0.089391,
     "end_time": "2024-10-19T19:25:36.135506",
     "exception": false,
     "start_time": "2024-10-19T19:25:36.046115",
     "status": "completed"
    },
    "tags": []
   },
   "outputs": [],
   "source": [
    "device = torch.device(\"cuda\" if torch.cuda.is_available() else \"cpu\")\n",
    "if torch.cuda.device_count() > 1:\n",
    "    model = nn.DataParallel(model)"
   ]
  },
  {
   "cell_type": "code",
   "execution_count": 72,
   "id": "0588a922",
   "metadata": {
    "execution": {
     "iopub.execute_input": "2024-10-19T19:25:36.300785Z",
     "iopub.status.busy": "2024-10-19T19:25:36.300486Z",
     "iopub.status.idle": "2024-10-19T19:25:36.309979Z",
     "shell.execute_reply": "2024-10-19T19:25:36.309306Z"
    },
    "papermill": {
     "duration": 0.094215,
     "end_time": "2024-10-19T19:25:36.311915",
     "exception": false,
     "start_time": "2024-10-19T19:25:36.217700",
     "status": "completed"
    },
    "tags": []
   },
   "outputs": [],
   "source": [
    "model = model.to(device)\n",
    "criterion = nn.CrossEntropyLoss() \n",
    "# optimizer = torch.optim.Adam(model.parameters(), lr=0.001)"
   ]
  },
  {
   "cell_type": "code",
   "execution_count": 73,
   "id": "84ee38bf",
   "metadata": {
    "execution": {
     "iopub.execute_input": "2024-10-19T19:25:36.476803Z",
     "iopub.status.busy": "2024-10-19T19:25:36.476299Z",
     "iopub.status.idle": "2024-10-19T19:25:36.484595Z",
     "shell.execute_reply": "2024-10-19T19:25:36.483960Z"
    },
    "papermill": {
     "duration": 0.092514,
     "end_time": "2024-10-19T19:25:36.486367",
     "exception": false,
     "start_time": "2024-10-19T19:25:36.393853",
     "status": "completed"
    },
    "tags": []
   },
   "outputs": [],
   "source": [
    "model = model.to(device)"
   ]
  },
  {
   "cell_type": "code",
   "execution_count": 74,
   "id": "28a17298",
   "metadata": {
    "execution": {
     "iopub.execute_input": "2024-10-19T19:25:36.651561Z",
     "iopub.status.busy": "2024-10-19T19:25:36.651289Z",
     "iopub.status.idle": "2024-10-19T19:25:36.654884Z",
     "shell.execute_reply": "2024-10-19T19:25:36.654087Z"
    },
    "papermill": {
     "duration": 0.088118,
     "end_time": "2024-10-19T19:25:36.656643",
     "exception": false,
     "start_time": "2024-10-19T19:25:36.568525",
     "status": "completed"
    },
    "tags": []
   },
   "outputs": [],
   "source": [
    "num_epochs = 9"
   ]
  },
  {
   "cell_type": "code",
   "execution_count": 75,
   "id": "295a56f9",
   "metadata": {
    "execution": {
     "iopub.execute_input": "2024-10-19T19:25:36.823799Z",
     "iopub.status.busy": "2024-10-19T19:25:36.823533Z",
     "iopub.status.idle": "2024-10-19T20:38:24.255931Z",
     "shell.execute_reply": "2024-10-19T20:38:24.254880Z"
    },
    "papermill": {
     "duration": 4367.614695,
     "end_time": "2024-10-19T20:38:24.355054",
     "exception": false,
     "start_time": "2024-10-19T19:25:36.740359",
     "status": "completed"
    },
    "tags": []
   },
   "outputs": [
    {
     "name": "stdout",
     "output_type": "stream",
     "text": [
      "Non - [0/1854] train loss : 2.4541375637054443\n",
      "Non - [100/1854] train loss : 0.14387881755828857\n",
      "Non - [200/1854] train loss : 0.08661077916622162\n",
      "Non - [300/1854] train loss : 0.04641040787100792\n",
      "Non - [400/1854] train loss : 0.03978444263339043\n",
      "Non - [500/1854] train loss : 0.018167290836572647\n",
      "Non - [600/1854] train loss : 0.019266244024038315\n",
      "Non - [700/1854] train loss : 0.012971888296306133\n",
      "Non - [800/1854] train loss : 0.011544491164386272\n",
      "Non - [900/1854] train loss : 0.03736935183405876\n",
      "Non - [1000/1854] train loss : 0.023540152236819267\n",
      "Non - [1100/1854] train loss : 0.030912945047020912\n",
      "Non - [1200/1854] train loss : 0.18474522233009338\n",
      "Non - [1300/1854] train loss : 0.08538675308227539\n",
      "Non - [1400/1854] train loss : 0.03594820201396942\n",
      "Non - [1500/1854] train loss : 0.031482014805078506\n",
      "Non - [1600/1854] train loss : 0.025629058480262756\n",
      "Non - [1700/1854] train loss : 0.016026517376303673\n",
      "Non - [1800/1854] train loss : 0.011098336428403854\n",
      "Epoch [1/9]\n",
      "Train Loss: 0.0850, Train Accuracy: 0.9752\n",
      "Validation Loss: 0.4467, Validation Accuracy: 0.8959\n",
      "Non - [0/1854] train loss : 0.005349115002900362\n",
      "Non - [100/1854] train loss : 0.0026029632426798344\n",
      "Non - [200/1854] train loss : 0.19414469599723816\n",
      "Non - [300/1854] train loss : 0.008065551519393921\n",
      "Non - [400/1854] train loss : 0.06639336049556732\n",
      "Non - [500/1854] train loss : 0.005150533281266689\n",
      "Non - [600/1854] train loss : 0.15336333215236664\n",
      "Non - [700/1854] train loss : 0.0935819074511528\n",
      "Non - [800/1854] train loss : 0.09341893345117569\n",
      "Non - [900/1854] train loss : 0.010516626760363579\n",
      "Non - [1000/1854] train loss : 0.11364160478115082\n",
      "Non - [1100/1854] train loss : 0.07698792964220047\n",
      "Non - [1200/1854] train loss : 0.03252589330077171\n",
      "Non - [1300/1854] train loss : 0.014171022921800613\n",
      "Non - [1400/1854] train loss : 0.08565894514322281\n",
      "Non - [1500/1854] train loss : 0.053002722561359406\n",
      "Non - [1600/1854] train loss : 0.06584103405475616\n",
      "Non - [1700/1854] train loss : 0.005963345058262348\n",
      "Non - [1800/1854] train loss : 0.1080237627029419\n",
      "Epoch [2/9]\n",
      "Train Loss: 0.0604, Train Accuracy: 0.9811\n",
      "Validation Loss: 0.4947, Validation Accuracy: 0.8903\n",
      "Non - [0/1854] train loss : 0.02710564061999321\n",
      "Non - [100/1854] train loss : 0.010547413490712643\n",
      "Non - [200/1854] train loss : 0.0182125773280859\n",
      "Non - [300/1854] train loss : 0.04408910125494003\n",
      "Non - [400/1854] train loss : 0.0038161452393978834\n",
      "Non - [500/1854] train loss : 0.06642767041921616\n",
      "Non - [600/1854] train loss : 0.0035044781398028135\n",
      "Non - [700/1854] train loss : 0.013629032298922539\n",
      "Non - [800/1854] train loss : 0.012744178995490074\n",
      "Non - [900/1854] train loss : 0.020526055246591568\n",
      "Non - [1000/1854] train loss : 0.025127727538347244\n",
      "Non - [1100/1854] train loss : 0.28374025225639343\n",
      "Non - [1200/1854] train loss : 0.02592160925269127\n",
      "Non - [1300/1854] train loss : 0.01974666118621826\n",
      "Non - [1400/1854] train loss : 0.11260949820280075\n",
      "Non - [1500/1854] train loss : 0.005331648048013449\n",
      "Non - [1600/1854] train loss : 0.09169915318489075\n",
      "Non - [1700/1854] train loss : 0.2632451355457306\n",
      "Non - [1800/1854] train loss : 0.009171972051262856\n",
      "Epoch [3/9]\n",
      "Train Loss: 0.0543, Train Accuracy: 0.9827\n",
      "Validation Loss: 0.4913, Validation Accuracy: 0.8904\n",
      "Non - [0/1854] train loss : 0.023330163210630417\n",
      "Non - [100/1854] train loss : 0.05390791594982147\n",
      "Non - [200/1854] train loss : 0.02455011010169983\n",
      "Non - [300/1854] train loss : 0.0035704118199646473\n",
      "Non - [400/1854] train loss : 0.00171394192148\n",
      "Non - [500/1854] train loss : 0.01960304193198681\n",
      "Non - [600/1854] train loss : 0.009237670339643955\n",
      "Non - [700/1854] train loss : 0.014012936502695084\n",
      "Non - [800/1854] train loss : 0.0371355302631855\n",
      "Non - [900/1854] train loss : 0.05137188360095024\n",
      "Non - [1000/1854] train loss : 0.18410563468933105\n",
      "Non - [1100/1854] train loss : 0.006626232527196407\n",
      "Non - [1200/1854] train loss : 0.11037622392177582\n",
      "Non - [1300/1854] train loss : 0.1305336058139801\n",
      "Non - [1400/1854] train loss : 0.04061285778880119\n",
      "Non - [1500/1854] train loss : 0.11187222599983215\n",
      "Non - [1600/1854] train loss : 0.16780519485473633\n",
      "Non - [1700/1854] train loss : 0.03466981276869774\n",
      "Non - [1800/1854] train loss : 0.006338801700621843\n",
      "Epoch [4/9]\n",
      "Train Loss: 0.0525, Train Accuracy: 0.9828\n",
      "Validation Loss: 0.4996, Validation Accuracy: 0.8919\n",
      "Non - [0/1854] train loss : 0.059735823422670364\n",
      "Non - [100/1854] train loss : 0.028431877493858337\n",
      "Non - [200/1854] train loss : 0.023847995325922966\n",
      "Non - [300/1854] train loss : 0.006515073124319315\n",
      "Non - [400/1854] train loss : 0.016632765531539917\n",
      "Non - [500/1854] train loss : 0.002234889194369316\n",
      "Non - [600/1854] train loss : 0.16075125336647034\n",
      "Non - [700/1854] train loss : 0.02103925496339798\n",
      "Non - [800/1854] train loss : 0.1111365556716919\n",
      "Non - [900/1854] train loss : 0.005393314175307751\n",
      "Non - [1000/1854] train loss : 0.08943569660186768\n",
      "Non - [1100/1854] train loss : 0.10468635708093643\n",
      "Non - [1200/1854] train loss : 0.005884772166609764\n",
      "Non - [1300/1854] train loss : 0.08233760297298431\n",
      "Non - [1400/1854] train loss : 0.027507426217198372\n",
      "Non - [1500/1854] train loss : 0.07133553922176361\n",
      "Non - [1600/1854] train loss : 0.004704487510025501\n",
      "Non - [1700/1854] train loss : 0.012638900429010391\n",
      "Non - [1800/1854] train loss : 0.24809269607067108\n",
      "Epoch [5/9]\n",
      "Train Loss: 0.0506, Train Accuracy: 0.9840\n",
      "Validation Loss: 0.4618, Validation Accuracy: 0.8985\n",
      "Non - [0/1854] train loss : 0.09934587776660919\n",
      "Non - [100/1854] train loss : 0.0032370355911552906\n",
      "Non - [200/1854] train loss : 0.16548790037631989\n",
      "Non - [300/1854] train loss : 0.0349443219602108\n",
      "Non - [400/1854] train loss : 0.0392971895635128\n",
      "Non - [500/1854] train loss : 0.09336231648921967\n",
      "Non - [600/1854] train loss : 0.023143889382481575\n",
      "Non - [700/1854] train loss : 0.14013253152370453\n",
      "Non - [800/1854] train loss : 0.0038788574747741222\n",
      "Non - [900/1854] train loss : 0.06478301435709\n",
      "Non - [1000/1854] train loss : 0.006456457078456879\n",
      "Non - [1100/1854] train loss : 0.0551358237862587\n",
      "Non - [1200/1854] train loss : 0.007117106579244137\n",
      "Non - [1300/1854] train loss : 0.2517955005168915\n",
      "Non - [1400/1854] train loss : 0.050266411155462265\n",
      "Non - [1500/1854] train loss : 0.008394720032811165\n",
      "Non - [1600/1854] train loss : 0.004036454949527979\n",
      "Non - [1700/1854] train loss : 0.030787048861384392\n",
      "Non - [1800/1854] train loss : 0.018491119146347046\n",
      "Epoch [6/9]\n",
      "Train Loss: 0.0470, Train Accuracy: 0.9846\n",
      "Validation Loss: 0.5694, Validation Accuracy: 0.8814\n",
      "Non - [0/1854] train loss : 0.007100801449269056\n",
      "Non - [100/1854] train loss : 0.02650906890630722\n",
      "Non - [200/1854] train loss : 0.13019725680351257\n",
      "Non - [300/1854] train loss : 0.005995944608002901\n",
      "Non - [400/1854] train loss : 0.023949723690748215\n",
      "Non - [500/1854] train loss : 0.06392654031515121\n",
      "Non - [600/1854] train loss : 0.010509665124118328\n",
      "Non - [700/1854] train loss : 0.004737866576761007\n",
      "Non - [800/1854] train loss : 0.05153464525938034\n",
      "Non - [900/1854] train loss : 0.00466142175719142\n",
      "Non - [1000/1854] train loss : 0.05832750350236893\n",
      "Non - [1100/1854] train loss : 0.13409440219402313\n",
      "Non - [1200/1854] train loss : 0.003176293335855007\n",
      "Non - [1300/1854] train loss : 0.038964491337537766\n",
      "Non - [1400/1854] train loss : 0.019300108775496483\n",
      "Non - [1500/1854] train loss : 0.015773955732584\n",
      "Non - [1600/1854] train loss : 0.14907847344875336\n",
      "Non - [1700/1854] train loss : 0.028651220723986626\n",
      "Non - [1800/1854] train loss : 0.09013831615447998\n",
      "Epoch [7/9]\n",
      "Train Loss: 0.0477, Train Accuracy: 0.9838\n",
      "Validation Loss: 0.4800, Validation Accuracy: 0.8991\n",
      "Non - [0/1854] train loss : 0.014365850947797298\n",
      "Non - [100/1854] train loss : 0.11590435355901718\n",
      "Non - [200/1854] train loss : 0.04584697261452675\n",
      "Non - [300/1854] train loss : 0.011858565732836723\n",
      "Non - [400/1854] train loss : 0.022578056901693344\n",
      "Non - [500/1854] train loss : 0.011369653046131134\n",
      "Non - [600/1854] train loss : 0.02321482263505459\n",
      "Non - [700/1854] train loss : 0.0872340053319931\n",
      "Non - [800/1854] train loss : 0.008318531326949596\n",
      "Non - [900/1854] train loss : 0.007637061178684235\n",
      "Non - [1000/1854] train loss : 0.03855089470744133\n",
      "Non - [1100/1854] train loss : 0.17897270619869232\n",
      "Non - [1200/1854] train loss : 0.016440309584140778\n",
      "Non - [1300/1854] train loss : 0.21398964524269104\n",
      "Non - [1400/1854] train loss : 0.12323381006717682\n",
      "Non - [1500/1854] train loss : 0.030634457245469093\n",
      "Non - [1600/1854] train loss : 0.001520729623734951\n",
      "Non - [1700/1854] train loss : 0.012422521598637104\n",
      "Non - [1800/1854] train loss : 0.006243403069674969\n",
      "Epoch [8/9]\n",
      "Train Loss: 0.0457, Train Accuracy: 0.9839\n",
      "Validation Loss: 0.4765, Validation Accuracy: 0.8953\n",
      "Non - [0/1854] train loss : 0.04241463169455528\n",
      "Non - [100/1854] train loss : 0.0030871655326336622\n",
      "Non - [200/1854] train loss : 0.01359089557081461\n",
      "Non - [300/1854] train loss : 0.022784505039453506\n",
      "Non - [400/1854] train loss : 0.007249976508319378\n",
      "Non - [500/1854] train loss : 0.015571804717183113\n",
      "Non - [600/1854] train loss : 0.0075979274697601795\n",
      "Non - [700/1854] train loss : 0.020286349579691887\n",
      "Non - [800/1854] train loss : 0.041017137467861176\n",
      "Non - [900/1854] train loss : 0.012417502701282501\n",
      "Non - [1000/1854] train loss : 0.020592160522937775\n",
      "Non - [1100/1854] train loss : 0.022238200530409813\n",
      "Non - [1200/1854] train loss : 0.005796321667730808\n",
      "Non - [1300/1854] train loss : 0.07160395383834839\n",
      "Non - [1400/1854] train loss : 0.05286312848329544\n",
      "Non - [1500/1854] train loss : 0.07597153633832932\n",
      "Non - [1600/1854] train loss : 0.1689666509628296\n",
      "Non - [1700/1854] train loss : 0.2021758109331131\n",
      "Non - [1800/1854] train loss : 0.01329858973622322\n",
      "Epoch [9/9]\n",
      "Train Loss: 0.0413, Train Accuracy: 0.9862\n",
      "Validation Loss: 0.4982, Validation Accuracy: 0.8928\n"
     ]
    }
   ],
   "source": [
    "for epoch in range(num_epochs):\n",
    "    model.train()\n",
    "    \n",
    "    running_loss = 0.0\n",
    "    correct_predictions = 0\n",
    "    total_samples  =0\n",
    "    i = 0\n",
    "    for inputs, labels in nonDL_train:\n",
    "        inputs, labels = inputs.to(device), labels.to(device)\n",
    "        \n",
    "        optimizer.zero_grad()\n",
    "        outputs = model(inputs)\n",
    "        loss = criterion(outputs, labels)\n",
    "        loss.backward()\n",
    "        optimizer.step()\n",
    "        \n",
    "        running_loss += loss.item() * inputs.size(0)\n",
    "        _, predicted = torch.max(outputs, 1)\n",
    "        correct_predictions += (predicted == labels).sum().item()\n",
    "        total_samples += labels.size(0)\n",
    "        \n",
    "        if(i%100 == 0):\n",
    "            print(f\"Non - [{i}/{len(nonDL_train)}] train loss : {loss.item()}\")\n",
    "        i = i+1\n",
    "        \n",
    "    train_loss = running_loss / total_samples\n",
    "    train_accuracy = correct_predictions / total_samples\n",
    "    \n",
    "    model.eval()\n",
    "    val_loss = 0.0\n",
    "    correct_val_predictions = 0\n",
    "    total_val_samples = 0\n",
    "    \n",
    "    with torch.no_grad():\n",
    "        for val_inputs, val_labels in nonDL_val:\n",
    "            val_inputs, val_labels = val_inputs.to(device), val_labels.to(device)\n",
    "            \n",
    "            val_outputs = model(val_inputs)\n",
    "            loss = criterion(val_outputs, val_labels)\n",
    "            \n",
    "            val_loss += loss.item() * val_inputs.size(0)\n",
    "            _, val_predicted = torch.max(val_outputs, 1)\n",
    "            correct_val_predictions += (val_predicted == val_labels).sum().item()\n",
    "            total_val_samples += val_labels.size(0)\n",
    "    \n",
    "    val_loss /= total_val_samples\n",
    "    val_accuracy = correct_val_predictions / total_val_samples\n",
    "    \n",
    "    # Print epoch stats\n",
    "    print(f'Epoch [{epoch+1}/{num_epochs}]')\n",
    "    print(f'Train Loss: {train_loss:.4f}, Train Accuracy: {train_accuracy:.4f}')\n",
    "    print(f'Validation Loss: {val_loss:.4f}, Validation Accuracy: {val_accuracy:.4f}')"
   ]
  },
  {
   "cell_type": "code",
   "execution_count": 76,
   "id": "7258fb38",
   "metadata": {
    "execution": {
     "iopub.execute_input": "2024-10-19T20:38:24.547956Z",
     "iopub.status.busy": "2024-10-19T20:38:24.547582Z",
     "iopub.status.idle": "2024-10-19T20:39:12.713093Z",
     "shell.execute_reply": "2024-10-19T20:39:12.712207Z"
    },
    "papermill": {
     "duration": 48.361059,
     "end_time": "2024-10-19T20:39:12.812247",
     "exception": false,
     "start_time": "2024-10-19T20:38:24.451188",
     "status": "completed"
    },
    "tags": []
   },
   "outputs": [
    {
     "data": {
      "image/png": "[encoded data removed]",
      "text/plain": [
       "<Figure size 600x400 with 2 Axes>"
      ]
     },
     "metadata": {},
     "output_type": "display_data"
    }
   ],
   "source": [
    "# Get the predictions and true labels for the test set\n",
    "preds, true_labels = get_predictions_and_labels(model, nonDL_val)\n",
    "\n",
    "# Compute the confusion matrix\n",
    "conf_matrix = confusion_matrix(true_labels, preds)\n",
    "class_names = [f'Class {i}' for i in range(len(target_class_names)+1)]\n",
    "# Plot the confusion matrix using seaborn\n",
    "plt.figure(figsize=(6, 4))\n",
    "sns.heatmap(conf_matrix, annot=True, fmt=\"d\", cmap=\"Blues\", xticklabels=class_names, yticklabels=class_names)\n",
    "plt.xlabel('Predicted Label')\n",
    "plt.ylabel('True Label')\n",
    "plt.title('Confusion Matrix')\n",
    "plt.show()"
   ]
  },
  {
   "cell_type": "code",
   "execution_count": 77,
   "id": "5f5af7e1",
   "metadata": {
    "execution": {
     "iopub.execute_input": "2024-10-19T20:39:13.006738Z",
     "iopub.status.busy": "2024-10-19T20:39:13.006390Z",
     "iopub.status.idle": "2024-10-19T20:39:13.013862Z",
     "shell.execute_reply": "2024-10-19T20:39:13.013123Z"
    },
    "papermill": {
     "duration": 0.107305,
     "end_time": "2024-10-19T20:39:13.015721",
     "exception": false,
     "start_time": "2024-10-19T20:39:12.908416",
     "status": "completed"
    },
    "tags": []
   },
   "outputs": [],
   "source": [
    "del nonDL_train\n",
    "del nonDL_val"
   ]
  },
  {
   "cell_type": "markdown",
   "id": "a1c8be1b",
   "metadata": {
    "papermill": {
     "duration": 0.096099,
     "end_time": "2024-10-19T20:39:13.208886",
     "exception": false,
     "start_time": "2024-10-19T20:39:13.112787",
     "status": "completed"
    },
    "tags": []
   },
   "source": [
    "# Decimal"
   ]
  },
  {
   "cell_type": "code",
   "execution_count": 78,
   "id": "4e59b987",
   "metadata": {
    "execution": {
     "iopub.execute_input": "2024-10-19T20:39:13.402428Z",
     "iopub.status.busy": "2024-10-19T20:39:13.402126Z",
     "iopub.status.idle": "2024-10-19T20:39:28.487233Z",
     "shell.execute_reply": "2024-10-19T20:39:28.486447Z"
    },
    "papermill": {
     "duration": 15.184418,
     "end_time": "2024-10-19T20:39:28.489394",
     "exception": false,
     "start_time": "2024-10-19T20:39:13.304976",
     "status": "completed"
    },
    "tags": []
   },
   "outputs": [],
   "source": [
    "target_class_names = [\"Normal\",\"Erosion\",\"Polyp\", \"Angioectasia\", \"Bleeding\", \"Lymphangiectasia\", \"Foreign Body\", \"Erythema\",\"Ulcer\"]\n",
    "decDL_train = getNaryDataLoader(target_class_names=target_class_names, path_to_dataset=train_path, \n",
    "                          batch_size=32, trans = train_transform)\n",
    "decDL_val = getNaryDataLoader(target_class_names=target_class_names, path_to_dataset=val_path, \n",
    "                          batch_size=32, trans = val_transform)"
   ]
  },
  {
   "cell_type": "code",
   "execution_count": 79,
   "id": "54df4583",
   "metadata": {
    "execution": {
     "iopub.execute_input": "2024-10-19T20:39:28.685864Z",
     "iopub.status.busy": "2024-10-19T20:39:28.685519Z",
     "iopub.status.idle": "2024-10-19T20:39:28.690745Z",
     "shell.execute_reply": "2024-10-19T20:39:28.689889Z"
    },
    "papermill": {
     "duration": 0.105135,
     "end_time": "2024-10-19T20:39:28.692769",
     "exception": false,
     "start_time": "2024-10-19T20:39:28.587634",
     "status": "completed"
    },
    "tags": []
   },
   "outputs": [],
   "source": [
    "num_ftrs = model.fc.in_features\n",
    "model.fc = nn.Linear(in_features=num_ftrs, out_features=len(target_class_names)+1)"
   ]
  },
  {
   "cell_type": "code",
   "execution_count": 80,
   "id": "8839a42a",
   "metadata": {
    "execution": {
     "iopub.execute_input": "2024-10-19T20:39:28.887461Z",
     "iopub.status.busy": "2024-10-19T20:39:28.887132Z",
     "iopub.status.idle": "2024-10-19T20:39:28.891882Z",
     "shell.execute_reply": "2024-10-19T20:39:28.890992Z"
    },
    "papermill": {
     "duration": 0.104361,
     "end_time": "2024-10-19T20:39:28.893772",
     "exception": false,
     "start_time": "2024-10-19T20:39:28.789411",
     "status": "completed"
    },
    "tags": []
   },
   "outputs": [],
   "source": [
    "device = torch.device(\"cuda\" if torch.cuda.is_available() else \"cpu\")\n",
    "if torch.cuda.device_count() > 1:\n",
    "    model = nn.DataParallel(model)"
   ]
  },
  {
   "cell_type": "code",
   "execution_count": 81,
   "id": "9308229f",
   "metadata": {
    "execution": {
     "iopub.execute_input": "2024-10-19T20:39:29.087169Z",
     "iopub.status.busy": "2024-10-19T20:39:29.086862Z",
     "iopub.status.idle": "2024-10-19T20:39:29.096078Z",
     "shell.execute_reply": "2024-10-19T20:39:29.095407Z"
    },
    "papermill": {
     "duration": 0.10795,
     "end_time": "2024-10-19T20:39:29.097963",
     "exception": false,
     "start_time": "2024-10-19T20:39:28.990013",
     "status": "completed"
    },
    "tags": []
   },
   "outputs": [],
   "source": [
    "model = model.to(device)\n",
    "criterion = nn.CrossEntropyLoss() \n",
    "# optimizer = torch.optim.Adam(model.parameters(), lr=0.001)"
   ]
  },
  {
   "cell_type": "code",
   "execution_count": 82,
   "id": "319fc345",
   "metadata": {
    "execution": {
     "iopub.execute_input": "2024-10-19T20:39:29.293374Z",
     "iopub.status.busy": "2024-10-19T20:39:29.293083Z",
     "iopub.status.idle": "2024-10-19T20:39:29.302018Z",
     "shell.execute_reply": "2024-10-19T20:39:29.301358Z"
    },
    "papermill": {
     "duration": 0.10814,
     "end_time": "2024-10-19T20:39:29.303930",
     "exception": false,
     "start_time": "2024-10-19T20:39:29.195790",
     "status": "completed"
    },
    "tags": []
   },
   "outputs": [],
   "source": [
    "model = model.to(device)"
   ]
  },
  {
   "cell_type": "code",
   "execution_count": 83,
   "id": "54589822",
   "metadata": {
    "execution": {
     "iopub.execute_input": "2024-10-19T20:39:29.498391Z",
     "iopub.status.busy": "2024-10-19T20:39:29.498101Z",
     "iopub.status.idle": "2024-10-19T20:39:29.501870Z",
     "shell.execute_reply": "2024-10-19T20:39:29.501072Z"
    },
    "papermill": {
     "duration": 0.103162,
     "end_time": "2024-10-19T20:39:29.503665",
     "exception": false,
     "start_time": "2024-10-19T20:39:29.400503",
     "status": "completed"
    },
    "tags": []
   },
   "outputs": [],
   "source": [
    "num_epochs = 10"
   ]
  },
  {
   "cell_type": "code",
   "execution_count": 84,
   "id": "72b583f7",
   "metadata": {
    "execution": {
     "iopub.execute_input": "2024-10-19T20:39:29.697236Z",
     "iopub.status.busy": "2024-10-19T20:39:29.696953Z",
     "iopub.status.idle": "2024-10-19T21:59:00.783664Z",
     "shell.execute_reply": "2024-10-19T21:59:00.782686Z"
    },
    "papermill": {
     "duration": 4771.301848,
     "end_time": "2024-10-19T21:59:00.901647",
     "exception": false,
     "start_time": "2024-10-19T20:39:29.599799",
     "status": "completed"
    },
    "tags": []
   },
   "outputs": [
    {
     "name": "stdout",
     "output_type": "stream",
     "text": [
      "Dec - [0/1854] train loss : 3.0356383323669434\n",
      "Dec - [100/1854] train loss : 0.023278743028640747\n",
      "Dec - [200/1854] train loss : 0.026421798393130302\n",
      "Dec - [300/1854] train loss : 0.03318994864821434\n",
      "Dec - [400/1854] train loss : 0.01287057250738144\n",
      "Dec - [500/1854] train loss : 0.054596398025751114\n",
      "Dec - [600/1854] train loss : 0.061790429055690765\n",
      "Dec - [700/1854] train loss : 0.10836578905582428\n",
      "Dec - [800/1854] train loss : 0.02254890277981758\n",
      "Dec - [900/1854] train loss : 0.09623705595731735\n",
      "Dec - [1000/1854] train loss : 0.009704581461846828\n",
      "Dec - [1100/1854] train loss : 0.035462427884340286\n",
      "Dec - [1200/1854] train loss : 0.016286121681332588\n",
      "Dec - [1300/1854] train loss : 0.014530316926538944\n",
      "Dec - [1400/1854] train loss : 0.14056864380836487\n",
      "Dec - [1500/1854] train loss : 0.07056856155395508\n",
      "Dec - [1600/1854] train loss : 0.006393339019268751\n",
      "Dec - [1700/1854] train loss : 0.10676224529743195\n",
      "Dec - [1800/1854] train loss : 0.06095554679632187\n",
      "Epoch [1/10]\n",
      "Train Loss: 0.0667, Train Accuracy: 0.9802\n",
      "Validation Loss: 0.4729, Validation Accuracy: 0.8962\n",
      "Dec - [0/1854] train loss : 0.022666780278086662\n",
      "Dec - [100/1854] train loss : 0.02128954790532589\n",
      "Dec - [200/1854] train loss : 0.016715027391910553\n",
      "Dec - [300/1854] train loss : 0.004537330474704504\n",
      "Dec - [400/1854] train loss : 0.01303364522755146\n",
      "Dec - [500/1854] train loss : 0.001973372418433428\n",
      "Dec - [600/1854] train loss : 0.002892137737944722\n",
      "Dec - [700/1854] train loss : 0.0036530233919620514\n",
      "Dec - [800/1854] train loss : 0.012444634921848774\n",
      "Dec - [900/1854] train loss : 0.002711034379899502\n",
      "Dec - [1000/1854] train loss : 0.06094685196876526\n",
      "Dec - [1100/1854] train loss : 0.04761462286114693\n",
      "Dec - [1200/1854] train loss : 0.029097696766257286\n",
      "Dec - [1300/1854] train loss : 0.003333784407004714\n",
      "Dec - [1400/1854] train loss : 0.11496063321828842\n",
      "Dec - [1500/1854] train loss : 0.010536369867622852\n",
      "Dec - [1600/1854] train loss : 0.01604263298213482\n",
      "Dec - [1700/1854] train loss : 0.002991199493408203\n",
      "Dec - [1800/1854] train loss : 0.004977117292582989\n",
      "Epoch [2/10]\n",
      "Train Loss: 0.0451, Train Accuracy: 0.9850\n",
      "Validation Loss: 0.4933, Validation Accuracy: 0.8870\n",
      "Dec - [0/1854] train loss : 0.2637335956096649\n",
      "Dec - [100/1854] train loss : 0.01876652054488659\n",
      "Dec - [200/1854] train loss : 0.0016875897999852896\n",
      "Dec - [300/1854] train loss : 0.009523222222924232\n",
      "Dec - [400/1854] train loss : 0.005624971818178892\n",
      "Dec - [500/1854] train loss : 0.10453464835882187\n",
      "Dec - [600/1854] train loss : 0.11136297881603241\n",
      "Dec - [700/1854] train loss : 0.10104198008775711\n",
      "Dec - [800/1854] train loss : 0.0014476708602160215\n",
      "Dec - [900/1854] train loss : 0.20497167110443115\n",
      "Dec - [1000/1854] train loss : 0.019540909677743912\n",
      "Dec - [1100/1854] train loss : 0.008226796053349972\n",
      "Dec - [1200/1854] train loss : 0.01628817804157734\n",
      "Dec - [1300/1854] train loss : 0.1775190830230713\n",
      "Dec - [1400/1854] train loss : 0.031183648854494095\n",
      "Dec - [1500/1854] train loss : 0.12421809881925583\n",
      "Dec - [1600/1854] train loss : 0.005647025071084499\n",
      "Dec - [1700/1854] train loss : 0.17699165642261505\n",
      "Dec - [1800/1854] train loss : 0.03489761799573898\n",
      "Epoch [3/10]\n",
      "Train Loss: 0.0451, Train Accuracy: 0.9843\n",
      "Validation Loss: 0.4509, Validation Accuracy: 0.8977\n",
      "Dec - [0/1854] train loss : 0.0037499498575925827\n",
      "Dec - [100/1854] train loss : 0.03524620831012726\n",
      "Dec - [200/1854] train loss : 0.012819025665521622\n",
      "Dec - [300/1854] train loss : 0.008963184431195259\n",
      "Dec - [400/1854] train loss : 0.03203264996409416\n",
      "Dec - [500/1854] train loss : 0.00455469312146306\n",
      "Dec - [600/1854] train loss : 0.008962257765233517\n",
      "Dec - [700/1854] train loss : 0.015182205475866795\n",
      "Dec - [800/1854] train loss : 0.12795504927635193\n",
      "Dec - [900/1854] train loss : 0.0015079210279509425\n",
      "Dec - [1000/1854] train loss : 0.1325151026248932\n",
      "Dec - [1100/1854] train loss : 0.12938052415847778\n",
      "Dec - [1200/1854] train loss : 0.10414118319749832\n",
      "Dec - [1300/1854] train loss : 0.002488741185516119\n",
      "Dec - [1400/1854] train loss : 0.10978953540325165\n",
      "Dec - [1500/1854] train loss : 0.02017107978463173\n",
      "Dec - [1600/1854] train loss : 0.048255112022161484\n",
      "Dec - [1700/1854] train loss : 0.18000933527946472\n",
      "Dec - [1800/1854] train loss : 0.03232831880450249\n",
      "Epoch [4/10]\n",
      "Train Loss: 0.0385, Train Accuracy: 0.9865\n",
      "Validation Loss: 0.5983, Validation Accuracy: 0.8818\n",
      "Dec - [0/1854] train loss : 0.13297748565673828\n",
      "Dec - [100/1854] train loss : 0.06987026333808899\n",
      "Dec - [200/1854] train loss : 0.1427253931760788\n",
      "Dec - [300/1854] train loss : 0.0010528935818001628\n",
      "Dec - [400/1854] train loss : 0.012099596671760082\n",
      "Dec - [500/1854] train loss : 0.007531065493822098\n",
      "Dec - [600/1854] train loss : 0.005004898179322481\n",
      "Dec - [700/1854] train loss : 0.07066486775875092\n",
      "Dec - [800/1854] train loss : 0.002969326451420784\n",
      "Dec - [900/1854] train loss : 0.05407710000872612\n",
      "Dec - [1000/1854] train loss : 0.010615159757435322\n",
      "Dec - [1100/1854] train loss : 0.15134117007255554\n",
      "Dec - [1200/1854] train loss : 0.07673715800046921\n",
      "Dec - [1300/1854] train loss : 0.13204513490200043\n",
      "Dec - [1400/1854] train loss : 0.13508623838424683\n",
      "Dec - [1500/1854] train loss : 0.014285081997513771\n",
      "Dec - [1600/1854] train loss : 0.007119407411664724\n",
      "Dec - [1700/1854] train loss : 0.12118180096149445\n",
      "Dec - [1800/1854] train loss : 0.010486101731657982\n",
      "Epoch [5/10]\n",
      "Train Loss: 0.0416, Train Accuracy: 0.9857\n",
      "Validation Loss: 0.5144, Validation Accuracy: 0.8992\n",
      "Dec - [0/1854] train loss : 0.013080302625894547\n",
      "Dec - [100/1854] train loss : 0.008490215986967087\n",
      "Dec - [200/1854] train loss : 0.01893250085413456\n",
      "Dec - [300/1854] train loss : 0.02748176082968712\n",
      "Dec - [400/1854] train loss : 0.0035115955397486687\n",
      "Dec - [500/1854] train loss : 0.20488035678863525\n",
      "Dec - [600/1854] train loss : 0.0014401883818209171\n",
      "Dec - [700/1854] train loss : 0.0023074503988027573\n",
      "Dec - [800/1854] train loss : 0.20499035716056824\n",
      "Dec - [900/1854] train loss : 0.002288839314132929\n",
      "Dec - [1000/1854] train loss : 0.01562257669866085\n",
      "Dec - [1100/1854] train loss : 0.06099492311477661\n",
      "Dec - [1200/1854] train loss : 0.19214710593223572\n",
      "Dec - [1300/1854] train loss : 0.045231059193611145\n",
      "Dec - [1400/1854] train loss : 0.023840198293328285\n",
      "Dec - [1500/1854] train loss : 0.008646616712212563\n",
      "Dec - [1600/1854] train loss : 0.04318828508257866\n",
      "Dec - [1700/1854] train loss : 0.07165659219026566\n",
      "Dec - [1800/1854] train loss : 0.0112445754930377\n",
      "Epoch [6/10]\n",
      "Train Loss: 0.0374, Train Accuracy: 0.9868\n",
      "Validation Loss: 0.5070, Validation Accuracy: 0.8964\n",
      "Dec - [0/1854] train loss : 0.01791725680232048\n",
      "Dec - [100/1854] train loss : 0.022366823628544807\n",
      "Dec - [200/1854] train loss : 0.005124731454998255\n",
      "Dec - [300/1854] train loss : 0.10722635686397552\n",
      "Dec - [400/1854] train loss : 0.0036110728979110718\n",
      "Dec - [500/1854] train loss : 0.0017635601107031107\n",
      "Dec - [600/1854] train loss : 0.00602208124473691\n",
      "Dec - [700/1854] train loss : 0.0022299657575786114\n",
      "Dec - [800/1854] train loss : 0.01663130708038807\n",
      "Dec - [900/1854] train loss : 0.007373790722340345\n",
      "Dec - [1000/1854] train loss : 0.06394161283969879\n",
      "Dec - [1100/1854] train loss : 0.007406890857964754\n",
      "Dec - [1200/1854] train loss : 0.008731486275792122\n",
      "Dec - [1300/1854] train loss : 0.04401300475001335\n",
      "Dec - [1400/1854] train loss : 0.11918279528617859\n",
      "Dec - [1500/1854] train loss : 0.08874354511499405\n",
      "Dec - [1600/1854] train loss : 0.19560576975345612\n",
      "Dec - [1700/1854] train loss : 0.007359366863965988\n",
      "Dec - [1800/1854] train loss : 0.010494754649698734\n",
      "Epoch [7/10]\n",
      "Train Loss: 0.0385, Train Accuracy: 0.9863\n",
      "Validation Loss: 0.5225, Validation Accuracy: 0.8947\n",
      "Dec - [0/1854] train loss : 0.07977911829948425\n",
      "Dec - [100/1854] train loss : 0.001557553419843316\n",
      "Dec - [200/1854] train loss : 0.11312249302864075\n",
      "Dec - [300/1854] train loss : 0.015700049698352814\n",
      "Dec - [400/1854] train loss : 0.005459429230540991\n",
      "Dec - [500/1854] train loss : 0.000995962182059884\n",
      "Dec - [600/1854] train loss : 0.001814541406929493\n",
      "Dec - [700/1854] train loss : 0.011911537498235703\n",
      "Dec - [800/1854] train loss : 0.06615985184907913\n",
      "Dec - [900/1854] train loss : 0.040217429399490356\n",
      "Dec - [1000/1854] train loss : 0.0032346779480576515\n",
      "Dec - [1100/1854] train loss : 0.03592007979750633\n",
      "Dec - [1200/1854] train loss : 0.0020185187458992004\n",
      "Dec - [1300/1854] train loss : 0.008185975253582\n",
      "Dec - [1400/1854] train loss : 0.02901463769376278\n",
      "Dec - [1500/1854] train loss : 0.09984328597784042\n",
      "Dec - [1600/1854] train loss : 0.31496283411979675\n",
      "Dec - [1700/1854] train loss : 0.001063783885911107\n",
      "Dec - [1800/1854] train loss : 0.03217868134379387\n",
      "Epoch [8/10]\n",
      "Train Loss: 0.0387, Train Accuracy: 0.9859\n",
      "Validation Loss: 0.5442, Validation Accuracy: 0.8974\n",
      "Dec - [0/1854] train loss : 0.0020510326139628887\n",
      "Dec - [100/1854] train loss : 0.05128851532936096\n",
      "Dec - [200/1854] train loss : 0.001934674335643649\n",
      "Dec - [300/1854] train loss : 0.0014710328541696072\n",
      "Dec - [400/1854] train loss : 0.08984678238630295\n",
      "Dec - [500/1854] train loss : 0.0023293890990316868\n",
      "Dec - [600/1854] train loss : 0.004039341583848\n",
      "Dec - [700/1854] train loss : 0.0004971822490915656\n",
      "Dec - [800/1854] train loss : 0.013240055181086063\n",
      "Dec - [900/1854] train loss : 0.005625326652079821\n",
      "Dec - [1000/1854] train loss : 0.1740051805973053\n",
      "Dec - [1100/1854] train loss : 0.05331059545278549\n",
      "Dec - [1200/1854] train loss : 0.0019541496876627207\n",
      "Dec - [1300/1854] train loss : 0.0586608462035656\n",
      "Dec - [1400/1854] train loss : 0.0040619149804115295\n",
      "Dec - [1500/1854] train loss : 0.005608238745480776\n",
      "Dec - [1600/1854] train loss : 0.0037585271056741476\n",
      "Dec - [1700/1854] train loss : 0.008101224899291992\n",
      "Dec - [1800/1854] train loss : 0.04844483360648155\n",
      "Epoch [9/10]\n",
      "Train Loss: 0.0330, Train Accuracy: 0.9876\n",
      "Validation Loss: 0.5973, Validation Accuracy: 0.8920\n",
      "Dec - [0/1854] train loss : 0.0006291019963100553\n",
      "Dec - [100/1854] train loss : 0.002891034819185734\n",
      "Dec - [200/1854] train loss : 0.014593426138162613\n",
      "Dec - [300/1854] train loss : 0.0036485546734184027\n",
      "Dec - [400/1854] train loss : 0.07567230612039566\n",
      "Dec - [500/1854] train loss : 0.011043146252632141\n",
      "Dec - [600/1854] train loss : 0.0011325340019538999\n",
      "Dec - [700/1854] train loss : 0.002028876217082143\n",
      "Dec - [800/1854] train loss : 0.0034864868503063917\n",
      "Dec - [900/1854] train loss : 0.11760378628969193\n",
      "Dec - [1000/1854] train loss : 0.03233807906508446\n",
      "Dec - [1100/1854] train loss : 0.004203015007078648\n",
      "Dec - [1200/1854] train loss : 0.0018694455502554774\n",
      "Dec - [1300/1854] train loss : 0.06936375051736832\n",
      "Dec - [1400/1854] train loss : 0.03350498899817467\n",
      "Dec - [1500/1854] train loss : 0.0692482516169548\n",
      "Dec - [1600/1854] train loss : 0.0009849005145952106\n",
      "Dec - [1700/1854] train loss : 0.03060498833656311\n",
      "Dec - [1800/1854] train loss : 0.0379624217748642\n",
      "Epoch [10/10]\n",
      "Train Loss: 0.0350, Train Accuracy: 0.9871\n",
      "Validation Loss: 0.5440, Validation Accuracy: 0.8975\n"
     ]
    }
   ],
   "source": [
    "for epoch in range(num_epochs):\n",
    "    model.train()\n",
    "    \n",
    "    running_loss = 0.0\n",
    "    correct_predictions = 0\n",
    "    total_samples  =0\n",
    "    i = 0\n",
    "    for inputs, labels in decDL_train:\n",
    "        inputs, labels = inputs.to(device), labels.to(device)\n",
    "        \n",
    "        optimizer.zero_grad()\n",
    "        outputs = model(inputs)\n",
    "        loss = criterion(outputs, labels)\n",
    "        loss.backward()\n",
    "        optimizer.step()\n",
    "        \n",
    "        running_loss += loss.item() * inputs.size(0)\n",
    "        _, predicted = torch.max(outputs, 1)\n",
    "        correct_predictions += (predicted == labels).sum().item()\n",
    "        total_samples += labels.size(0)\n",
    "        \n",
    "        if(i%100 == 0):\n",
    "            print(f\"Dec - [{i}/{len(decDL_train)}] train loss : {loss.item()}\")\n",
    "        i = i+1\n",
    "        \n",
    "    train_loss = running_loss / total_samples\n",
    "    train_accuracy = correct_predictions / total_samples\n",
    "    \n",
    "    model.eval()\n",
    "    val_loss = 0.0\n",
    "    correct_val_predictions = 0\n",
    "    total_val_samples = 0\n",
    "    \n",
    "    with torch.no_grad():\n",
    "        for val_inputs, val_labels in decDL_val:\n",
    "            val_inputs, val_labels = val_inputs.to(device), val_labels.to(device)\n",
    "            \n",
    "            val_outputs = model(val_inputs)\n",
    "            loss = criterion(val_outputs, val_labels)\n",
    "            \n",
    "            val_loss += loss.item() * val_inputs.size(0)\n",
    "            _, val_predicted = torch.max(val_outputs, 1)\n",
    "            correct_val_predictions += (val_predicted == val_labels).sum().item()\n",
    "            total_val_samples += val_labels.size(0)\n",
    "    \n",
    "    val_loss /= total_val_samples\n",
    "    val_accuracy = correct_val_predictions / total_val_samples\n",
    "    \n",
    "    # Print epoch stats\n",
    "    print(f'Epoch [{epoch+1}/{num_epochs}]')\n",
    "    print(f'Train Loss: {train_loss:.4f}, Train Accuracy: {train_accuracy:.4f}')\n",
    "    print(f'Validation Loss: {val_loss:.4f}, Validation Accuracy: {val_accuracy:.4f}')"
   ]
  },
  {
   "cell_type": "code",
   "execution_count": 85,
   "id": "5b98ba3b",
   "metadata": {
    "execution": {
     "iopub.execute_input": "2024-10-19T21:59:01.126321Z",
     "iopub.status.busy": "2024-10-19T21:59:01.125652Z",
     "iopub.status.idle": "2024-10-19T21:59:50.153259Z",
     "shell.execute_reply": "2024-10-19T21:59:50.152227Z"
    },
    "papermill": {
     "duration": 49.258494,
     "end_time": "2024-10-19T21:59:50.271679",
     "exception": false,
     "start_time": "2024-10-19T21:59:01.013185",
     "status": "completed"
    },
    "tags": []
   },
   "outputs": [
    {
     "data": {
      "image/png": "[encoded data removed]",
      "text/plain": [
       "<Figure size 600x400 with 2 Axes>"
      ]
     },
     "metadata": {},
     "output_type": "display_data"
    }
   ],
   "source": [
    "# Get the predictions and true labels for the test set\n",
    "preds, true_labels = get_predictions_and_labels(model, decDL_val)\n",
    "\n",
    "# Compute the confusion matrix\n",
    "conf_matrix = confusion_matrix(true_labels, preds)\n",
    "class_names = [f'Class {i}' for i in range(len(target_class_names)+1)]\n",
    "# Plot the confusion matrix using seaborn\n",
    "plt.figure(figsize=(6, 4))\n",
    "sns.heatmap(conf_matrix, annot=True, fmt=\"d\", cmap=\"Blues\", xticklabels=class_names, yticklabels=class_names)\n",
    "plt.xlabel('Predicted Label')\n",
    "plt.ylabel('True Label')\n",
    "plt.title('Confusion Matrix')\n",
    "plt.show()"
   ]
  },
  {
   "cell_type": "code",
   "execution_count": 86,
   "id": "2ea56f8a",
   "metadata": {
    "execution": {
     "iopub.execute_input": "2024-10-19T21:59:50.498038Z",
     "iopub.status.busy": "2024-10-19T21:59:50.497073Z",
     "iopub.status.idle": "2024-10-19T21:59:50.504671Z",
     "shell.execute_reply": "2024-10-19T21:59:50.503987Z"
    },
    "papermill": {
     "duration": 0.122038,
     "end_time": "2024-10-19T21:59:50.506510",
     "exception": false,
     "start_time": "2024-10-19T21:59:50.384472",
     "status": "completed"
    },
    "tags": []
   },
   "outputs": [],
   "source": [
    "del decDL_train\n",
    "del decDL_val"
   ]
  },
  {
   "cell_type": "markdown",
   "id": "b009d362",
   "metadata": {
    "papermill": {
     "duration": 0.111595,
     "end_time": "2024-10-19T21:59:50.730590",
     "exception": false,
     "start_time": "2024-10-19T21:59:50.618995",
     "status": "completed"
    },
    "tags": []
   },
   "source": [
    "# Final"
   ]
  },
  {
   "cell_type": "code",
   "execution_count": 87,
   "id": "892801cc",
   "metadata": {
    "execution": {
     "iopub.execute_input": "2024-10-19T21:59:50.956704Z",
     "iopub.status.busy": "2024-10-19T21:59:50.956351Z",
     "iopub.status.idle": "2024-10-19T22:00:06.362204Z",
     "shell.execute_reply": "2024-10-19T22:00:06.361409Z"
    },
    "papermill": {
     "duration": 15.522344,
     "end_time": "2024-10-19T22:00:06.364457",
     "exception": false,
     "start_time": "2024-10-19T21:59:50.842113",
     "status": "completed"
    },
    "tags": []
   },
   "outputs": [],
   "source": [
    "target_class_names = [\"Normal\",\"Erosion\",\"Polyp\", \"Angioectasia\", \"Bleeding\", \"Lymphangiectasia\", \"Foreign Body\", \"Erythema\",\"Ulcer\",\"Worms\"]\n",
    "finDL_train = getNaryDataLoader(target_class_names=target_class_names, path_to_dataset=train_path, \n",
    "                          batch_size=32, trans = train_transform)\n",
    "finDL_val = getNaryDataLoader(target_class_names=target_class_names, path_to_dataset=val_path, \n",
    "                          batch_size=32, trans = val_transform)"
   ]
  },
  {
   "cell_type": "code",
   "execution_count": 88,
   "id": "ddbda4e7",
   "metadata": {
    "execution": {
     "iopub.execute_input": "2024-10-19T22:00:06.591308Z",
     "iopub.status.busy": "2024-10-19T22:00:06.590975Z",
     "iopub.status.idle": "2024-10-19T22:00:06.596028Z",
     "shell.execute_reply": "2024-10-19T22:00:06.595248Z"
    },
    "papermill": {
     "duration": 0.119235,
     "end_time": "2024-10-19T22:00:06.597890",
     "exception": false,
     "start_time": "2024-10-19T22:00:06.478655",
     "status": "completed"
    },
    "tags": []
   },
   "outputs": [],
   "source": [
    "num_ftrs = model.fc.in_features\n",
    "model.fc = nn.Linear(in_features=num_ftrs, out_features=len(target_class_names)+1)"
   ]
  },
  {
   "cell_type": "code",
   "execution_count": 89,
   "id": "961018b9",
   "metadata": {
    "execution": {
     "iopub.execute_input": "2024-10-19T22:00:06.822475Z",
     "iopub.status.busy": "2024-10-19T22:00:06.822176Z",
     "iopub.status.idle": "2024-10-19T22:00:06.827496Z",
     "shell.execute_reply": "2024-10-19T22:00:06.826804Z"
    },
    "papermill": {
     "duration": 0.119601,
     "end_time": "2024-10-19T22:00:06.829213",
     "exception": false,
     "start_time": "2024-10-19T22:00:06.709612",
     "status": "completed"
    },
    "tags": []
   },
   "outputs": [],
   "source": [
    "device = torch.device(\"cuda\" if torch.cuda.is_available() else \"cpu\")\n",
    "if torch.cuda.device_count() > 1:\n",
    "    model = nn.DataParallel(model)"
   ]
  },
  {
   "cell_type": "code",
   "execution_count": 90,
   "id": "55e33b52",
   "metadata": {
    "execution": {
     "iopub.execute_input": "2024-10-19T22:00:07.054335Z",
     "iopub.status.busy": "2024-10-19T22:00:07.054028Z",
     "iopub.status.idle": "2024-10-19T22:00:07.062981Z",
     "shell.execute_reply": "2024-10-19T22:00:07.062289Z"
    },
    "papermill": {
     "duration": 0.122873,
     "end_time": "2024-10-19T22:00:07.064856",
     "exception": false,
     "start_time": "2024-10-19T22:00:06.941983",
     "status": "completed"
    },
    "tags": []
   },
   "outputs": [],
   "source": [
    "model = model.to(device)\n",
    "criterion = nn.CrossEntropyLoss() \n",
    "# optimizer = torch.optim.Adam(model.parameters(), lr=0.001)"
   ]
  },
  {
   "cell_type": "code",
   "execution_count": 91,
   "id": "7d629412",
   "metadata": {
    "execution": {
     "iopub.execute_input": "2024-10-19T22:00:07.288758Z",
     "iopub.status.busy": "2024-10-19T22:00:07.288472Z",
     "iopub.status.idle": "2024-10-19T22:00:07.297392Z",
     "shell.execute_reply": "2024-10-19T22:00:07.296734Z"
    },
    "papermill": {
     "duration": 0.123039,
     "end_time": "2024-10-19T22:00:07.299225",
     "exception": false,
     "start_time": "2024-10-19T22:00:07.176186",
     "status": "completed"
    },
    "tags": []
   },
   "outputs": [],
   "source": [
    "model = model.to(device)"
   ]
  },
  {
   "cell_type": "code",
   "execution_count": 92,
   "id": "8c6e9d6c",
   "metadata": {
    "execution": {
     "iopub.execute_input": "2024-10-19T22:00:07.530066Z",
     "iopub.status.busy": "2024-10-19T22:00:07.529524Z",
     "iopub.status.idle": "2024-10-19T22:00:07.534037Z",
     "shell.execute_reply": "2024-10-19T22:00:07.533076Z"
    },
    "papermill": {
     "duration": 0.12255,
     "end_time": "2024-10-19T22:00:07.536160",
     "exception": false,
     "start_time": "2024-10-19T22:00:07.413610",
     "status": "completed"
    },
    "tags": []
   },
   "outputs": [],
   "source": [
    "num_epochs = 15"
   ]
  },
  {
   "cell_type": "code",
   "execution_count": 93,
   "id": "849b6ce9",
   "metadata": {
    "execution": {
     "iopub.execute_input": "2024-10-19T22:00:07.814175Z",
     "iopub.status.busy": "2024-10-19T22:00:07.813805Z",
     "iopub.status.idle": "2024-10-19T23:55:04.174217Z",
     "shell.execute_reply": "2024-10-19T23:55:04.173171Z"
    },
    "papermill": {
     "duration": 6896.654232,
     "end_time": "2024-10-19T23:55:04.313335",
     "exception": false,
     "start_time": "2024-10-19T22:00:07.659103",
     "status": "completed"
    },
    "tags": []
   },
   "outputs": [
    {
     "name": "stdout",
     "output_type": "stream",
     "text": [
      "Fin - [0/1854] train loss : 2.561659336090088\n",
      "Fin - [100/1854] train loss : 0.017850114032626152\n",
      "Fin - [200/1854] train loss : 0.20747679471969604\n",
      "Fin - [300/1854] train loss : 0.01989162713289261\n",
      "Fin - [400/1854] train loss : 0.04229443892836571\n",
      "Fin - [500/1854] train loss : 0.010308237746357918\n",
      "Fin - [600/1854] train loss : 0.0324757844209671\n",
      "Fin - [700/1854] train loss : 0.010811670683324337\n",
      "Fin - [800/1854] train loss : 0.1255648136138916\n",
      "Fin - [900/1854] train loss : 0.04967237636446953\n",
      "Fin - [1000/1854] train loss : 0.020374463871121407\n",
      "Fin - [1100/1854] train loss : 0.006577012129127979\n",
      "Fin - [1200/1854] train loss : 0.06400378048419952\n",
      "Fin - [1300/1854] train loss : 0.07888854295015335\n",
      "Fin - [1400/1854] train loss : 0.026697663590312004\n",
      "Fin - [1500/1854] train loss : 0.0077171833254396915\n",
      "Fin - [1600/1854] train loss : 0.006244988180696964\n",
      "Fin - [1700/1854] train loss : 0.0022827060893177986\n",
      "Fin - [1800/1854] train loss : 0.13463741540908813\n",
      "Epoch [1/15]\n",
      "Train Loss: 0.0478, Train Accuracy: 0.9849\n",
      "Validation Loss: 0.4753, Validation Accuracy: 0.8942\n",
      "Fin - [0/1854] train loss : 0.05918445065617561\n",
      "Fin - [100/1854] train loss : 0.013780712150037289\n",
      "Fin - [200/1854] train loss : 0.020562676712870598\n",
      "Fin - [300/1854] train loss : 0.01134524866938591\n",
      "Fin - [400/1854] train loss : 0.07941780239343643\n",
      "Fin - [500/1854] train loss : 0.1371651589870453\n",
      "Fin - [600/1854] train loss : 0.004460679367184639\n",
      "Fin - [700/1854] train loss : 0.01993142068386078\n",
      "Fin - [800/1854] train loss : 0.018795177340507507\n",
      "Fin - [900/1854] train loss : 0.037987787276506424\n",
      "Fin - [1000/1854] train loss : 0.0021073436364531517\n",
      "Fin - [1100/1854] train loss : 0.06513150781393051\n",
      "Fin - [1200/1854] train loss : 0.008036591112613678\n",
      "Fin - [1300/1854] train loss : 0.06537885218858719\n",
      "Fin - [1400/1854] train loss : 0.02261032909154892\n",
      "Fin - [1500/1854] train loss : 0.02269146591424942\n",
      "Fin - [1600/1854] train loss : 0.006145178806036711\n",
      "Fin - [1700/1854] train loss : 0.022249944508075714\n",
      "Fin - [1800/1854] train loss : 0.0673736184835434\n",
      "Epoch [2/15]\n",
      "Train Loss: 0.0350, Train Accuracy: 0.9875\n",
      "Validation Loss: 0.4892, Validation Accuracy: 0.8960\n",
      "Fin - [0/1854] train loss : 0.015909967944025993\n",
      "Fin - [100/1854] train loss : 0.0007368265651166439\n",
      "Fin - [200/1854] train loss : 0.0262940414249897\n",
      "Fin - [300/1854] train loss : 0.019384361803531647\n",
      "Fin - [400/1854] train loss : 0.00038538078661076725\n",
      "Fin - [500/1854] train loss : 0.003054519882425666\n",
      "Fin - [600/1854] train loss : 0.002205189783126116\n",
      "Fin - [700/1854] train loss : 0.09916500747203827\n",
      "Fin - [800/1854] train loss : 0.0011272584088146687\n",
      "Fin - [900/1854] train loss : 0.013133866712450981\n",
      "Fin - [1000/1854] train loss : 0.007219194900244474\n",
      "Fin - [1100/1854] train loss : 0.002635318087413907\n",
      "Fin - [1200/1854] train loss : 0.01652342453598976\n",
      "Fin - [1300/1854] train loss : 0.011796435341238976\n",
      "Fin - [1400/1854] train loss : 0.0017149719642475247\n",
      "Fin - [1500/1854] train loss : 0.028706049546599388\n",
      "Fin - [1600/1854] train loss : 0.013921406120061874\n",
      "Fin - [1700/1854] train loss : 0.021449076011776924\n",
      "Fin - [1800/1854] train loss : 0.0508781298995018\n",
      "Epoch [3/15]\n",
      "Train Loss: 0.0328, Train Accuracy: 0.9881\n",
      "Validation Loss: 0.5120, Validation Accuracy: 0.8955\n",
      "Fin - [0/1854] train loss : 0.05255840718746185\n",
      "Fin - [100/1854] train loss : 0.00685251597315073\n",
      "Fin - [200/1854] train loss : 0.11195424199104309\n",
      "Fin - [300/1854] train loss : 0.020279208198189735\n",
      "Fin - [400/1854] train loss : 0.01611749827861786\n",
      "Fin - [500/1854] train loss : 0.0022720114793628454\n",
      "Fin - [600/1854] train loss : 0.07101132720708847\n",
      "Fin - [700/1854] train loss : 0.009495479986071587\n",
      "Fin - [800/1854] train loss : 0.003757926169782877\n",
      "Fin - [900/1854] train loss : 0.001828727312386036\n",
      "Fin - [1000/1854] train loss : 0.11913219839334488\n",
      "Fin - [1100/1854] train loss : 0.013824863359332085\n",
      "Fin - [1200/1854] train loss : 0.07749190926551819\n",
      "Fin - [1300/1854] train loss : 0.027381502091884613\n",
      "Fin - [1400/1854] train loss : 0.001541527803055942\n",
      "Fin - [1500/1854] train loss : 0.16511762142181396\n",
      "Fin - [1600/1854] train loss : 0.10913199186325073\n",
      "Fin - [1700/1854] train loss : 0.036513883620500565\n",
      "Fin - [1800/1854] train loss : 0.0016254006186500192\n",
      "Epoch [4/15]\n",
      "Train Loss: 0.0337, Train Accuracy: 0.9872\n",
      "Validation Loss: 0.8358, Validation Accuracy: 0.8292\n",
      "Fin - [0/1854] train loss : 0.005624657496809959\n",
      "Fin - [100/1854] train loss : 0.07922947406768799\n",
      "Fin - [200/1854] train loss : 0.001795528456568718\n",
      "Fin - [300/1854] train loss : 0.0006449439097195864\n",
      "Fin - [400/1854] train loss : 0.013966734521090984\n",
      "Fin - [500/1854] train loss : 0.01690179482102394\n",
      "Fin - [600/1854] train loss : 0.002659387653693557\n",
      "Fin - [700/1854] train loss : 0.0028833504766225815\n",
      "Fin - [800/1854] train loss : 0.08010402321815491\n",
      "Fin - [900/1854] train loss : 0.05049724131822586\n",
      "Fin - [1000/1854] train loss : 0.16843904554843903\n",
      "Fin - [1100/1854] train loss : 0.006410408765077591\n",
      "Fin - [1200/1854] train loss : 0.18950268626213074\n",
      "Fin - [1300/1854] train loss : 0.018833452835679054\n",
      "Fin - [1400/1854] train loss : 0.01808217540383339\n",
      "Fin - [1500/1854] train loss : 0.008370631374418736\n",
      "Fin - [1600/1854] train loss : 0.004297997802495956\n",
      "Fin - [1700/1854] train loss : 0.006251595914363861\n",
      "Fin - [1800/1854] train loss : 0.004627303685992956\n",
      "Epoch [5/15]\n",
      "Train Loss: 0.0335, Train Accuracy: 0.9870\n",
      "Validation Loss: 0.5254, Validation Accuracy: 0.8993\n",
      "Fin - [0/1854] train loss : 0.006395858246833086\n",
      "Fin - [100/1854] train loss : 0.01617361232638359\n",
      "Fin - [200/1854] train loss : 0.026192421093583107\n",
      "Fin - [300/1854] train loss : 0.0042609707452356815\n",
      "Fin - [400/1854] train loss : 0.10109717398881912\n",
      "Fin - [500/1854] train loss : 0.00922603439539671\n",
      "Fin - [600/1854] train loss : 0.05947186425328255\n",
      "Fin - [700/1854] train loss : 0.0008947041351348162\n",
      "Fin - [800/1854] train loss : 0.10698999464511871\n",
      "Fin - [900/1854] train loss : 0.002663345541805029\n",
      "Fin - [1000/1854] train loss : 0.0018750537419691682\n",
      "Fin - [1100/1854] train loss : 0.002602305728942156\n",
      "Fin - [1200/1854] train loss : 0.002419162541627884\n",
      "Fin - [1300/1854] train loss : 0.2550904154777527\n",
      "Fin - [1400/1854] train loss : 0.0026694631669670343\n",
      "Fin - [1500/1854] train loss : 0.07481084764003754\n",
      "Fin - [1600/1854] train loss : 0.0011407372076064348\n",
      "Fin - [1700/1854] train loss : 0.05467876419425011\n",
      "Fin - [1800/1854] train loss : 0.0015024408930912614\n",
      "Epoch [6/15]\n",
      "Train Loss: 0.0320, Train Accuracy: 0.9876\n",
      "Validation Loss: 0.6521, Validation Accuracy: 0.8899\n",
      "Fin - [0/1854] train loss : 0.2255282700061798\n",
      "Fin - [100/1854] train loss : 0.003040589392185211\n",
      "Fin - [200/1854] train loss : 0.044666506350040436\n",
      "Fin - [300/1854] train loss : 0.0034774874802678823\n",
      "Fin - [400/1854] train loss : 0.03217875212430954\n",
      "Fin - [500/1854] train loss : 0.012538167648017406\n",
      "Fin - [600/1854] train loss : 0.0019044718937948346\n",
      "Fin - [700/1854] train loss : 0.013380274176597595\n",
      "Fin - [800/1854] train loss : 0.00946254376322031\n",
      "Fin - [900/1854] train loss : 0.0013929016422480345\n",
      "Fin - [1000/1854] train loss : 0.001399173284880817\n",
      "Fin - [1100/1854] train loss : 0.08936098963022232\n",
      "Fin - [1200/1854] train loss : 0.051161617040634155\n",
      "Fin - [1300/1854] train loss : 0.0046690390445292\n",
      "Fin - [1400/1854] train loss : 0.06375481188297272\n",
      "Fin - [1500/1854] train loss : 0.02410539612174034\n",
      "Fin - [1600/1854] train loss : 0.003591773333027959\n",
      "Fin - [1700/1854] train loss : 0.044649410992860794\n",
      "Fin - [1800/1854] train loss : 0.001349993865005672\n",
      "Epoch [7/15]\n",
      "Train Loss: 0.0295, Train Accuracy: 0.9887\n",
      "Validation Loss: 0.6051, Validation Accuracy: 0.8939\n",
      "Fin - [0/1854] train loss : 0.02834654413163662\n",
      "Fin - [100/1854] train loss : 0.04924647882580757\n",
      "Fin - [200/1854] train loss : 0.001979083986952901\n",
      "Fin - [300/1854] train loss : 0.008734245784580708\n",
      "Fin - [400/1854] train loss : 0.0016538731288164854\n",
      "Fin - [500/1854] train loss : 0.0045786453410983086\n",
      "Fin - [600/1854] train loss : 0.0009665981051512063\n",
      "Fin - [700/1854] train loss : 0.02057252638041973\n",
      "Fin - [800/1854] train loss : 0.07741255313158035\n",
      "Fin - [900/1854] train loss : 0.010950387455523014\n",
      "Fin - [1000/1854] train loss : 0.0010496452450752258\n",
      "Fin - [1100/1854] train loss : 0.009608674794435501\n",
      "Fin - [1200/1854] train loss : 0.05341186001896858\n",
      "Fin - [1300/1854] train loss : 0.008277246728539467\n",
      "Fin - [1400/1854] train loss : 0.15665766596794128\n",
      "Fin - [1500/1854] train loss : 0.022574961185455322\n",
      "Fin - [1600/1854] train loss : 0.00529103446751833\n",
      "Fin - [1700/1854] train loss : 0.07203087210655212\n",
      "Fin - [1800/1854] train loss : 0.07194842398166656\n",
      "Epoch [8/15]\n",
      "Train Loss: 0.0332, Train Accuracy: 0.9873\n",
      "Validation Loss: 0.5132, Validation Accuracy: 0.8975\n",
      "Fin - [0/1854] train loss : 0.011885687708854675\n",
      "Fin - [100/1854] train loss : 0.006695489399135113\n",
      "Fin - [200/1854] train loss : 0.007863393984735012\n",
      "Fin - [300/1854] train loss : 0.04145940765738487\n",
      "Fin - [400/1854] train loss : 0.10544643551111221\n",
      "Fin - [500/1854] train loss : 0.031382206827402115\n",
      "Fin - [600/1854] train loss : 0.026699470356106758\n",
      "Fin - [700/1854] train loss : 0.0017275047721341252\n",
      "Fin - [800/1854] train loss : 0.0008174090180546045\n",
      "Fin - [900/1854] train loss : 0.03154124319553375\n",
      "Fin - [1000/1854] train loss : 0.09303836524486542\n",
      "Fin - [1100/1854] train loss : 0.013785422779619694\n",
      "Fin - [1200/1854] train loss : 0.00397536251693964\n",
      "Fin - [1300/1854] train loss : 0.006201029289513826\n",
      "Fin - [1400/1854] train loss : 0.03973376005887985\n",
      "Fin - [1500/1854] train loss : 0.0012482085730880499\n",
      "Fin - [1600/1854] train loss : 0.0035982050467282534\n",
      "Fin - [1700/1854] train loss : 0.03568340837955475\n",
      "Fin - [1800/1854] train loss : 0.0013552034506574273\n",
      "Epoch [9/15]\n",
      "Train Loss: 0.0286, Train Accuracy: 0.9883\n",
      "Validation Loss: 0.5221, Validation Accuracy: 0.8934\n",
      "Fin - [0/1854] train loss : 0.00416549714282155\n",
      "Fin - [100/1854] train loss : 0.04836010932922363\n",
      "Fin - [200/1854] train loss : 0.0028814312536269426\n",
      "Fin - [300/1854] train loss : 0.09708275645971298\n",
      "Fin - [400/1854] train loss : 0.0708145871758461\n",
      "Fin - [500/1854] train loss : 0.0008004246628843248\n",
      "Fin - [600/1854] train loss : 0.11360269039869308\n",
      "Fin - [700/1854] train loss : 0.0616874173283577\n",
      "Fin - [800/1854] train loss : 0.09099869430065155\n",
      "Fin - [900/1854] train loss : 0.007132896687835455\n",
      "Fin - [1000/1854] train loss : 0.00036055725649930537\n",
      "Fin - [1100/1854] train loss : 0.000310738745611161\n",
      "Fin - [1200/1854] train loss : 0.05016531050205231\n",
      "Fin - [1300/1854] train loss : 0.0003468397189863026\n",
      "Fin - [1400/1854] train loss : 0.08578553795814514\n",
      "Fin - [1500/1854] train loss : 0.024280834943056107\n",
      "Fin - [1600/1854] train loss : 0.033272843807935715\n",
      "Fin - [1700/1854] train loss : 0.011587792076170444\n",
      "Fin - [1800/1854] train loss : 0.0009330867324024439\n",
      "Epoch [10/15]\n",
      "Train Loss: 0.0290, Train Accuracy: 0.9882\n",
      "Validation Loss: 0.5693, Validation Accuracy: 0.8938\n",
      "Fin - [0/1854] train loss : 0.0025388312060385942\n",
      "Fin - [100/1854] train loss : 0.09285273402929306\n",
      "Fin - [200/1854] train loss : 0.14329595863819122\n",
      "Fin - [300/1854] train loss : 0.0033133206889033318\n",
      "Fin - [400/1854] train loss : 0.0064314985647797585\n",
      "Fin - [500/1854] train loss : 0.03055235557258129\n",
      "Fin - [600/1854] train loss : 0.006645934656262398\n",
      "Fin - [700/1854] train loss : 0.005453101824969053\n",
      "Fin - [800/1854] train loss : 0.05262690782546997\n",
      "Fin - [900/1854] train loss : 0.007114284671843052\n",
      "Fin - [1000/1854] train loss : 0.0005250449758023024\n",
      "Fin - [1100/1854] train loss : 0.06344767659902573\n",
      "Fin - [1200/1854] train loss : 0.12320033460855484\n",
      "Fin - [1300/1854] train loss : 0.04591868817806244\n",
      "Fin - [1400/1854] train loss : 0.0759846568107605\n",
      "Fin - [1500/1854] train loss : 0.021762404590845108\n",
      "Fin - [1600/1854] train loss : 0.0010257014073431492\n",
      "Fin - [1700/1854] train loss : 0.018213648349046707\n",
      "Fin - [1800/1854] train loss : 0.027034848928451538\n",
      "Epoch [11/15]\n",
      "Train Loss: 0.0319, Train Accuracy: 0.9878\n",
      "Validation Loss: 0.5660, Validation Accuracy: 0.8933\n",
      "Fin - [0/1854] train loss : 0.039874136447906494\n",
      "Fin - [100/1854] train loss : 0.06762579828500748\n",
      "Fin - [200/1854] train loss : 0.030864808708429337\n",
      "Fin - [300/1854] train loss : 0.025886453688144684\n",
      "Fin - [400/1854] train loss : 0.0006096134893596172\n",
      "Fin - [500/1854] train loss : 0.006385503802448511\n",
      "Fin - [600/1854] train loss : 0.059707432985305786\n",
      "Fin - [700/1854] train loss : 0.001963498303666711\n",
      "Fin - [800/1854] train loss : 0.005888413637876511\n",
      "Fin - [900/1854] train loss : 0.037994060665369034\n",
      "Fin - [1000/1854] train loss : 0.0007232642965391278\n",
      "Fin - [1100/1854] train loss : 0.002891051582992077\n",
      "Fin - [1200/1854] train loss : 0.01820642128586769\n",
      "Fin - [1300/1854] train loss : 0.01726025715470314\n",
      "Fin - [1400/1854] train loss : 0.0010446326341480017\n",
      "Fin - [1500/1854] train loss : 0.03818729519844055\n",
      "Fin - [1600/1854] train loss : 0.18692012131214142\n",
      "Fin - [1700/1854] train loss : 0.198348268866539\n",
      "Fin - [1800/1854] train loss : 0.000704639358446002\n",
      "Epoch [12/15]\n",
      "Train Loss: 0.0285, Train Accuracy: 0.9885\n",
      "Validation Loss: 0.6184, Validation Accuracy: 0.8929\n",
      "Fin - [0/1854] train loss : 0.001340998220257461\n",
      "Fin - [100/1854] train loss : 0.041343722492456436\n",
      "Fin - [200/1854] train loss : 0.01963750086724758\n",
      "Fin - [300/1854] train loss : 0.04397428035736084\n",
      "Fin - [400/1854] train loss : 0.015076869167387486\n",
      "Fin - [500/1854] train loss : 0.009050780907273293\n",
      "Fin - [600/1854] train loss : 0.0009240731014870107\n",
      "Fin - [700/1854] train loss : 0.001664457144215703\n",
      "Fin - [800/1854] train loss : 0.03741713613271713\n",
      "Fin - [900/1854] train loss : 0.01612572744488716\n",
      "Fin - [1000/1854] train loss : 0.0071879057213664055\n",
      "Fin - [1100/1854] train loss : 0.0015745431883260608\n",
      "Fin - [1200/1854] train loss : 0.006203077733516693\n",
      "Fin - [1300/1854] train loss : 0.003609315725043416\n",
      "Fin - [1400/1854] train loss : 0.08861839771270752\n",
      "Fin - [1500/1854] train loss : 0.019510408863425255\n",
      "Fin - [1600/1854] train loss : 0.003590022912248969\n",
      "Fin - [1700/1854] train loss : 0.029120542109012604\n",
      "Fin - [1800/1854] train loss : 0.004354772157967091\n",
      "Epoch [13/15]\n",
      "Train Loss: 0.0289, Train Accuracy: 0.9887\n",
      "Validation Loss: 0.6466, Validation Accuracy: 0.8922\n",
      "Fin - [0/1854] train loss : 0.061594605445861816\n",
      "Fin - [100/1854] train loss : 0.02590302936732769\n",
      "Fin - [200/1854] train loss : 0.0009529504459351301\n",
      "Fin - [300/1854] train loss : 0.004273490514606237\n",
      "Fin - [400/1854] train loss : 0.0008724129293113947\n",
      "Fin - [500/1854] train loss : 0.02969225123524666\n",
      "Fin - [600/1854] train loss : 0.003973419312387705\n",
      "Fin - [700/1854] train loss : 0.0007657428504899144\n",
      "Fin - [800/1854] train loss : 0.0002503079595044255\n",
      "Fin - [900/1854] train loss : 0.049549002200365067\n",
      "Fin - [1000/1854] train loss : 0.0016801214078441262\n",
      "Fin - [1100/1854] train loss : 0.004612314980477095\n",
      "Fin - [1200/1854] train loss : 0.0015529909869655967\n",
      "Fin - [1300/1854] train loss : 0.06158467382192612\n",
      "Fin - [1400/1854] train loss : 0.007785221561789513\n",
      "Fin - [1500/1854] train loss : 0.002449828665703535\n",
      "Fin - [1600/1854] train loss : 0.0018424512818455696\n",
      "Fin - [1700/1854] train loss : 0.0016025343211367726\n",
      "Fin - [1800/1854] train loss : 0.0013283954467624426\n",
      "Epoch [14/15]\n",
      "Train Loss: 0.0265, Train Accuracy: 0.9893\n",
      "Validation Loss: 0.6036, Validation Accuracy: 0.8972\n",
      "Fin - [0/1854] train loss : 0.003003776539117098\n",
      "Fin - [100/1854] train loss : 0.0003630055580288172\n",
      "Fin - [200/1854] train loss : 0.002610622439533472\n",
      "Fin - [300/1854] train loss : 0.0006823010044172406\n",
      "Fin - [400/1854] train loss : 0.0016651820624247193\n",
      "Fin - [500/1854] train loss : 0.008134689182043076\n",
      "Fin - [600/1854] train loss : 0.027869010344147682\n",
      "Fin - [700/1854] train loss : 0.0007039800984784961\n",
      "Fin - [800/1854] train loss : 0.0002715237205848098\n",
      "Fin - [900/1854] train loss : 0.0005380096263252199\n",
      "Fin - [1000/1854] train loss : 0.002219821559265256\n",
      "Fin - [1100/1854] train loss : 0.0007308911299332976\n",
      "Fin - [1200/1854] train loss : 0.059732820838689804\n",
      "Fin - [1300/1854] train loss : 0.07210571318864822\n",
      "Fin - [1400/1854] train loss : 0.004050605930387974\n",
      "Fin - [1500/1854] train loss : 0.2153191864490509\n",
      "Fin - [1600/1854] train loss : 0.010218866169452667\n",
      "Fin - [1700/1854] train loss : 0.004982646554708481\n",
      "Fin - [1800/1854] train loss : 0.0031730204354971647\n",
      "Epoch [15/15]\n",
      "Train Loss: 0.0275, Train Accuracy: 0.9889\n",
      "Validation Loss: 0.5856, Validation Accuracy: 0.8957\n"
     ]
    }
   ],
   "source": [
    "for epoch in range(num_epochs):\n",
    "    model.train()\n",
    "    \n",
    "    running_loss = 0.0\n",
    "    correct_predictions = 0\n",
    "    total_samples  =0\n",
    "    i = 0\n",
    "    for inputs, labels in finDL_train:\n",
    "        inputs, labels = inputs.to(device), labels.to(device)\n",
    "        \n",
    "        optimizer.zero_grad()\n",
    "        outputs = model(inputs)\n",
    "        loss = criterion(outputs, labels)\n",
    "        loss.backward()\n",
    "        optimizer.step()\n",
    "        \n",
    "        running_loss += loss.item() * inputs.size(0)\n",
    "        _, predicted = torch.max(outputs, 1)\n",
    "        correct_predictions += (predicted == labels).sum().item()\n",
    "        total_samples += labels.size(0)\n",
    "        \n",
    "        if(i%100 == 0):\n",
    "            print(f\"Fin - [{i}/{len(finDL_train)}] train loss : {loss.item()}\")\n",
    "        i = i+1\n",
    "        \n",
    "    train_loss = running_loss / total_samples\n",
    "    train_accuracy = correct_predictions / total_samples\n",
    "    \n",
    "    model.eval()\n",
    "    val_loss = 0.0\n",
    "    correct_val_predictions = 0\n",
    "    total_val_samples = 0\n",
    "    \n",
    "    with torch.no_grad():\n",
    "        for val_inputs, val_labels in finDL_val:\n",
    "            val_inputs, val_labels = val_inputs.to(device), val_labels.to(device)\n",
    "            \n",
    "            val_outputs = model(val_inputs)\n",
    "            loss = criterion(val_outputs, val_labels)\n",
    "            \n",
    "            val_loss += loss.item() * val_inputs.size(0)\n",
    "            _, val_predicted = torch.max(val_outputs, 1)\n",
    "            correct_val_predictions += (val_predicted == val_labels).sum().item()\n",
    "            total_val_samples += val_labels.size(0)\n",
    "    \n",
    "    val_loss /= total_val_samples\n",
    "    val_accuracy = correct_val_predictions / total_val_samples\n",
    "    \n",
    "    # Print epoch stats\n",
    "    print(f'Epoch [{epoch+1}/{num_epochs}]')\n",
    "    print(f'Train Loss: {train_loss:.4f}, Train Accuracy: {train_accuracy:.4f}')\n",
    "    print(f'Validation Loss: {val_loss:.4f}, Validation Accuracy: {val_accuracy:.4f}')"
   ]
  },
  {
   "cell_type": "code",
   "execution_count": 94,
   "id": "ccc75350",
   "metadata": {
    "execution": {
     "iopub.execute_input": "2024-10-19T23:55:04.584703Z",
     "iopub.status.busy": "2024-10-19T23:55:04.584365Z",
     "iopub.status.idle": "2024-10-19T23:55:53.328007Z",
     "shell.execute_reply": "2024-10-19T23:55:53.327154Z"
    },
    "papermill": {
     "duration": 49.019042,
     "end_time": "2024-10-19T23:55:53.467916",
     "exception": false,
     "start_time": "2024-10-19T23:55:04.448874",
     "status": "completed"
    },
    "tags": []
   },
   "outputs": [
    {
     "data": {
      "image/png": "[encoded data removed]",
      "text/plain": [
       "<Figure size 600x400 with 2 Axes>"
      ]
     },
     "metadata": {},
     "output_type": "display_data"
    }
   ],
   "source": [
    "# Get the predictions and true labels for the test set\n",
    "preds, true_labels = get_predictions_and_labels(model, finDL_val)\n",
    "\n",
    "# Compute the confusion matrix\n",
    "conf_matrix = confusion_matrix(true_labels, preds)\n",
    "class_names = [f'Class {i}' for i in range(len(target_class_names)+1)]\n",
    "# Plot the confusion matrix using seaborn\n",
    "plt.figure(figsize=(6, 4))\n",
    "sns.heatmap(conf_matrix, annot=True, fmt=\"d\", cmap=\"Blues\", xticklabels=class_names, yticklabels=class_names)\n",
    "plt.xlabel('Predicted Label')\n",
    "plt.ylabel('True Label')\n",
    "plt.title('Confusion Matrix')\n",
    "plt.show()"
   ]
  },
  {
   "cell_type": "code",
   "execution_count": 95,
   "id": "89517576",
   "metadata": {
    "execution": {
     "iopub.execute_input": "2024-10-19T23:55:53.741686Z",
     "iopub.status.busy": "2024-10-19T23:55:53.741102Z",
     "iopub.status.idle": "2024-10-19T23:55:53.748777Z",
     "shell.execute_reply": "2024-10-19T23:55:53.747965Z"
    },
    "papermill": {
     "duration": 0.146466,
     "end_time": "2024-10-19T23:55:53.750584",
     "exception": false,
     "start_time": "2024-10-19T23:55:53.604118",
     "status": "completed"
    },
    "tags": []
   },
   "outputs": [],
   "source": [
    "del finDL_train\n",
    "del finDL_val"
   ]
  },
  {
   "cell_type": "code",
   "execution_count": 96,
   "id": "a93a10d6",
   "metadata": {
    "execution": {
     "iopub.execute_input": "2024-10-19T23:55:54.023760Z",
     "iopub.status.busy": "2024-10-19T23:55:54.023463Z",
     "iopub.status.idle": "2024-10-19T23:55:54.434593Z",
     "shell.execute_reply": "2024-10-19T23:55:54.433819Z"
    },
    "papermill": {
     "duration": 0.551114,
     "end_time": "2024-10-19T23:55:54.436772",
     "exception": false,
     "start_time": "2024-10-19T23:55:53.885658",
     "status": "completed"
    },
    "tags": []
   },
   "outputs": [],
   "source": [
    "final_path = \"checkpoint.pth\"\n",
    "torch.save({\n",
    "            'model_state_dict': model.state_dict(),\n",
    "            'optimizer_state_dict': optimizer.state_dict(),\n",
    "            }, final_path)"
   ]
  },
  {
   "cell_type": "code",
   "execution_count": null,
   "id": "7d27c0c9",
   "metadata": {
    "papermill": {
     "duration": 0.13512,
     "end_time": "2024-10-19T23:55:54.709258",
     "exception": false,
     "start_time": "2024-10-19T23:55:54.574138",
     "status": "completed"
    },
    "tags": []
   },
   "outputs": [],
   "source": []
  }
 ],
 "metadata": {
  "kaggle": {
   "accelerator": "gpu",
   "dataSources": [
    {
     "datasetId": 5880122,
     "sourceId": 9632949,
     "sourceType": "datasetVersion"
    },
    {
     "sourceId": 200073270,
     "sourceType": "kernelVersion"
    },
    {
     "sourceId": 201162695,
     "sourceType": "kernelVersion"
    }
   ],
   "dockerImageVersionId": 30787,
   "isGpuEnabled": true,
   "isInternetEnabled": true,
   "language": "python",
   "sourceType": "notebook"
  },
  "kernelspec": {
   "display_name": "Python 3",
   "language": "python",
   "name": "python3"
  },
  "language_info": {
   "codemirror_mode": {
    "name": "ipython",
    "version": 3
   },
   "file_extension": ".py",
   "mimetype": "text/x-python",
   "name": "python",
   "nbconvert_exporter": "python",
   "pygments_lexer": "ipython3",
   "version": "3.10.14"
  },
  "papermill": {
   "default_parameters": {},
   "duration": 34236.181965,
   "end_time": "2024-10-19T23:55:56.367100",
   "environment_variables": {},
   "exception": null,
   "input_path": "__notebook__.ipynb",
   "output_path": "__notebook__.ipynb",
   "parameters": {},
   "start_time": "2024-10-19T14:25:20.185135",
   "version": "2.6.0"
  }
 },
 "nbformat": 4,
 "nbformat_minor": 5
}
